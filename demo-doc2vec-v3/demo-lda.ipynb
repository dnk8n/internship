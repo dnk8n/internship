{
 "cells": [
  {
   "cell_type": "code",
   "execution_count": null,
   "id": "24c62773",
   "metadata": {},
   "outputs": [],
   "source": [
    "import pandas as pd"
   ]
  },
  {
   "cell_type": "code",
   "execution_count": null,
   "id": "393b893e",
   "metadata": {},
   "outputs": [],
   "source": [
    "df_train = pd.read_csv('./train.csv')\n",
    "df_train.shape"
   ]
  },
  {
   "cell_type": "code",
   "execution_count": null,
   "id": "bbe6009d",
   "metadata": {},
   "outputs": [],
   "source": [
    "from tqdm.notebook import tqdm_notebook"
   ]
  },
  {
   "cell_type": "code",
   "execution_count": null,
   "id": "4e611ed8",
   "metadata": {},
   "outputs": [],
   "source": [
    "from pattern.en import lemma\n",
    "from gensim.utils import simple_preprocess\n",
    "from gensim.parsing.preprocessing import STOPWORDS\n",
    "\n",
    "def process_text(raw_text):\n",
    "    return [\n",
    "        [\n",
    "            lemma(wd)\n",
    "            for wd in simple_preprocess(doc)\n",
    "            if not wd in STOPWORDS\n",
    "        ]\n",
    "        for doc in tqdm_notebook(raw_text)\n",
    "    ]"
   ]
  },
  {
   "cell_type": "code",
   "execution_count": null,
   "id": "d0d20f1a",
   "metadata": {},
   "outputs": [],
   "source": [
    "text_train = process_text(df_train.text.to_list())"
   ]
  },
  {
   "cell_type": "code",
   "execution_count": null,
   "id": "9cbc02d1",
   "metadata": {},
   "outputs": [],
   "source": [
    "len(text_train)"
   ]
  },
  {
   "cell_type": "code",
   "execution_count": null,
   "id": "53cfb4e0",
   "metadata": {},
   "outputs": [],
   "source": [
    "df_train.iloc[62137].title, text_train[62137][:20]"
   ]
  },
  {
   "cell_type": "code",
   "execution_count": null,
   "id": "d57260d7",
   "metadata": {},
   "outputs": [],
   "source": [
    "from gensim import corpora\n",
    "\n",
    "dictionary_train = corpora.Dictionary(text_train)\n",
    "dictionary_train.filter_extremes()\n",
    "dictionary_train.save_as_text('./lda.text.train.txt')\n",
    "# loaded_dictionary_train = corpora.Dictionary.load_from_text('./lda.text.train.txt')"
   ]
  },
  {
   "cell_type": "code",
   "execution_count": null,
   "id": "fa81ff9e",
   "metadata": {},
   "outputs": [],
   "source": [
    "corpus_train = [dictionary_train.doc2bow(text) for text in text_train]\n",
    "corpora.MmCorpus.serialize('./lda.corpus.train.txt', corpus_train)\n",
    "# loaded_corpus_train = corpora.MmCorpus('./lda.corpus.train.txt')"
   ]
  },
  {
   "cell_type": "code",
   "execution_count": null,
   "id": "248dd802",
   "metadata": {},
   "outputs": [],
   "source": [
    "from gensim import models\n",
    "\n",
    "lda_train = models.ldamulticore.LdaMulticore(\n",
    "    corpus_train,\n",
    "    id2word=dictionary, \n",
    "    num_topics=200,\n",
    "    chunksize=1000,\n",
    "    passes=1,\n",
    "    workers=3\n",
    ")"
   ]
  },
  {
   "cell_type": "code",
   "execution_count": null,
   "id": "588d9f29",
   "metadata": {},
   "outputs": [],
   "source": [
    "import pyLDAvis\n",
    "\n",
    "lda_vis = pyLDAvis.gensim.prepare(lda_train, corpus_train, dictionary_train)\n",
    "pyLDAvis.display(lda_vis)"
   ]
  },
  {
   "cell_type": "code",
   "execution_count": null,
   "id": "fa0b2813",
   "metadata": {},
   "outputs": [],
   "source": [
    "df_test = pd.read_csv('./test.csv')\n",
    "df_test.shape"
   ]
  },
  {
   "cell_type": "code",
   "execution_count": null,
   "id": "162801bd",
   "metadata": {},
   "outputs": [],
   "source": [
    "text_test = process_text(df_test.text.to_list())"
   ]
  },
  {
   "cell_type": "code",
   "execution_count": null,
   "id": "face24f5",
   "metadata": {},
   "outputs": [],
   "source": [
    "len(text_test)"
   ]
  },
  {
   "cell_type": "code",
   "execution_count": null,
   "id": "1cb27547",
   "metadata": {},
   "outputs": [],
   "source": [
    "df_test.iloc[8786].title, text_test[8786][:10]"
   ]
  },
  {
   "cell_type": "code",
   "execution_count": null,
   "id": "67b45bb5",
   "metadata": {},
   "outputs": [],
   "source": [
    "dictionary_test = corpora.Dictionary(text_test)\n",
    "dictionary_test.filter_extremes()\n",
    "dictionary_test.save_as_text('./lda.text.test.txt')\n",
    "# loaded_dictionary_test = corpora.Dictionary.load_from_text('./lda.text.test.txt')"
   ]
  },
  {
   "cell_type": "code",
   "execution_count": null,
   "id": "2803fa27",
   "metadata": {},
   "outputs": [],
   "source": [
    "corpus_test = [dictionary_test.doc2bow(text) for text in text_test]\n",
    "corpora.MmCorpus.serialize('./lda.corpus.test.txt', corpus_test)\n",
    "# loaded_corpus_test = corpora.MmCorpus('./lda.corpus.test.txt')"
   ]
  },
  {
   "cell_type": "code",
   "execution_count": null,
   "id": "c512cb45",
   "metadata": {},
   "outputs": [],
   "source": []
  }
 ],
 "metadata": {
  "kernelspec": {
   "display_name": "Python 3",
   "language": "python",
   "name": "python3"
  },
  "language_info": {
   "codemirror_mode": {
    "name": "ipython",
    "version": 3
   },
   "file_extension": ".py",
   "mimetype": "text/x-python",
   "name": "python",
   "nbconvert_exporter": "python",
   "pygments_lexer": "ipython3",
   "version": "3.8.10"
  }
 },
 "nbformat": 4,
 "nbformat_minor": 5
}
