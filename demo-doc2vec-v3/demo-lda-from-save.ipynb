{
 "cells": [
  {
   "cell_type": "code",
   "execution_count": null,
   "id": "27e99f83",
   "metadata": {},
   "outputs": [],
   "source": [
    "import logging\n",
    "logging.basicConfig(format='%(asctime)s : %(levelname)s : %(message)s', level=logging.INFO)"
   ]
  },
  {
   "cell_type": "code",
   "execution_count": null,
   "id": "b9172d8a",
   "metadata": {},
   "outputs": [],
   "source": [
    "import warnings\n",
    "warnings.filterwarnings(\"ignore\", category=DeprecationWarning)"
   ]
  },
  {
   "cell_type": "code",
   "execution_count": null,
   "id": "5faf0caa",
   "metadata": {},
   "outputs": [],
   "source": [
    "from gensim import corpora, models\n",
    "import pyLDAvis.gensim_models"
   ]
  },
  {
   "cell_type": "code",
   "execution_count": null,
   "id": "de7a7489",
   "metadata": {},
   "outputs": [],
   "source": [
    "import simplejson\n",
    "\n",
    "def json_load(filename):\n",
    "    with open(filename, 'r', encoding='utf-8') as f:\n",
    "        return simplejson.load(f)"
   ]
  },
  {
   "cell_type": "code",
   "execution_count": null,
   "id": "d57260d7",
   "metadata": {},
   "outputs": [],
   "source": [
    "dictionary_train = corpora.Dictionary.load_from_text('./lda.text.train.txt')"
   ]
  },
  {
   "cell_type": "code",
   "execution_count": null,
   "id": "fa81ff9e",
   "metadata": {},
   "outputs": [],
   "source": [
    "corpus_train = corpora.MmCorpus('./lda.corpus.train.txt')"
   ]
  },
  {
   "cell_type": "code",
   "execution_count": null,
   "id": "52dc7b79",
   "metadata": {},
   "outputs": [],
   "source": [
    "lda_train = models.ldamulticore.LdaMulticore.load('./lda.train.model')"
   ]
  },
  {
   "cell_type": "code",
   "execution_count": null,
   "id": "8b4c6402",
   "metadata": {},
   "outputs": [],
   "source": [
    "lda_train.show_topics()"
   ]
  },
  {
   "cell_type": "code",
   "execution_count": null,
   "id": "588d9f29",
   "metadata": {},
   "outputs": [],
   "source": [
    "lda_vis = pyLDAvis.gensim_models.prepare(lda_train, corpus_train, dictionary_train)\n",
    "pyLDAvis.display(lda_vis)"
   ]
  },
  {
   "cell_type": "code",
   "execution_count": null,
   "id": "67b45bb5",
   "metadata": {},
   "outputs": [],
   "source": [
    "# dictionary_test = corpora.Dictionary.load_from_text('./lda.text.test.txt')"
   ]
  },
  {
   "cell_type": "code",
   "execution_count": null,
   "id": "2803fa27",
   "metadata": {},
   "outputs": [],
   "source": [
    "# corpus_test = corpora.MmCorpus('./lda.corpus.test.txt')"
   ]
  },
  {
   "cell_type": "code",
   "execution_count": null,
   "id": "c778f12c",
   "metadata": {},
   "outputs": [],
   "source": [
    "corpus_text_test = json_load('./lda.corpus_text.test.json')"
   ]
  },
  {
   "cell_type": "code",
   "execution_count": null,
   "id": "4623d51b",
   "metadata": {},
   "outputs": [],
   "source": [
    "example = corpus_text_test[0]\n",
    "example"
   ]
  },
  {
   "cell_type": "code",
   "execution_count": null,
   "id": "22ff14ee",
   "metadata": {},
   "outputs": [],
   "source": [
    "import pandas as pd\n",
    "\n",
    "df_test = pd.read_csv('./test.csv')"
   ]
  },
  {
   "cell_type": "code",
   "execution_count": null,
   "id": "37aee7f2",
   "metadata": {},
   "outputs": [],
   "source": [
    "df_test.iloc[0].url"
   ]
  },
  {
   "cell_type": "code",
   "execution_count": null,
   "id": "7c2e11ac",
   "metadata": {
    "scrolled": true
   },
   "outputs": [],
   "source": [
    "corpus_test = [dictionary_train.doc2bow(t) for t in corpus_text_test]\n",
    "\n",
    "test_doc = corpus_test[0]\n",
    "\n",
    "vector = lda_train[test_doc]"
   ]
  },
  {
   "cell_type": "code",
   "execution_count": null,
   "id": "20f65dd1",
   "metadata": {},
   "outputs": [],
   "source": [
    "test_doc"
   ]
  },
  {
   "cell_type": "code",
   "execution_count": null,
   "id": "fcfc109f",
   "metadata": {},
   "outputs": [],
   "source": [
    "dictionary_train[13906]"
   ]
  },
  {
   "cell_type": "code",
   "execution_count": null,
   "id": "0ed8287e",
   "metadata": {},
   "outputs": [],
   "source": [
    "vector"
   ]
  },
  {
   "cell_type": "code",
   "execution_count": null,
   "id": "5188bea1",
   "metadata": {},
   "outputs": [],
   "source": [
    "lda_train.print_topic(64)"
   ]
  },
  {
   "cell_type": "code",
   "execution_count": null,
   "id": "af587e1b",
   "metadata": {},
   "outputs": [],
   "source": [
    "lda_train.print_topic(85)"
   ]
  },
  {
   "cell_type": "code",
   "execution_count": null,
   "id": "8f5f7ce6",
   "metadata": {},
   "outputs": [],
   "source": [
    "lda_train.print_topic(25)"
   ]
  },
  {
   "cell_type": "code",
   "execution_count": null,
   "id": "740c1b47",
   "metadata": {},
   "outputs": [],
   "source": [
    "lda_train.print_topic(77)"
   ]
  },
  {
   "cell_type": "code",
   "execution_count": null,
   "id": "75663db4",
   "metadata": {},
   "outputs": [],
   "source": [
    "# TopicTag each article ([1, 2, 3, 4...])\n",
    "# Show articles of a specific topic tag\n",
    "\n",
    "# TODO: Visualise articles in clusters - similarity on articles themselves\n",
    "# TODO: Colour by topic"
   ]
  }
 ],
 "metadata": {
  "kernelspec": {
   "display_name": "Python 3",
   "language": "python",
   "name": "python3"
  },
  "language_info": {
   "codemirror_mode": {
    "name": "ipython",
    "version": 3
   },
   "file_extension": ".py",
   "mimetype": "text/x-python",
   "name": "python",
   "nbconvert_exporter": "python",
   "pygments_lexer": "ipython3",
   "version": "3.8.10"
  }
 },
 "nbformat": 4,
 "nbformat_minor": 5
}
