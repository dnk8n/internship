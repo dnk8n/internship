{
 "cells": [
  {
   "cell_type": "code",
   "execution_count": null,
   "id": "b45c96f9",
   "metadata": {},
   "outputs": [],
   "source": [
    "from gensim.models import KeyedVectors\n",
    "wv = KeyedVectors.load('./doc2vec.wv')"
   ]
  },
  {
   "cell_type": "code",
   "execution_count": null,
   "id": "f5010140",
   "metadata": {},
   "outputs": [],
   "source": [
    "wv.most_similar(\"travel\")"
   ]
  },
  {
   "cell_type": "code",
   "execution_count": null,
   "id": "97991b04",
   "metadata": {},
   "outputs": [],
   "source": [
    "from gensim.models.doc2vec import Doc2Vec\n",
    "model = Doc2Vec.load('./doc2vec.model')"
   ]
  },
  {
   "cell_type": "code",
   "execution_count": null,
   "id": "c7386013",
   "metadata": {},
   "outputs": [],
   "source": [
    "import simplejson\n",
    "\n",
    "\n",
    "def json_load(filename):\n",
    "    with open(filename, 'r', encoding='utf-8') as f:\n",
    "        return simplejson.load(f)"
   ]
  },
  {
   "cell_type": "code",
   "execution_count": null,
   "id": "928d890b",
   "metadata": {},
   "outputs": [],
   "source": [
    "train_corpus_untagged = json_load(\"./doc2vec.corpus.json\")"
   ]
  },
  {
   "cell_type": "code",
   "execution_count": null,
   "id": "84b4fa97",
   "metadata": {},
   "outputs": [],
   "source": [
    "from gensim.models.doc2vec import TaggedDocument\n",
    "\n",
    "def gen_tagged_docs(corpus_untagged):\n",
    "    return [TaggedDocument(doc[\"words\"], doc[\"tags\"]) for doc in corpus_untagged]"
   ]
  },
  {
   "cell_type": "code",
   "execution_count": null,
   "id": "00e5d615",
   "metadata": {},
   "outputs": [],
   "source": [
    "train_corpus = gen_tagged_docs(train_corpus_untagged)"
   ]
  },
  {
   "cell_type": "code",
   "execution_count": null,
   "id": "3c9ebbb9",
   "metadata": {},
   "outputs": [],
   "source": [
    "tag_id_mapping = json_load('./doc2vec.tag_id_mapping.json')"
   ]
  },
  {
   "cell_type": "code",
   "execution_count": null,
   "id": "ea13e52a",
   "metadata": {},
   "outputs": [],
   "source": [
    "id_tag_mapping = {v: k for k, v in tag_id_mapping.items()}"
   ]
  },
  {
   "cell_type": "code",
   "execution_count": null,
   "id": "eaa1286a",
   "metadata": {},
   "outputs": [],
   "source": [
    "doc = train_corpus[0].words\n",
    "print(doc)\n",
    "\n",
    "# Using words\n",
    "inferred_vector = model.infer_vector(doc)\n",
    "sims = model.dv.most_similar([inferred_vector], topn=10)\n",
    "for doc_id, factor in sims:\n",
    "    print(factor, id_tag_mapping[doc_id])\n",
    "\n",
    "print(\"************\")    \n",
    "\n",
    "# Using doc vector\n",
    "inferred_vector = model.dv[train_corpus[0].tags[0]]\n",
    "sims = model.dv.most_similar([inferred_vector], topn=10)\n",
    "for doc_id, factor in sims:\n",
    "    print(factor, id_tag_mapping[doc_id])"
   ]
  },
  {
   "cell_type": "code",
   "execution_count": null,
   "id": "734c1d3a",
   "metadata": {},
   "outputs": [],
   "source": [
    "import random\n",
    "\n",
    "random.seed(42)\n",
    "\n",
    "\n",
    "ranks = []\n",
    "second_ranks = []\n",
    "\n",
    "train_corpus_copy = train_corpus.copy()\n",
    "random.shuffle(train_corpus_copy)\n",
    "sample_train_corpus = train_corpus_copy[:50]\n",
    "for sent_id in range(len(sample_train_corpus)):\n",
    "    inferred_vector = model.infer_vector(sample_train_corpus[sent_id].words)\n",
    "    sims = model.dv.most_similar([inferred_vector], topn=len(id_tag_mapping))\n",
    "    most_similar_tag_indices = [\n",
    "        [docid for docid, sim in sims].index(tag)\n",
    "        for tag in sample_train_corpus[sent_id].tags\n",
    "    ]\n",
    "    rank = min(most_similar_tag_indices)\n",
    "    second_rank = max(most_similar_tag_indices) + 1\n",
    "    ranks.append(rank)\n",
    "    second_ranks.append(second_rank)"
   ]
  },
  {
   "cell_type": "code",
   "execution_count": null,
   "id": "a55e9f84",
   "metadata": {},
   "outputs": [],
   "source": [
    "%matplotlib inline\n",
    "\n",
    "import collections\n",
    "import matplotlib.pyplot as plt\n",
    "\n",
    "\n",
    "counter = collections.Counter(ranks)\n",
    "sum_0 = sum([v for k, v in counter.items() if k <= 0])\n",
    "sum_all_else = sum([v for k, v in counter.items() if k > 0])\n",
    "plt.bar([0,1], [sum_0, sum_all_else])\n",
    "print([sum_0, sum_all_else])"
   ]
  },
  {
   "cell_type": "code",
   "execution_count": null,
   "id": "428d5a9b",
   "metadata": {},
   "outputs": [],
   "source": [
    "print('Training example correctly matched (%): ', 100 * sum_0 / (sum_0 + sum_all_else))\n",
    "print('Training example incorrectly matched (%): ', 100 * sum_all_else / (sum_0 + sum_all_else))"
   ]
  },
  {
   "cell_type": "code",
   "execution_count": null,
   "id": "e834f9d0",
   "metadata": {},
   "outputs": [],
   "source": [
    "sent_id = 42\n",
    "sentence = train_corpus[sent_id]\n",
    "article_tag_id = sentence.tags[0]\n",
    "inferred_vector = model.infer_vector(sentence.words)\n",
    "sims = model.dv.most_similar([inferred_vector], topn=len(train_corpus))\n",
    "print('Document ({}): «{}»\\n'.format(id_tag_mapping[article_tag_id], ' '.join(sentence.words)))\n",
    "print(u'SIMILAR/DISSIMILAR DOCS PER MODEL %s:\\n' % model)\n",
    "\n",
    "most_similar_tag_indices = [\n",
    "    [docid for docid, sim in sims].index(tag)\n",
    "    for tag in train_corpus[sent_id].tags\n",
    "\n",
    "]\n",
    "\n",
    "for label, index in [('MOST', 0), ('SECOND-MOST', 1), ('THIRD-MOST', 2), ('JUST-OUTSIDE-TAGS', max(most_similar_tag_indices) + 1), ('MEDIAN', len(sims)//2), ('LEAST', len(sims) - 1)]:\n",
    "    print(u'%s %s: «%s»\\n' % (label, sims[index], id_tag_mapping[sims[index][0]]))"
   ]
  },
  {
   "cell_type": "code",
   "execution_count": null,
   "id": "71e9410c",
   "metadata": {},
   "outputs": [],
   "source": [
    "corpus_test_untagged = json_load('./doc2vec.corpus.test.json')"
   ]
  },
  {
   "cell_type": "code",
   "execution_count": null,
   "id": "5047dd36",
   "metadata": {},
   "outputs": [],
   "source": [
    "corpus_test = gen_tagged_docs(corpus_test_untagged)"
   ]
  },
  {
   "cell_type": "code",
   "execution_count": null,
   "id": "f2362436",
   "metadata": {},
   "outputs": [],
   "source": [
    "doc = corpus_test[-1].words\n",
    "print(doc)\n",
    "\n",
    "# Using words\n",
    "inferred_vector = model.infer_vector(doc)\n",
    "sims = model.dv.most_similar([inferred_vector], topn=10)\n",
    "for doc_id, factor in sims:\n",
    "    print(factor, id_tag_mapping[doc_id])\n"
   ]
  },
  {
   "cell_type": "code",
   "execution_count": null,
   "id": "d2f4732b",
   "metadata": {},
   "outputs": [],
   "source": [
    "import random\n",
    "\n",
    "random.seed(42)\n",
    "\n",
    "\n",
    "ranks = []\n",
    "second_ranks = []\n",
    "\n",
    "corpus_test_copy = corpus_test.copy()\n",
    "random.shuffle(corpus_test_copy)\n",
    "sample_corpus_test = corpus_test_copy[:50]\n",
    "for sent_id in range(len(sample_corpus_test)):\n",
    "    inferred_vector = model.infer_vector(sample_corpus_test[sent_id].words)\n",
    "    sims = model.dv.most_similar([inferred_vector], topn=len(id_tag_mapping))\n",
    "    most_similar_tag_indices = [\n",
    "        [docid for docid, sim in sims].index(tag)\n",
    "        for tag in sample_corpus_test[sent_id].tags if tag\n",
    "    ]\n",
    "    rank = min(most_similar_tag_indices)\n",
    "    second_rank = max(most_similar_tag_indices) + 1\n",
    "    ranks.append(rank)\n",
    "    second_ranks.append(second_rank)"
   ]
  },
  {
   "cell_type": "code",
   "execution_count": null,
   "id": "4970a876",
   "metadata": {},
   "outputs": [],
   "source": [
    "%matplotlib inline\n",
    "\n",
    "import collections\n",
    "import matplotlib.pyplot as plt\n",
    "\n",
    "\n",
    "counter = collections.Counter(ranks)\n",
    "sum_0 = sum([v for k, v in counter.items() if k <= 0])\n",
    "sum_all_else = sum([v for k, v in counter.items() if k > 0])\n",
    "plt.bar([0,1], [sum_0, sum_all_else])\n",
    "print([sum_0, sum_all_else])"
   ]
  },
  {
   "cell_type": "code",
   "execution_count": null,
   "id": "ecf78942",
   "metadata": {},
   "outputs": [],
   "source": [
    "print('Test example correctly matched (%): ', 100 * sum_0 / (sum_0 + sum_all_else))\n",
    "print('Test example incorrectly matched (%): ', 100 * sum_all_else / (sum_0 + sum_all_else))"
   ]
  },
  {
   "cell_type": "code",
   "execution_count": null,
   "id": "20397e2d",
   "metadata": {},
   "outputs": [],
   "source": [
    "sent_id = 42\n",
    "sentence = corpus_test[sent_id]\n",
    "inferred_vector = model.infer_vector(sentence.words)\n",
    "sims = model.dv.most_similar([inferred_vector], topn=len(id_tag_mapping))\n",
    "print('Document: «{}»\\n'.format(' '.join(sentence.words)))\n",
    "print(u'SIMILAR/DISSIMILAR DOCS PER MODEL %s:\\n' % model)\n",
    "\n",
    "most_similar_tag_indices = [\n",
    "    [docid for docid, sim in sims].index(tag)\n",
    "    for tag in corpus_test[sent_id].tags if tag\n",
    "\n",
    "]\n",
    "\n",
    "for label, index in [('MOST', 0), ('SECOND-MOST', 1), ('THIRD-MOST', 2), ('JUST-OUTSIDE-TAGS', max(most_similar_tag_indices) + 1), ('MEDIAN', len(sims)//2), ('LEAST', len(sims) - 1)]:\n",
    "    print(u'%s %s: «%s»\\n' % (label, sims[index], id_tag_mapping[sims[index][0]]))"
   ]
  }
 ],
 "metadata": {
  "kernelspec": {
   "display_name": "Python 3 (ipykernel)",
   "language": "python",
   "name": "python3"
  },
  "language_info": {
   "codemirror_mode": {
    "name": "ipython",
    "version": 3
   },
   "file_extension": ".py",
   "mimetype": "text/x-python",
   "name": "python",
   "nbconvert_exporter": "python",
   "pygments_lexer": "ipython3",
   "version": "3.8.10"
  }
 },
 "nbformat": 4,
 "nbformat_minor": 5
}
