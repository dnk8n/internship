{
 "cells": [
  {
   "cell_type": "code",
   "execution_count": null,
   "id": "27e99f83",
   "metadata": {},
   "outputs": [],
   "source": [
    "import logging\n",
    "logging.basicConfig(format='%(asctime)s : %(levelname)s : %(message)s', level=logging.INFO)"
   ]
  },
  {
   "cell_type": "code",
   "execution_count": null,
   "id": "1e98e168",
   "metadata": {},
   "outputs": [],
   "source": [
    "import simplejson\n",
    "\n",
    "def json_load(filename):\n",
    "    with open(filename, 'r', encoding='utf-8') as f:\n",
    "        return simplejson.load(f)\n",
    "\n",
    "def json_save(data, filename):\n",
    "    with open(filename, 'w', encoding='utf-8') as f:\n",
    "        simplejson.dump(data, f, separators=(',', ':'), iterable_as_array=True)"
   ]
  },
  {
   "cell_type": "code",
   "execution_count": null,
   "id": "32689cd3",
   "metadata": {},
   "outputs": [],
   "source": [
    "corpus_token_objects = json_load('./doc2vec.corpus_token_objects.json')"
   ]
  },
  {
   "cell_type": "code",
   "execution_count": null,
   "id": "bbe6009d",
   "metadata": {},
   "outputs": [],
   "source": [
    "from tqdm.notebook import tqdm_notebook"
   ]
  },
  {
   "cell_type": "code",
   "execution_count": null,
   "id": "4e611ed8",
   "metadata": {},
   "outputs": [],
   "source": [
    "def corpus2tokens(corpus_token_objects):\n",
    "    ent_labels_to_skip = [\n",
    "        \"DATE\", # Absolute or relative dates or periods\n",
    "        \"CARDINAL\", # Numerals that do not fall under another type\n",
    "        \"PERCENT\", # Percentage, including \"%\"\n",
    "        \"TIME\", # Times smaller than a day\n",
    "        \"MONEY\", # Monetary values, including unit\n",
    "        \"ORDINAL\", # \"first\", \"second\", etc.\n",
    "        \"QUANTITY\", # Measurements, as of weight or distance\n",
    "        \"PERSON\",\n",
    "        \"ORG\",\n",
    "        \"GPE\",\n",
    "        \"FAC\",\n",
    "    ]\n",
    "    return_tokens = []\n",
    "    for doc in tqdm_notebook(corpus_token_objects):\n",
    "        doc_tokens = []\n",
    "        tokens = doc['tokens']\n",
    "        for token in tokens:\n",
    "            if not (token['is_stop'] or token['is_punct'] or token['is_space'] or token['ent_type_'] in ent_labels_to_skip):\n",
    "                doc_tokens.append(token['lower_'].replace(' ', '_'))\n",
    "        return_tokens.append(doc_tokens)\n",
    "    return return_tokens"
   ]
  },
  {
   "cell_type": "code",
   "execution_count": null,
   "id": "d0d20f1a",
   "metadata": {},
   "outputs": [],
   "source": [
    "# %%time\n",
    "# corpus_words_train = corpus2tokens(df_train.text.to_list())"
   ]
  },
  {
   "cell_type": "code",
   "execution_count": null,
   "id": "d6b63d0f",
   "metadata": {},
   "outputs": [],
   "source": [
    "%%time\n",
    "corpus_words_full = corpus2tokens(corpus_token_objects)"
   ]
  },
  {
   "cell_type": "code",
   "execution_count": null,
   "id": "02e0bb8c",
   "metadata": {},
   "outputs": [],
   "source": [
    "corpus_words_full[0]"
   ]
  },
  {
   "cell_type": "code",
   "execution_count": null,
   "id": "e8f0e003",
   "metadata": {},
   "outputs": [],
   "source": [
    "# json_save(corpus_words_train, './lda.corpus.train.json')"
   ]
  },
  {
   "cell_type": "code",
   "execution_count": null,
   "id": "85affcc1",
   "metadata": {},
   "outputs": [],
   "source": [
    "json_save(corpus_words_full, './lda.corpus.full.json')"
   ]
  },
  {
   "cell_type": "code",
   "execution_count": null,
   "id": "d57260d7",
   "metadata": {
    "scrolled": true
   },
   "outputs": [],
   "source": [
    "# %%time\n",
    "# from gensim import corpora\n",
    "\n",
    "# dictionary = corpora.Dictionary(corpus_words_train)\n",
    "# dictionary.filter_extremes()\n",
    "# dictionary.save_as_text('./lda.dictionary.txt')"
   ]
  },
  {
   "cell_type": "code",
   "execution_count": null,
   "id": "6972509e",
   "metadata": {},
   "outputs": [],
   "source": [
    "%%time\n",
    "from gensim import corpora\n",
    "\n",
    "dictionary = corpora.Dictionary(corpus_words_full)\n",
    "dictionary.filter_extremes()\n",
    "dictionary.save_as_text('./lda.dictionary.txt')"
   ]
  },
  {
   "cell_type": "code",
   "execution_count": null,
   "id": "fa81ff9e",
   "metadata": {},
   "outputs": [],
   "source": [
    "# %%time\n",
    "# corpus_train = [dictionary.doc2bow(text) for text in corpus_words_train]\n",
    "# corpora.MmCorpus.serialize('./lda.corpus.txt', corpus_train)"
   ]
  },
  {
   "cell_type": "code",
   "execution_count": null,
   "id": "31d9eda7",
   "metadata": {},
   "outputs": [],
   "source": [
    "%%time\n",
    "corpus_full = [dictionary.doc2bow(text) for text in corpus_words_full]\n",
    "corpora.MmCorpus.serialize('./lda.corpus.txt', corpus_full)"
   ]
  },
  {
   "cell_type": "code",
   "execution_count": null,
   "id": "c0c48516",
   "metadata": {},
   "outputs": [],
   "source": [
    "from gensim import models"
   ]
  },
  {
   "cell_type": "code",
   "execution_count": null,
   "id": "52dc7b79",
   "metadata": {},
   "outputs": [],
   "source": [
    "# %%time\n",
    "# from gensim import models\n",
    "\n",
    "# lda = models.ldamulticore.LdaMulticore(\n",
    "#     corpus_train,\n",
    "#     id2word=dictionary, \n",
    "#     num_topics=20,\n",
    "#     chunksize=4000,\n",
    "#     passes=20,\n",
    "#     workers=64\n",
    "# )\n",
    "# lda.save(\"./lda.model\")"
   ]
  },
  {
   "cell_type": "code",
   "execution_count": null,
   "id": "ab1c32d0",
   "metadata": {},
   "outputs": [],
   "source": [
    "%%time\n",
    "from gensim import models\n",
    "\n",
    "lda = models.ldamulticore.LdaMulticore(\n",
    "    corpus_full,\n",
    "    id2word=dictionary, \n",
    "    num_topics=14,\n",
    "    chunksize=4000,\n",
    "    passes=100,\n",
    "    workers=3  #64\n",
    ")\n",
    "lda.save(\"./lda.model\")"
   ]
  },
  {
   "cell_type": "code",
   "execution_count": null,
   "id": "162801bd",
   "metadata": {},
   "outputs": [],
   "source": [
    "# %%time\n",
    "# text_test = corpus2tokens(df_test.text.to_list())"
   ]
  },
  {
   "cell_type": "code",
   "execution_count": null,
   "id": "184b943f",
   "metadata": {},
   "outputs": [],
   "source": [
    "# json_save(text_test, './lda.corpus.test.json')"
   ]
  },
  {
   "cell_type": "code",
   "execution_count": null,
   "id": "9a096cac",
   "metadata": {},
   "outputs": [],
   "source": [
    "# df_production = pd.read_csv('../data/BBairline200722.csv')"
   ]
  },
  {
   "cell_type": "code",
   "execution_count": null,
   "id": "00ff9870",
   "metadata": {},
   "outputs": [],
   "source": [
    "# df_production.head()"
   ]
  },
  {
   "cell_type": "code",
   "execution_count": null,
   "id": "335d22ec",
   "metadata": {},
   "outputs": [],
   "source": [
    "# %%time\n",
    "# text_production = corpus2tokens(df_production[\"5\"].to_list())"
   ]
  },
  {
   "cell_type": "code",
   "execution_count": null,
   "id": "a79bdcde",
   "metadata": {},
   "outputs": [],
   "source": [
    "# json_save(text_production, './lda.corpus.production.json')"
   ]
  },
  {
   "cell_type": "code",
   "execution_count": null,
   "id": "859bce0f",
   "metadata": {},
   "outputs": [],
   "source": []
  }
 ],
 "metadata": {
  "kernelspec": {
   "display_name": "Python 3 (ipykernel)",
   "language": "python",
   "name": "python3"
  },
  "language_info": {
   "codemirror_mode": {
    "name": "ipython",
    "version": 3
   },
   "file_extension": ".py",
   "mimetype": "text/x-python",
   "name": "python",
   "nbconvert_exporter": "python",
   "pygments_lexer": "ipython3",
   "version": "3.8.10"
  }
 },
 "nbformat": 4,
 "nbformat_minor": 5
}
