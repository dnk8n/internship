{
 "cells": [
  {
   "cell_type": "code",
   "execution_count": null,
   "id": "4b82d356",
   "metadata": {},
   "outputs": [],
   "source": [
    "import logging\n",
    "logging.basicConfig(format='%(asctime)s : %(levelname)s : %(message)s', level=logging.INFO)"
   ]
  },
  {
   "cell_type": "code",
   "execution_count": null,
   "id": "4ebeb88c",
   "metadata": {},
   "outputs": [],
   "source": [
    "import csv\n",
    "\n",
    "def load_csv(filepath):\n",
    "    with open(filepath, newline='') as csvfile:\n",
    "        return list(csv.DictReader(csvfile))"
   ]
  },
  {
   "cell_type": "code",
   "execution_count": null,
   "id": "0f8cbe24",
   "metadata": {},
   "outputs": [],
   "source": [
    "import simplejson\n",
    "\n",
    "def json_load(filename):\n",
    "    with open(filename, 'r', encoding='utf-8') as f:\n",
    "        return simplejson.load(f)\n",
    "\n",
    "def json_save(data, filename):\n",
    "    with open(filename, 'w', encoding='utf-8') as f:\n",
    "        simplejson.dump(data, f, separators=(',', ':'), iterable_as_array=True)"
   ]
  },
  {
   "cell_type": "code",
   "execution_count": null,
   "id": "9b6bf38d",
   "metadata": {},
   "outputs": [],
   "source": [
    "import re\n",
    "\n",
    "csv_file_path = '../data/BBairline200722_coreffed.csv'\n",
    "specifier = re.split('[\\/\\.]',csv_file_path)[-2]"
   ]
  },
  {
   "cell_type": "code",
   "execution_count": null,
   "id": "0d90ae5e",
   "metadata": {},
   "outputs": [],
   "source": [
    "csv_data = load_csv(csv_file_path)"
   ]
  },
  {
   "cell_type": "code",
   "execution_count": null,
   "id": "72d62afb",
   "metadata": {},
   "outputs": [],
   "source": [
    "single_quote_unicode = ord(\"'\")\n",
    "translation_table_text = str.maketrans(\n",
    "    {\n",
    "        '`': single_quote_unicode,\n",
    "        '‘': single_quote_unicode,\n",
    "        '’': single_quote_unicode,\n",
    "        '“': single_quote_unicode,\n",
    "        '”': single_quote_unicode,\n",
    "    }\n",
    ")\n",
    "     \n",
    "corpus_texts_full, corpus_titles_full = [], []\n",
    "for row in csv_data:\n",
    "    text, title = row['text'].translate(translation_table_text), row['title']\n",
    "    corpus_texts_full.append(text)\n",
    "    corpus_titles_full.append(title)"
   ]
  },
  {
   "cell_type": "code",
   "execution_count": null,
   "id": "2da2b683",
   "metadata": {},
   "outputs": [],
   "source": [
    "%%time\n",
    "from allennlp.predictors import Predictor\n",
    "predictor_models = ('ner-model-2020.02.10', 'fine-grained-ner.2021-02-11', 'fgner-transformer.2021-02-11',)\n",
    "predictors = {m: Predictor.from_path(f\"https://storage.googleapis.com/allennlp-public-models/{m}.tar.gz\") for m in predictor_models}"
   ]
  },
  {
   "cell_type": "code",
   "execution_count": null,
   "id": "4f21a188",
   "metadata": {},
   "outputs": [],
   "source": [
    "def get_ents(predictor, doc):\n",
    "    prediction = predictor.predict(sentence=doc)\n",
    "    return list(zip(prediction['words'], prediction['tags']))"
   ]
  },
  {
   "cell_type": "code",
   "execution_count": null,
   "id": "a672b6bf",
   "metadata": {},
   "outputs": [],
   "source": [
    "# unmerged_ents = json_load(f'unmerged_ents-{specifier}.json')"
   ]
  },
  {
   "cell_type": "code",
   "execution_count": null,
   "id": "919a89aa",
   "metadata": {},
   "outputs": [],
   "source": [
    "%%time\n",
    "\n",
    "from collections import defaultdict\n",
    "\n",
    "unmerged_ents = defaultdict(list)\n",
    "for model, predictor in predictors.items():\n",
    "    for doc in corpus_texts_full:\n",
    "        unmerged_ents[model].append(get_ents(predictor, doc))"
   ]
  },
  {
   "cell_type": "code",
   "execution_count": null,
   "id": "35ed2ea2",
   "metadata": {},
   "outputs": [],
   "source": [
    "def get_ents_ids(ents):\n",
    "    ent_ids = []\n",
    "    processing_ent = False\n",
    "    for idx, (word, tag) in enumerate(ents):\n",
    "        if tag != 'O':\n",
    "            pos, ent_type = tag.split('-')\n",
    "        else:\n",
    "            pos, ent_type = (None, 'O')\n",
    "        if not processing_ent:\n",
    "            ent_ids.append([idx])\n",
    "            if pos == 'B':\n",
    "                processing_ent = True\n",
    "        else:\n",
    "            ent_ids[-1].append(idx)\n",
    "            if pos == 'L':\n",
    "                processing_ent = False\n",
    "    return ent_ids"
   ]
  },
  {
   "cell_type": "code",
   "execution_count": null,
   "id": "1bb34669",
   "metadata": {},
   "outputs": [],
   "source": [
    "import itertools\n",
    "\n",
    "def get_merged_ents(ents):\n",
    "    all_ents = []\n",
    "    for ents_doc in ents:\n",
    "        ents_ids = get_ents_ids(ents_doc)\n",
    "        doc_ents = []\n",
    "        for ent_ids in ents_ids:\n",
    "            word_tag_ents = []\n",
    "            for ent_id in ent_ids:\n",
    "                word_ent, tag_ent = ents_doc[ent_id]\n",
    "                word_tag_ent = (\n",
    "                    word_ent,\n",
    "                    tag_ent.split(\"-\")[-1], # This drops the U- B- I- from ent types\n",
    "                )\n",
    "                word_tag_ents.append(word_tag_ent)\n",
    "            ent_words, ent_tags = list(zip(*word_tag_ents))\n",
    "            combined_ent_words = ' '.join(ent_words)\n",
    "            collapsed_ent_tags = ' '.join(i for i, _ in itertools.groupby(ent_tags))\n",
    "            doc_ents.append((combined_ent_words, collapsed_ent_tags))\n",
    "        all_ents.append(doc_ents)\n",
    "    return all_ents"
   ]
  },
  {
   "cell_type": "code",
   "execution_count": null,
   "id": "71658508",
   "metadata": {},
   "outputs": [],
   "source": [
    "%%time\n",
    "merged_ents = {}\n",
    "for model, ents in unmerged_ents.items():\n",
    "    merged_ents[model] = get_merged_ents(ents)"
   ]
  },
  {
   "cell_type": "code",
   "execution_count": null,
   "id": "5c43d46a",
   "metadata": {},
   "outputs": [],
   "source": [
    "json_save(merged_ents, f'merged_ents-{specifier}.json')"
   ]
  },
  {
   "cell_type": "code",
   "execution_count": null,
   "id": "ef9dd320",
   "metadata": {},
   "outputs": [],
   "source": [
    "json_save(unmerged_ents, f'unmerged_ents-{specifier}.json')"
   ]
  }
 ],
 "metadata": {
  "kernelspec": {
   "display_name": "Python 3 (ipykernel)",
   "language": "python",
   "name": "python3"
  },
  "language_info": {
   "codemirror_mode": {
    "name": "ipython",
    "version": 3
   },
   "file_extension": ".py",
   "mimetype": "text/x-python",
   "name": "python",
   "nbconvert_exporter": "python",
   "pygments_lexer": "ipython3",
   "version": "3.8.10"
  }
 },
 "nbformat": 4,
 "nbformat_minor": 5
}
