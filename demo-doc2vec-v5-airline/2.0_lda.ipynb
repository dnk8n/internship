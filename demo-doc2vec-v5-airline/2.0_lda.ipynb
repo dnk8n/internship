{
 "cells": [
  {
   "cell_type": "code",
   "execution_count": 1,
   "id": "27e99f83",
   "metadata": {},
   "outputs": [],
   "source": [
    "import logging\n",
    "logging.basicConfig(format='%(asctime)s : %(levelname)s : %(message)s', level=logging.INFO)"
   ]
  },
  {
   "cell_type": "code",
   "execution_count": 2,
   "id": "24c62773",
   "metadata": {},
   "outputs": [
    {
     "name": "stderr",
     "output_type": "stream",
     "text": [
      "2021-08-24 12:21:28,893 : INFO : NumExpr defaulting to 4 threads.\n"
     ]
    }
   ],
   "source": [
    "import pandas as pd"
   ]
  },
  {
   "cell_type": "code",
   "execution_count": 3,
   "id": "1e98e168",
   "metadata": {},
   "outputs": [],
   "source": [
    "import simplejson\n",
    "\n",
    "\n",
    "def json_save(data, filename):\n",
    "    with open(filename, 'w', encoding='utf-8') as f:\n",
    "        simplejson.dump(data, f, separators=(',', ':'), iterable_as_array=True)"
   ]
  },
  {
   "cell_type": "code",
   "execution_count": null,
   "id": "393b893e",
   "metadata": {},
   "outputs": [],
   "source": [
    "# df_train = pd.read_csv('./train.csv')\n",
    "# df_test = pd.read_csv('./test.csv')"
   ]
  },
  {
   "cell_type": "code",
   "execution_count": 4,
   "id": "bf7306de",
   "metadata": {},
   "outputs": [],
   "source": [
    "df_full = pd.read_csv('./full.csv')"
   ]
  },
  {
   "cell_type": "code",
   "execution_count": null,
   "id": "9327dfdb",
   "metadata": {},
   "outputs": [],
   "source": [
    "# # dev\n",
    "# df_train = df_train.sample(50, random_state=42)\n",
    "# df_test = df_test.sample(50, random_state=42)"
   ]
  },
  {
   "cell_type": "code",
   "execution_count": null,
   "id": "f1b9373d",
   "metadata": {},
   "outputs": [],
   "source": [
    "# df_train.shape, df_test.shape"
   ]
  },
  {
   "cell_type": "code",
   "execution_count": 5,
   "id": "8dfb9fa8",
   "metadata": {},
   "outputs": [
    {
     "data": {
      "text/plain": [
       "(490, 7)"
      ]
     },
     "execution_count": 5,
     "metadata": {},
     "output_type": "execute_result"
    }
   ],
   "source": [
    "df_full.shape"
   ]
  },
  {
   "cell_type": "code",
   "execution_count": 6,
   "id": "bbe6009d",
   "metadata": {},
   "outputs": [],
   "source": [
    "from tqdm.notebook import tqdm_notebook"
   ]
  },
  {
   "cell_type": "code",
   "execution_count": 7,
   "id": "4e611ed8",
   "metadata": {},
   "outputs": [],
   "source": [
    "from gensim.utils import simple_preprocess\n",
    "from gensim.parsing.preprocessing import STOPWORDS\n",
    "\n",
    "def corpus2tokens(raw_corpus):\n",
    "    return [\n",
    "        [\n",
    "            wd\n",
    "            for wd in simple_preprocess(doc)\n",
    "            if not wd in STOPWORDS\n",
    "        ]\n",
    "        for doc in tqdm_notebook(raw_corpus)\n",
    "    ]"
   ]
  },
  {
   "cell_type": "code",
   "execution_count": null,
   "id": "d0d20f1a",
   "metadata": {},
   "outputs": [],
   "source": [
    "# %%time\n",
    "# corpus_words_train = corpus2tokens(df_train.text.to_list())"
   ]
  },
  {
   "cell_type": "code",
   "execution_count": 8,
   "id": "d6b63d0f",
   "metadata": {},
   "outputs": [
    {
     "data": {
      "application/vnd.jupyter.widget-view+json": {
       "model_id": "a48f1b58ad9d4bc58f4a716a40cc7ef8",
       "version_major": 2,
       "version_minor": 0
      },
      "text/plain": [
       "HBox(children=(FloatProgress(value=0.0, max=490.0), HTML(value='')))"
      ]
     },
     "metadata": {},
     "output_type": "display_data"
    },
    {
     "name": "stdout",
     "output_type": "stream",
     "text": [
      "\n",
      "CPU times: user 1.08 s, sys: 74 ms, total: 1.15 s\n",
      "Wall time: 1.76 s\n"
     ]
    }
   ],
   "source": [
    "%%time\n",
    "corpus_words_full = corpus2tokens(df_full.text.to_list())"
   ]
  },
  {
   "cell_type": "code",
   "execution_count": null,
   "id": "e8f0e003",
   "metadata": {},
   "outputs": [],
   "source": [
    "# json_save(corpus_words_train, './lda.corpus.train.json')"
   ]
  },
  {
   "cell_type": "code",
   "execution_count": 9,
   "id": "85affcc1",
   "metadata": {},
   "outputs": [],
   "source": [
    "json_save(corpus_words_full, './lda.corpus.full.json')"
   ]
  },
  {
   "cell_type": "code",
   "execution_count": null,
   "id": "d57260d7",
   "metadata": {
    "scrolled": true
   },
   "outputs": [],
   "source": [
    "# %%time\n",
    "# from gensim import corpora\n",
    "\n",
    "# dictionary = corpora.Dictionary(corpus_words_train)\n",
    "# dictionary.filter_extremes()\n",
    "# dictionary.save_as_text('./lda.dictionary.txt')"
   ]
  },
  {
   "cell_type": "code",
   "execution_count": 10,
   "id": "6972509e",
   "metadata": {},
   "outputs": [
    {
     "name": "stderr",
     "output_type": "stream",
     "text": [
      "2021-08-24 12:23:06,823 : INFO : adding document #0 to Dictionary(0 unique tokens: [])\n",
      "2021-08-24 12:23:07,353 : INFO : built Dictionary(14438 unique tokens: ['added', 'administrator', 'affairs', 'ag', 'air']...) from 490 documents (total 148823 corpus positions)\n",
      "2021-08-24 12:23:07,428 : INFO : Dictionary lifecycle event {'msg': \"built Dictionary(14438 unique tokens: ['added', 'administrator', 'affairs', 'ag', 'air']...) from 490 documents (total 148823 corpus positions)\", 'datetime': '2021-08-24T12:23:07.358750', 'gensim': '4.0.1', 'python': '3.8.10 (default, Jun  4 2021, 15:09:15) \\n[GCC 7.5.0]', 'platform': 'Linux-5.13.8-100.fc33.x86_64-x86_64-with-glibc2.17', 'event': 'created'}\n",
      "2021-08-24 12:23:07,580 : INFO : discarding 10533 tokens: [('air', 263), ('airlines', 263), ('amend', 2), ('anger', 4), ('annie', 1), ('applicable', 2), ('baby', 2), ('beaune', 4), ('beta', 4), ('bitter', 2)]...\n",
      "2021-08-24 12:23:07,581 : INFO : keeping 3905 tokens which were in no less than 5 and no more than 245 (=50.0%) documents\n",
      "2021-08-24 12:23:07,664 : INFO : resulting dictionary: Dictionary(3905 unique tokens: ['added', 'administrator', 'affairs', 'ag', 'airline']...)\n",
      "2021-08-24 12:23:07,668 : INFO : saving dictionary mapping to ./lda.dictionary.txt\n"
     ]
    },
    {
     "name": "stdout",
     "output_type": "stream",
     "text": [
      "CPU times: user 622 ms, sys: 60.3 ms, total: 683 ms\n",
      "Wall time: 876 ms\n"
     ]
    }
   ],
   "source": [
    "%%time\n",
    "from gensim import corpora\n",
    "\n",
    "dictionary = corpora.Dictionary(corpus_words_full)\n",
    "dictionary.filter_extremes()\n",
    "dictionary.save_as_text('./lda.dictionary.txt')"
   ]
  },
  {
   "cell_type": "code",
   "execution_count": null,
   "id": "fa81ff9e",
   "metadata": {},
   "outputs": [],
   "source": [
    "# %%time\n",
    "# corpus_train = [dictionary.doc2bow(text) for text in corpus_words_train]\n",
    "# corpora.MmCorpus.serialize('./lda.corpus.txt', corpus_train)"
   ]
  },
  {
   "cell_type": "code",
   "execution_count": 12,
   "id": "31d9eda7",
   "metadata": {},
   "outputs": [
    {
     "name": "stderr",
     "output_type": "stream",
     "text": [
      "2021-08-24 12:23:47,224 : INFO : storing corpus in Matrix Market format to ./lda.corpus.txt\n",
      "2021-08-24 12:23:47,226 : INFO : saving sparse matrix to ./lda.corpus.txt\n",
      "2021-08-24 12:23:47,228 : INFO : PROGRESS: saving document #0\n",
      "2021-08-24 12:23:47,487 : INFO : saved 490x3905 matrix, density=4.225% (80835/1913450)\n",
      "2021-08-24 12:23:47,489 : INFO : saving MmCorpus index to ./lda.corpus.txt.index\n"
     ]
    },
    {
     "name": "stdout",
     "output_type": "stream",
     "text": [
      "CPU times: user 417 ms, sys: 58.9 ms, total: 476 ms\n",
      "Wall time: 548 ms\n"
     ]
    }
   ],
   "source": [
    "%%time\n",
    "corpus_full = [dictionary.doc2bow(text) for text in corpus_words_full]\n",
    "corpora.MmCorpus.serialize('./lda.corpus.txt', corpus_full)"
   ]
  },
  {
   "cell_type": "code",
   "execution_count": 13,
   "id": "c0c48516",
   "metadata": {},
   "outputs": [],
   "source": [
    "from gensim import models"
   ]
  },
  {
   "cell_type": "code",
   "execution_count": null,
   "id": "52dc7b79",
   "metadata": {},
   "outputs": [],
   "source": [
    "# %%time\n",
    "# from gensim import models\n",
    "\n",
    "# lda = models.ldamulticore.LdaMulticore(\n",
    "#     corpus_train,\n",
    "#     id2word=dictionary, \n",
    "#     num_topics=20,\n",
    "#     chunksize=4000,\n",
    "#     passes=20,\n",
    "#     workers=64\n",
    "# )\n",
    "# lda.save(\"./lda.model\")"
   ]
  },
  {
   "cell_type": "code",
   "execution_count": 14,
   "id": "ab1c32d0",
   "metadata": {},
   "outputs": [
    {
     "name": "stderr",
     "output_type": "stream",
     "text": [
      "2021-08-24 12:24:18,450 : INFO : using symmetric alpha at 0.05\n",
      "2021-08-24 12:24:18,451 : INFO : using symmetric eta at 0.05\n",
      "2021-08-24 12:24:18,453 : INFO : using serial LDA version on this node\n",
      "2021-08-24 12:24:18,462 : INFO : running online LDA training, 20 topics, 20 passes over the supplied corpus of 490 documents, updating every 12000 documents, evaluating every ~490 documents, iterating 50x with a convergence threshold of 0.001000\n",
      "2021-08-24 12:24:18,466 : INFO : training LDA model using 3 processes\n",
      "2021-08-24 12:24:18,503 : INFO : PROGRESS: pass 0, dispatched chunk #0 = documents up to #490/490, outstanding queue size 1\n",
      "2021-08-24 12:24:19,584 : INFO : topic #4 (0.050): 0.005*\"airline\" + 0.005*\"billion\" + 0.005*\"people\" + 0.004*\"vaccine\" + 0.004*\"company\" + 0.004*\"demand\" + 0.004*\"million\" + 0.004*\"virus\" + 0.004*\"executive\" + 0.004*\"country\"\n",
      "2021-08-24 12:24:19,586 : INFO : topic #6 (0.050): 0.008*\"people\" + 0.006*\"cases\" + 0.006*\"government\" + 0.005*\"country\" + 0.005*\"vaccine\" + 0.005*\"industry\" + 0.004*\"countries\" + 0.004*\"million\" + 0.004*\"airline\" + 0.004*\"time\"\n",
      "2021-08-24 12:24:19,587 : INFO : topic #15 (0.050): 0.007*\"cases\" + 0.007*\"billion\" + 0.005*\"people\" + 0.005*\"million\" + 0.005*\"health\" + 0.004*\"government\" + 0.004*\"vaccine\" + 0.004*\"vaccinated\" + 0.004*\"week\" + 0.003*\"infections\"\n",
      "2021-08-24 12:24:19,590 : INFO : topic #19 (0.050): 0.008*\"people\" + 0.007*\"government\" + 0.005*\"cases\" + 0.005*\"delta\" + 0.005*\"week\" + 0.004*\"singapore\" + 0.004*\"vaccine\" + 0.004*\"health\" + 0.004*\"countries\" + 0.004*\"international\"\n",
      "2021-08-24 12:24:19,591 : INFO : topic #1 (0.050): 0.005*\"billion\" + 0.005*\"cases\" + 0.005*\"people\" + 0.004*\"million\" + 0.004*\"day\" + 0.004*\"industry\" + 0.004*\"coronavirus\" + 0.004*\"singapore\" + 0.004*\"airline\" + 0.003*\"says\"\n",
      "2021-08-24 12:24:19,592 : INFO : topic diff=2.035455, rho=1.000000\n",
      "2021-08-24 12:24:20,441 : INFO : -8.704 per-word bound, 416.9 perplexity estimate based on a held-out corpus of 490 documents with 118829 words\n",
      "2021-08-24 12:24:20,443 : INFO : PROGRESS: pass 1, dispatched chunk #0 = documents up to #490/490, outstanding queue size 1\n",
      "2021-08-24 12:24:21,359 : INFO : topic #14 (0.050): 0.006*\"eu\" + 0.005*\"international\" + 0.004*\"market\" + 0.004*\"billion\" + 0.004*\"industry\" + 0.004*\"airline\" + 0.004*\"business\" + 0.004*\"european\" + 0.004*\"demand\" + 0.004*\"group\"\n",
      "2021-08-24 12:24:21,359 : INFO : topic #16 (0.050): 0.015*\"max\" + 0.011*\"boeing\" + 0.007*\"people\" + 0.007*\"aircraft\" + 0.005*\"airline\" + 0.005*\"southwest\" + 0.005*\"plane\" + 0.005*\"cases\" + 0.004*\"group\" + 0.004*\"million\"\n",
      "2021-08-24 12:24:21,361 : INFO : topic #17 (0.050): 0.008*\"mexico\" + 0.007*\"people\" + 0.007*\"airline\" + 0.006*\"flight\" + 0.006*\"singapore\" + 0.006*\"faa\" + 0.005*\"flights\" + 0.005*\"aviation\" + 0.005*\"kong\" + 0.005*\"hong\"\n",
      "2021-08-24 12:24:21,365 : INFO : topic #0 (0.050): 0.007*\"vaccine\" + 0.005*\"world\" + 0.005*\"government\" + 0.005*\"people\" + 0.004*\"bloomberg\" + 0.004*\"industry\" + 0.004*\"says\" + 0.004*\"million\" + 0.004*\"countries\" + 0.004*\"country\"\n",
      "2021-08-24 12:24:21,373 : INFO : topic #8 (0.050): 0.006*\"miles\" + 0.006*\"airline\" + 0.006*\"aircraft\" + 0.005*\"airbus\" + 0.005*\"industry\" + 0.004*\"points\" + 0.004*\"billion\" + 0.004*\"fuel\" + 0.004*\"boeing\" + 0.004*\"business\"\n",
      "2021-08-24 12:24:21,377 : INFO : topic diff=1.936843, rho=0.686398\n",
      "2021-08-24 12:24:22,186 : INFO : -8.268 per-word bound, 308.3 perplexity estimate based on a held-out corpus of 490 documents with 118829 words\n",
      "2021-08-24 12:24:22,188 : INFO : PROGRESS: pass 2, dispatched chunk #0 = documents up to #490/490, outstanding queue size 1\n",
      "2021-08-24 12:24:22,706 : INFO : topic #1 (0.050): 0.008*\"billion\" + 0.007*\"says\" + 0.006*\"industry\" + 0.005*\"recovery\" + 0.005*\"india\" + 0.005*\"indigo\" + 0.005*\"tourism\" + 0.005*\"cyprus\" + 0.004*\"france\" + 0.004*\"day\"\n",
      "2021-08-24 12:24:22,707 : INFO : topic #18 (0.050): 0.008*\"space\" + 0.008*\"flight\" + 0.006*\"virgin\" + 0.006*\"people\" + 0.005*\"president\" + 0.005*\"biden\" + 0.005*\"house\" + 0.005*\"airline\" + 0.005*\"galactic\" + 0.004*\"company\"\n",
      "2021-08-24 12:24:22,708 : INFO : topic #3 (0.050): 0.008*\"billion\" + 0.007*\"international\" + 0.007*\"group\" + 0.006*\"carriers\" + 0.005*\"government\" + 0.005*\"capacity\" + 0.005*\"airport\" + 0.005*\"week\" + 0.005*\"europe\" + 0.005*\"countries\"\n",
      "2021-08-24 12:24:22,710 : INFO : topic #0 (0.050): 0.006*\"vaccine\" + 0.006*\"world\" + 0.005*\"says\" + 0.005*\"people\" + 0.005*\"government\" + 0.004*\"industry\" + 0.004*\"bloomberg\" + 0.004*\"france\" + 0.004*\"including\" + 0.004*\"space\"\n",
      "2021-08-24 12:24:22,712 : INFO : topic #15 (0.050): 0.007*\"billion\" + 0.006*\"city\" + 0.006*\"cases\" + 0.005*\"people\" + 0.005*\"million\" + 0.005*\"infections\" + 0.005*\"india\" + 0.004*\"airport\" + 0.004*\"vaccinated\" + 0.004*\"mexico\"\n",
      "2021-08-24 12:24:22,713 : INFO : topic diff=1.923554, rho=0.565912\n",
      "2021-08-24 12:24:23,354 : INFO : -8.059 per-word bound, 266.7 perplexity estimate based on a held-out corpus of 490 documents with 118829 words\n",
      "2021-08-24 12:24:23,355 : INFO : PROGRESS: pass 3, dispatched chunk #0 = documents up to #490/490, outstanding queue size 1\n",
      "2021-08-24 12:24:24,138 : INFO : topic #9 (0.050): 0.014*\"cases\" + 0.010*\"vaccine\" + 0.009*\"million\" + 0.008*\"people\" + 0.008*\"health\" + 0.007*\"reported\" + 0.007*\"state\" + 0.006*\"week\" + 0.006*\"day\" + 0.006*\"coronavirus\"\n",
      "2021-08-24 12:24:24,140 : INFO : topic #19 (0.050): 0.012*\"singapore\" + 0.009*\"belarus\" + 0.008*\"people\" + 0.008*\"delta\" + 0.007*\"quarantine\" + 0.007*\"alexander\" + 0.006*\"monday\" + 0.006*\"international\" + 0.006*\"flight\" + 0.006*\"government\"\n",
      "2021-08-24 12:24:24,142 : INFO : topic #6 (0.050): 0.008*\"people\" + 0.008*\"time\" + 0.006*\"industry\" + 0.006*\"government\" + 0.005*\"business\" + 0.005*\"airline\" + 0.005*\"like\" + 0.005*\"case\" + 0.004*\"minister\" + 0.004*\"restrictions\"\n",
      "2021-08-24 12:24:24,145 : INFO : topic #4 (0.050): 0.015*\"billion\" + 0.010*\"airline\" + 0.009*\"qantas\" + 0.009*\"company\" + 0.007*\"business\" + 0.007*\"cathay\" + 0.006*\"demand\" + 0.006*\"carrier\" + 0.006*\"loss\" + 0.005*\"million\"\n",
      "2021-08-24 12:24:24,146 : INFO : topic #1 (0.050): 0.009*\"billion\" + 0.007*\"says\" + 0.006*\"industry\" + 0.006*\"recovery\" + 0.006*\"india\" + 0.006*\"tourism\" + 0.006*\"indigo\" + 0.006*\"france\" + 0.005*\"cyprus\" + 0.005*\"klm\"\n",
      "2021-08-24 12:24:24,148 : INFO : topic diff=1.680038, rho=0.492515\n",
      "2021-08-24 12:24:24,859 : INFO : -7.941 per-word bound, 245.7 perplexity estimate based on a held-out corpus of 490 documents with 118829 words\n",
      "2021-08-24 12:24:24,860 : INFO : PROGRESS: pass 4, dispatched chunk #0 = documents up to #490/490, outstanding queue size 1\n",
      "2021-08-24 12:24:25,592 : INFO : topic #8 (0.050): 0.012*\"airbus\" + 0.010*\"aircraft\" + 0.010*\"miles\" + 0.008*\"airline\" + 0.008*\"lufthansa\" + 0.007*\"hydrogen\" + 0.006*\"points\" + 0.006*\"planes\" + 0.006*\"billion\" + 0.006*\"boeing\"\n",
      "2021-08-24 12:24:25,596 : INFO : topic #4 (0.050): 0.017*\"billion\" + 0.011*\"airline\" + 0.009*\"qantas\" + 0.009*\"company\" + 0.008*\"business\" + 0.007*\"cathay\" + 0.006*\"loss\" + 0.006*\"carrier\" + 0.006*\"demand\" + 0.006*\"shares\"\n",
      "2021-08-24 12:24:25,605 : INFO : topic #11 (0.050): 0.014*\"vaccine\" + 0.012*\"government\" + 0.011*\"johnson\" + 0.009*\"people\" + 0.009*\"vaccinated\" + 0.009*\"health\" + 0.009*\"cases\" + 0.008*\"restrictions\" + 0.007*\"country\" + 0.007*\"july\"\n",
      "2021-08-24 12:24:25,609 : INFO : topic #19 (0.050): 0.013*\"singapore\" + 0.009*\"belarus\" + 0.008*\"people\" + 0.008*\"delta\" + 0.007*\"quarantine\" + 0.007*\"alexander\" + 0.007*\"monday\" + 0.007*\"testing\" + 0.006*\"international\" + 0.006*\"flight\"\n",
      "2021-08-24 12:24:25,612 : INFO : topic #0 (0.050): 0.007*\"says\" + 0.006*\"world\" + 0.005*\"vaccine\" + 0.005*\"industry\" + 0.005*\"people\" + 0.004*\"government\" + 0.004*\"bloomberg\" + 0.004*\"business\" + 0.004*\"bastian\" + 0.004*\"travelers\"\n",
      "2021-08-24 12:24:25,615 : INFO : topic diff=1.378798, rho=0.441834\n",
      "2021-08-24 12:24:26,236 : INFO : -7.869 per-word bound, 233.7 perplexity estimate based on a held-out corpus of 490 documents with 118829 words\n",
      "2021-08-24 12:24:26,237 : INFO : PROGRESS: pass 5, dispatched chunk #0 = documents up to #490/490, outstanding queue size 1\n",
      "2021-08-24 12:24:26,915 : INFO : topic #6 (0.050): 0.009*\"time\" + 0.009*\"people\" + 0.007*\"industry\" + 0.006*\"government\" + 0.005*\"case\" + 0.005*\"business\" + 0.005*\"like\" + 0.005*\"airline\" + 0.005*\"white\" + 0.005*\"gold\"\n"
     ]
    },
    {
     "name": "stderr",
     "output_type": "stream",
     "text": [
      "2021-08-24 12:24:26,916 : INFO : topic #19 (0.050): 0.013*\"singapore\" + 0.009*\"belarus\" + 0.008*\"delta\" + 0.008*\"people\" + 0.008*\"quarantine\" + 0.008*\"alexander\" + 0.008*\"testing\" + 0.007*\"monday\" + 0.007*\"international\" + 0.006*\"flight\"\n",
      "2021-08-24 12:24:26,917 : INFO : topic #15 (0.050): 0.009*\"city\" + 0.007*\"billion\" + 0.007*\"airport\" + 0.006*\"mexico\" + 0.005*\"million\" + 0.005*\"people\" + 0.005*\"india\" + 0.005*\"infections\" + 0.004*\"debt\" + 0.004*\"wave\"\n",
      "2021-08-24 12:24:26,919 : INFO : topic #7 (0.050): 0.019*\"million\" + 0.014*\"airline\" + 0.011*\"lufthansa\" + 0.009*\"norwegian\" + 0.009*\"billion\" + 0.008*\"company\" + 0.008*\"euros\" + 0.008*\"people\" + 0.007*\"aid\" + 0.006*\"carrier\"\n",
      "2021-08-24 12:24:26,920 : INFO : topic #4 (0.050): 0.018*\"billion\" + 0.011*\"airline\" + 0.009*\"qantas\" + 0.009*\"company\" + 0.008*\"business\" + 0.007*\"cathay\" + 0.006*\"loss\" + 0.006*\"carrier\" + 0.006*\"shares\" + 0.006*\"international\"\n",
      "2021-08-24 12:24:26,922 : INFO : topic diff=1.100098, rho=0.404144\n",
      "2021-08-24 12:24:27,594 : INFO : -7.821 per-word bound, 226.1 perplexity estimate based on a held-out corpus of 490 documents with 118829 words\n",
      "2021-08-24 12:24:27,594 : INFO : PROGRESS: pass 6, dispatched chunk #0 = documents up to #490/490, outstanding queue size 1\n",
      "2021-08-24 12:24:28,277 : INFO : topic #4 (0.050): 0.020*\"billion\" + 0.012*\"airline\" + 0.009*\"qantas\" + 0.009*\"company\" + 0.008*\"business\" + 0.007*\"cathay\" + 0.007*\"loss\" + 0.007*\"carrier\" + 0.006*\"shares\" + 0.006*\"international\"\n",
      "2021-08-24 12:24:28,278 : INFO : topic #5 (0.050): 0.046*\"oil\" + 0.016*\"trading\" + 0.016*\"crude\" + 0.015*\"market\" + 0.014*\"demand\" + 0.011*\"barrel\" + 0.010*\"prices\" + 0.009*\"energy\" + 0.008*\"fuel\" + 0.008*\"futures\"\n",
      "2021-08-24 12:24:28,279 : INFO : topic #19 (0.050): 0.013*\"singapore\" + 0.009*\"belarus\" + 0.009*\"testing\" + 0.009*\"delta\" + 0.008*\"quarantine\" + 0.008*\"alexander\" + 0.008*\"people\" + 0.007*\"international\" + 0.007*\"monday\" + 0.006*\"flight\"\n",
      "2021-08-24 12:24:28,281 : INFO : topic #1 (0.050): 0.008*\"says\" + 0.008*\"billion\" + 0.008*\"france\" + 0.007*\"tourism\" + 0.007*\"india\" + 0.007*\"industry\" + 0.006*\"indigo\" + 0.006*\"recovery\" + 0.006*\"klm\" + 0.006*\"cyprus\"\n",
      "2021-08-24 12:24:28,282 : INFO : topic #2 (0.050): 0.012*\"belarus\" + 0.009*\"eu\" + 0.006*\"canada\" + 0.006*\"european\" + 0.006*\"government\" + 0.006*\"ryanair\" + 0.005*\"belarusian\" + 0.004*\"plane\" + 0.004*\"international\" + 0.004*\"jet\"\n",
      "2021-08-24 12:24:28,284 : INFO : topic diff=0.868384, rho=0.374700\n",
      "2021-08-24 12:24:29,085 : INFO : -7.788 per-word bound, 221.0 perplexity estimate based on a held-out corpus of 490 documents with 118829 words\n",
      "2021-08-24 12:24:29,087 : INFO : PROGRESS: pass 7, dispatched chunk #0 = documents up to #490/490, outstanding queue size 1\n",
      "2021-08-24 12:24:29,725 : INFO : topic #19 (0.050): 0.013*\"singapore\" + 0.010*\"testing\" + 0.009*\"belarus\" + 0.009*\"delta\" + 0.008*\"alexander\" + 0.008*\"quarantine\" + 0.008*\"people\" + 0.007*\"international\" + 0.007*\"monday\" + 0.006*\"statement\"\n",
      "2021-08-24 12:24:29,729 : INFO : topic #18 (0.050): 0.014*\"space\" + 0.011*\"flight\" + 0.010*\"virgin\" + 0.009*\"biden\" + 0.007*\"president\" + 0.007*\"galactic\" + 0.006*\"branson\" + 0.006*\"house\" + 0.006*\"passengers\" + 0.005*\"airline\"\n",
      "2021-08-24 12:24:29,737 : INFO : topic #14 (0.050): 0.010*\"eu\" + 0.009*\"emissions\" + 0.006*\"industry\" + 0.006*\"market\" + 0.005*\"carbon\" + 0.005*\"flights\" + 0.005*\"fuel\" + 0.005*\"european\" + 0.005*\"international\" + 0.004*\"global\"\n",
      "2021-08-24 12:24:29,743 : INFO : topic #6 (0.050): 0.010*\"time\" + 0.009*\"people\" + 0.007*\"industry\" + 0.006*\"government\" + 0.006*\"case\" + 0.006*\"like\" + 0.006*\"business\" + 0.005*\"airline\" + 0.005*\"white\" + 0.005*\"gold\"\n",
      "2021-08-24 12:24:29,761 : INFO : topic #7 (0.050): 0.020*\"million\" + 0.015*\"airline\" + 0.014*\"lufthansa\" + 0.010*\"billion\" + 0.009*\"norwegian\" + 0.009*\"euros\" + 0.009*\"aid\" + 0.008*\"company\" + 0.008*\"people\" + 0.007*\"carrier\"\n",
      "2021-08-24 12:24:29,765 : INFO : topic diff=0.685131, rho=0.350877\n",
      "2021-08-24 12:24:30,788 : INFO : -7.763 per-word bound, 217.3 perplexity estimate based on a held-out corpus of 490 documents with 118829 words\n",
      "2021-08-24 12:24:30,789 : INFO : PROGRESS: pass 8, dispatched chunk #0 = documents up to #490/490, outstanding queue size 1\n",
      "2021-08-24 12:24:31,528 : INFO : topic #14 (0.050): 0.010*\"eu\" + 0.009*\"emissions\" + 0.006*\"industry\" + 0.006*\"carbon\" + 0.006*\"market\" + 0.005*\"flights\" + 0.005*\"fuel\" + 0.005*\"european\" + 0.005*\"international\" + 0.005*\"aviation\"\n",
      "2021-08-24 12:24:31,529 : INFO : topic #18 (0.050): 0.015*\"space\" + 0.011*\"flight\" + 0.010*\"virgin\" + 0.009*\"biden\" + 0.008*\"president\" + 0.007*\"galactic\" + 0.006*\"branson\" + 0.006*\"passengers\" + 0.006*\"house\" + 0.005*\"airline\"\n",
      "2021-08-24 12:24:31,530 : INFO : topic #6 (0.050): 0.010*\"time\" + 0.009*\"people\" + 0.007*\"industry\" + 0.006*\"government\" + 0.006*\"case\" + 0.006*\"like\" + 0.006*\"airline\" + 0.006*\"business\" + 0.005*\"white\" + 0.005*\"gold\"\n",
      "2021-08-24 12:24:31,532 : INFO : topic #10 (0.050): 0.010*\"airline\" + 0.009*\"flights\" + 0.008*\"american\" + 0.007*\"delta\" + 0.006*\"flight\" + 0.006*\"united\" + 0.006*\"industry\" + 0.006*\"summer\" + 0.006*\"demand\" + 0.005*\"executive\"\n",
      "2021-08-24 12:24:31,536 : INFO : topic #15 (0.050): 0.009*\"city\" + 0.008*\"airport\" + 0.007*\"billion\" + 0.006*\"mexico\" + 0.005*\"million\" + 0.005*\"india\" + 0.005*\"debt\" + 0.005*\"people\" + 0.005*\"infections\" + 0.004*\"wave\"\n",
      "2021-08-24 12:24:31,536 : INFO : topic diff=0.543444, rho=0.331088\n",
      "2021-08-24 12:24:32,331 : INFO : -7.744 per-word bound, 214.4 perplexity estimate based on a held-out corpus of 490 documents with 118829 words\n",
      "2021-08-24 12:24:32,331 : INFO : PROGRESS: pass 9, dispatched chunk #0 = documents up to #490/490, outstanding queue size 1\n",
      "2021-08-24 12:24:33,115 : INFO : topic #9 (0.050): 0.015*\"cases\" + 0.012*\"vaccine\" + 0.010*\"million\" + 0.009*\"people\" + 0.009*\"health\" + 0.007*\"state\" + 0.007*\"reported\" + 0.006*\"deaths\" + 0.006*\"day\" + 0.006*\"week\"\n",
      "2021-08-24 12:24:33,117 : INFO : topic #16 (0.050): 0.031*\"max\" + 0.031*\"boeing\" + 0.021*\"aircraft\" + 0.015*\"jets\" + 0.012*\"planes\" + 0.010*\"united\" + 0.010*\"plane\" + 0.009*\"airline\" + 0.007*\"southwest\" + 0.007*\"fly\"\n",
      "2021-08-24 12:24:33,118 : INFO : topic #19 (0.050): 0.012*\"singapore\" + 0.012*\"testing\" + 0.010*\"delta\" + 0.009*\"belarus\" + 0.009*\"alexander\" + 0.008*\"quarantine\" + 0.008*\"international\" + 0.007*\"people\" + 0.007*\"monday\" + 0.007*\"statement\"\n",
      "2021-08-24 12:24:33,120 : INFO : topic #7 (0.050): 0.021*\"million\" + 0.016*\"airline\" + 0.016*\"lufthansa\" + 0.013*\"billion\" + 0.010*\"euros\" + 0.010*\"aid\" + 0.009*\"norwegian\" + 0.009*\"company\" + 0.008*\"carrier\" + 0.008*\"government\"\n",
      "2021-08-24 12:24:33,122 : INFO : topic #5 (0.050): 0.053*\"oil\" + 0.021*\"trading\" + 0.017*\"market\" + 0.016*\"crude\" + 0.016*\"demand\" + 0.014*\"fuel\" + 0.012*\"energy\" + 0.011*\"barrel\" + 0.011*\"prices\" + 0.009*\"traders\"\n",
      "2021-08-24 12:24:33,125 : INFO : topic diff=0.434974, rho=0.314308\n",
      "2021-08-24 12:24:34,078 : INFO : -7.729 per-word bound, 212.2 perplexity estimate based on a held-out corpus of 490 documents with 118829 words\n",
      "2021-08-24 12:24:34,079 : INFO : PROGRESS: pass 10, dispatched chunk #0 = documents up to #490/490, outstanding queue size 1\n",
      "2021-08-24 12:24:34,821 : INFO : topic #11 (0.050): 0.015*\"government\" + 0.012*\"johnson\" + 0.011*\"vaccine\" + 0.011*\"vaccinated\" + 0.010*\"people\" + 0.009*\"restrictions\" + 0.008*\"health\" + 0.008*\"rules\" + 0.007*\"july\" + 0.007*\"country\"\n",
      "2021-08-24 12:24:34,822 : INFO : topic #6 (0.050): 0.011*\"time\" + 0.009*\"people\" + 0.007*\"industry\" + 0.006*\"case\" + 0.006*\"government\" + 0.006*\"airline\" + 0.006*\"white\" + 0.006*\"like\" + 0.006*\"business\" + 0.005*\"gold\"\n",
      "2021-08-24 12:24:34,823 : INFO : topic #0 (0.050): 0.010*\"says\" + 0.007*\"world\" + 0.006*\"business\" + 0.005*\"people\" + 0.005*\"bastian\" + 0.005*\"industry\" + 0.004*\"bloomberg\" + 0.004*\"economic\" + 0.004*\"like\" + 0.004*\"country\"\n",
      "2021-08-24 12:24:34,824 : INFO : topic #17 (0.050): 0.027*\"singapore\" + 0.022*\"hong\" + 0.021*\"kong\" + 0.020*\"mexico\" + 0.014*\"bubble\" + 0.011*\"people\" + 0.010*\"flights\" + 0.010*\"flight\" + 0.010*\"faa\" + 0.008*\"federal\"\n",
      "2021-08-24 12:24:34,826 : INFO : topic #4 (0.050): 0.023*\"billion\" + 0.012*\"airline\" + 0.009*\"company\" + 0.009*\"qantas\" + 0.007*\"business\" + 0.007*\"cathay\" + 0.007*\"international\" + 0.007*\"loss\" + 0.007*\"shares\" + 0.007*\"carrier\"\n"
     ]
    },
    {
     "name": "stderr",
     "output_type": "stream",
     "text": [
      "2021-08-24 12:24:34,828 : INFO : topic diff=0.352099, rho=0.299846\n",
      "2021-08-24 12:24:35,507 : INFO : -7.717 per-word bound, 210.4 perplexity estimate based on a held-out corpus of 490 documents with 118829 words\n",
      "2021-08-24 12:24:35,508 : INFO : PROGRESS: pass 11, dispatched chunk #0 = documents up to #490/490, outstanding queue size 1\n",
      "2021-08-24 12:24:36,128 : INFO : topic #3 (0.050): 0.010*\"international\" + 0.009*\"countries\" + 0.008*\"carriers\" + 0.007*\"europe\" + 0.007*\"capacity\" + 0.007*\"airport\" + 0.006*\"group\" + 0.006*\"summer\" + 0.006*\"levels\" + 0.006*\"week\"\n",
      "2021-08-24 12:24:36,129 : INFO : topic #7 (0.050): 0.021*\"million\" + 0.017*\"lufthansa\" + 0.017*\"airline\" + 0.015*\"billion\" + 0.011*\"euros\" + 0.010*\"aid\" + 0.009*\"carrier\" + 0.009*\"company\" + 0.009*\"norwegian\" + 0.009*\"government\"\n",
      "2021-08-24 12:24:36,131 : INFO : topic #14 (0.050): 0.011*\"eu\" + 0.010*\"emissions\" + 0.007*\"carbon\" + 0.007*\"industry\" + 0.006*\"fuel\" + 0.006*\"market\" + 0.005*\"flights\" + 0.005*\"aviation\" + 0.005*\"european\" + 0.005*\"global\"\n",
      "2021-08-24 12:24:36,138 : INFO : topic #4 (0.050): 0.024*\"billion\" + 0.012*\"airline\" + 0.009*\"company\" + 0.009*\"qantas\" + 0.007*\"business\" + 0.007*\"international\" + 0.007*\"loss\" + 0.007*\"cathay\" + 0.007*\"shares\" + 0.007*\"million\"\n",
      "2021-08-24 12:24:36,139 : INFO : topic #17 (0.050): 0.029*\"singapore\" + 0.023*\"hong\" + 0.023*\"kong\" + 0.020*\"mexico\" + 0.014*\"bubble\" + 0.012*\"people\" + 0.010*\"flights\" + 0.010*\"flight\" + 0.010*\"faa\" + 0.008*\"federal\"\n",
      "2021-08-24 12:24:36,140 : INFO : topic diff=0.288656, rho=0.287213\n",
      "2021-08-24 12:24:36,806 : INFO : -7.706 per-word bound, 208.8 perplexity estimate based on a held-out corpus of 490 documents with 118829 words\n",
      "2021-08-24 12:24:36,808 : INFO : PROGRESS: pass 12, dispatched chunk #0 = documents up to #490/490, outstanding queue size 1\n",
      "2021-08-24 12:24:37,419 : INFO : topic #2 (0.050): 0.015*\"belarus\" + 0.010*\"eu\" + 0.007*\"canada\" + 0.007*\"european\" + 0.007*\"ryanair\" + 0.006*\"belarusian\" + 0.006*\"government\" + 0.005*\"minsk\" + 0.005*\"plane\" + 0.005*\"flight\"\n",
      "2021-08-24 12:24:37,420 : INFO : topic #0 (0.050): 0.011*\"says\" + 0.007*\"world\" + 0.006*\"business\" + 0.005*\"people\" + 0.005*\"bastian\" + 0.005*\"industry\" + 0.005*\"bloomberg\" + 0.004*\"economic\" + 0.004*\"like\" + 0.004*\"country\"\n",
      "2021-08-24 12:24:37,421 : INFO : topic #15 (0.050): 0.010*\"city\" + 0.008*\"airport\" + 0.007*\"debt\" + 0.006*\"mexico\" + 0.006*\"billion\" + 0.006*\"india\" + 0.005*\"wave\" + 0.005*\"million\" + 0.005*\"bangkok\" + 0.005*\"businesses\"\n",
      "2021-08-24 12:24:37,422 : INFO : topic #16 (0.050): 0.032*\"boeing\" + 0.031*\"max\" + 0.023*\"aircraft\" + 0.015*\"jets\" + 0.013*\"planes\" + 0.011*\"united\" + 0.010*\"plane\" + 0.009*\"airline\" + 0.008*\"order\" + 0.008*\"company\"\n",
      "2021-08-24 12:24:37,424 : INFO : topic #5 (0.050): 0.057*\"oil\" + 0.024*\"trading\" + 0.018*\"fuel\" + 0.017*\"market\" + 0.016*\"demand\" + 0.015*\"crude\" + 0.013*\"energy\" + 0.013*\"jet\" + 0.012*\"traders\" + 0.011*\"prices\"\n",
      "2021-08-24 12:24:37,425 : INFO : topic diff=0.239772, rho=0.276053\n",
      "2021-08-24 12:24:38,336 : INFO : -7.697 per-word bound, 207.5 perplexity estimate based on a held-out corpus of 490 documents with 118829 words\n",
      "2021-08-24 12:24:38,337 : INFO : PROGRESS: pass 13, dispatched chunk #0 = documents up to #490/490, outstanding queue size 1\n",
      "2021-08-24 12:24:38,851 : INFO : topic #9 (0.050): 0.016*\"cases\" + 0.012*\"vaccine\" + 0.010*\"million\" + 0.009*\"people\" + 0.009*\"health\" + 0.007*\"state\" + 0.007*\"reported\" + 0.006*\"deaths\" + 0.006*\"day\" + 0.006*\"week\"\n",
      "2021-08-24 12:24:38,853 : INFO : topic #12 (0.050): 0.011*\"flight\" + 0.011*\"company\" + 0.008*\"letter\" + 0.008*\"employees\" + 0.007*\"alaska\" + 0.006*\"global\" + 0.006*\"american\" + 0.006*\"standards\" + 0.006*\"staff\" + 0.006*\"million\"\n",
      "2021-08-24 12:24:38,854 : INFO : topic #6 (0.050): 0.011*\"time\" + 0.010*\"people\" + 0.007*\"industry\" + 0.006*\"case\" + 0.006*\"airline\" + 0.006*\"white\" + 0.006*\"government\" + 0.006*\"like\" + 0.006*\"business\" + 0.005*\"meeting\"\n",
      "2021-08-24 12:24:38,855 : INFO : topic #15 (0.050): 0.010*\"city\" + 0.008*\"airport\" + 0.007*\"debt\" + 0.007*\"mexico\" + 0.006*\"billion\" + 0.006*\"india\" + 0.005*\"wave\" + 0.005*\"bangkok\" + 0.005*\"businesses\" + 0.005*\"million\"\n",
      "2021-08-24 12:24:38,857 : INFO : topic #13 (0.050): 0.018*\"house\" + 0.017*\"airline\" + 0.016*\"trump\" + 0.015*\"aid\" + 0.014*\"pelosi\" + 0.013*\"stimulus\" + 0.012*\"relief\" + 0.011*\"package\" + 0.009*\"congress\" + 0.009*\"president\"\n",
      "2021-08-24 12:24:38,859 : INFO : topic diff=0.201798, rho=0.266100\n",
      "2021-08-24 12:24:39,520 : INFO : -7.689 per-word bound, 206.4 perplexity estimate based on a held-out corpus of 490 documents with 118829 words\n",
      "2021-08-24 12:24:39,521 : INFO : PROGRESS: pass 14, dispatched chunk #0 = documents up to #490/490, outstanding queue size 1\n",
      "2021-08-24 12:24:40,117 : INFO : topic #18 (0.050): 0.016*\"space\" + 0.012*\"flight\" + 0.010*\"virgin\" + 0.010*\"biden\" + 0.008*\"president\" + 0.008*\"galactic\" + 0.007*\"branson\" + 0.006*\"passengers\" + 0.005*\"trump\" + 0.005*\"house\"\n",
      "2021-08-24 12:24:40,118 : INFO : topic #13 (0.050): 0.018*\"house\" + 0.018*\"airline\" + 0.016*\"trump\" + 0.016*\"aid\" + 0.014*\"pelosi\" + 0.013*\"stimulus\" + 0.012*\"relief\" + 0.011*\"package\" + 0.009*\"congress\" + 0.009*\"president\"\n",
      "2021-08-24 12:24:40,119 : INFO : topic #15 (0.050): 0.010*\"city\" + 0.008*\"airport\" + 0.007*\"debt\" + 0.007*\"mexico\" + 0.006*\"billion\" + 0.006*\"india\" + 0.005*\"bangkok\" + 0.005*\"wave\" + 0.005*\"businesses\" + 0.005*\"million\"\n",
      "2021-08-24 12:24:40,121 : INFO : topic #11 (0.050): 0.016*\"government\" + 0.012*\"johnson\" + 0.011*\"vaccinated\" + 0.010*\"people\" + 0.010*\"vaccine\" + 0.009*\"restrictions\" + 0.008*\"rules\" + 0.008*\"july\" + 0.007*\"health\" + 0.007*\"quarantine\"\n",
      "2021-08-24 12:24:40,124 : INFO : topic #2 (0.050): 0.016*\"belarus\" + 0.010*\"eu\" + 0.007*\"european\" + 0.007*\"canada\" + 0.007*\"ryanair\" + 0.006*\"belarusian\" + 0.006*\"government\" + 0.005*\"minsk\" + 0.005*\"plane\" + 0.005*\"flight\"\n",
      "2021-08-24 12:24:40,126 : INFO : topic diff=0.171966, rho=0.257151\n",
      "2021-08-24 12:24:40,767 : INFO : -7.682 per-word bound, 205.4 perplexity estimate based on a held-out corpus of 490 documents with 118829 words\n",
      "2021-08-24 12:24:40,769 : INFO : PROGRESS: pass 15, dispatched chunk #0 = documents up to #490/490, outstanding queue size 1\n",
      "2021-08-24 12:24:41,385 : INFO : topic #7 (0.050): 0.020*\"million\" + 0.018*\"lufthansa\" + 0.018*\"airline\" + 0.018*\"billion\" + 0.012*\"euros\" + 0.011*\"carrier\" + 0.010*\"government\" + 0.010*\"aid\" + 0.010*\"company\" + 0.009*\"norwegian\"\n",
      "2021-08-24 12:24:41,386 : INFO : topic #16 (0.050): 0.033*\"boeing\" + 0.031*\"max\" + 0.024*\"aircraft\" + 0.016*\"jets\" + 0.013*\"planes\" + 0.012*\"united\" + 0.011*\"plane\" + 0.009*\"airline\" + 0.008*\"order\" + 0.008*\"company\"\n",
      "2021-08-24 12:24:41,387 : INFO : topic #12 (0.050): 0.011*\"flight\" + 0.011*\"company\" + 0.008*\"letter\" + 0.008*\"employees\" + 0.007*\"alaska\" + 0.006*\"american\" + 0.006*\"global\" + 0.006*\"staff\" + 0.006*\"standards\" + 0.006*\"million\"\n",
      "2021-08-24 12:24:41,389 : INFO : topic #0 (0.050): 0.011*\"says\" + 0.007*\"world\" + 0.006*\"business\" + 0.005*\"people\" + 0.005*\"bastian\" + 0.005*\"economic\" + 0.005*\"industry\" + 0.005*\"bloomberg\" + 0.005*\"qatar\" + 0.004*\"like\"\n",
      "2021-08-24 12:24:41,391 : INFO : topic #15 (0.050): 0.010*\"city\" + 0.008*\"airport\" + 0.008*\"debt\" + 0.007*\"mexico\" + 0.006*\"billion\" + 0.006*\"bangkok\" + 0.006*\"india\" + 0.006*\"wave\" + 0.005*\"businesses\" + 0.005*\"thailand\"\n",
      "2021-08-24 12:24:41,393 : INFO : topic diff=0.148331, rho=0.249048\n",
      "2021-08-24 12:24:42,091 : INFO : -7.676 per-word bound, 204.5 perplexity estimate based on a held-out corpus of 490 documents with 118829 words\n",
      "2021-08-24 12:24:42,093 : INFO : PROGRESS: pass 16, dispatched chunk #0 = documents up to #490/490, outstanding queue size 1\n",
      "2021-08-24 12:24:42,660 : INFO : topic #17 (0.050): 0.034*\"singapore\" + 0.028*\"hong\" + 0.028*\"kong\" + 0.020*\"mexico\" + 0.015*\"bubble\" + 0.012*\"people\" + 0.010*\"flights\" + 0.010*\"flight\" + 0.009*\"faa\" + 0.009*\"cathay\"\n",
      "2021-08-24 12:24:42,661 : INFO : topic #9 (0.050): 0.016*\"cases\" + 0.013*\"vaccine\" + 0.010*\"million\" + 0.009*\"people\" + 0.009*\"health\" + 0.007*\"state\" + 0.007*\"reported\" + 0.006*\"deaths\" + 0.006*\"day\" + 0.006*\"week\"\n",
      "2021-08-24 12:24:42,662 : INFO : topic #12 (0.050): 0.011*\"flight\" + 0.011*\"company\" + 0.008*\"letter\" + 0.008*\"employees\" + 0.007*\"alaska\" + 0.006*\"american\" + 0.006*\"staff\" + 0.006*\"global\" + 0.006*\"standards\" + 0.006*\"million\"\n"
     ]
    },
    {
     "name": "stderr",
     "output_type": "stream",
     "text": [
      "2021-08-24 12:24:42,663 : INFO : topic #18 (0.050): 0.016*\"space\" + 0.012*\"flight\" + 0.010*\"virgin\" + 0.010*\"biden\" + 0.008*\"president\" + 0.008*\"galactic\" + 0.007*\"branson\" + 0.006*\"passengers\" + 0.005*\"trump\" + 0.005*\"house\"\n",
      "2021-08-24 12:24:42,664 : INFO : topic #7 (0.050): 0.020*\"million\" + 0.019*\"billion\" + 0.019*\"lufthansa\" + 0.018*\"airline\" + 0.012*\"euros\" + 0.011*\"carrier\" + 0.011*\"government\" + 0.010*\"company\" + 0.010*\"aid\" + 0.009*\"norwegian\"\n",
      "2021-08-24 12:24:42,665 : INFO : topic diff=0.129337, rho=0.241666\n",
      "2021-08-24 12:24:43,291 : INFO : -7.671 per-word bound, 203.8 perplexity estimate based on a held-out corpus of 490 documents with 118829 words\n",
      "2021-08-24 12:24:43,292 : INFO : PROGRESS: pass 17, dispatched chunk #0 = documents up to #490/490, outstanding queue size 1\n",
      "2021-08-24 12:24:43,976 : INFO : topic #16 (0.050): 0.033*\"boeing\" + 0.030*\"max\" + 0.025*\"aircraft\" + 0.016*\"jets\" + 0.014*\"planes\" + 0.012*\"united\" + 0.011*\"plane\" + 0.009*\"airline\" + 0.008*\"order\" + 0.008*\"company\"\n",
      "2021-08-24 12:24:43,977 : INFO : topic #7 (0.050): 0.020*\"million\" + 0.020*\"billion\" + 0.019*\"lufthansa\" + 0.018*\"airline\" + 0.012*\"euros\" + 0.012*\"carrier\" + 0.011*\"government\" + 0.010*\"company\" + 0.010*\"aid\" + 0.008*\"norwegian\"\n",
      "2021-08-24 12:24:43,979 : INFO : topic #14 (0.050): 0.011*\"emissions\" + 0.011*\"eu\" + 0.008*\"carbon\" + 0.007*\"industry\" + 0.006*\"fuel\" + 0.006*\"aviation\" + 0.006*\"market\" + 0.006*\"flights\" + 0.005*\"global\" + 0.005*\"transport\"\n",
      "2021-08-24 12:24:43,980 : INFO : topic #1 (0.050): 0.011*\"tourism\" + 0.010*\"france\" + 0.010*\"norway\" + 0.010*\"says\" + 0.008*\"indigo\" + 0.007*\"electric\" + 0.007*\"klm\" + 0.007*\"cyprus\" + 0.007*\"india\" + 0.006*\"industry\"\n",
      "2021-08-24 12:24:43,981 : INFO : topic #5 (0.050): 0.060*\"oil\" + 0.027*\"trading\" + 0.022*\"fuel\" + 0.017*\"market\" + 0.017*\"jet\" + 0.016*\"shell\" + 0.015*\"traders\" + 0.015*\"demand\" + 0.015*\"energy\" + 0.015*\"crude\"\n",
      "2021-08-24 12:24:43,983 : INFO : topic diff=0.113892, rho=0.234904\n",
      "2021-08-24 12:24:44,675 : INFO : -7.666 per-word bound, 203.1 perplexity estimate based on a held-out corpus of 490 documents with 118829 words\n",
      "2021-08-24 12:24:44,676 : INFO : PROGRESS: pass 18, dispatched chunk #0 = documents up to #490/490, outstanding queue size 1\n",
      "2021-08-24 12:24:45,399 : INFO : topic #14 (0.050): 0.011*\"emissions\" + 0.011*\"eu\" + 0.008*\"carbon\" + 0.007*\"industry\" + 0.006*\"fuel\" + 0.006*\"aviation\" + 0.006*\"market\" + 0.006*\"flights\" + 0.005*\"global\" + 0.005*\"transport\"\n",
      "2021-08-24 12:24:45,400 : INFO : topic #0 (0.050): 0.012*\"says\" + 0.008*\"world\" + 0.007*\"business\" + 0.005*\"people\" + 0.005*\"bastian\" + 0.005*\"qatar\" + 0.005*\"economic\" + 0.005*\"bloomberg\" + 0.005*\"industry\" + 0.005*\"like\"\n",
      "2021-08-24 12:24:45,404 : INFO : topic #7 (0.050): 0.020*\"billion\" + 0.020*\"million\" + 0.019*\"lufthansa\" + 0.019*\"airline\" + 0.013*\"euros\" + 0.012*\"carrier\" + 0.011*\"government\" + 0.010*\"company\" + 0.010*\"aid\" + 0.008*\"norwegian\"\n",
      "2021-08-24 12:24:45,406 : INFO : topic #9 (0.050): 0.016*\"cases\" + 0.013*\"vaccine\" + 0.010*\"million\" + 0.009*\"people\" + 0.009*\"health\" + 0.007*\"state\" + 0.007*\"reported\" + 0.006*\"deaths\" + 0.006*\"day\" + 0.006*\"week\"\n",
      "2021-08-24 12:24:45,407 : INFO : topic #16 (0.050): 0.033*\"boeing\" + 0.030*\"max\" + 0.026*\"aircraft\" + 0.016*\"jets\" + 0.014*\"planes\" + 0.012*\"united\" + 0.011*\"plane\" + 0.009*\"airline\" + 0.008*\"order\" + 0.008*\"company\"\n",
      "2021-08-24 12:24:45,409 : INFO : topic diff=0.101286, rho=0.228680\n",
      "2021-08-24 12:24:46,236 : INFO : -7.661 per-word bound, 202.5 perplexity estimate based on a held-out corpus of 490 documents with 118829 words\n",
      "2021-08-24 12:24:46,238 : INFO : PROGRESS: pass 19, dispatched chunk #0 = documents up to #490/490, outstanding queue size 1\n",
      "2021-08-24 12:24:46,733 : INFO : topic #7 (0.050): 0.021*\"billion\" + 0.020*\"million\" + 0.019*\"lufthansa\" + 0.019*\"airline\" + 0.013*\"euros\" + 0.012*\"carrier\" + 0.011*\"government\" + 0.010*\"company\" + 0.010*\"aid\" + 0.008*\"norwegian\"\n",
      "2021-08-24 12:24:46,735 : INFO : topic #2 (0.050): 0.017*\"belarus\" + 0.011*\"eu\" + 0.008*\"european\" + 0.008*\"ryanair\" + 0.008*\"canada\" + 0.007*\"belarusian\" + 0.006*\"flight\" + 0.006*\"minsk\" + 0.006*\"government\" + 0.005*\"plane\"\n",
      "2021-08-24 12:24:46,737 : INFO : topic #16 (0.050): 0.033*\"boeing\" + 0.030*\"max\" + 0.026*\"aircraft\" + 0.017*\"jets\" + 0.014*\"planes\" + 0.012*\"united\" + 0.011*\"plane\" + 0.009*\"airline\" + 0.008*\"order\" + 0.008*\"airbus\"\n",
      "2021-08-24 12:24:46,738 : INFO : topic #15 (0.050): 0.011*\"city\" + 0.009*\"debt\" + 0.008*\"airport\" + 0.008*\"mexico\" + 0.006*\"thailand\" + 0.006*\"wave\" + 0.006*\"bangkok\" + 0.006*\"businesses\" + 0.006*\"india\" + 0.006*\"billion\"\n",
      "2021-08-24 12:24:46,740 : INFO : topic #9 (0.050): 0.016*\"cases\" + 0.013*\"vaccine\" + 0.010*\"million\" + 0.009*\"people\" + 0.009*\"health\" + 0.007*\"state\" + 0.007*\"reported\" + 0.006*\"deaths\" + 0.006*\"day\" + 0.006*\"week\"\n",
      "2021-08-24 12:24:46,742 : INFO : topic diff=0.090800, rho=0.222925\n",
      "2021-08-24 12:24:47,350 : INFO : -7.657 per-word bound, 201.9 perplexity estimate based on a held-out corpus of 490 documents with 118829 words\n",
      "2021-08-24 12:24:47,364 : INFO : LdaMulticore lifecycle event {'msg': 'trained LdaModel(num_terms=3905, num_topics=20, decay=0.5, chunksize=4000) in 28.90s', 'datetime': '2021-08-24T12:24:47.364356', 'gensim': '4.0.1', 'python': '3.8.10 (default, Jun  4 2021, 15:09:15) \\n[GCC 7.5.0]', 'platform': 'Linux-5.13.8-100.fc33.x86_64-x86_64-with-glibc2.17', 'event': 'created'}\n",
      "2021-08-24 12:24:47,365 : INFO : LdaState lifecycle event {'fname_or_handle': './lda.model.state', 'separately': 'None', 'sep_limit': 10485760, 'ignore': frozenset(), 'datetime': '2021-08-24T12:24:47.365308', 'gensim': '4.0.1', 'python': '3.8.10 (default, Jun  4 2021, 15:09:15) \\n[GCC 7.5.0]', 'platform': 'Linux-5.13.8-100.fc33.x86_64-x86_64-with-glibc2.17', 'event': 'saving'}\n",
      "2021-08-24 12:24:47,366 : INFO : saved ./lda.model.state\n",
      "2021-08-24 12:24:47,371 : INFO : LdaMulticore lifecycle event {'fname_or_handle': './lda.model', 'separately': \"['expElogbeta', 'sstats']\", 'sep_limit': 10485760, 'ignore': ['state', 'dispatcher', 'id2word'], 'datetime': '2021-08-24T12:24:47.371658', 'gensim': '4.0.1', 'python': '3.8.10 (default, Jun  4 2021, 15:09:15) \\n[GCC 7.5.0]', 'platform': 'Linux-5.13.8-100.fc33.x86_64-x86_64-with-glibc2.17', 'event': 'saving'}\n",
      "2021-08-24 12:24:47,372 : INFO : storing np array 'expElogbeta' to ./lda.model.expElogbeta.npy\n",
      "2021-08-24 12:24:47,376 : INFO : not storing attribute state\n",
      "2021-08-24 12:24:47,377 : INFO : not storing attribute dispatcher\n",
      "2021-08-24 12:24:47,378 : INFO : not storing attribute id2word\n",
      "2021-08-24 12:24:47,383 : INFO : saved ./lda.model\n"
     ]
    },
    {
     "name": "stdout",
     "output_type": "stream",
     "text": [
      "CPU times: user 43.6 s, sys: 2.14 s, total: 45.7 s\n",
      "Wall time: 28.9 s\n"
     ]
    }
   ],
   "source": [
    "%%time\n",
    "from gensim import models\n",
    "\n",
    "lda = models.ldamulticore.LdaMulticore(\n",
    "    corpus_full,\n",
    "    id2word=dictionary, \n",
    "    num_topics=20,\n",
    "    chunksize=4000,\n",
    "    passes=20,\n",
    "    workers=3  #64\n",
    ")\n",
    "lda.save(\"./lda.model\")"
   ]
  },
  {
   "cell_type": "code",
   "execution_count": 15,
   "id": "162801bd",
   "metadata": {},
   "outputs": [],
   "source": [
    "# %%time\n",
    "# text_test = corpus2tokens(df_test.text.to_list())"
   ]
  },
  {
   "cell_type": "code",
   "execution_count": 16,
   "id": "184b943f",
   "metadata": {},
   "outputs": [],
   "source": [
    "# json_save(text_test, './lda.corpus.test.json')"
   ]
  },
  {
   "cell_type": "code",
   "execution_count": 17,
   "id": "9a096cac",
   "metadata": {},
   "outputs": [],
   "source": [
    "# df_production = pd.read_csv('../data/BBairline200722.csv')"
   ]
  },
  {
   "cell_type": "code",
   "execution_count": 18,
   "id": "00ff9870",
   "metadata": {},
   "outputs": [],
   "source": [
    "# df_production.head()"
   ]
  },
  {
   "cell_type": "code",
   "execution_count": 19,
   "id": "335d22ec",
   "metadata": {},
   "outputs": [],
   "source": [
    "# %%time\n",
    "# text_production = corpus2tokens(df_production[\"5\"].to_list())"
   ]
  },
  {
   "cell_type": "code",
   "execution_count": 20,
   "id": "a79bdcde",
   "metadata": {},
   "outputs": [],
   "source": [
    "# json_save(text_production, './lda.corpus.production.json')"
   ]
  },
  {
   "cell_type": "code",
   "execution_count": null,
   "id": "859bce0f",
   "metadata": {},
   "outputs": [],
   "source": []
  }
 ],
 "metadata": {
  "kernelspec": {
   "display_name": "Python 3 (ipykernel)",
   "language": "python",
   "name": "python3"
  },
  "language_info": {
   "codemirror_mode": {
    "name": "ipython",
    "version": 3
   },
   "file_extension": ".py",
   "mimetype": "text/x-python",
   "name": "python",
   "nbconvert_exporter": "python",
   "pygments_lexer": "ipython3",
   "version": "3.8.10"
  }
 },
 "nbformat": 4,
 "nbformat_minor": 5
}
