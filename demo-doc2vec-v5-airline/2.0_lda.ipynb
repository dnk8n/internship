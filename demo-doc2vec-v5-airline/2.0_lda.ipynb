{
 "cells": [
  {
   "cell_type": "code",
   "execution_count": null,
   "id": "27e99f83",
   "metadata": {},
   "outputs": [],
   "source": [
    "import logging\n",
    "logging.basicConfig(format='%(asctime)s : %(levelname)s : %(message)s', level=logging.INFO)"
   ]
  },
  {
   "cell_type": "code",
   "execution_count": 3,
   "id": "24c62773",
   "metadata": {},
   "outputs": [],
   "source": [
    "import pandas as pd"
   ]
  },
  {
   "cell_type": "code",
   "execution_count": 13,
   "id": "1e98e168",
   "metadata": {},
   "outputs": [],
   "source": [
    "import simplejson\n",
    "\n",
    "\n",
    "def json_save(data, filename):\n",
    "    with open(filename, 'w', encoding='utf-8') as f:\n",
    "        simplejson.dump(data, f, separators=(',', ':'), iterable_as_array=True)"
   ]
  },
  {
   "cell_type": "code",
   "execution_count": null,
   "id": "393b893e",
   "metadata": {},
   "outputs": [],
   "source": [
    "df_train = pd.read_csv('./train.csv')\n",
    "df_test = pd.read_csv('./test.csv')"
   ]
  },
  {
   "cell_type": "code",
   "execution_count": null,
   "id": "9327dfdb",
   "metadata": {},
   "outputs": [],
   "source": [
    "# # dev\n",
    "# df_train = df_train.sample(50, random_state=42)\n",
    "# df_test = df_test.sample(50, random_state=42)"
   ]
  },
  {
   "cell_type": "code",
   "execution_count": null,
   "id": "f1b9373d",
   "metadata": {},
   "outputs": [],
   "source": [
    "df_train.shape, df_test.shape"
   ]
  },
  {
   "cell_type": "code",
   "execution_count": 10,
   "id": "bbe6009d",
   "metadata": {},
   "outputs": [],
   "source": [
    "from tqdm.notebook import tqdm_notebook"
   ]
  },
  {
   "cell_type": "code",
   "execution_count": 1,
   "id": "4e611ed8",
   "metadata": {},
   "outputs": [],
   "source": [
    "from gensim.utils import simple_preprocess\n",
    "from gensim.parsing.preprocessing import STOPWORDS\n",
    "\n",
    "def corpus2tokens(raw_corpus):\n",
    "    return [\n",
    "        [\n",
    "            wd\n",
    "            for wd in simple_preprocess(doc)\n",
    "            if not wd in STOPWORDS\n",
    "        ]\n",
    "        for doc in tqdm_notebook(raw_corpus)\n",
    "    ]"
   ]
  },
  {
   "cell_type": "code",
   "execution_count": null,
   "id": "d0d20f1a",
   "metadata": {},
   "outputs": [],
   "source": [
    "%%time\n",
    "corpus_words_train = corpus2tokens(df_train.text.to_list())"
   ]
  },
  {
   "cell_type": "code",
   "execution_count": null,
   "id": "e8f0e003",
   "metadata": {},
   "outputs": [],
   "source": [
    "json_save(corpus_words_train, './lda.corpus.train.json')"
   ]
  },
  {
   "cell_type": "code",
   "execution_count": null,
   "id": "d57260d7",
   "metadata": {
    "scrolled": true
   },
   "outputs": [],
   "source": [
    "%%time\n",
    "from gensim import corpora\n",
    "\n",
    "dictionary = corpora.Dictionary(corpus_words_train)\n",
    "dictionary.filter_extremes()\n",
    "dictionary.save_as_text('./lda.dictionary.txt')"
   ]
  },
  {
   "cell_type": "code",
   "execution_count": null,
   "id": "fa81ff9e",
   "metadata": {},
   "outputs": [],
   "source": [
    "%%time\n",
    "corpus_train = [dictionary.doc2bow(text) for text in corpus_words_train]\n",
    "corpora.MmCorpus.serialize('./lda.corpus.txt', corpus_train)"
   ]
  },
  {
   "cell_type": "code",
   "execution_count": null,
   "id": "c0c48516",
   "metadata": {},
   "outputs": [],
   "source": [
    "from gensim import models"
   ]
  },
  {
   "cell_type": "code",
   "execution_count": null,
   "id": "52dc7b79",
   "metadata": {},
   "outputs": [],
   "source": [
    "%%time\n",
    "from gensim import models\n",
    "\n",
    "lda = models.ldamulticore.LdaMulticore(\n",
    "    corpus_train,\n",
    "    id2word=dictionary, \n",
    "    num_topics=20,\n",
    "    chunksize=4000,\n",
    "    passes=20,\n",
    "    workers=64\n",
    ")\n",
    "lda.save(\"./lda.model\")"
   ]
  },
  {
   "cell_type": "code",
   "execution_count": null,
   "id": "162801bd",
   "metadata": {},
   "outputs": [],
   "source": [
    "%%time\n",
    "text_test = corpus2tokens(df_test.text.to_list())"
   ]
  },
  {
   "cell_type": "code",
   "execution_count": null,
   "id": "184b943f",
   "metadata": {},
   "outputs": [],
   "source": [
    "json_save(text_test, './lda.corpus.test.json')"
   ]
  },
  {
   "cell_type": "code",
   "execution_count": 4,
   "id": "9a096cac",
   "metadata": {},
   "outputs": [],
   "source": [
    "df_production = pd.read_csv('../data/BBairline200722.csv')"
   ]
  },
  {
   "cell_type": "code",
   "execution_count": 6,
   "id": "00ff9870",
   "metadata": {},
   "outputs": [
    {
     "data": {
      "text/html": [
       "<div>\n",
       "<style scoped>\n",
       "    .dataframe tbody tr th:only-of-type {\n",
       "        vertical-align: middle;\n",
       "    }\n",
       "\n",
       "    .dataframe tbody tr th {\n",
       "        vertical-align: top;\n",
       "    }\n",
       "\n",
       "    .dataframe thead th {\n",
       "        text-align: right;\n",
       "    }\n",
       "</style>\n",
       "<table border=\"1\" class=\"dataframe\">\n",
       "  <thead>\n",
       "    <tr style=\"text-align: right;\">\n",
       "      <th></th>\n",
       "      <th>0</th>\n",
       "      <th>1</th>\n",
       "      <th>2</th>\n",
       "      <th>3</th>\n",
       "      <th>4</th>\n",
       "      <th>5</th>\n",
       "    </tr>\n",
       "  </thead>\n",
       "  <tbody>\n",
       "    <tr>\n",
       "      <th>0</th>\n",
       "      <td>https://www.bloomberg.com/news/articles/2021-0...</td>\n",
       "      <td>2021-07-19T09:08:37.527Z</td>\n",
       "      <td>Anger at Heathrow as Johnson’s French U-Turn A...</td>\n",
       "      <td>['Laura Wright', 'Christopher Jasper']</td>\n",
       "      <td>Politics</td>\n",
       "      <td>London’s Heathrow airport was thronged with tr...</td>\n",
       "    </tr>\n",
       "    <tr>\n",
       "      <th>1</th>\n",
       "      <td>https://www.bloomberg.com/news/articles/2021-0...</td>\n",
       "      <td>2021-04-24T22:54:17.513Z</td>\n",
       "      <td>World Pledges Aid for India as Cases Surge: Vi...</td>\n",
       "      <td>[]</td>\n",
       "      <td>prognosis</td>\n",
       "      <td>Healthcare workers administer doses of the Joh...</td>\n",
       "    </tr>\n",
       "    <tr>\n",
       "      <th>2</th>\n",
       "      <td>https://www.bloomberg.com/news/articles/2021-0...</td>\n",
       "      <td>2021-07-09T04:00:00.010Z</td>\n",
       "      <td>Want to End Flying Shame? Meet Sustainable Jet...</td>\n",
       "      <td>['Jack Wittels']</td>\n",
       "      <td>QuickTake</td>\n",
       "      <td>Workers fill an Airbus A350 passenger plane wi...</td>\n",
       "    </tr>\n",
       "    <tr>\n",
       "      <th>3</th>\n",
       "      <td>https://www.bloomberg.com/news/articles/2021-0...</td>\n",
       "      <td>2021-07-14T21:26:00.339Z</td>\n",
       "      <td>Missouri County Sounds Alarm; Tokyo Cases Surg...</td>\n",
       "      <td>[]</td>\n",
       "      <td>prognosis</td>\n",
       "      <td>Health officials in southwestern Missouri aske...</td>\n",
       "    </tr>\n",
       "    <tr>\n",
       "      <th>4</th>\n",
       "      <td>https://www.bloomberg.com/news/articles/2021-0...</td>\n",
       "      <td>2021-06-02T10:22:31.347Z</td>\n",
       "      <td>Belarus Accused of Letting Illegal Migrants Cr...</td>\n",
       "      <td>['Milda Seputyte']</td>\n",
       "      <td>Politics</td>\n",
       "      <td>Alexander Lukashenko on May 28. Lithuania accu...</td>\n",
       "    </tr>\n",
       "  </tbody>\n",
       "</table>\n",
       "</div>"
      ],
      "text/plain": [
       "                                                   0  \\\n",
       "0  https://www.bloomberg.com/news/articles/2021-0...   \n",
       "1  https://www.bloomberg.com/news/articles/2021-0...   \n",
       "2  https://www.bloomberg.com/news/articles/2021-0...   \n",
       "3  https://www.bloomberg.com/news/articles/2021-0...   \n",
       "4  https://www.bloomberg.com/news/articles/2021-0...   \n",
       "\n",
       "                          1  \\\n",
       "0  2021-07-19T09:08:37.527Z   \n",
       "1  2021-04-24T22:54:17.513Z   \n",
       "2  2021-07-09T04:00:00.010Z   \n",
       "3  2021-07-14T21:26:00.339Z   \n",
       "4  2021-06-02T10:22:31.347Z   \n",
       "\n",
       "                                                   2  \\\n",
       "0  Anger at Heathrow as Johnson’s French U-Turn A...   \n",
       "1  World Pledges Aid for India as Cases Surge: Vi...   \n",
       "2  Want to End Flying Shame? Meet Sustainable Jet...   \n",
       "3  Missouri County Sounds Alarm; Tokyo Cases Surg...   \n",
       "4  Belarus Accused of Letting Illegal Migrants Cr...   \n",
       "\n",
       "                                        3          4  \\\n",
       "0  ['Laura Wright', 'Christopher Jasper']   Politics   \n",
       "1                                      []  prognosis   \n",
       "2                        ['Jack Wittels']  QuickTake   \n",
       "3                                      []  prognosis   \n",
       "4                      ['Milda Seputyte']   Politics   \n",
       "\n",
       "                                                   5  \n",
       "0  London’s Heathrow airport was thronged with tr...  \n",
       "1  Healthcare workers administer doses of the Joh...  \n",
       "2  Workers fill an Airbus A350 passenger plane wi...  \n",
       "3  Health officials in southwestern Missouri aske...  \n",
       "4  Alexander Lukashenko on May 28. Lithuania accu...  "
      ]
     },
     "execution_count": 6,
     "metadata": {},
     "output_type": "execute_result"
    }
   ],
   "source": [
    "df_production.head()"
   ]
  },
  {
   "cell_type": "code",
   "execution_count": 11,
   "id": "335d22ec",
   "metadata": {},
   "outputs": [
    {
     "data": {
      "application/vnd.jupyter.widget-view+json": {
       "model_id": "00a50bc5b3154a9a951db4776490eadb",
       "version_major": 2,
       "version_minor": 0
      },
      "text/plain": [
       "HBox(children=(FloatProgress(value=0.0, max=490.0), HTML(value='')))"
      ]
     },
     "metadata": {},
     "output_type": "display_data"
    },
    {
     "name": "stdout",
     "output_type": "stream",
     "text": [
      "\n",
      "CPU times: user 452 ms, sys: 35.4 ms, total: 487 ms\n",
      "Wall time: 479 ms\n"
     ]
    }
   ],
   "source": [
    "%%time\n",
    "text_production = corpus2tokens(df_production[\"5\"].to_list())"
   ]
  },
  {
   "cell_type": "code",
   "execution_count": 14,
   "id": "a79bdcde",
   "metadata": {},
   "outputs": [],
   "source": [
    "json_save(text_production, './lda.corpus.production.json')"
   ]
  },
  {
   "cell_type": "code",
   "execution_count": null,
   "id": "859bce0f",
   "metadata": {},
   "outputs": [],
   "source": []
  }
 ],
 "metadata": {
  "kernelspec": {
   "display_name": "Python 3",
   "language": "python",
   "name": "python3"
  },
  "language_info": {
   "codemirror_mode": {
    "name": "ipython",
    "version": 3
   },
   "file_extension": ".py",
   "mimetype": "text/x-python",
   "name": "python",
   "nbconvert_exporter": "python",
   "pygments_lexer": "ipython3",
   "version": "3.8.10"
  }
 },
 "nbformat": 4,
 "nbformat_minor": 5
}
