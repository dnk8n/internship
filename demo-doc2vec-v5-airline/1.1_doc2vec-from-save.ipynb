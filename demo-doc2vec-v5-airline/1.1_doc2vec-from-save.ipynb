{
 "cells": [
  {
   "cell_type": "code",
   "execution_count": 1,
   "id": "c7386013",
   "metadata": {},
   "outputs": [],
   "source": [
    "import simplejson\n",
    "\n",
    "def json_load(filename):\n",
    "    with open(filename, 'r', encoding='utf-8') as f:\n",
    "        return simplejson.load(f)"
   ]
  },
  {
   "cell_type": "code",
   "execution_count": 2,
   "id": "84b4fa97",
   "metadata": {},
   "outputs": [],
   "source": [
    "from gensim.models.doc2vec import TaggedDocument\n",
    "\n",
    "def gen_tagged_docs(corpus):\n",
    "    return [TaggedDocument(doc[\"words\"], doc[\"tags\"]) for doc in corpus]"
   ]
  },
  {
   "cell_type": "code",
   "execution_count": 18,
   "id": "88a896ec",
   "metadata": {},
   "outputs": [],
   "source": [
    "def display_similar_article_and_categories(corpus, doc_id=0, topn=10, by_article_tokens=True, by_article_tag=False):\n",
    "    doc = corpus[doc_id].words\n",
    "    print(' '.join(doc)[:200])\n",
    "\n",
    "    if by_article_tokens:\n",
    "        # Using words\n",
    "        print(\"************\")    \n",
    "        print(\"Get simlarity based on tokens:\")\n",
    "        print()    \n",
    "        inferred_vector = model.infer_vector(doc)\n",
    "        sims = model.dv.most_similar([inferred_vector], topn=topn)\n",
    "        for idx, factor in sims:\n",
    "            print(factor, id_tag_mapping[idx])  \n",
    "\n",
    "    if by_article_tag:\n",
    "        # Using doc vector\n",
    "        print(\"************\")    \n",
    "        print(\"Get simlarity based on article tag:\")\n",
    "        print()    \n",
    "        inferred_vector = model.dv[corpus[doc_id].tags[0]]\n",
    "        sims = model.dv.most_similar([inferred_vector], topn=topn)\n",
    "        for idx, factor in sims:\n",
    "            print(factor, id_tag_mapping[idx])\n",
    "    \n",
    "    print(\"************\")\n",
    "    print(\"Actual known tags:\")\n",
    "    print()\n",
    "    print([id_tag_mapping.get(tag) for tag in corpus[doc_id].tags if tag])"
   ]
  },
  {
   "cell_type": "code",
   "execution_count": 4,
   "id": "c390c0f9",
   "metadata": {},
   "outputs": [],
   "source": [
    "import random\n",
    "import collections\n",
    "import matplotlib.pyplot as plt\n",
    "\n",
    "\n",
    "def rank_by_inferredvector(corpus, sent_ids):\n",
    "    ranks = []\n",
    "    for sent_id in sent_ids:\n",
    "        inferred_vector = model.infer_vector(corpus[sent_id].words)\n",
    "        sims = model.dv.most_similar([inferred_vector], topn=len(id_tag_mapping))\n",
    "        most_similar_tag_indices = [\n",
    "            [docid for docid, _ in sims].index(tag)\n",
    "            for tag in corpus[sent_id].tags if tag\n",
    "        ]\n",
    "        if most_similar_tag_indices:\n",
    "            rank = min(most_similar_tag_indices)\n",
    "            print(f'{sent_id}: Ranked {rank} ({id_tag_mapping[sims[rank][0]]}) out of {len(sims)}')\n",
    "            ranks.append(rank)\n",
    "    return ranks\n",
    "\n",
    "            \n",
    "def rank_by_random(corpus, sent_ids):\n",
    "    return [random.randint(0, len(id_tag_mapping)) for _ in sent_ids]\n",
    "\n",
    "\n",
    "def plot_matches(corpus, rank_func=rank_by_inferredvector, take_sample=True, sample_size=50, sample_seed=42, topn_perc=0.1):\n",
    "    if take_sample:\n",
    "        random.seed(sample_seed)\n",
    "        sent_ids = random.sample(range(0, len(corpus)), sample_size)\n",
    "    else:\n",
    "        sent_ids = list(range(len(corpus)))\n",
    "    ranks = rank_func(corpus, sent_ids)\n",
    "    counter = collections.Counter(ranks)\n",
    "    group_0 = []\n",
    "    group_1 = []\n",
    "    group_2 = []\n",
    "    for k, v in counter.items():\n",
    "        if k == 0:\n",
    "            group_0.append(v)\n",
    "        elif k < len(id_tag_mapping) / (100 / topn_perc):\n",
    "            group_1.append(v)\n",
    "        else:\n",
    "            group_2.append(v)\n",
    "        sum_0 = sum(group_0)\n",
    "        sum_1_acceptable = sum(group_1)\n",
    "        sum_all_else = sum(group_2)\n",
    "    plt.bar([0,1,2], [sum_0, sum_1_acceptable, sum_all_else])\n",
    "    print([sum_0, sum_1_acceptable, sum_all_else])\n",
    "    print('Test example correctly matched (%): ', 100 * sum_0 / sum([sum_0, sum_1_acceptable, sum_all_else]))\n",
    "    print(f'Test example matched in top {topn_perc}% (%): ', 100 * sum_1_acceptable / sum([sum_0, sum_1_acceptable, sum_all_else]))\n",
    "    print('Test example badly matched (%): ', 100 * sum_all_else / sum([sum_0, sum_1_acceptable, sum_all_else]))"
   ]
  },
  {
   "cell_type": "code",
   "execution_count": 5,
   "id": "97991b04",
   "metadata": {},
   "outputs": [],
   "source": [
    "from gensim.models.doc2vec import Doc2Vec\n",
    "model = Doc2Vec.load('./doc2vec.model')"
   ]
  },
  {
   "cell_type": "code",
   "execution_count": 6,
   "id": "b45c96f9",
   "metadata": {},
   "outputs": [],
   "source": [
    "from gensim.models import KeyedVectors\n",
    "wv = KeyedVectors.load('./doc2vec.wv')"
   ]
  },
  {
   "cell_type": "code",
   "execution_count": null,
   "id": "928d890b",
   "metadata": {},
   "outputs": [],
   "source": [
    "# corpus_train_raw = json_load('./doc2vec.corpus.train.json')\n",
    "# corpus_test_raw = json_load('./doc2vec.corpus.test.json')"
   ]
  },
  {
   "cell_type": "code",
   "execution_count": 7,
   "id": "1bb00edd",
   "metadata": {},
   "outputs": [],
   "source": [
    "corpus_train_full = json_load('./doc2vec.corpus.full.json')"
   ]
  },
  {
   "cell_type": "code",
   "execution_count": null,
   "id": "baa0a80f",
   "metadata": {},
   "outputs": [],
   "source": [
    "# # dev\n",
    "# corpus_train_raw = corpus_train_raw[:50]\n",
    "# corpus_test_raw = corpus_test_raw[:50]"
   ]
  },
  {
   "cell_type": "code",
   "execution_count": null,
   "id": "00e5d615",
   "metadata": {},
   "outputs": [],
   "source": [
    "# corpus_train = gen_tagged_docs(corpus_train_raw)"
   ]
  },
  {
   "cell_type": "code",
   "execution_count": 8,
   "id": "b5f51cb3",
   "metadata": {},
   "outputs": [],
   "source": [
    "corpus_full = gen_tagged_docs(corpus_train_full)"
   ]
  },
  {
   "cell_type": "code",
   "execution_count": 9,
   "id": "3c9ebbb9",
   "metadata": {},
   "outputs": [],
   "source": [
    "tag_id_mapping = json_load('./doc2vec.tag_id_mapping.json')\n",
    "id_tag_mapping = {v: k for k, v in tag_id_mapping.items()}"
   ]
  },
  {
   "cell_type": "code",
   "execution_count": null,
   "id": "05f2027d",
   "metadata": {},
   "outputs": [],
   "source": [
    "# %matplotlib inline\n",
    "# plot_matches(corpus_train)"
   ]
  },
  {
   "cell_type": "code",
   "execution_count": 10,
   "id": "6cff3c3a",
   "metadata": {},
   "outputs": [
    {
     "name": "stdout",
     "output_type": "stream",
     "text": [
      "327: Ranked 0 (category:Markets) out of 757\n",
      "57: Ranked 0 (category:Business) out of 757\n",
      "12: Ranked 0 (category:Politics) out of 757\n",
      "379: Ranked 0 (category:Business) out of 757\n",
      "140: Ranked 0 (category:Markets) out of 757\n",
      "125: Ranked 0 (category:Business) out of 757\n",
      "114: Ranked 0 (category:Business) out of 757\n",
      "71: Ranked 0 (category:Politics) out of 757\n",
      "377: Ranked 0 (category:Hyperdrive) out of 757\n",
      "52: Ranked 0 (category:Hyperdrive) out of 757\n",
      "346: Ranked 0 (category:Business) out of 757\n",
      "456: Ranked 0 (category:prognosis) out of 757\n",
      "279: Ranked 0 (category:Markets) out of 757\n",
      "44: Ranked 0 (category:prognosis) out of 757\n",
      "302: Ranked 0 (category:Business) out of 757\n",
      "216: Ranked 0 (category:Markets) out of 757\n",
      "16: Ranked 0 (category:Markets) out of 757\n",
      "15: Ranked 0 (title:How Mexico Forgot Its Covid Crisis) out of 757\n",
      "47: Ranked 0 (category:Politics) out of 757\n",
      "111: Ranked 0 (category:Hyperdrive) out of 757\n",
      "119: Ranked 0 (category:Business) out of 757\n",
      "258: Ranked 0 (category:Business) out of 757\n",
      "308: Ranked 0 (title:Big Oil’s Secret World of Trading) out of 757\n",
      "13: Ranked 0 (category:Politics) out of 757\n",
      "287: Ranked 0 (category:prognosis) out of 757\n",
      "101: Ranked 0 (category:prognosis) out of 757\n",
      "366: Ranked 0 (title:U.K. Tightens Quarantine Rules for Travelers From France) out of 757\n",
      "332: Ranked 1 (category:Travel) out of 757\n",
      "359: Ranked 0 (category:Business) out of 757\n",
      "214: Ranked 1 (category:Politics) out of 757\n",
      "112: Ranked 0 (category:Hyperdrive) out of 757\n",
      "229: Ranked 0 (keyword:Fergal O'Brien) out of 757\n",
      "301: Ranked 0 (category:Business) out of 757\n",
      "142: Ranked 0 (category:Pursuits) out of 757\n",
      "414: Ranked 0 (keyword:Christopher Yasiejko) out of 757\n",
      "445: Ranked 0 (category:prognosis) out of 757\n",
      "3: Ranked 0 (category:prognosis) out of 757\n",
      "388: Ranked 0 (title:Qatar Airways Is in a Mystery Spat with Airbus) out of 757\n",
      "412: Ranked 0 (category:Politics) out of 757\n",
      "81: Ranked 0 (category:prognosis) out of 757\n",
      "357: Ranked 0 (category:Business) out of 757\n",
      "174: Ranked 0 (category:Business) out of 757\n",
      "79: Ranked 5 (category:Travel) out of 757\n",
      "110: Ranked 0 (category:Politics) out of 757\n",
      "390: Ranked 0 (category:prognosis) out of 757\n",
      "172: Ranked 0 (category:prognosis) out of 757\n",
      "194: Ranked 0 (category:Politics) out of 757\n",
      "49: Ranked 0 (title:Delta CEO Predicts Business Travel Comeback With Two Key Metrics) out of 757\n",
      "183: Ranked 0 (category:Business) out of 757\n",
      "433: Ranked 0 (category:Business) out of 757\n",
      "[47, 0, 3]\n",
      "Test example correctly matched (%):  94.0\n",
      "Test example matched in top 0.1% (%):  0.0\n",
      "Test example badly matched (%):  6.0\n"
     ]
    },
    {
     "data": {
      "image/png": "[encoded data removed]",
      "text/plain": [
       "<Figure size 432x288 with 1 Axes>"
      ]
     },
     "metadata": {
      "needs_background": "light"
     },
     "output_type": "display_data"
    }
   ],
   "source": [
    "%matplotlib inline\n",
    "plot_matches(corpus_full)"
   ]
  },
  {
   "cell_type": "code",
   "execution_count": null,
   "id": "312e82d8",
   "metadata": {},
   "outputs": [],
   "source": [
    "# display_similar_article_and_categories(corpus_train, doc_id=425, by_article_tag=True)"
   ]
  },
  {
   "cell_type": "code",
   "execution_count": 15,
   "id": "ce4afa5e",
   "metadata": {},
   "outputs": [
    {
     "ename": "NameError",
     "evalue": "name 'corpus_text_full' is not defined",
     "output_type": "error",
     "traceback": [
      "\u001b[0;31m---------------------------------------------------------------------------\u001b[0m",
      "\u001b[0;31mNameError\u001b[0m                                 Traceback (most recent call last)",
      "\u001b[0;32m/tmp/ipykernel_8491/193916960.py\u001b[0m in \u001b[0;36m<module>\u001b[0;34m\u001b[0m\n\u001b[0;32m----> 1\u001b[0;31m \u001b[0mcorpus_text_full\u001b[0m\u001b[0;34m[\u001b[0m\u001b[0;36m425\u001b[0m\u001b[0;34m]\u001b[0m\u001b[0;34m\u001b[0m\u001b[0;34m\u001b[0m\u001b[0m\n\u001b[0m",
      "\u001b[0;31mNameError\u001b[0m: name 'corpus_text_full' is not defined"
     ]
    }
   ],
   "source": [
    "corpus_text_full[425]"
   ]
  },
  {
   "cell_type": "code",
   "execution_count": 19,
   "id": "d30409be",
   "metadata": {},
   "outputs": [
    {
     "name": "stdout",
     "output_type": "stream",
     "text": [
      "the will study covid testing for arriving air passengers in move aimed at providing relief to an airline industry desperate to return to some semblance of normal traffic levels the government which ha\n",
      "************\n",
      "Get simlarity based on tokens:\n",
      "\n",
      "0.7522265911102295 category:Business\n",
      "0.73524409532547 category:prognosis\n",
      "0.704124927520752 category:Politics\n",
      "0.7011990547180176 category:Markets\n",
      "0.6803415417671204 category:Pursuits\n",
      "0.6754156351089478 category:Travel\n",
      "0.6749265193939209 title: Virgin Galactic's Key Test For Space Tourism (Radio) \n",
      "0.6686665415763855 title: Balance of Power: Airline Industry Pandemic Impact (Podcast) \n",
      "0.6574105024337769 category:Hyperdrive\n",
      "0.6508526802062988 title: Airline Capacity Approaching 2019 Levels (Radio) \n",
      "************\n",
      "Get simlarity based on article tag:\n",
      "\n",
      "1.0000001192092896 title:U.K. Mulls Traveler Tests in Bid to Restart Air Travel\n",
      "0.48720401525497437 keyword:Kitty Donaldson\n",
      "0.21545788645744324 keyword:Siddhartha Singh\n",
      "0.21544134616851807 title:India Extends $41 Billion Loan-Guarantee Offer to Airlines\n",
      "0.19927462935447693 keyword:Matthew Miller\n",
      "0.19925792515277863 title:Ryanair Hammers Government ‘Mismanagement’ of Covid Crisis\n",
      "0.19165045022964478 title:Airlines and Travel Groups Urge U.S. to Develop Virus Passport\n",
      "0.174910306930542 title:Qantas Dangles Free Trips for People Who’ve Been Vaccinated\n",
      "0.17348474264144897 title:United Bets on Supersonic Future With $3 Billion Boom Jet Order\n",
      "0.1633976697921753 title:China’s Post-Covid Travel Frenzy May Break Labor Day Record\n",
      "************\n",
      "Actual known tags:\n",
      "\n",
      "['title:U.K. Mulls Traveler Tests in Bid to Restart Air Travel', 'category:Business', 'keyword:Siddharth Vikram Philip', 'keyword:Kitty Donaldson']\n"
     ]
    }
   ],
   "source": [
    "display_similar_article_and_categories(corpus_full, doc_id=425, by_article_tag=True)"
   ]
  },
  {
   "cell_type": "code",
   "execution_count": null,
   "id": "c3e78c08",
   "metadata": {},
   "outputs": [],
   "source": [
    "# Analyse (unseen) test set"
   ]
  },
  {
   "cell_type": "code",
   "execution_count": null,
   "id": "5047dd36",
   "metadata": {},
   "outputs": [],
   "source": [
    "# corpus_test = gen_tagged_docs(corpus_test_raw)"
   ]
  },
  {
   "cell_type": "code",
   "execution_count": null,
   "id": "ca29f093",
   "metadata": {},
   "outputs": [],
   "source": [
    "# %matplotlib inline\n",
    "# plot_matches(corpus_test, take_sample=False)"
   ]
  },
  {
   "cell_type": "code",
   "execution_count": null,
   "id": "6a893bc5",
   "metadata": {},
   "outputs": [],
   "source": [
    "# display_similar_article_and_categories(corpus_test, doc_id=13317)"
   ]
  },
  {
   "cell_type": "code",
   "execution_count": null,
   "id": "34b982c0",
   "metadata": {},
   "outputs": [],
   "source": [
    "# import pandas as pd\n",
    "# df_test = pd.read_csv('./test.csv')"
   ]
  },
  {
   "cell_type": "code",
   "execution_count": null,
   "id": "7726cce1",
   "metadata": {},
   "outputs": [],
   "source": [
    "# df_test.iloc[5914]"
   ]
  },
  {
   "cell_type": "code",
   "execution_count": null,
   "id": "d8227cc8",
   "metadata": {},
   "outputs": [],
   "source": [
    "# %matplotlib inline\n",
    "# plot_matches(corpus_test, sample_size=1000)"
   ]
  },
  {
   "cell_type": "code",
   "execution_count": null,
   "id": "ee387659",
   "metadata": {},
   "outputs": [],
   "source": [
    "# %matplotlib inline\n",
    "# plot_matches(corpus_test, sample_size=1000, topn_perc=0.01)"
   ]
  }
 ],
 "metadata": {
  "kernelspec": {
   "display_name": "Python 3 (ipykernel)",
   "language": "python",
   "name": "python3"
  },
  "language_info": {
   "codemirror_mode": {
    "name": "ipython",
    "version": 3
   },
   "file_extension": ".py",
   "mimetype": "text/x-python",
   "name": "python",
   "nbconvert_exporter": "python",
   "pygments_lexer": "ipython3",
   "version": "3.8.10"
  }
 },
 "nbformat": 4,
 "nbformat_minor": 5
}
