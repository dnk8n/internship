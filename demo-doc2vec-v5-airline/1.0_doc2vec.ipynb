{
 "cells": [
  {
   "cell_type": "code",
   "execution_count": 1,
   "id": "05c9b763",
   "metadata": {},
   "outputs": [],
   "source": [
    "import logging\n",
    "logging.basicConfig(format='%(asctime)s : %(levelname)s : %(message)s', level=logging.INFO)"
   ]
  },
  {
   "cell_type": "code",
   "execution_count": 2,
   "id": "15745d73",
   "metadata": {},
   "outputs": [
    {
     "name": "stderr",
     "output_type": "stream",
     "text": [
      "2021-08-24 11:29:44,051 : INFO : NumExpr defaulting to 4 threads.\n"
     ]
    }
   ],
   "source": [
    "import pandas as pd\n",
    "import numpy as np"
   ]
  },
  {
   "cell_type": "code",
   "execution_count": 3,
   "id": "89e959d2",
   "metadata": {},
   "outputs": [
    {
     "data": {
      "text/plain": [
       "(490, 7)"
      ]
     },
     "execution_count": 3,
     "metadata": {},
     "output_type": "execute_result"
    }
   ],
   "source": [
    "df_full = pd.read_csv('./full.csv')\n",
    "df_full.shape"
   ]
  },
  {
   "cell_type": "code",
   "execution_count": 106,
   "id": "889b9414",
   "metadata": {},
   "outputs": [
    {
     "data": {
      "text/html": [
       "<div>\n",
       "<style scoped>\n",
       "    .dataframe tbody tr th:only-of-type {\n",
       "        vertical-align: middle;\n",
       "    }\n",
       "\n",
       "    .dataframe tbody tr th {\n",
       "        vertical-align: top;\n",
       "    }\n",
       "\n",
       "    .dataframe thead th {\n",
       "        text-align: right;\n",
       "    }\n",
       "</style>\n",
       "<table border=\"1\" class=\"dataframe\">\n",
       "  <thead>\n",
       "    <tr style=\"text-align: right;\">\n",
       "      <th></th>\n",
       "      <th>Unnamed: 0</th>\n",
       "      <th>url</th>\n",
       "      <th>date</th>\n",
       "      <th>title</th>\n",
       "      <th>keywords</th>\n",
       "      <th>category</th>\n",
       "      <th>text</th>\n",
       "    </tr>\n",
       "  </thead>\n",
       "  <tbody>\n",
       "    <tr>\n",
       "      <th>395</th>\n",
       "      <td>395</td>\n",
       "      <td>https://www.bloomberg.com/news/articles/2020-0...</td>\n",
       "      <td>2020-05-29T08:00:00.004Z</td>\n",
       "      <td>Airlines Leave $29 Billion Aid Fund Untapped i...</td>\n",
       "      <td>['Saleha Mohsin', 'Ryan Beene']</td>\n",
       "      <td>economics</td>\n",
       "      <td>A pilot pulls luggage while walking through a ...</td>\n",
       "    </tr>\n",
       "    <tr>\n",
       "      <th>305</th>\n",
       "      <td>305</td>\n",
       "      <td>https://www.bloomberg.com/news/articles/2021-0...</td>\n",
       "      <td>2021-07-16T20:10:59.012Z</td>\n",
       "      <td>Virgin Galactic Shares Come Back to Earth Afte...</td>\n",
       "      <td>['Esha Dey']</td>\n",
       "      <td>Markets</td>\n",
       "      <td>Richard Branson’s rocket ride last weekend wen...</td>\n",
       "    </tr>\n",
       "    <tr>\n",
       "      <th>54</th>\n",
       "      <td>54</td>\n",
       "      <td>https://www.bloomberg.com/news/articles/2021-0...</td>\n",
       "      <td>2021-02-10T09:54:57.870Z</td>\n",
       "      <td>Etihad’s Focus on Smaller Aircraft Puts Fleet ...</td>\n",
       "      <td>['Layan Odeh', 'Manus Cranny']</td>\n",
       "      <td>Business</td>\n",
       "      <td>Etihad Airways plans to rebuild operations aro...</td>\n",
       "    </tr>\n",
       "    <tr>\n",
       "      <th>298</th>\n",
       "      <td>298</td>\n",
       "      <td>https://www.bloomberg.com/news/articles/2021-0...</td>\n",
       "      <td>2021-02-01T23:33:37.077Z</td>\n",
       "      <td>Airline Bailout Begins in Canada With Loan to ...</td>\n",
       "      <td>['Sandrine Rastello', 'Derek Decloet']</td>\n",
       "      <td>Business</td>\n",
       "      <td>Canada granted an emergency loan to a company ...</td>\n",
       "    </tr>\n",
       "    <tr>\n",
       "      <th>225</th>\n",
       "      <td>225</td>\n",
       "      <td>https://www.bloomberg.com/news/articles/2020-1...</td>\n",
       "      <td>2020-10-27T06:07:18.852Z</td>\n",
       "      <td>Japanese Airline ANA Forecasts Its Biggest Eve...</td>\n",
       "      <td>['Shiho Takezawa', 'Tsuyoshi Inajima']</td>\n",
       "      <td>Business</td>\n",
       "      <td>ANA shares fell 3.2% before the results and re...</td>\n",
       "    </tr>\n",
       "    <tr>\n",
       "      <th>362</th>\n",
       "      <td>362</td>\n",
       "      <td>https://www.bloomberg.com/news/articles/2020-0...</td>\n",
       "      <td>2020-08-12T04:37:12.598Z</td>\n",
       "      <td>Cathay Rises Most Since 2008 as Reopening Chan...</td>\n",
       "      <td>['Will Davies']</td>\n",
       "      <td>Business</td>\n",
       "      <td>Cathay Pacific Airways Ltd. shares climbed the...</td>\n",
       "    </tr>\n",
       "    <tr>\n",
       "      <th>435</th>\n",
       "      <td>435</td>\n",
       "      <td>https://www.bloomberg.com/news/articles/2021-0...</td>\n",
       "      <td>2021-04-17T04:00:01.000Z</td>\n",
       "      <td>Vaccinated Countries Wary of Relapse Stunt Air...</td>\n",
       "      <td>['Siddharth Vikram Philip']</td>\n",
       "      <td>Markets</td>\n",
       "      <td>Countries that have quickly rolled out coronav...</td>\n",
       "    </tr>\n",
       "    <tr>\n",
       "      <th>461</th>\n",
       "      <td>461</td>\n",
       "      <td>https://www.bloomberg.com/news/articles/2021-0...</td>\n",
       "      <td>2021-02-23T22:54:24.411Z</td>\n",
       "      <td>Shot Hailed as Super Effective; J&amp;J Gets Big W...</td>\n",
       "      <td>[]</td>\n",
       "      <td>prognosis</td>\n",
       "      <td>The shot made by Pfizer Inc. and BioNTech SE w...</td>\n",
       "    </tr>\n",
       "    <tr>\n",
       "      <th>275</th>\n",
       "      <td>275</td>\n",
       "      <td>https://www.bloomberg.com/news/articles/2021-0...</td>\n",
       "      <td>2021-07-15T21:58:48.970Z</td>\n",
       "      <td>Biden Signals That Ban on Europe Travel Will B...</td>\n",
       "      <td>['Jennifer Epstein', 'Christopher Jasper', 'Pa...</td>\n",
       "      <td>Politics</td>\n",
       "      <td>Joe Biden speaks during a news conference at t...</td>\n",
       "    </tr>\n",
       "    <tr>\n",
       "      <th>14</th>\n",
       "      <td>14</td>\n",
       "      <td>https://www.bloomberg.com/news/articles/2021-0...</td>\n",
       "      <td>2021-06-09T09:35:21.209Z</td>\n",
       "      <td>Ryanair Wins EU Court Challenge to Condor’s Co...</td>\n",
       "      <td>['Stephanie Bodoni']</td>\n",
       "      <td>Markets</td>\n",
       "      <td>Ryanair Holdings Plc notched up a third win in...</td>\n",
       "    </tr>\n",
       "  </tbody>\n",
       "</table>\n",
       "</div>"
      ],
      "text/plain": [
       "     Unnamed: 0                                                url  \\\n",
       "395         395  https://www.bloomberg.com/news/articles/2020-0...   \n",
       "305         305  https://www.bloomberg.com/news/articles/2021-0...   \n",
       "54           54  https://www.bloomberg.com/news/articles/2021-0...   \n",
       "298         298  https://www.bloomberg.com/news/articles/2021-0...   \n",
       "225         225  https://www.bloomberg.com/news/articles/2020-1...   \n",
       "362         362  https://www.bloomberg.com/news/articles/2020-0...   \n",
       "435         435  https://www.bloomberg.com/news/articles/2021-0...   \n",
       "461         461  https://www.bloomberg.com/news/articles/2021-0...   \n",
       "275         275  https://www.bloomberg.com/news/articles/2021-0...   \n",
       "14           14  https://www.bloomberg.com/news/articles/2021-0...   \n",
       "\n",
       "                         date  \\\n",
       "395  2020-05-29T08:00:00.004Z   \n",
       "305  2021-07-16T20:10:59.012Z   \n",
       "54   2021-02-10T09:54:57.870Z   \n",
       "298  2021-02-01T23:33:37.077Z   \n",
       "225  2020-10-27T06:07:18.852Z   \n",
       "362  2020-08-12T04:37:12.598Z   \n",
       "435  2021-04-17T04:00:01.000Z   \n",
       "461  2021-02-23T22:54:24.411Z   \n",
       "275  2021-07-15T21:58:48.970Z   \n",
       "14   2021-06-09T09:35:21.209Z   \n",
       "\n",
       "                                                 title  \\\n",
       "395  Airlines Leave $29 Billion Aid Fund Untapped i...   \n",
       "305  Virgin Galactic Shares Come Back to Earth Afte...   \n",
       "54   Etihad’s Focus on Smaller Aircraft Puts Fleet ...   \n",
       "298  Airline Bailout Begins in Canada With Loan to ...   \n",
       "225  Japanese Airline ANA Forecasts Its Biggest Eve...   \n",
       "362  Cathay Rises Most Since 2008 as Reopening Chan...   \n",
       "435  Vaccinated Countries Wary of Relapse Stunt Air...   \n",
       "461  Shot Hailed as Super Effective; J&J Gets Big W...   \n",
       "275  Biden Signals That Ban on Europe Travel Will B...   \n",
       "14   Ryanair Wins EU Court Challenge to Condor’s Co...   \n",
       "\n",
       "                                              keywords   category  \\\n",
       "395                    ['Saleha Mohsin', 'Ryan Beene']  economics   \n",
       "305                                       ['Esha Dey']    Markets   \n",
       "54                      ['Layan Odeh', 'Manus Cranny']   Business   \n",
       "298             ['Sandrine Rastello', 'Derek Decloet']   Business   \n",
       "225             ['Shiho Takezawa', 'Tsuyoshi Inajima']   Business   \n",
       "362                                    ['Will Davies']   Business   \n",
       "435                        ['Siddharth Vikram Philip']    Markets   \n",
       "461                                                 []  prognosis   \n",
       "275  ['Jennifer Epstein', 'Christopher Jasper', 'Pa...   Politics   \n",
       "14                                ['Stephanie Bodoni']    Markets   \n",
       "\n",
       "                                                  text  \n",
       "395  A pilot pulls luggage while walking through a ...  \n",
       "305  Richard Branson’s rocket ride last weekend wen...  \n",
       "54   Etihad Airways plans to rebuild operations aro...  \n",
       "298  Canada granted an emergency loan to a company ...  \n",
       "225  ANA shares fell 3.2% before the results and re...  \n",
       "362  Cathay Pacific Airways Ltd. shares climbed the...  \n",
       "435  Countries that have quickly rolled out coronav...  \n",
       "461  The shot made by Pfizer Inc. and BioNTech SE w...  \n",
       "275  Joe Biden speaks during a news conference at t...  \n",
       "14   Ryanair Holdings Plc notched up a third win in...  "
      ]
     },
     "execution_count": 106,
     "metadata": {},
     "output_type": "execute_result"
    }
   ],
   "source": [
    "df_full.sample(10)"
   ]
  },
  {
   "cell_type": "code",
   "execution_count": 112,
   "id": "f1043a5d",
   "metadata": {},
   "outputs": [
    {
     "data": {
      "text/plain": [
       "'A pilot pulls luggage while walking through a terminal at San Francisco International Airport, on April 2. U.S. airlines have yet to tap $29 billion in federal pandemic relief loans as they wait to see whether the reopening of the economy revives demand and diminishes the need for money that comes with government strings attached. Although the four largest U.S. passenger airlines have applied for the Treasury Department program, only American Airlines Group Inc. has said it intends to tap the pool of funds. Southwest Airlines Co., United Airlines Holdings and Delta Air Lines Inc. say they plan to wait until fall before deciding whether to take the money -- after a summer travel season that could see more people return to the skies.'"
      ]
     },
     "execution_count": 112,
     "metadata": {},
     "output_type": "execute_result"
    }
   ],
   "source": [
    "df_full.iloc[395].text"
   ]
  },
  {
   "cell_type": "code",
   "execution_count": null,
   "id": "482fd40b",
   "metadata": {},
   "outputs": [],
   "source": [
    "# df_train = pd.read_csv('./train.csv')\n",
    "# df_train.shape"
   ]
  },
  {
   "cell_type": "code",
   "execution_count": null,
   "id": "3690016e",
   "metadata": {},
   "outputs": [],
   "source": [
    "# df_test = pd.read_csv('./test.csv')\n",
    "# df_test.shape"
   ]
  },
  {
   "cell_type": "code",
   "execution_count": null,
   "id": "810be093",
   "metadata": {},
   "outputs": [],
   "source": [
    "# # dev\n",
    "# df_train = df_train.sample(50, random_state=42)\n",
    "# df_test = df_test.sample(50, random_state=42)"
   ]
  },
  {
   "cell_type": "code",
   "execution_count": null,
   "id": "7ad6f421",
   "metadata": {},
   "outputs": [],
   "source": [
    "# df_train.shape, df_test.shape"
   ]
  },
  {
   "cell_type": "code",
   "execution_count": null,
   "id": "9614ddfe",
   "metadata": {},
   "outputs": [],
   "source": [
    "# df_train.head(2)"
   ]
  },
  {
   "cell_type": "code",
   "execution_count": null,
   "id": "ce534041",
   "metadata": {},
   "outputs": [],
   "source": [
    "# corpus_text_train = df_train.text.tolist()"
   ]
  },
  {
   "cell_type": "code",
   "execution_count": 4,
   "id": "b02ed7f8",
   "metadata": {},
   "outputs": [],
   "source": [
    "corpus_text_full = df_full.text.tolist()"
   ]
  },
  {
   "cell_type": "code",
   "execution_count": null,
   "id": "c08498ae",
   "metadata": {},
   "outputs": [],
   "source": [
    "# print(corpus_text_train[-1])"
   ]
  },
  {
   "cell_type": "code",
   "execution_count": 7,
   "id": "c62e3647",
   "metadata": {},
   "outputs": [
    {
     "name": "stdout",
     "output_type": "stream",
     "text": [
      "Few restrictions exist around tourism, but the megalopolis is still facing a brutal third wave of Covid-19 infections. The Palace of Fine Arts (Palacio de Bellas Artes) is a prominent cultural center \n"
     ]
    }
   ],
   "source": [
    "print(corpus_text_full[-1][:200])"
   ]
  },
  {
   "cell_type": "code",
   "execution_count": null,
   "id": "1dee1b9c",
   "metadata": {},
   "outputs": [],
   "source": [
    "# def friendly_tag_corpus_train(row):\n",
    "#     doc_categories = row.categories.split('\\n')\n",
    "#     doc_title = row.title\n",
    "#     return [doc_title, *doc_categories]"
   ]
  },
  {
   "cell_type": "code",
   "execution_count": 64,
   "id": "29269f35",
   "metadata": {},
   "outputs": [],
   "source": [
    "import ast\n",
    "\n",
    "def friendly_tag_corpus_full(row):\n",
    "    if str(row.category) == \"nan\":\n",
    "        doc_category = None\n",
    "    else:\n",
    "        doc_category = row.category\n",
    "    if not doc_category:\n",
    "        doc_category = None\n",
    "    doc_title = row.title\n",
    "    if not doc_title:\n",
    "        doc_title = row.text[:100]\n",
    "    doc_keywords = ast.literal_eval(row.keywords)\n",
    "    return [\n",
    "        f'title:{doc_title}',\n",
    "        *[f'category:{d}' for d in [doc_category] if d is not None],\n",
    "        *[f'keyword:{d}' for d in doc_keywords if d is not None]\n",
    "    ]"
   ]
  },
  {
   "cell_type": "code",
   "execution_count": 65,
   "id": "d5cf17ac",
   "metadata": {},
   "outputs": [],
   "source": [
    "# corpus_tags_friendly_train = df_train[[\"title\", \"categories\"]].apply(friendly_tag_corpus_train, axis=1).to_list()"
   ]
  },
  {
   "cell_type": "code",
   "execution_count": 66,
   "id": "d34b9d42",
   "metadata": {},
   "outputs": [],
   "source": [
    "corpus_tags_friendly_full = df_full[[\"title\", \"category\", \"keywords\"]].apply(friendly_tag_corpus_full, axis=1).to_list()"
   ]
  },
  {
   "cell_type": "code",
   "execution_count": null,
   "id": "c6fe1e02",
   "metadata": {},
   "outputs": [],
   "source": [
    "# corpus_tags_friendly_train[-1]"
   ]
  },
  {
   "cell_type": "code",
   "execution_count": 72,
   "id": "16d33fb8",
   "metadata": {},
   "outputs": [
    {
     "data": {
      "text/plain": [
       "['title:Another Regional Airline Falls to the Covid-19 Recession',\n",
       " 'category:Business',\n",
       " 'keyword:Justin Bachman']"
      ]
     },
     "execution_count": 72,
     "metadata": {},
     "output_type": "execute_result"
    }
   ],
   "source": [
    "corpus_tags_friendly_full[-6]"
   ]
  },
  {
   "cell_type": "code",
   "execution_count": null,
   "id": "ce79ce11",
   "metadata": {},
   "outputs": [],
   "source": [
    "# len(corpus_tags_friendly_train), len(corpus_text_train)"
   ]
  },
  {
   "cell_type": "code",
   "execution_count": 73,
   "id": "d4a2e1e9",
   "metadata": {},
   "outputs": [
    {
     "data": {
      "text/plain": [
       "(490, 490)"
      ]
     },
     "execution_count": 73,
     "metadata": {},
     "output_type": "execute_result"
    }
   ],
   "source": [
    "len(corpus_tags_friendly_full), len(corpus_text_full)"
   ]
  },
  {
   "cell_type": "code",
   "execution_count": 74,
   "id": "6a922b4d",
   "metadata": {},
   "outputs": [],
   "source": [
    "def build_tag_id_mapping(corpus_tags):\n",
    "    tags = list(set(tag for tags in corpus_tags for tag in tags))\n",
    "    return {tag: idx for idx, tag in enumerate(tags)}"
   ]
  },
  {
   "cell_type": "code",
   "execution_count": null,
   "id": "f42b1bfd",
   "metadata": {},
   "outputs": [],
   "source": [
    "# tag_id_mapping = build_tag_id_mapping(corpus_tags_friendly_train)\n",
    "# id_tag_mapping = {v: k for k, v in tag_id_mapping.items()}"
   ]
  },
  {
   "cell_type": "code",
   "execution_count": 75,
   "id": "e4b5b2fa",
   "metadata": {},
   "outputs": [],
   "source": [
    "tag_id_mapping = build_tag_id_mapping(corpus_tags_friendly_full)\n",
    "id_tag_mapping = {v: k for k, v in tag_id_mapping.items()}"
   ]
  },
  {
   "cell_type": "code",
   "execution_count": null,
   "id": "d0eb3cc1",
   "metadata": {},
   "outputs": [],
   "source": [
    "# corpus_tags_train = [[tag_id_mapping[tag] for tag in tags] for tags in corpus_tags_friendly_train]"
   ]
  },
  {
   "cell_type": "code",
   "execution_count": 76,
   "id": "77a70701",
   "metadata": {},
   "outputs": [],
   "source": [
    "corpus_tags_full = [[tag_id_mapping[tag] for tag in tags] for tags in corpus_tags_friendly_full]"
   ]
  },
  {
   "cell_type": "code",
   "execution_count": null,
   "id": "8cfafe1e",
   "metadata": {},
   "outputs": [],
   "source": [
    "# len(corpus_tags_train)"
   ]
  },
  {
   "cell_type": "code",
   "execution_count": 77,
   "id": "36e42eaf",
   "metadata": {},
   "outputs": [
    {
     "data": {
      "text/plain": [
       "490"
      ]
     },
     "execution_count": 77,
     "metadata": {},
     "output_type": "execute_result"
    }
   ],
   "source": [
    "len(corpus_tags_full)"
   ]
  },
  {
   "cell_type": "code",
   "execution_count": 78,
   "id": "dea8b1bf",
   "metadata": {},
   "outputs": [],
   "source": [
    "from tqdm.notebook import tqdm_notebook"
   ]
  },
  {
   "cell_type": "code",
   "execution_count": 79,
   "id": "f418d5ee",
   "metadata": {},
   "outputs": [],
   "source": [
    "from gensim.utils import simple_preprocess\n",
    "\n",
    "def corpus2tokens(raw_corpus):\n",
    "    return [simple_preprocess(doc) for doc in tqdm_notebook(raw_corpus)]"
   ]
  },
  {
   "cell_type": "code",
   "execution_count": null,
   "id": "28b0fca2",
   "metadata": {},
   "outputs": [],
   "source": [
    "# %%time\n",
    "# corpus_words_train = corpus2tokens(corpus_text_train)"
   ]
  },
  {
   "cell_type": "code",
   "execution_count": 80,
   "id": "6ed9acfa",
   "metadata": {},
   "outputs": [
    {
     "data": {
      "application/vnd.jupyter.widget-view+json": {
       "model_id": "326820620c5b45ec85a0baf822e8b626",
       "version_major": 2,
       "version_minor": 0
      },
      "text/plain": [
       "HBox(children=(FloatProgress(value=0.0, max=490.0), HTML(value='')))"
      ]
     },
     "metadata": {},
     "output_type": "display_data"
    },
    {
     "name": "stdout",
     "output_type": "stream",
     "text": [
      "\n",
      "CPU times: user 427 ms, sys: 18.6 ms, total: 446 ms\n",
      "Wall time: 435 ms\n"
     ]
    }
   ],
   "source": [
    "%%time\n",
    "corpus_words_full = corpus2tokens(corpus_text_full)"
   ]
  },
  {
   "cell_type": "code",
   "execution_count": null,
   "id": "92ec81d3",
   "metadata": {},
   "outputs": [],
   "source": [
    "# corpus_words_train[-1][:20]"
   ]
  },
  {
   "cell_type": "code",
   "execution_count": 81,
   "id": "a6ef1c27",
   "metadata": {},
   "outputs": [
    {
     "data": {
      "text/plain": [
       "['few',\n",
       " 'restrictions',\n",
       " 'exist',\n",
       " 'around',\n",
       " 'tourism',\n",
       " 'but',\n",
       " 'the',\n",
       " 'megalopolis',\n",
       " 'is',\n",
       " 'still',\n",
       " 'facing',\n",
       " 'brutal',\n",
       " 'third',\n",
       " 'wave',\n",
       " 'of',\n",
       " 'covid',\n",
       " 'infections',\n",
       " 'the',\n",
       " 'palace',\n",
       " 'of']"
      ]
     },
     "execution_count": 81,
     "metadata": {},
     "output_type": "execute_result"
    }
   ],
   "source": [
    "corpus_words_full[-1][:20]"
   ]
  },
  {
   "cell_type": "code",
   "execution_count": null,
   "id": "c682e141",
   "metadata": {},
   "outputs": [],
   "source": [
    "# corpus_tags_train[-1]"
   ]
  },
  {
   "cell_type": "code",
   "execution_count": 82,
   "id": "efdd576f",
   "metadata": {},
   "outputs": [
    {
     "data": {
      "text/plain": [
       "[602, 420, 499]"
      ]
     },
     "execution_count": 82,
     "metadata": {},
     "output_type": "execute_result"
    }
   ],
   "source": [
    "corpus_tags_full[-1]"
   ]
  },
  {
   "cell_type": "code",
   "execution_count": null,
   "id": "72289358",
   "metadata": {},
   "outputs": [],
   "source": [
    "# [id_tag_mapping[tag] for tag in corpus_tags_train[-1]]"
   ]
  },
  {
   "cell_type": "code",
   "execution_count": 83,
   "id": "82fe8f90",
   "metadata": {},
   "outputs": [
    {
     "data": {
      "text/plain": [
       "['title:What It’s Like to Visit Mexico City Now',\n",
       " 'category:Pursuits',\n",
       " 'keyword:Cyntia Aurora Barrera Diaz']"
      ]
     },
     "execution_count": 83,
     "metadata": {},
     "output_type": "execute_result"
    }
   ],
   "source": [
    "[id_tag_mapping[tag] for tag in corpus_tags_full[-1]]"
   ]
  },
  {
   "cell_type": "code",
   "execution_count": 84,
   "id": "bad62fb8",
   "metadata": {},
   "outputs": [
    {
     "data": {
      "text/plain": [
       "757"
      ]
     },
     "execution_count": 84,
     "metadata": {},
     "output_type": "execute_result"
    }
   ],
   "source": [
    "len(id_tag_mapping)"
   ]
  },
  {
   "cell_type": "code",
   "execution_count": 85,
   "id": "9427e7e0",
   "metadata": {},
   "outputs": [],
   "source": [
    "from gensim.models.doc2vec import Doc2Vec, TaggedDocument"
   ]
  },
  {
   "cell_type": "code",
   "execution_count": 86,
   "id": "90da531c",
   "metadata": {},
   "outputs": [],
   "source": [
    "def gen_tagged_docs(corpus_words, corpus_tags):\n",
    "    return [TaggedDocument(doc_words, doc_tags) for doc_words, doc_tags in zip(corpus_words, corpus_tags)]"
   ]
  },
  {
   "cell_type": "code",
   "execution_count": null,
   "id": "35e278fa",
   "metadata": {},
   "outputs": [],
   "source": [
    "# corpus_train = gen_tagged_docs(corpus_words_train, corpus_tags_train)"
   ]
  },
  {
   "cell_type": "code",
   "execution_count": 87,
   "id": "1a7a0eb0",
   "metadata": {},
   "outputs": [],
   "source": [
    "corpus_full = gen_tagged_docs(corpus_words_full, corpus_tags_full)"
   ]
  },
  {
   "cell_type": "code",
   "execution_count": null,
   "id": "e194ccfa",
   "metadata": {},
   "outputs": [],
   "source": [
    "# corpus_train[-1]"
   ]
  },
  {
   "cell_type": "code",
   "execution_count": 88,
   "id": "56a4d82a",
   "metadata": {},
   "outputs": [
    {
     "data": {
      "text/plain": [
       "TaggedDocument(words=['few', 'restrictions', 'exist', 'around', 'tourism', 'but', 'the', 'megalopolis', 'is', 'still', 'facing', 'brutal', 'third', 'wave', 'of', 'covid', 'infections', 'the', 'palace', 'of', 'fine', 'arts', 'palacio', 'de', 'bellas', 'artes', 'is', 'prominent', 'cultural', 'center', 'in', 'mexico', 'city', 'hosting', 'many', 'exhibitions', 'and', 'theatrical', 'performances', 'cyntia', 'barrera', 'diaz', 'is', 'bloomberg', 'breaking', 'news', 'editor', 'based', 'in', 'mexico', 'city', 'on', 'most', 'weekends', 'in', 'the', 'trendy', 'condesa', 'roma', 'and', 'polanco', 'neighborhoods', 'of', 'mexico', 'city', 'restaurants', 'outdoor', 'seats', 'are', 'packed', 'with', 'long', 'lingering', 'patrons', 'and', 'their', 'pets', 'unfazed', 'by', 'the', 'traffic', 'passing', 'just', 'inches', 'away', 'joggers', 'can', 'be', 'seen', 'training', 'in', 'the', 'early', 'morning', 'winding', 'through', 'the', 'expansive', 'chapultepec', 'park', 'and', 'down', 'tree', 'lined', 'reforma', 'avenue', 'on', 'sundays', 'hundreds', 'of', 'residents', 'take', 'over', 'some', 'of', 'the', 'capital', 'main', 'streets', 'thanks', 'to', 'popular', 'government', 'organized', 'bike', 'ride', 'for', 'all', 'ages', 'life', 'seems', 'unusually', 'normal', 'in', 'many', 'parts', 'of', 'mexico', 'capital', 'even', 'though', 'the', 'country', 'ranks', 'fourth', 'worldwide', 'in', 'covid', 'deaths', 'and', 'the', 'city', 'is', 'currently', 'seeing', 'an', 'acceleration', 'of', 'weekly', 'cases', 'and', 'still', 'there', 'are', 'lingering', 'markers', 'of', 'covid', 'impact', 'masaryk', 'avenue', 'often', 'referred', 'to', 'as', 'mexico', 'rodeo', 'drive', 'has', 'more', 'for', 'rent', 'signs', 'peppering', 'its', 'facades', 'than', 'ever', 'before', 'and', 'some', 'restrictions', 'remain', 'restaurants', 'hotels', 'and', 'malls', 'are', 'generally', 'limited', 'to', 'capacity', 'while', 'indoors', 'and', 'movie', 'theaters', 'and', 'outdoor', 'stadiums', 'are', 'capped', 'at', 'getting', 'to', 'this', 'point', 'has', 'been', 'game', 'of', 'tug', 'of', 'war', 'mexico', 'city', 'mayor', 'claudia', 'sheinbaum', 'lifted', 'most', 'covid', 'restrictions', 'in', 'early', 'june', 'as', 'cases', 'declined', 'only', 'to', 'reverse', 'course', 'two', 'weeks', 'later', 'as', 'they', 'spiked', 'locals', 'are', 'now', 'regaining', 'confidence', 'on', 'the', 'heels', 'of', 'revved', 'up', 'vaccination', 'campaign', 'that', 'aims', 'to', 'curb', 'the', 'virus', 'spread', 'during', 'the', 'busier', 'summer', 'months', 'while', 'reported', 'of', 'the', 'adult', 'population', 'have', 'received', 'at', 'least', 'one', 'dose', 'to', 'date', 'president', 'lopez', 'obrador', 'has', 'committed', 'to', 'have', 'all', 'eligible', 'people', 'vaccinated', 'with', 'at', 'least', 'one', 'shot', 'by', 'october', 'in', 'mexico', 'city', 'cases', 'are', 'rising', 'among', 'the', 'to', 'age', 'group', 'and', 'authorities', 'are', 'still', 'bracing', 'for', 'third', 'wave', 'to', 'peak', 'in', 'august', 'with', 'only', 'of', 'adults', 'expected', 'to', 'be', 'vaccinated', 'by', 'then', 'the', 'race', 'to', 'vaccinate', 'is', 'especially', 'important', 'in', 'the', 'face', 'of', 'mexico', 'tourism', 'restrictions', 'or', 'total', 'lack', 'thereof', 'with', 'no', 'requirement', 'to', 'quarantine', 'or', 'test', 'before', 'arrival', 'some', 'of', 'the', 'capital', 'hotels', 'and', 'vacation', 'rentals', 'have', 'been', 'busy', 'taking', 'in', 'international', 'visitors', 'who', 'seek', 'the', 'as', 'their', 'final', 'destination', 'but', 'who', 'are', 'banned', 'from', 'going', 'there', 'until', 'they', 'spend', 'two', 'weeks', 'in', 'an', 'approved', 'country', 'such', 'as', 'mexico', 'sylvain', 'chauvet', 'general', 'manager', 'of', 'the', 'sofitel', 'reforma', 'hotel', 'says', 'things', 'started', 'picking', 'up', 'gradually', 'in', 'january', 'and', 'vaccinated', 'americans', 'have', 'been', 'arriving', 'in', 'larger', 'numbers', 'since', 'march', 'the', 'hotel', 'rooftop', 'restaurant', 'cityzen', 'which', 'serves', 'ambitious', 'cocktails', 'with', 'breathtaking', 'skyline', 'view', 'is', 'packed', 'on', 'weekends', 'although', 'it', 'still', 'separating', 'tables', 'with', 'partitions', 'the', 'scene', 'there', 'perfectly', 'encapsulates', 'mexico', 'city', 'current', 'reality', 'culinary', 'greatness', 'served', 'with', 'plenty', 'of', 'lingering', 'precautions', 'here', 'what', 'to', 'expect', 'if', 'you', 're', 'thinking', 'about', 'an', 'adventure', 'in', 'this', 'incomparable', 'megalopolis', 'around', 'of', 'all', 'restaurants', 'in', 'mexico', 'have', 'pulled', 'the', 'plug', 'since', 'the', 'beginning', 'of', 'the', 'pandemic', 'as', 'lockdowns', 'wary', 'customers', 'and', 'lack', 'of', 'economic', 'support', 'from', 'the', 'government', 'choked', 'businesses', 'among', 'the', 'notable', 'closures', 'sir', 'winston', 'churchill', 'year', 'old', 'restaurant', 'in', 'tudor', 'style', 'mansion', 'known', 'for', 'its', 'superb', 'wellington', 'steak', 'and', 'political', 'powerhouse', 'crowd', 'conversely', 'hundreds', 'of', 'street', 'taco', 'stands', 'remained', 'open', 'amid', 'lax', 'enforcement', 'from', 'local', 'authorities', 'seeking', 'to', 'keep', 'the', 'informal', 'economy', 'afloat', 'outdoor', 'dining', 'has', 'been', 'blessing', 'in', 'disguise', 'for', 'many', 'spots', 'though', 'it', 'started', 'awkwardly', 'in', 'january', 'amid', 'harsh', 'second', 'wave', 'that', 'saturated', 'hospitals', 'beds', 'now', 'it', 'set', 'to', 'become', 'permanent', 'feature', 'but', 'the', 'city', 'fine', 'dining', 'darlings', 'such', 'as', 'pujol', 'and', 'quintonil', 'rely', 'on', 'indoor', 'service', 'for', 'fuller', 'more', 'controlled', 'experience', 'now', 'that', 'this', 'is', 'an', 'option', 'reservations', 'are', 'being', 'taken', 'for', 'spaced', 'apart', 'indoor', 'tables', 'at', 'least', 'four', 'to', 'six', 'weeks', 'out', 'and', 'getting', 'in', 'is', 'no', 'easy', 'feat', 'there', 'are', 'notable', 'newcomers', 'too', 'the', 'tiny', 'female', 'owned', 'bar', 'las', 'brujas', 'adjacent', 'to', 'beautiful', 'rio', 'de', 'janeiro', 'plaza', 'is', 'fast', 'developing', 'an', 'outsized', 'reputation', 'for', 'such', 'risk', 'taking', 'drinks', 'as', 'fairy', 'poison', 'made', 'with', 'mezcal', 'rice', 'milk', 'and', 'lavender', 'syrup', 'it', 'also', 'great', 'spot', 'to', 'wind', 'up', 'after', 'exploring', 'the', 'area', 'many', 'architectural', 'jewels', 'maximo', 'bistrot', 'an', 'old', 'favorite', 'might', 'as', 'well', 'be', 'new', 'again', 'it', 'relocated', 'in', 'to', 'spacious', 'industrial', 'looking', 'site', 'in', 'the', 'dynamic', 'roma', 'norte', 'neighborhood', 'with', 'plenty', 'of', 'additions', 'to', 'constantly', 'changing', 'menu', 'that', 'uses', 'anything', 'from', 'ants', 'to', 'delicate', 'rain', 'mushrooms', 'for', 'those', 'still', 'concerned', 'about', 'dining', 'out', 'established', 'local', 'chef', 'somsri', 'raksamran', 'has', 'made', 'plenty', 'of', 'mexican', 'fans', 'with', 'pin', 'tó', 'dark', 'kitchen', 'dishing', 'out', 'meal', 'kits', 'comprising', 'thai', 'small', 'plates', 'and', 'piedra', 'braza', 'reservations', 'only', 'argentinean', 'grill', 'about', 'an', 'hour', 'southwest', 'of', 'the', 'city', 'limits', 'serves', 'fixed', 'menu', 'options', 'in', 'the', 'middle', 'of', 'the', 'woods', 'mexico', 'city', 'is', 'emerging', 'from', 'the', 'worst', 'months', 'of', 'the', 'pandemic', 'which', 'may', 'leave', 'some', 'visitors', 'feeling', 'more', 'cautious', 'than', 'others', 'if', 'you', 're', 'still', 'covid', 'weary', 'rent', 'colorful', 'flat', 'bottom', 'gondola', 'called', 'trajinera', 'to', 'explore', 'the', 'canal', 'gardens', 'in', 'xochimilco', 'either', 'pack', 'picnic', 'or', 'visit', 'one', 'of', 'the', 'many', 'outdoor', 'family', 'run', 'restaurants', 'nearby', 'once', 'you', 've', 'worked', 'up', 'an', 'appetite', 'if', 'you', 'plan', 'ahead', 'the', 'local', 'chef', 'collective', 'arca', 'tierra', 'organizes', 'trajinera', 'outings', 'at', 'the', 'break', 'of', 'dawn', 'culminating', 'with', 'breakfasts', 'sourced', 'from', 'native', 'ingredients', 'hot', 'air', 'balloon', 'trips', 'above', 'the', 'magnificent', 'aztec', 'archaeological', 'site', 'of', 'teotihuacan', 'are', 'another', 'unforgettable', 'socially', 'distant', 'option', 'as', 'is', 'the', 'the', 'sprawling', 'chapultepec', 'castle', 'which', 'currently', 'allows', 'only', 'daily', 'visitors', 'to', 'visit', 'its', 'history', 'packed', 'rooms', 'and', 'gardens', 'if', 'you', 'need', 'gentle', 'reentry', 'museums', 'are', 'open', 'but', 'running', 'at', 'capacity', 'giant', 'installation', 'by', 'mexican', 'artist', 'tania', 'candiani', 'of', 'black', 'car', 'standing', 'on', 'its', 'nose', 'is', 'parked', 'in', 'front', 'of', 'the', 'museum', 'inside', 'the', 'artist', 'daring', 'mixed', 'media', 'works', 'tell', 'the', 'city', 'history', 'over', 'the', 'last', 'eight', 'centuries', 'show', 'up', 'when', 'the', 'museum', 'opens', 'at', 'and', 'walk', 'in', 'for', 'free', 'tickets', 'are', 'required', 'to', 'visit', 'the', 'famous', 'frida', 'kahlo', 'blue', 'house', 'museum', 'in', 'the', 'heart', 'of', 'the', 'quaint', 'coyoacan', 'neighborhood', 'but', 'parties', 'are', 'restricted', 'to', 'two', 'persons', 'if', 'you', 'can', 'get', 'in', 'the', 'nearby', 'anahuacalli', 'museum', 'gathers', 'diego', 'rivera', 'enormous', 'collection', 'of', 'pre', 'hispanic', 'artifacts', 'in', 'pyramid', 'like', 'building', 'made', 'of', 'volcanic', 'rock', 'if', 'you', 'want', 'to', 'pretend', 'the', 'pandemic', 'never', 'happened', 'night', 'clubs', 'are', 'among', 'handful', 'of', 'businesses', 'that', 'are', 'not', 'yet', 'allowed', 'to', 'operate', 'though', 'underground', 'events', 'are', 'advertised', 'frequently', 'via', 'social', 'media', 'little', 'less', 'daring', 'are', 'live', 'drive', 'in', 'concerts', 'at', 'the', 'autodromo', 'hermanos', 'rodriguez', 'venue', 'that', 'also', 'stages', 'car', 'races', 'popular', 'mexican', 'rock', 'band', 'los', 'caifanes', 'started', 'the', 'trend', 'in', 'mid', 'may', 'and', 'molotov', 'another', 'famous', 'rock', 'group', 'will', 'play', 'pair', 'of', 'shows', 'in', 'august', 'possibly', 'with', 'scores', 'of', 'open', 'air', 'pods', 'for', 'added', 'seating', 'the', 'first', 'mass', 'sporting', 'event', 'scheduled', 'for', 'the', 'city', 'will', 'be', 'formula', 'in', 'october', 'and', 'authorities', 'seem', 'keen', 'on', 'selling', 'loads', 'of', 'tickets', 'and', 'avoiding', 'cancelation', 'subways', 'and', 'buses', 'crowded', 'in', 'mexico', 'city', 'are', 'perceived', 'by', 'many', 'as', 'unsafe', 'during', 'the', 'pandemic', 'ride', 'hailing', 'apps', 'such', 'as', 'uber', 'didi', 'or', 'beat', 'which', 'provides', 'tesla', 'rides', 'in', 'select', 'tourist', 'neighborhoods', 'are', 'an', 'easy', 'affordable', 'alternative', 'most', 'drivers', 'require', 'masks', 'and', 'have', 'installed', 'passenger', 'partitions', 'that', 'said', 'the', 'city', 'famous', 'traffic', 'is', 'almost', 'back', 'to', 'normal', 'another', 'option', 'is', 'ecobici', 'which', 'offers', 'bike', 'sharing', 'stations', 'across', 'several', 'residential', 'areas', 'often', 'near', 'subway', 'or', 'bus', 'stations', 'with', 'minute', 'rental', 'intervals', 'and', 'flimsy', 'frames', 'they', 're', 'great', 'for', 'short', 'trips', 'but', 'not', 'for', 'crisscrossing', 'the', 'vast', 'city', 'online', 'registration', 'requires', 'your', 'passport', 'so', 'avoid', 'applying', 'on', 'the', 'go', 'bike', 'riders', 'beware', 'while', 'city', 'officials', 'have', 'made', 'cycling', 'safer', 'by', 'expanding', 'dedicated', 'lanes', 'some', 'roads', 'have', 'car', 'traffic', 'moving', 'in', 'one', 'direction', 'and', 'public', 'buses', 'moving', 'the', 'other', 'way', 'take', 'advantage', 'of', 'sunday', 'street', 'closures', 'along', 'large', 'portions', 'of', 'reforma', 'avenue', 'as', 'no', 'stress', 'way', 'to', 'see', 'the', 'city', 'on', 'two', 'wheels', 'with', 'several', 'covid', 'variants', 'circulating', 'in', 'mexico', 'city', 'amid', 'large', 'unvaccinated', 'population', 'mask', 'wearing', 'is', 'still', 'seen', 'as', 'critically', 'important', 'even', 'if', 'enforcement', 'is', 'tricky', 'at', 'times', 'for', 'proprietors', 'stores', 'and', 'restaurants', 'are', 'welcoming', 'customers', 'back', 'after', 'months', 'of', 'hardship', 'and', 'must', 'comply', 'with', 'government', 'issued', 'sanitary', 'rules', 'cleaning', 'your', 'shoes', 'on', 'mats', 'at', 'the', 'entrance', 'applying', 'hand', 'sanitizer', 'and', 'checking', 'your', 'body', 'temperature', 'staff', 'may', 'often', 'turn', 'blind', 'eye', 'to', 'those', 'taking', 'face', 'masks', 'off', 'or', 'using', 'them', 'incorrectly', 'once', 'they', 'are', 'inside', 'don', 'copy', 'others', 'if', 'they', 'flash', 'their', 'unmasked', 'pearly', 'whites', 'many', 'hotel', 'workers', 'restaurant', 'staff', 'and', 'drivers', 'live', 'in', 'the', 'outskirts', 'of', 'the', 'city', 'and', 'spend', 'multiple', 'hours', 'commuting', 'daily', 'on', 'public', 'transit', 'resulting', 'in', 'great', 'personal', 'risk', 'if', 'tips', 'of', 'to', 'were', 'previously', 'customary', 'in', 'mexico', 'city', 'now', 'is', 'great', 'time', 'to', 'be', 'more', 'generous', 'especially', 'with', 'favorable', 'exchange', 'rates', 'for', 'americans', 'and', 'europeans', 'against', 'the', 'peso', 'don', 'expect', 'the', 'city', 'to', 'have', 'become', 'any', 'quieter', 'even', 'the', 'pandemic', 'was', 'unable', 'to', 'silence', 'the', 'late', 'night', 'battles', 'among', 'carts', 'selling', 'hot', 'tamales', 'and', 'baked', 'sweet', 'potatoes', 'or', 'the', 'early', 'morning', 'bells', 'announcing', 'garbage', 'trucks', 'packing', 'pair', 'of', 'ear', 'plugs', 'could', 'be', 'wise'], tags=[602, 420, 499])"
      ]
     },
     "execution_count": 88,
     "metadata": {},
     "output_type": "execute_result"
    }
   ],
   "source": [
    "corpus_full[-1]"
   ]
  },
  {
   "cell_type": "code",
   "execution_count": 94,
   "id": "1a69ed77",
   "metadata": {},
   "outputs": [
    {
     "name": "stderr",
     "output_type": "stream",
     "text": [
      "2021-08-24 12:17:22,988 : INFO : Doc2Vec lifecycle event {'params': 'Doc2Vec(dm/m,d1000,n20,w10,mc10,s0.001,t3)', 'datetime': '2021-08-24T12:17:22.988090', 'gensim': '4.0.1', 'python': '3.8.10 (default, Jun  4 2021, 15:09:15) \\n[GCC 7.5.0]', 'platform': 'Linux-5.13.8-100.fc33.x86_64-x86_64-with-glibc2.17', 'event': 'created'}\n"
     ]
    }
   ],
   "source": [
    "# https://groups.google.com/g/gensim/c/6JmSsx4iIv0\n",
    "# projects with larger vocabularies tend to lean more towards negative-sampling than hierarchical-softmax\n",
    "# VERY NB - https://stackoverflow.com/a/37502976/1782641\n",
    "# https://radimrehurek.com/gensim/models/doc2vec.html\n",
    "model = Doc2Vec(\n",
    "    vector_size=1000,\n",
    "    epochs=200,\n",
    "    min_count=10,\n",
    "    window=10,\n",
    "    hs=0,\n",
    "    negative=20,\n",
    "    sample=1e-3,\n",
    "    workers=3  # 64\n",
    ")"
   ]
  },
  {
   "cell_type": "code",
   "execution_count": null,
   "id": "65b35816",
   "metadata": {},
   "outputs": [],
   "source": [
    "# %%time\n",
    "# model.build_vocab(corpus_train)"
   ]
  },
  {
   "cell_type": "code",
   "execution_count": 95,
   "id": "5960c739",
   "metadata": {},
   "outputs": [
    {
     "name": "stderr",
     "output_type": "stream",
     "text": [
      "2021-08-24 12:17:26,681 : INFO : collecting all words and their counts\n",
      "2021-08-24 12:17:26,682 : INFO : PROGRESS: at example #0, processed 0 words (0/s), 0 word types, 0 tags\n",
      "--- Logging error ---\n",
      "Traceback (most recent call last):\n",
      "  File \"/home/dnk8n/miniconda3/envs/internship/lib/python3.8/logging/__init__.py\", line 1085, in emit\n",
      "    msg = self.format(record)\n",
      "  File \"/home/dnk8n/miniconda3/envs/internship/lib/python3.8/logging/__init__.py\", line 929, in format\n",
      "    return fmt.format(record)\n",
      "  File \"/home/dnk8n/miniconda3/envs/internship/lib/python3.8/logging/__init__.py\", line 668, in format\n",
      "    record.message = record.getMessage()\n",
      "  File \"/home/dnk8n/miniconda3/envs/internship/lib/python3.8/logging/__init__.py\", line 373, in getMessage\n",
      "    msg = msg % self.args\n",
      "TypeError: not enough arguments for format string\n",
      "Call stack:\n",
      "  File \"/home/dnk8n/miniconda3/envs/internship/lib/python3.8/runpy.py\", line 194, in _run_module_as_main\n",
      "    return _run_code(code, main_globals, None,\n",
      "  File \"/home/dnk8n/miniconda3/envs/internship/lib/python3.8/runpy.py\", line 87, in _run_code\n",
      "    exec(code, run_globals)\n",
      "  File \"/home/dnk8n/miniconda3/envs/internship/lib/python3.8/site-packages/ipykernel_launcher.py\", line 16, in <module>\n",
      "    app.launch_new_instance()\n",
      "  File \"/home/dnk8n/miniconda3/envs/internship/lib/python3.8/site-packages/traitlets/config/application.py\", line 845, in launch_instance\n",
      "    app.start()\n",
      "  File \"/home/dnk8n/miniconda3/envs/internship/lib/python3.8/site-packages/ipykernel/kernelapp.py\", line 667, in start\n",
      "    self.io_loop.start()\n",
      "  File \"/home/dnk8n/miniconda3/envs/internship/lib/python3.8/site-packages/tornado/platform/asyncio.py\", line 199, in start\n",
      "    self.asyncio_loop.run_forever()\n",
      "  File \"/home/dnk8n/miniconda3/envs/internship/lib/python3.8/asyncio/base_events.py\", line 570, in run_forever\n",
      "    self._run_once()\n",
      "  File \"/home/dnk8n/miniconda3/envs/internship/lib/python3.8/asyncio/base_events.py\", line 1859, in _run_once\n",
      "    handle._run()\n",
      "  File \"/home/dnk8n/miniconda3/envs/internship/lib/python3.8/asyncio/events.py\", line 81, in _run\n",
      "    self._context.run(self._callback, *self._args)\n",
      "  File \"/home/dnk8n/miniconda3/envs/internship/lib/python3.8/site-packages/ipykernel/kernelbase.py\", line 457, in dispatch_queue\n",
      "    await self.process_one()\n",
      "  File \"/home/dnk8n/miniconda3/envs/internship/lib/python3.8/site-packages/ipykernel/kernelbase.py\", line 446, in process_one\n",
      "    await dispatch(*args)\n",
      "  File \"/home/dnk8n/miniconda3/envs/internship/lib/python3.8/site-packages/ipykernel/kernelbase.py\", line 353, in dispatch_shell\n",
      "    await result\n",
      "  File \"/home/dnk8n/miniconda3/envs/internship/lib/python3.8/site-packages/ipykernel/kernelbase.py\", line 648, in execute_request\n",
      "    reply_content = await reply_content\n",
      "  File \"/home/dnk8n/miniconda3/envs/internship/lib/python3.8/site-packages/ipykernel/ipkernel.py\", line 345, in do_execute\n",
      "    res = shell.run_cell(code, store_history=store_history, silent=silent)\n",
      "  File \"/home/dnk8n/miniconda3/envs/internship/lib/python3.8/site-packages/ipykernel/zmqshell.py\", line 532, in run_cell\n",
      "    return super(ZMQInteractiveShell, self).run_cell(*args, **kwargs)\n",
      "  File \"/home/dnk8n/miniconda3/envs/internship/lib/python3.8/site-packages/IPython/core/interactiveshell.py\", line 2898, in run_cell\n",
      "    result = self._run_cell(\n",
      "  File \"/home/dnk8n/miniconda3/envs/internship/lib/python3.8/site-packages/IPython/core/interactiveshell.py\", line 2944, in _run_cell\n",
      "    return runner(coro)\n",
      "  File \"/home/dnk8n/miniconda3/envs/internship/lib/python3.8/site-packages/IPython/core/async_helpers.py\", line 68, in _pseudo_sync_runner\n",
      "    coro.send(None)\n",
      "  File \"/home/dnk8n/miniconda3/envs/internship/lib/python3.8/site-packages/IPython/core/interactiveshell.py\", line 3169, in run_cell_async\n",
      "    has_raised = await self.run_ast_nodes(code_ast.body, cell_name,\n",
      "  File \"/home/dnk8n/miniconda3/envs/internship/lib/python3.8/site-packages/IPython/core/interactiveshell.py\", line 3361, in run_ast_nodes\n",
      "    if (await self.run_code(code, result,  async_=asy)):\n",
      "  File \"/home/dnk8n/miniconda3/envs/internship/lib/python3.8/site-packages/IPython/core/interactiveshell.py\", line 3441, in run_code\n",
      "    exec(code_obj, self.user_global_ns, self.user_ns)\n",
      "  File \"/tmp/ipykernel_4211/3168478612.py\", line 1, in <module>\n",
      "    get_ipython().run_cell_magic('time', '', 'model.build_vocab(corpus_full)\\n')\n",
      "  File \"/home/dnk8n/miniconda3/envs/internship/lib/python3.8/site-packages/IPython/core/interactiveshell.py\", line 2403, in run_cell_magic\n",
      "    result = fn(*args, **kwargs)\n",
      "  File \"/home/dnk8n/miniconda3/envs/internship/lib/python3.8/site-packages/decorator.py\", line 232, in fun\n",
      "    return caller(func, *(extras + args), **kw)\n",
      "  File \"/home/dnk8n/miniconda3/envs/internship/lib/python3.8/site-packages/IPython/core/magic.py\", line 187, in <lambda>\n",
      "    call = lambda f, *a, **k: f(*a, **k)\n",
      "  File \"/home/dnk8n/miniconda3/envs/internship/lib/python3.8/site-packages/IPython/core/magics/execution.py\", line 1313, in time\n",
      "    out = eval(code, glob, local_ns)\n",
      "  File \"<timed eval>\", line 1, in <module>\n",
      "  File \"/home/dnk8n/miniconda3/envs/internship/lib/python3.8/site-packages/gensim/models/doc2vec.py\", line 866, in build_vocab\n",
      "    total_words, corpus_count = self.scan_vocab(\n",
      "  File \"/home/dnk8n/miniconda3/envs/internship/lib/python3.8/site-packages/gensim/models/doc2vec.py\", line 1036, in scan_vocab\n",
      "    total_words, corpus_count = self._scan_vocab(corpus_iterable, progress_per, trim_rule)\n",
      "  File \"/home/dnk8n/miniconda3/envs/internship/lib/python3.8/site-packages/gensim/models/doc2vec.py\", line 981, in _scan_vocab\n",
      "    logger.warning(\n",
      "Message: 'Highest int doctag (%i) larger than count of documents (%i). This means at least %i excess, unused slots (%i bytes) will be allocated for vectors.'\n",
      "Arguments: (756, 490, 1064000)\n",
      "2021-08-24 12:17:26,730 : INFO : collected 14732 word types and 757 unique tags from a corpus of 490 examples and 260894 words\n",
      "2021-08-24 12:17:26,731 : INFO : Creating a fresh vocabulary\n",
      "2021-08-24 12:17:26,760 : INFO : Doc2Vec lifecycle event {'msg': 'effective_min_count=10 retains 2898 unique words (19.671463480857994%% of original 14732, drops 11834)', 'datetime': '2021-08-24T12:17:26.760475', 'gensim': '4.0.1', 'python': '3.8.10 (default, Jun  4 2021, 15:09:15) \\n[GCC 7.5.0]', 'platform': 'Linux-5.13.8-100.fc33.x86_64-x86_64-with-glibc2.17', 'event': 'prepare_vocab'}\n",
      "2021-08-24 12:17:26,762 : INFO : Doc2Vec lifecycle event {'msg': 'effective_min_count=10 leaves 231851 word corpus (88.86789270738308%% of original 260894, drops 29043)', 'datetime': '2021-08-24T12:17:26.762360', 'gensim': '4.0.1', 'python': '3.8.10 (default, Jun  4 2021, 15:09:15) \\n[GCC 7.5.0]', 'platform': 'Linux-5.13.8-100.fc33.x86_64-x86_64-with-glibc2.17', 'event': 'prepare_vocab'}\n",
      "2021-08-24 12:17:26,790 : INFO : deleting the raw counts dictionary of 14732 items\n",
      "2021-08-24 12:17:26,792 : INFO : sample=0.001 downsamples 43 most-common words\n",
      "2021-08-24 12:17:26,794 : INFO : Doc2Vec lifecycle event {'msg': 'downsampling leaves estimated 177074.059721018 word corpus (76.4%% of prior 231851)', 'datetime': '2021-08-24T12:17:26.794408', 'gensim': '4.0.1', 'python': '3.8.10 (default, Jun  4 2021, 15:09:15) \\n[GCC 7.5.0]', 'platform': 'Linux-5.13.8-100.fc33.x86_64-x86_64-with-glibc2.17', 'event': 'prepare_vocab'}\n",
      "2021-08-24 12:17:26,848 : INFO : estimated required memory for 2898 words and 1000 dimensions: 27812400 bytes\n",
      "2021-08-24 12:17:26,850 : INFO : resetting layer weights\n"
     ]
    },
    {
     "name": "stdout",
     "output_type": "stream",
     "text": [
      "CPU times: user 178 ms, sys: 40.8 ms, total: 218 ms\n",
      "Wall time: 199 ms\n"
     ]
    }
   ],
   "source": [
    "%%time\n",
    "model.build_vocab(corpus_full)"
   ]
  },
  {
   "cell_type": "code",
   "execution_count": null,
   "id": "a113afdb",
   "metadata": {},
   "outputs": [],
   "source": [
    "# print(f\"Word 'airport' appeared {model.wv.get_vecattr('airport', 'count')} times in the training corpus.\")"
   ]
  },
  {
   "cell_type": "code",
   "execution_count": 96,
   "id": "ceeba1d6",
   "metadata": {},
   "outputs": [
    {
     "name": "stdout",
     "output_type": "stream",
     "text": [
      "Word 'airport' appeared 201 times in the full corpus.\n"
     ]
    }
   ],
   "source": [
    "print(f\"Word 'airport' appeared {model.wv.get_vecattr('airport', 'count')} times in the full corpus.\")"
   ]
  },
  {
   "cell_type": "code",
   "execution_count": null,
   "id": "d57d9b48",
   "metadata": {},
   "outputs": [],
   "source": [
    "# %%time\n",
    "# model.train(corpus_train, total_examples=model.corpus_count, epochs=model.epochs)"
   ]
  },
  {
   "cell_type": "code",
   "execution_count": 97,
   "id": "050a1002",
   "metadata": {},
   "outputs": [
    {
     "name": "stderr",
     "output_type": "stream",
     "text": [
      "2021-08-24 12:17:31,735 : INFO : Doc2Vec lifecycle event {'msg': 'training model with 3 workers on 2898 vocabulary and 1000 features, using sg=0 hs=0 sample=0.001 negative=20 window=10', 'datetime': '2021-08-24T12:17:31.734979', 'gensim': '4.0.1', 'python': '3.8.10 (default, Jun  4 2021, 15:09:15) \\n[GCC 7.5.0]', 'platform': 'Linux-5.13.8-100.fc33.x86_64-x86_64-with-glibc2.17', 'event': 'train'}\n",
      "2021-08-24 12:17:32,782 : INFO : EPOCH 1 - PROGRESS: at 45.10% examples, 74656 words/s, in_qsize 5, out_qsize 0\n",
      "2021-08-24 12:17:33,880 : INFO : EPOCH 1 - PROGRESS: at 80.00% examples, 66672 words/s, in_qsize 5, out_qsize 0\n",
      "2021-08-24 12:17:34,158 : INFO : worker thread finished; awaiting finish of 2 more threads\n",
      "2021-08-24 12:17:34,217 : INFO : worker thread finished; awaiting finish of 1 more threads\n",
      "2021-08-24 12:17:34,234 : INFO : worker thread finished; awaiting finish of 0 more threads\n",
      "2021-08-24 12:17:34,235 : INFO : EPOCH - 1 : training on 260894 raw words (178577 effective words) took 2.5s, 71509 effective words/s\n",
      "2021-08-24 12:17:35,255 : INFO : EPOCH 2 - PROGRESS: at 41.84% examples, 70610 words/s, in_qsize 5, out_qsize 0\n",
      "2021-08-24 12:17:36,307 : INFO : EPOCH 2 - PROGRESS: at 83.27% examples, 72535 words/s, in_qsize 5, out_qsize 0\n",
      "2021-08-24 12:17:36,560 : INFO : worker thread finished; awaiting finish of 2 more threads\n",
      "2021-08-24 12:17:36,561 : INFO : worker thread finished; awaiting finish of 1 more threads\n",
      "2021-08-24 12:17:36,606 : INFO : worker thread finished; awaiting finish of 0 more threads\n",
      "2021-08-24 12:17:36,607 : INFO : EPOCH - 2 : training on 260894 raw words (178728 effective words) took 2.4s, 75581 effective words/s\n",
      "2021-08-24 12:17:37,631 : INFO : EPOCH 3 - PROGRESS: at 45.10% examples, 76743 words/s, in_qsize 5, out_qsize 0\n",
      "2021-08-24 12:17:38,750 : INFO : EPOCH 3 - PROGRESS: at 88.78% examples, 73243 words/s, in_qsize 4, out_qsize 0\n",
      "2021-08-24 12:17:38,788 : INFO : worker thread finished; awaiting finish of 2 more threads\n",
      "2021-08-24 12:17:38,891 : INFO : worker thread finished; awaiting finish of 1 more threads\n",
      "2021-08-24 12:17:38,925 : INFO : worker thread finished; awaiting finish of 0 more threads\n",
      "2021-08-24 12:17:38,926 : INFO : EPOCH - 3 : training on 260894 raw words (178909 effective words) took 2.3s, 77385 effective words/s\n",
      "2021-08-24 12:17:40,011 : INFO : EPOCH 4 - PROGRESS: at 39.39% examples, 60288 words/s, in_qsize 6, out_qsize 0\n",
      "2021-08-24 12:17:41,056 : INFO : EPOCH 4 - PROGRESS: at 84.29% examples, 70194 words/s, in_qsize 5, out_qsize 0\n",
      "2021-08-24 12:17:41,248 : INFO : worker thread finished; awaiting finish of 2 more threads\n",
      "2021-08-24 12:17:41,252 : INFO : worker thread finished; awaiting finish of 1 more threads\n",
      "2021-08-24 12:17:41,303 : INFO : worker thread finished; awaiting finish of 0 more threads\n",
      "2021-08-24 12:17:41,305 : INFO : EPOCH - 4 : training on 260894 raw words (178644 effective words) took 2.4s, 75149 effective words/s\n",
      "2021-08-24 12:17:42,438 : INFO : EPOCH 5 - PROGRESS: at 48.57% examples, 74284 words/s, in_qsize 6, out_qsize 0\n",
      "2021-08-24 12:17:43,401 : INFO : worker thread finished; awaiting finish of 2 more threads\n",
      "2021-08-24 12:17:43,533 : INFO : EPOCH 5 - PROGRESS: at 97.35% examples, 77731 words/s, in_qsize 1, out_qsize 1\n",
      "2021-08-24 12:17:43,537 : INFO : worker thread finished; awaiting finish of 1 more threads\n",
      "2021-08-24 12:17:43,552 : INFO : worker thread finished; awaiting finish of 0 more threads\n",
      "2021-08-24 12:17:43,554 : INFO : EPOCH - 5 : training on 260894 raw words (178683 effective words) took 2.2s, 79545 effective words/s\n",
      "2021-08-24 12:17:44,667 : INFO : EPOCH 6 - PROGRESS: at 45.31% examples, 69945 words/s, in_qsize 5, out_qsize 0\n",
      "2021-08-24 12:17:45,664 : INFO : worker thread finished; awaiting finish of 2 more threads\n",
      "2021-08-24 12:17:45,724 : INFO : EPOCH 6 - PROGRESS: at 97.35% examples, 80018 words/s, in_qsize 1, out_qsize 1\n",
      "2021-08-24 12:17:45,725 : INFO : worker thread finished; awaiting finish of 1 more threads\n",
      "2021-08-24 12:17:45,756 : INFO : worker thread finished; awaiting finish of 0 more threads\n",
      "2021-08-24 12:17:45,757 : INFO : EPOCH - 6 : training on 260894 raw words (178808 effective words) took 2.2s, 81392 effective words/s\n",
      "2021-08-24 12:17:46,797 : INFO : EPOCH 7 - PROGRESS: at 45.10% examples, 75342 words/s, in_qsize 5, out_qsize 0\n",
      "2021-08-24 12:17:47,889 : INFO : EPOCH 7 - PROGRESS: at 80.00% examples, 67179 words/s, in_qsize 5, out_qsize 0\n",
      "2021-08-24 12:17:48,311 : INFO : worker thread finished; awaiting finish of 2 more threads\n",
      "2021-08-24 12:17:48,358 : INFO : worker thread finished; awaiting finish of 1 more threads\n",
      "2021-08-24 12:17:48,451 : INFO : worker thread finished; awaiting finish of 0 more threads\n",
      "2021-08-24 12:17:48,452 : INFO : EPOCH - 7 : training on 260894 raw words (178572 effective words) took 2.7s, 66358 effective words/s\n",
      "2021-08-24 12:17:49,472 : INFO : EPOCH 8 - PROGRESS: at 28.78% examples, 46224 words/s, in_qsize 5, out_qsize 0\n",
      "2021-08-24 12:17:50,472 : INFO : EPOCH 8 - PROGRESS: at 53.27% examples, 48416 words/s, in_qsize 5, out_qsize 0\n",
      "2021-08-24 12:17:51,507 : INFO : EPOCH 8 - PROGRESS: at 88.78% examples, 51505 words/s, in_qsize 4, out_qsize 0\n",
      "2021-08-24 12:17:51,830 : INFO : worker thread finished; awaiting finish of 2 more threads\n",
      "2021-08-24 12:17:51,876 : INFO : worker thread finished; awaiting finish of 1 more threads\n",
      "2021-08-24 12:17:51,925 : INFO : worker thread finished; awaiting finish of 0 more threads\n",
      "2021-08-24 12:17:51,926 : INFO : EPOCH - 8 : training on 260894 raw words (178781 effective words) took 3.5s, 51734 effective words/s\n",
      "2021-08-24 12:17:53,136 : INFO : EPOCH 9 - PROGRESS: at 32.65% examples, 43570 words/s, in_qsize 5, out_qsize 0\n",
      "2021-08-24 12:17:54,234 : INFO : EPOCH 9 - PROGRESS: at 58.57% examples, 44762 words/s, in_qsize 6, out_qsize 0\n",
      "2021-08-24 12:17:55,319 : INFO : EPOCH 9 - PROGRESS: at 87.55% examples, 46059 words/s, in_qsize 4, out_qsize 0\n",
      "2021-08-24 12:17:55,496 : INFO : worker thread finished; awaiting finish of 2 more threads\n",
      "2021-08-24 12:17:55,600 : INFO : worker thread finished; awaiting finish of 1 more threads\n",
      "2021-08-24 12:17:55,614 : INFO : worker thread finished; awaiting finish of 0 more threads\n",
      "2021-08-24 12:17:55,615 : INFO : EPOCH - 9 : training on 260894 raw words (178477 effective words) took 3.7s, 48404 effective words/s\n",
      "2021-08-24 12:17:56,755 : INFO : EPOCH 10 - PROGRESS: at 28.78% examples, 40890 words/s, in_qsize 5, out_qsize 0\n",
      "2021-08-24 12:17:57,757 : INFO : EPOCH 10 - PROGRESS: at 51.43% examples, 42451 words/s, in_qsize 5, out_qsize 0\n",
      "2021-08-24 12:17:58,926 : INFO : EPOCH 10 - PROGRESS: at 88.78% examples, 47358 words/s, in_qsize 4, out_qsize 0\n",
      "2021-08-24 12:17:59,199 : INFO : worker thread finished; awaiting finish of 2 more threads\n",
      "2021-08-24 12:17:59,233 : INFO : worker thread finished; awaiting finish of 1 more threads\n",
      "2021-08-24 12:17:59,294 : INFO : worker thread finished; awaiting finish of 0 more threads\n",
      "2021-08-24 12:17:59,297 : INFO : EPOCH - 10 : training on 260894 raw words (178769 effective words) took 3.7s, 48660 effective words/s\n",
      "2021-08-24 12:18:00,359 : INFO : EPOCH 11 - PROGRESS: at 31.63% examples, 49565 words/s, in_qsize 5, out_qsize 0\n",
      "2021-08-24 12:18:01,379 : INFO : EPOCH 11 - PROGRESS: at 66.12% examples, 56130 words/s, in_qsize 5, out_qsize 0\n",
      "2021-08-24 12:18:02,426 : INFO : EPOCH 11 - PROGRESS: at 93.06% examples, 52132 words/s, in_qsize 3, out_qsize 0\n",
      "2021-08-24 12:18:02,449 : INFO : worker thread finished; awaiting finish of 2 more threads\n",
      "2021-08-24 12:18:02,474 : INFO : worker thread finished; awaiting finish of 1 more threads\n",
      "2021-08-24 12:18:02,560 : INFO : worker thread finished; awaiting finish of 0 more threads\n",
      "2021-08-24 12:18:02,561 : INFO : EPOCH - 11 : training on 260894 raw words (178550 effective words) took 3.3s, 54824 effective words/s\n",
      "2021-08-24 12:18:03,575 : INFO : EPOCH 12 - PROGRESS: at 28.37% examples, 45333 words/s, in_qsize 5, out_qsize 0\n",
      "2021-08-24 12:18:04,633 : INFO : EPOCH 12 - PROGRESS: at 62.45% examples, 53115 words/s, in_qsize 6, out_qsize 0\n",
      "2021-08-24 12:18:05,584 : INFO : worker thread finished; awaiting finish of 2 more threads\n",
      "2021-08-24 12:18:05,623 : INFO : worker thread finished; awaiting finish of 1 more threads\n"
     ]
    },
    {
     "name": "stderr",
     "output_type": "stream",
     "text": [
      "2021-08-24 12:18:05,648 : INFO : EPOCH 12 - PROGRESS: at 100.00% examples, 57892 words/s, in_qsize 0, out_qsize 1\n",
      "2021-08-24 12:18:05,650 : INFO : worker thread finished; awaiting finish of 0 more threads\n",
      "2021-08-24 12:18:05,655 : INFO : EPOCH - 12 : training on 260894 raw words (178621 effective words) took 3.1s, 57764 effective words/s\n",
      "2021-08-24 12:18:06,735 : INFO : EPOCH 13 - PROGRESS: at 29.39% examples, 43142 words/s, in_qsize 5, out_qsize 0\n",
      "2021-08-24 12:18:07,888 : INFO : EPOCH 13 - PROGRESS: at 62.45% examples, 49427 words/s, in_qsize 5, out_qsize 0\n",
      "2021-08-24 12:18:08,900 : INFO : EPOCH 13 - PROGRESS: at 93.06% examples, 50305 words/s, in_qsize 3, out_qsize 0\n",
      "2021-08-24 12:18:09,059 : INFO : worker thread finished; awaiting finish of 2 more threads\n",
      "2021-08-24 12:18:09,112 : INFO : worker thread finished; awaiting finish of 1 more threads\n",
      "2021-08-24 12:18:09,163 : INFO : worker thread finished; awaiting finish of 0 more threads\n",
      "2021-08-24 12:18:09,164 : INFO : EPOCH - 13 : training on 260894 raw words (178605 effective words) took 3.5s, 51006 effective words/s\n",
      "2021-08-24 12:18:10,180 : INFO : EPOCH 14 - PROGRESS: at 35.51% examples, 58296 words/s, in_qsize 5, out_qsize 0\n",
      "2021-08-24 12:18:11,213 : INFO : EPOCH 14 - PROGRESS: at 62.45% examples, 53814 words/s, in_qsize 6, out_qsize 0\n",
      "2021-08-24 12:18:12,349 : INFO : EPOCH 14 - PROGRESS: at 95.71% examples, 53018 words/s, in_qsize 2, out_qsize 1\n",
      "2021-08-24 12:18:12,361 : INFO : worker thread finished; awaiting finish of 2 more threads\n",
      "2021-08-24 12:18:12,363 : INFO : worker thread finished; awaiting finish of 1 more threads\n",
      "2021-08-24 12:18:12,366 : INFO : worker thread finished; awaiting finish of 0 more threads\n",
      "2021-08-24 12:18:12,366 : INFO : EPOCH - 14 : training on 260894 raw words (178581 effective words) took 3.2s, 55880 effective words/s\n",
      "2021-08-24 12:18:13,383 : INFO : EPOCH 15 - PROGRESS: at 28.78% examples, 45801 words/s, in_qsize 5, out_qsize 0\n",
      "2021-08-24 12:18:14,527 : INFO : EPOCH 15 - PROGRESS: at 62.45% examples, 51145 words/s, in_qsize 5, out_qsize 0\n",
      "2021-08-24 12:18:15,579 : INFO : EPOCH 15 - PROGRESS: at 93.06% examples, 50866 words/s, in_qsize 3, out_qsize 0\n",
      "2021-08-24 12:18:15,752 : INFO : worker thread finished; awaiting finish of 2 more threads\n",
      "2021-08-24 12:18:15,765 : INFO : worker thread finished; awaiting finish of 1 more threads\n",
      "2021-08-24 12:18:15,783 : INFO : worker thread finished; awaiting finish of 0 more threads\n",
      "2021-08-24 12:18:15,784 : INFO : EPOCH - 15 : training on 260894 raw words (178873 effective words) took 3.4s, 52466 effective words/s\n",
      "2021-08-24 12:18:16,791 : INFO : EPOCH 16 - PROGRESS: at 28.78% examples, 46081 words/s, in_qsize 6, out_qsize 0\n",
      "2021-08-24 12:18:17,858 : INFO : EPOCH 16 - PROGRESS: at 69.39% examples, 59422 words/s, in_qsize 5, out_qsize 0\n",
      "2021-08-24 12:18:18,403 : INFO : worker thread finished; awaiting finish of 2 more threads\n",
      "2021-08-24 12:18:18,415 : INFO : worker thread finished; awaiting finish of 1 more threads\n",
      "2021-08-24 12:18:18,419 : INFO : worker thread finished; awaiting finish of 0 more threads\n",
      "2021-08-24 12:18:18,420 : INFO : EPOCH - 16 : training on 260894 raw words (178615 effective words) took 2.6s, 67957 effective words/s\n",
      "2021-08-24 12:18:19,464 : INFO : EPOCH 17 - PROGRESS: at 41.22% examples, 68595 words/s, in_qsize 5, out_qsize 0\n",
      "2021-08-24 12:18:20,514 : INFO : EPOCH 17 - PROGRESS: at 73.27% examples, 62117 words/s, in_qsize 5, out_qsize 0\n",
      "2021-08-24 12:18:21,046 : INFO : worker thread finished; awaiting finish of 2 more threads\n",
      "2021-08-24 12:18:21,086 : INFO : worker thread finished; awaiting finish of 1 more threads\n",
      "2021-08-24 12:18:21,102 : INFO : worker thread finished; awaiting finish of 0 more threads\n",
      "2021-08-24 12:18:21,103 : INFO : EPOCH - 17 : training on 260894 raw words (178941 effective words) took 2.7s, 66756 effective words/s\n",
      "2021-08-24 12:18:22,131 : INFO : EPOCH 18 - PROGRESS: at 39.39% examples, 64075 words/s, in_qsize 6, out_qsize 0\n",
      "2021-08-24 12:18:23,214 : INFO : EPOCH 18 - PROGRESS: at 83.27% examples, 71144 words/s, in_qsize 5, out_qsize 0\n",
      "2021-08-24 12:18:23,394 : INFO : worker thread finished; awaiting finish of 2 more threads\n",
      "2021-08-24 12:18:23,449 : INFO : worker thread finished; awaiting finish of 1 more threads\n",
      "2021-08-24 12:18:23,479 : INFO : worker thread finished; awaiting finish of 0 more threads\n",
      "2021-08-24 12:18:23,480 : INFO : EPOCH - 18 : training on 260894 raw words (178734 effective words) took 2.4s, 75372 effective words/s\n",
      "2021-08-24 12:18:24,502 : INFO : EPOCH 19 - PROGRESS: at 37.96% examples, 63641 words/s, in_qsize 6, out_qsize 0\n",
      "2021-08-24 12:18:25,506 : INFO : EPOCH 19 - PROGRESS: at 70.00% examples, 60972 words/s, in_qsize 5, out_qsize 0\n",
      "2021-08-24 12:18:26,152 : INFO : worker thread finished; awaiting finish of 2 more threads\n",
      "2021-08-24 12:18:26,154 : INFO : worker thread finished; awaiting finish of 1 more threads\n",
      "2021-08-24 12:18:26,196 : INFO : worker thread finished; awaiting finish of 0 more threads\n",
      "2021-08-24 12:18:26,196 : INFO : EPOCH - 19 : training on 260894 raw words (178820 effective words) took 2.7s, 65887 effective words/s\n",
      "2021-08-24 12:18:27,229 : INFO : EPOCH 20 - PROGRESS: at 32.65% examples, 51036 words/s, in_qsize 5, out_qsize 0\n",
      "2021-08-24 12:18:28,238 : INFO : EPOCH 20 - PROGRESS: at 62.45% examples, 53908 words/s, in_qsize 6, out_qsize 0\n",
      "2021-08-24 12:18:29,226 : INFO : worker thread finished; awaiting finish of 2 more threads\n",
      "2021-08-24 12:18:29,342 : INFO : EPOCH 20 - PROGRESS: at 98.57% examples, 55629 words/s, in_qsize 1, out_qsize 1\n",
      "2021-08-24 12:18:29,344 : INFO : worker thread finished; awaiting finish of 1 more threads\n",
      "2021-08-24 12:18:29,353 : INFO : worker thread finished; awaiting finish of 0 more threads\n",
      "2021-08-24 12:18:29,358 : INFO : EPOCH - 20 : training on 260894 raw words (178464 effective words) took 3.2s, 56505 effective words/s\n",
      "2021-08-24 12:18:30,443 : INFO : EPOCH 21 - PROGRESS: at 32.65% examples, 48711 words/s, in_qsize 5, out_qsize 0\n",
      "2021-08-24 12:18:31,588 : INFO : EPOCH 21 - PROGRESS: at 57.14% examples, 46480 words/s, in_qsize 5, out_qsize 0\n",
      "2021-08-24 12:18:32,589 : INFO : EPOCH 21 - PROGRESS: at 88.78% examples, 48468 words/s, in_qsize 4, out_qsize 0\n",
      "2021-08-24 12:18:32,888 : INFO : worker thread finished; awaiting finish of 2 more threads\n",
      "2021-08-24 12:18:32,986 : INFO : worker thread finished; awaiting finish of 1 more threads\n",
      "2021-08-24 12:18:32,994 : INFO : worker thread finished; awaiting finish of 0 more threads\n",
      "2021-08-24 12:18:32,995 : INFO : EPOCH - 21 : training on 260894 raw words (178751 effective words) took 3.6s, 49211 effective words/s\n",
      "2021-08-24 12:18:34,183 : INFO : EPOCH 22 - PROGRESS: at 28.78% examples, 39218 words/s, in_qsize 6, out_qsize 0\n",
      "2021-08-24 12:18:35,195 : INFO : EPOCH 22 - PROGRESS: at 53.27% examples, 44182 words/s, in_qsize 5, out_qsize 0\n",
      "2021-08-24 12:18:36,308 : INFO : EPOCH 22 - PROGRESS: at 80.00% examples, 43290 words/s, in_qsize 5, out_qsize 0\n",
      "2021-08-24 12:18:36,713 : INFO : worker thread finished; awaiting finish of 2 more threads\n",
      "2021-08-24 12:18:36,838 : INFO : worker thread finished; awaiting finish of 1 more threads\n",
      "2021-08-24 12:18:36,842 : INFO : worker thread finished; awaiting finish of 0 more threads\n",
      "2021-08-24 12:18:36,844 : INFO : EPOCH - 22 : training on 260894 raw words (178679 effective words) took 3.8s, 46545 effective words/s\n",
      "2021-08-24 12:18:37,953 : INFO : EPOCH 23 - PROGRESS: at 29.59% examples, 42027 words/s, in_qsize 6, out_qsize 0\n",
      "2021-08-24 12:18:38,971 : INFO : EPOCH 23 - PROGRESS: at 58.57% examples, 48809 words/s, in_qsize 5, out_qsize 0\n",
      "2021-08-24 12:18:39,982 : INFO : EPOCH 23 - PROGRESS: at 93.06% examples, 52079 words/s, in_qsize 3, out_qsize 0\n",
      "2021-08-24 12:18:40,145 : INFO : worker thread finished; awaiting finish of 2 more threads\n",
      "2021-08-24 12:18:40,158 : INFO : worker thread finished; awaiting finish of 1 more threads\n",
      "2021-08-24 12:18:40,227 : INFO : worker thread finished; awaiting finish of 0 more threads\n",
      "2021-08-24 12:18:40,228 : INFO : EPOCH - 23 : training on 260894 raw words (178537 effective words) took 3.4s, 52953 effective words/s\n",
      "2021-08-24 12:18:41,273 : INFO : EPOCH 24 - PROGRESS: at 35.51% examples, 56461 words/s, in_qsize 5, out_qsize 0\n"
     ]
    },
    {
     "name": "stderr",
     "output_type": "stream",
     "text": [
      "2021-08-24 12:18:42,274 : INFO : EPOCH 24 - PROGRESS: at 66.12% examples, 57009 words/s, in_qsize 5, out_qsize 0\n",
      "2021-08-24 12:18:43,240 : INFO : worker thread finished; awaiting finish of 2 more threads\n",
      "2021-08-24 12:18:43,290 : INFO : EPOCH 24 - PROGRESS: at 98.57% examples, 57202 words/s, in_qsize 1, out_qsize 1\n",
      "2021-08-24 12:18:43,294 : INFO : worker thread finished; awaiting finish of 1 more threads\n",
      "2021-08-24 12:18:43,299 : INFO : worker thread finished; awaiting finish of 0 more threads\n",
      "2021-08-24 12:18:43,301 : INFO : EPOCH - 24 : training on 260894 raw words (178723 effective words) took 3.1s, 58205 effective words/s\n",
      "2021-08-24 12:18:44,390 : INFO : EPOCH 25 - PROGRESS: at 28.37% examples, 42676 words/s, in_qsize 5, out_qsize 0\n",
      "2021-08-24 12:18:45,399 : INFO : EPOCH 25 - PROGRESS: at 57.14% examples, 49609 words/s, in_qsize 5, out_qsize 0\n",
      "2021-08-24 12:18:46,270 : INFO : worker thread finished; awaiting finish of 2 more threads\n",
      "2021-08-24 12:18:46,300 : INFO : worker thread finished; awaiting finish of 1 more threads\n",
      "2021-08-24 12:18:46,357 : INFO : worker thread finished; awaiting finish of 0 more threads\n",
      "2021-08-24 12:18:46,358 : INFO : EPOCH - 25 : training on 260894 raw words (178672 effective words) took 3.0s, 58684 effective words/s\n",
      "2021-08-24 12:18:47,510 : INFO : EPOCH 26 - PROGRESS: at 39.39% examples, 56873 words/s, in_qsize 5, out_qsize 0\n",
      "2021-08-24 12:18:48,557 : INFO : EPOCH 26 - PROGRESS: at 73.27% examples, 59132 words/s, in_qsize 5, out_qsize 0\n",
      "2021-08-24 12:18:49,055 : INFO : worker thread finished; awaiting finish of 2 more threads\n",
      "2021-08-24 12:18:49,073 : INFO : worker thread finished; awaiting finish of 1 more threads\n",
      "2021-08-24 12:18:49,074 : INFO : worker thread finished; awaiting finish of 0 more threads\n",
      "2021-08-24 12:18:49,075 : INFO : EPOCH - 26 : training on 260894 raw words (178765 effective words) took 2.7s, 65837 effective words/s\n",
      "2021-08-24 12:18:50,108 : INFO : EPOCH 27 - PROGRESS: at 31.63% examples, 50852 words/s, in_qsize 5, out_qsize 0\n",
      "2021-08-24 12:18:51,159 : INFO : EPOCH 27 - PROGRESS: at 62.45% examples, 52872 words/s, in_qsize 5, out_qsize 0\n",
      "2021-08-24 12:18:52,177 : INFO : EPOCH 27 - PROGRESS: at 95.92% examples, 54623 words/s, in_qsize 2, out_qsize 1\n",
      "2021-08-24 12:18:52,187 : INFO : worker thread finished; awaiting finish of 2 more threads\n",
      "2021-08-24 12:18:52,287 : INFO : worker thread finished; awaiting finish of 1 more threads\n",
      "2021-08-24 12:18:52,306 : INFO : worker thread finished; awaiting finish of 0 more threads\n",
      "2021-08-24 12:18:52,307 : INFO : EPOCH - 27 : training on 260894 raw words (178627 effective words) took 3.2s, 55324 effective words/s\n",
      "2021-08-24 12:18:53,366 : INFO : EPOCH 28 - PROGRESS: at 32.65% examples, 49798 words/s, in_qsize 6, out_qsize 0\n",
      "2021-08-24 12:18:54,570 : INFO : EPOCH 28 - PROGRESS: at 66.12% examples, 51520 words/s, in_qsize 6, out_qsize 0\n",
      "2021-08-24 12:18:55,543 : INFO : worker thread finished; awaiting finish of 2 more threads\n",
      "2021-08-24 12:18:55,618 : INFO : EPOCH 28 - PROGRESS: at 98.57% examples, 52901 words/s, in_qsize 1, out_qsize 1\n",
      "2021-08-24 12:18:55,620 : INFO : worker thread finished; awaiting finish of 1 more threads\n",
      "2021-08-24 12:18:55,636 : INFO : worker thread finished; awaiting finish of 0 more threads\n",
      "2021-08-24 12:18:55,637 : INFO : EPOCH - 28 : training on 260894 raw words (178640 effective words) took 3.3s, 53701 effective words/s\n",
      "2021-08-24 12:18:56,704 : INFO : EPOCH 29 - PROGRESS: at 28.78% examples, 43788 words/s, in_qsize 5, out_qsize 0\n",
      "2021-08-24 12:18:57,740 : INFO : EPOCH 29 - PROGRESS: at 53.27% examples, 46229 words/s, in_qsize 5, out_qsize 0\n",
      "2021-08-24 12:18:58,752 : INFO : EPOCH 29 - PROGRESS: at 91.63% examples, 52496 words/s, in_qsize 3, out_qsize 0\n",
      "2021-08-24 12:18:58,794 : INFO : worker thread finished; awaiting finish of 2 more threads\n",
      "2021-08-24 12:18:58,815 : INFO : worker thread finished; awaiting finish of 1 more threads\n",
      "2021-08-24 12:18:58,868 : INFO : worker thread finished; awaiting finish of 0 more threads\n",
      "2021-08-24 12:18:58,869 : INFO : EPOCH - 29 : training on 260894 raw words (178883 effective words) took 3.2s, 55567 effective words/s\n",
      "2021-08-24 12:18:59,914 : INFO : EPOCH 30 - PROGRESS: at 35.51% examples, 56623 words/s, in_qsize 5, out_qsize 0\n",
      "2021-08-24 12:19:00,923 : INFO : EPOCH 30 - PROGRESS: at 70.00% examples, 60183 words/s, in_qsize 6, out_qsize 0\n",
      "2021-08-24 12:19:01,500 : INFO : worker thread finished; awaiting finish of 2 more threads\n",
      "2021-08-24 12:19:01,546 : INFO : worker thread finished; awaiting finish of 1 more threads\n",
      "2021-08-24 12:19:01,582 : INFO : worker thread finished; awaiting finish of 0 more threads\n",
      "2021-08-24 12:19:01,583 : INFO : EPOCH - 30 : training on 260894 raw words (178752 effective words) took 2.7s, 65975 effective words/s\n",
      "2021-08-24 12:19:02,682 : INFO : EPOCH 31 - PROGRESS: at 37.96% examples, 59268 words/s, in_qsize 5, out_qsize 0\n",
      "2021-08-24 12:19:03,776 : INFO : EPOCH 31 - PROGRESS: at 77.14% examples, 62282 words/s, in_qsize 6, out_qsize 0\n",
      "2021-08-24 12:19:04,124 : INFO : worker thread finished; awaiting finish of 2 more threads\n",
      "2021-08-24 12:19:04,176 : INFO : worker thread finished; awaiting finish of 1 more threads\n",
      "2021-08-24 12:19:04,178 : INFO : worker thread finished; awaiting finish of 0 more threads\n",
      "2021-08-24 12:19:04,179 : INFO : EPOCH - 31 : training on 260894 raw words (178762 effective words) took 2.6s, 68904 effective words/s\n",
      "2021-08-24 12:19:05,192 : INFO : EPOCH 32 - PROGRESS: at 41.84% examples, 70830 words/s, in_qsize 5, out_qsize 0\n",
      "2021-08-24 12:19:06,231 : INFO : EPOCH 32 - PROGRESS: at 80.00% examples, 69793 words/s, in_qsize 5, out_qsize 0\n",
      "2021-08-24 12:19:06,501 : INFO : worker thread finished; awaiting finish of 2 more threads\n",
      "2021-08-24 12:19:06,554 : INFO : worker thread finished; awaiting finish of 1 more threads\n",
      "2021-08-24 12:19:06,572 : INFO : worker thread finished; awaiting finish of 0 more threads\n",
      "2021-08-24 12:19:06,573 : INFO : EPOCH - 32 : training on 260894 raw words (178797 effective words) took 2.4s, 74761 effective words/s\n",
      "2021-08-24 12:19:07,596 : INFO : EPOCH 33 - PROGRESS: at 45.10% examples, 76349 words/s, in_qsize 6, out_qsize 0\n",
      "2021-08-24 12:19:08,603 : INFO : EPOCH 33 - PROGRESS: at 93.06% examples, 80251 words/s, in_qsize 3, out_qsize 0\n",
      "2021-08-24 12:19:08,713 : INFO : worker thread finished; awaiting finish of 2 more threads\n",
      "2021-08-24 12:19:08,740 : INFO : worker thread finished; awaiting finish of 1 more threads\n",
      "2021-08-24 12:19:08,748 : INFO : worker thread finished; awaiting finish of 0 more threads\n",
      "2021-08-24 12:19:08,749 : INFO : EPOCH - 33 : training on 260894 raw words (178481 effective words) took 2.2s, 82115 effective words/s\n",
      "2021-08-24 12:19:09,755 : INFO : EPOCH 34 - PROGRESS: at 41.84% examples, 71152 words/s, in_qsize 5, out_qsize 0\n",
      "2021-08-24 12:19:10,792 : INFO : EPOCH 34 - PROGRESS: at 91.63% examples, 79694 words/s, in_qsize 3, out_qsize 0\n",
      "2021-08-24 12:19:10,824 : INFO : worker thread finished; awaiting finish of 2 more threads\n",
      "2021-08-24 12:19:10,853 : INFO : worker thread finished; awaiting finish of 1 more threads\n",
      "2021-08-24 12:19:10,890 : INFO : worker thread finished; awaiting finish of 0 more threads\n",
      "2021-08-24 12:19:10,891 : INFO : EPOCH - 34 : training on 260894 raw words (178544 effective words) took 2.1s, 83433 effective words/s\n",
      "2021-08-24 12:19:11,942 : INFO : EPOCH 35 - PROGRESS: at 48.57% examples, 80038 words/s, in_qsize 6, out_qsize 0\n",
      "2021-08-24 12:19:12,819 : INFO : worker thread finished; awaiting finish of 2 more threads\n",
      "2021-08-24 12:19:12,832 : INFO : worker thread finished; awaiting finish of 1 more threads\n",
      "2021-08-24 12:19:12,857 : INFO : worker thread finished; awaiting finish of 0 more threads\n",
      "2021-08-24 12:19:12,858 : INFO : EPOCH - 35 : training on 260894 raw words (178662 effective words) took 2.0s, 90911 effective words/s\n",
      "2021-08-24 12:19:13,867 : INFO : EPOCH 36 - PROGRESS: at 48.57% examples, 83237 words/s, in_qsize 5, out_qsize 0\n",
      "2021-08-24 12:19:14,876 : INFO : EPOCH 36 - PROGRESS: at 95.92% examples, 83938 words/s, in_qsize 2, out_qsize 1\n",
      "2021-08-24 12:19:14,878 : INFO : worker thread finished; awaiting finish of 2 more threads\n",
      "2021-08-24 12:19:14,935 : INFO : worker thread finished; awaiting finish of 1 more threads\n"
     ]
    },
    {
     "name": "stderr",
     "output_type": "stream",
     "text": [
      "2021-08-24 12:19:14,964 : INFO : worker thread finished; awaiting finish of 0 more threads\n",
      "2021-08-24 12:19:14,965 : INFO : EPOCH - 36 : training on 260894 raw words (178588 effective words) took 2.1s, 84839 effective words/s\n",
      "2021-08-24 12:19:15,983 : INFO : EPOCH 37 - PROGRESS: at 48.57% examples, 82697 words/s, in_qsize 5, out_qsize 0\n",
      "2021-08-24 12:19:16,946 : INFO : worker thread finished; awaiting finish of 2 more threads\n",
      "2021-08-24 12:19:16,964 : INFO : worker thread finished; awaiting finish of 1 more threads\n",
      "2021-08-24 12:19:16,985 : INFO : EPOCH 37 - PROGRESS: at 100.00% examples, 88520 words/s, in_qsize 0, out_qsize 1\n",
      "2021-08-24 12:19:16,986 : INFO : worker thread finished; awaiting finish of 0 more threads\n",
      "2021-08-24 12:19:16,986 : INFO : EPOCH - 37 : training on 260894 raw words (178597 effective words) took 2.0s, 88453 effective words/s\n",
      "2021-08-24 12:19:18,023 : INFO : EPOCH 38 - PROGRESS: at 48.57% examples, 81248 words/s, in_qsize 6, out_qsize 0\n",
      "2021-08-24 12:19:19,037 : INFO : EPOCH 38 - PROGRESS: at 91.63% examples, 79550 words/s, in_qsize 3, out_qsize 0\n",
      "2021-08-24 12:19:19,065 : INFO : worker thread finished; awaiting finish of 2 more threads\n",
      "2021-08-24 12:19:19,105 : INFO : worker thread finished; awaiting finish of 1 more threads\n",
      "2021-08-24 12:19:19,136 : INFO : worker thread finished; awaiting finish of 0 more threads\n",
      "2021-08-24 12:19:19,137 : INFO : EPOCH - 38 : training on 260894 raw words (178743 effective words) took 2.1s, 83268 effective words/s\n",
      "2021-08-24 12:19:20,239 : INFO : EPOCH 39 - PROGRESS: at 53.27% examples, 88072 words/s, in_qsize 5, out_qsize 0\n",
      "2021-08-24 12:19:21,092 : INFO : worker thread finished; awaiting finish of 2 more threads\n",
      "2021-08-24 12:19:21,151 : INFO : worker thread finished; awaiting finish of 1 more threads\n",
      "2021-08-24 12:19:21,160 : INFO : worker thread finished; awaiting finish of 0 more threads\n",
      "2021-08-24 12:19:21,160 : INFO : EPOCH - 39 : training on 260894 raw words (178823 effective words) took 2.0s, 88543 effective words/s\n",
      "2021-08-24 12:19:22,176 : INFO : EPOCH 40 - PROGRESS: at 48.57% examples, 82767 words/s, in_qsize 5, out_qsize 0\n",
      "2021-08-24 12:19:23,190 : INFO : EPOCH 40 - PROGRESS: at 95.92% examples, 83463 words/s, in_qsize 2, out_qsize 1\n",
      "2021-08-24 12:19:23,192 : INFO : worker thread finished; awaiting finish of 2 more threads\n",
      "2021-08-24 12:19:23,213 : INFO : worker thread finished; awaiting finish of 1 more threads\n",
      "2021-08-24 12:19:23,220 : INFO : worker thread finished; awaiting finish of 0 more threads\n",
      "2021-08-24 12:19:23,222 : INFO : EPOCH - 40 : training on 260894 raw words (178617 effective words) took 2.1s, 86749 effective words/s\n",
      "2021-08-24 12:19:24,277 : INFO : EPOCH 41 - PROGRESS: at 48.57% examples, 79753 words/s, in_qsize 6, out_qsize 0\n",
      "2021-08-24 12:19:25,267 : INFO : worker thread finished; awaiting finish of 2 more threads\n",
      "2021-08-24 12:19:25,286 : INFO : EPOCH 41 - PROGRESS: at 98.57% examples, 84957 words/s, in_qsize 1, out_qsize 1\n",
      "2021-08-24 12:19:25,286 : INFO : worker thread finished; awaiting finish of 1 more threads\n",
      "2021-08-24 12:19:25,322 : INFO : worker thread finished; awaiting finish of 0 more threads\n",
      "2021-08-24 12:19:25,323 : INFO : EPOCH - 41 : training on 260894 raw words (178873 effective words) took 2.1s, 85197 effective words/s\n",
      "2021-08-24 12:19:26,406 : INFO : EPOCH 42 - PROGRESS: at 48.57% examples, 77790 words/s, in_qsize 5, out_qsize 0\n",
      "2021-08-24 12:19:27,341 : INFO : worker thread finished; awaiting finish of 2 more threads\n",
      "2021-08-24 12:19:27,401 : INFO : worker thread finished; awaiting finish of 1 more threads\n",
      "2021-08-24 12:19:27,407 : INFO : EPOCH 42 - PROGRESS: at 100.00% examples, 85994 words/s, in_qsize 0, out_qsize 1\n",
      "2021-08-24 12:19:27,407 : INFO : worker thread finished; awaiting finish of 0 more threads\n",
      "2021-08-24 12:19:27,408 : INFO : EPOCH - 42 : training on 260894 raw words (178970 effective words) took 2.1s, 85936 effective words/s\n",
      "2021-08-24 12:19:28,432 : INFO : EPOCH 43 - PROGRESS: at 48.57% examples, 82090 words/s, in_qsize 5, out_qsize 0\n",
      "2021-08-24 12:19:29,344 : INFO : worker thread finished; awaiting finish of 2 more threads\n",
      "2021-08-24 12:19:29,348 : INFO : worker thread finished; awaiting finish of 1 more threads\n",
      "2021-08-24 12:19:29,349 : INFO : worker thread finished; awaiting finish of 0 more threads\n",
      "2021-08-24 12:19:29,351 : INFO : EPOCH - 43 : training on 260894 raw words (178521 effective words) took 1.9s, 92026 effective words/s\n",
      "2021-08-24 12:19:30,377 : INFO : EPOCH 44 - PROGRESS: at 41.84% examples, 69861 words/s, in_qsize 5, out_qsize 0\n",
      "2021-08-24 12:19:31,411 : INFO : EPOCH 44 - PROGRESS: at 95.92% examples, 82231 words/s, in_qsize 2, out_qsize 1\n",
      "2021-08-24 12:19:31,415 : INFO : worker thread finished; awaiting finish of 2 more threads\n",
      "2021-08-24 12:19:31,470 : INFO : worker thread finished; awaiting finish of 1 more threads\n",
      "2021-08-24 12:19:31,489 : INFO : worker thread finished; awaiting finish of 0 more threads\n",
      "2021-08-24 12:19:31,492 : INFO : EPOCH - 44 : training on 260894 raw words (178532 effective words) took 2.1s, 83515 effective words/s\n",
      "2021-08-24 12:19:32,546 : INFO : EPOCH 45 - PROGRESS: at 50.41% examples, 85447 words/s, in_qsize 5, out_qsize 0\n",
      "2021-08-24 12:19:33,307 : INFO : worker thread finished; awaiting finish of 2 more threads\n",
      "2021-08-24 12:19:33,355 : INFO : worker thread finished; awaiting finish of 1 more threads\n",
      "2021-08-24 12:19:33,368 : INFO : worker thread finished; awaiting finish of 0 more threads\n",
      "2021-08-24 12:19:33,370 : INFO : EPOCH - 45 : training on 260894 raw words (178412 effective words) took 1.9s, 95118 effective words/s\n",
      "2021-08-24 12:19:34,386 : INFO : EPOCH 46 - PROGRESS: at 50.41% examples, 88854 words/s, in_qsize 5, out_qsize 0\n",
      "2021-08-24 12:19:35,310 : INFO : worker thread finished; awaiting finish of 2 more threads\n",
      "2021-08-24 12:19:35,330 : INFO : worker thread finished; awaiting finish of 1 more threads\n",
      "2021-08-24 12:19:35,350 : INFO : worker thread finished; awaiting finish of 0 more threads\n",
      "2021-08-24 12:19:35,351 : INFO : EPOCH - 46 : training on 260894 raw words (178656 effective words) took 2.0s, 90293 effective words/s\n",
      "2021-08-24 12:19:36,354 : INFO : EPOCH 47 - PROGRESS: at 45.10% examples, 77824 words/s, in_qsize 5, out_qsize 0\n",
      "2021-08-24 12:19:37,303 : INFO : worker thread finished; awaiting finish of 2 more threads\n",
      "2021-08-24 12:19:37,305 : INFO : worker thread finished; awaiting finish of 1 more threads\n",
      "2021-08-24 12:19:37,306 : INFO : worker thread finished; awaiting finish of 0 more threads\n",
      "2021-08-24 12:19:37,307 : INFO : EPOCH - 47 : training on 260894 raw words (178634 effective words) took 2.0s, 91423 effective words/s\n",
      "2021-08-24 12:19:38,437 : INFO : EPOCH 48 - PROGRESS: at 53.27% examples, 85661 words/s, in_qsize 5, out_qsize 0\n",
      "2021-08-24 12:19:39,162 : INFO : worker thread finished; awaiting finish of 2 more threads\n",
      "2021-08-24 12:19:39,181 : INFO : worker thread finished; awaiting finish of 1 more threads\n",
      "2021-08-24 12:19:39,214 : INFO : worker thread finished; awaiting finish of 0 more threads\n",
      "2021-08-24 12:19:39,215 : INFO : EPOCH - 48 : training on 260894 raw words (178614 effective words) took 1.9s, 93718 effective words/s\n",
      "2021-08-24 12:19:40,245 : INFO : EPOCH 49 - PROGRESS: at 50.41% examples, 87558 words/s, in_qsize 5, out_qsize 0\n",
      "2021-08-24 12:19:41,128 : INFO : worker thread finished; awaiting finish of 2 more threads\n",
      "2021-08-24 12:19:41,182 : INFO : worker thread finished; awaiting finish of 1 more threads\n",
      "2021-08-24 12:19:41,204 : INFO : worker thread finished; awaiting finish of 0 more threads\n",
      "2021-08-24 12:19:41,205 : INFO : EPOCH - 49 : training on 260894 raw words (178606 effective words) took 2.0s, 89865 effective words/s\n",
      "2021-08-24 12:19:42,302 : INFO : EPOCH 50 - PROGRESS: at 50.41% examples, 82420 words/s, in_qsize 5, out_qsize 0\n",
      "2021-08-24 12:19:43,053 : INFO : worker thread finished; awaiting finish of 2 more threads\n",
      "2021-08-24 12:19:43,077 : INFO : worker thread finished; awaiting finish of 1 more threads\n",
      "2021-08-24 12:19:43,107 : INFO : worker thread finished; awaiting finish of 0 more threads\n",
      "2021-08-24 12:19:43,107 : INFO : EPOCH - 50 : training on 260894 raw words (178768 effective words) took 1.9s, 94123 effective words/s\n"
     ]
    },
    {
     "name": "stderr",
     "output_type": "stream",
     "text": [
      "2021-08-24 12:19:44,147 : INFO : EPOCH 51 - PROGRESS: at 53.88% examples, 87178 words/s, in_qsize 5, out_qsize 0\n",
      "2021-08-24 12:19:44,909 : INFO : worker thread finished; awaiting finish of 2 more threads\n",
      "2021-08-24 12:19:44,921 : INFO : worker thread finished; awaiting finish of 1 more threads\n",
      "2021-08-24 12:19:44,931 : INFO : worker thread finished; awaiting finish of 0 more threads\n",
      "2021-08-24 12:19:44,932 : INFO : EPOCH - 51 : training on 260894 raw words (178471 effective words) took 1.8s, 97941 effective words/s\n",
      "2021-08-24 12:19:46,069 : INFO : EPOCH 52 - PROGRESS: at 53.27% examples, 85194 words/s, in_qsize 5, out_qsize 0\n",
      "2021-08-24 12:19:46,778 : INFO : worker thread finished; awaiting finish of 2 more threads\n",
      "2021-08-24 12:19:46,789 : INFO : worker thread finished; awaiting finish of 1 more threads\n",
      "2021-08-24 12:19:46,828 : INFO : worker thread finished; awaiting finish of 0 more threads\n",
      "2021-08-24 12:19:46,829 : INFO : EPOCH - 52 : training on 260894 raw words (178606 effective words) took 1.9s, 94229 effective words/s\n",
      "2021-08-24 12:19:47,858 : INFO : EPOCH 53 - PROGRESS: at 51.43% examples, 88099 words/s, in_qsize 5, out_qsize 0\n",
      "2021-08-24 12:19:48,672 : INFO : worker thread finished; awaiting finish of 2 more threads\n",
      "2021-08-24 12:19:48,703 : INFO : worker thread finished; awaiting finish of 1 more threads\n",
      "2021-08-24 12:19:48,716 : INFO : worker thread finished; awaiting finish of 0 more threads\n",
      "2021-08-24 12:19:48,717 : INFO : EPOCH - 53 : training on 260894 raw words (178666 effective words) took 1.9s, 94715 effective words/s\n",
      "2021-08-24 12:19:49,763 : INFO : EPOCH 54 - PROGRESS: at 46.94% examples, 80634 words/s, in_qsize 5, out_qsize 0\n",
      "2021-08-24 12:19:50,685 : INFO : worker thread finished; awaiting finish of 2 more threads\n",
      "2021-08-24 12:19:50,713 : INFO : worker thread finished; awaiting finish of 1 more threads\n",
      "2021-08-24 12:19:50,722 : INFO : worker thread finished; awaiting finish of 0 more threads\n",
      "2021-08-24 12:19:50,722 : INFO : EPOCH - 54 : training on 260894 raw words (178570 effective words) took 2.0s, 89154 effective words/s\n",
      "2021-08-24 12:19:51,764 : INFO : EPOCH 55 - PROGRESS: at 51.43% examples, 87161 words/s, in_qsize 5, out_qsize 0\n",
      "2021-08-24 12:19:52,599 : INFO : worker thread finished; awaiting finish of 2 more threads\n",
      "2021-08-24 12:19:52,607 : INFO : worker thread finished; awaiting finish of 1 more threads\n",
      "2021-08-24 12:19:52,642 : INFO : worker thread finished; awaiting finish of 0 more threads\n",
      "2021-08-24 12:19:52,642 : INFO : EPOCH - 55 : training on 260894 raw words (178882 effective words) took 1.9s, 93272 effective words/s\n",
      "2021-08-24 12:19:53,717 : INFO : EPOCH 56 - PROGRESS: at 50.41% examples, 83908 words/s, in_qsize 5, out_qsize 0\n",
      "2021-08-24 12:19:54,476 : INFO : worker thread finished; awaiting finish of 2 more threads\n",
      "2021-08-24 12:19:54,547 : INFO : worker thread finished; awaiting finish of 1 more threads\n",
      "2021-08-24 12:19:54,560 : INFO : worker thread finished; awaiting finish of 0 more threads\n",
      "2021-08-24 12:19:54,561 : INFO : EPOCH - 56 : training on 260894 raw words (178646 effective words) took 1.9s, 93278 effective words/s\n",
      "2021-08-24 12:19:55,683 : INFO : EPOCH 57 - PROGRESS: at 50.41% examples, 80594 words/s, in_qsize 5, out_qsize 0\n",
      "2021-08-24 12:19:56,481 : INFO : worker thread finished; awaiting finish of 2 more threads\n",
      "2021-08-24 12:19:56,492 : INFO : worker thread finished; awaiting finish of 1 more threads\n",
      "2021-08-24 12:19:56,511 : INFO : worker thread finished; awaiting finish of 0 more threads\n",
      "2021-08-24 12:19:56,512 : INFO : EPOCH - 57 : training on 260894 raw words (178764 effective words) took 1.9s, 91852 effective words/s\n",
      "2021-08-24 12:19:57,587 : INFO : EPOCH 58 - PROGRESS: at 51.43% examples, 84398 words/s, in_qsize 5, out_qsize 0\n",
      "2021-08-24 12:19:58,357 : INFO : worker thread finished; awaiting finish of 2 more threads\n",
      "2021-08-24 12:19:58,374 : INFO : worker thread finished; awaiting finish of 1 more threads\n",
      "2021-08-24 12:19:58,419 : INFO : worker thread finished; awaiting finish of 0 more threads\n",
      "2021-08-24 12:19:58,420 : INFO : EPOCH - 58 : training on 260894 raw words (178660 effective words) took 1.9s, 93801 effective words/s\n",
      "2021-08-24 12:19:59,551 : INFO : EPOCH 59 - PROGRESS: at 53.27% examples, 85642 words/s, in_qsize 5, out_qsize 0\n",
      "2021-08-24 12:20:00,246 : INFO : worker thread finished; awaiting finish of 2 more threads\n",
      "2021-08-24 12:20:00,278 : INFO : worker thread finished; awaiting finish of 1 more threads\n",
      "2021-08-24 12:20:00,299 : INFO : worker thread finished; awaiting finish of 0 more threads\n",
      "2021-08-24 12:20:00,299 : INFO : EPOCH - 59 : training on 260894 raw words (178498 effective words) took 1.9s, 95087 effective words/s\n",
      "2021-08-24 12:20:01,360 : INFO : EPOCH 60 - PROGRESS: at 53.27% examples, 91404 words/s, in_qsize 5, out_qsize 0\n",
      "2021-08-24 12:20:02,128 : INFO : worker thread finished; awaiting finish of 2 more threads\n",
      "2021-08-24 12:20:02,149 : INFO : worker thread finished; awaiting finish of 1 more threads\n",
      "2021-08-24 12:20:02,165 : INFO : worker thread finished; awaiting finish of 0 more threads\n",
      "2021-08-24 12:20:02,166 : INFO : EPOCH - 60 : training on 260894 raw words (178602 effective words) took 1.9s, 95762 effective words/s\n",
      "2021-08-24 12:20:03,219 : INFO : EPOCH 61 - PROGRESS: at 51.43% examples, 86707 words/s, in_qsize 5, out_qsize 0\n",
      "2021-08-24 12:20:03,941 : INFO : worker thread finished; awaiting finish of 2 more threads\n",
      "2021-08-24 12:20:04,004 : INFO : worker thread finished; awaiting finish of 1 more threads\n",
      "2021-08-24 12:20:04,023 : INFO : worker thread finished; awaiting finish of 0 more threads\n",
      "2021-08-24 12:20:04,023 : INFO : EPOCH - 61 : training on 260894 raw words (178443 effective words) took 1.8s, 96595 effective words/s\n",
      "2021-08-24 12:20:05,049 : INFO : EPOCH 62 - PROGRESS: at 50.41% examples, 88018 words/s, in_qsize 5, out_qsize 0\n",
      "2021-08-24 12:20:05,709 : INFO : worker thread finished; awaiting finish of 2 more threads\n",
      "2021-08-24 12:20:05,768 : INFO : worker thread finished; awaiting finish of 1 more threads\n",
      "2021-08-24 12:20:05,783 : INFO : worker thread finished; awaiting finish of 0 more threads\n",
      "2021-08-24 12:20:05,784 : INFO : EPOCH - 62 : training on 260894 raw words (178517 effective words) took 1.8s, 101504 effective words/s\n",
      "2021-08-24 12:20:06,827 : INFO : EPOCH 63 - PROGRESS: at 53.27% examples, 92949 words/s, in_qsize 5, out_qsize 0\n",
      "2021-08-24 12:20:07,604 : INFO : worker thread finished; awaiting finish of 2 more threads\n",
      "2021-08-24 12:20:07,625 : INFO : worker thread finished; awaiting finish of 1 more threads\n",
      "2021-08-24 12:20:07,639 : INFO : worker thread finished; awaiting finish of 0 more threads\n",
      "2021-08-24 12:20:07,640 : INFO : EPOCH - 63 : training on 260894 raw words (178780 effective words) took 1.9s, 96442 effective words/s\n",
      "2021-08-24 12:20:08,753 : INFO : EPOCH 64 - PROGRESS: at 53.27% examples, 86920 words/s, in_qsize 5, out_qsize 0\n",
      "2021-08-24 12:20:09,433 : INFO : worker thread finished; awaiting finish of 2 more threads\n",
      "2021-08-24 12:20:09,482 : INFO : worker thread finished; awaiting finish of 1 more threads\n",
      "2021-08-24 12:20:09,484 : INFO : worker thread finished; awaiting finish of 0 more threads\n",
      "2021-08-24 12:20:09,486 : INFO : EPOCH - 64 : training on 260894 raw words (178695 effective words) took 1.8s, 96916 effective words/s\n",
      "2021-08-24 12:20:10,533 : INFO : EPOCH 65 - PROGRESS: at 53.27% examples, 92456 words/s, in_qsize 5, out_qsize 0\n",
      "2021-08-24 12:20:11,281 : INFO : worker thread finished; awaiting finish of 2 more threads\n",
      "2021-08-24 12:20:11,293 : INFO : worker thread finished; awaiting finish of 1 more threads\n",
      "2021-08-24 12:20:11,297 : INFO : worker thread finished; awaiting finish of 0 more threads\n",
      "2021-08-24 12:20:11,299 : INFO : EPOCH - 65 : training on 260894 raw words (178433 effective words) took 1.8s, 98584 effective words/s\n",
      "2021-08-24 12:20:12,354 : INFO : EPOCH 66 - PROGRESS: at 48.57% examples, 79813 words/s, in_qsize 6, out_qsize 0\n",
      "2021-08-24 12:20:13,215 : INFO : worker thread finished; awaiting finish of 2 more threads\n",
      "2021-08-24 12:20:13,254 : INFO : worker thread finished; awaiting finish of 1 more threads\n",
      "2021-08-24 12:20:13,279 : INFO : worker thread finished; awaiting finish of 0 more threads\n"
     ]
    },
    {
     "name": "stderr",
     "output_type": "stream",
     "text": [
      "2021-08-24 12:20:13,280 : INFO : EPOCH - 66 : training on 260894 raw words (178562 effective words) took 2.0s, 90284 effective words/s\n",
      "2021-08-24 12:20:14,371 : INFO : EPOCH 67 - PROGRESS: at 58.57% examples, 94878 words/s, in_qsize 5, out_qsize 0\n",
      "2021-08-24 12:20:15,049 : INFO : worker thread finished; awaiting finish of 2 more threads\n",
      "2021-08-24 12:20:15,064 : INFO : worker thread finished; awaiting finish of 1 more threads\n",
      "2021-08-24 12:20:15,104 : INFO : worker thread finished; awaiting finish of 0 more threads\n",
      "2021-08-24 12:20:15,105 : INFO : EPOCH - 67 : training on 260894 raw words (178603 effective words) took 1.8s, 98007 effective words/s\n",
      "2021-08-24 12:20:16,212 : INFO : EPOCH 68 - PROGRESS: at 58.57% examples, 93302 words/s, in_qsize 6, out_qsize 0\n",
      "2021-08-24 12:20:16,820 : INFO : worker thread finished; awaiting finish of 2 more threads\n",
      "2021-08-24 12:20:16,843 : INFO : worker thread finished; awaiting finish of 1 more threads\n",
      "2021-08-24 12:20:16,885 : INFO : worker thread finished; awaiting finish of 0 more threads\n",
      "2021-08-24 12:20:16,886 : INFO : EPOCH - 68 : training on 260894 raw words (178553 effective words) took 1.8s, 100314 effective words/s\n",
      "2021-08-24 12:20:17,931 : INFO : EPOCH 69 - PROGRESS: at 53.27% examples, 92813 words/s, in_qsize 5, out_qsize 0\n",
      "2021-08-24 12:20:18,644 : INFO : worker thread finished; awaiting finish of 2 more threads\n",
      "2021-08-24 12:20:18,680 : INFO : worker thread finished; awaiting finish of 1 more threads\n",
      "2021-08-24 12:20:18,698 : INFO : worker thread finished; awaiting finish of 0 more threads\n",
      "2021-08-24 12:20:18,699 : INFO : EPOCH - 69 : training on 260894 raw words (178627 effective words) took 1.8s, 98718 effective words/s\n",
      "2021-08-24 12:20:19,735 : INFO : EPOCH 70 - PROGRESS: at 53.27% examples, 93401 words/s, in_qsize 5, out_qsize 0\n",
      "2021-08-24 12:20:20,477 : INFO : worker thread finished; awaiting finish of 2 more threads\n",
      "2021-08-24 12:20:20,483 : INFO : worker thread finished; awaiting finish of 1 more threads\n",
      "2021-08-24 12:20:20,505 : INFO : worker thread finished; awaiting finish of 0 more threads\n",
      "2021-08-24 12:20:20,506 : INFO : EPOCH - 70 : training on 260894 raw words (178676 effective words) took 1.8s, 98974 effective words/s\n",
      "2021-08-24 12:20:21,568 : INFO : EPOCH 71 - PROGRESS: at 53.27% examples, 91101 words/s, in_qsize 5, out_qsize 0\n",
      "2021-08-24 12:20:22,203 : INFO : worker thread finished; awaiting finish of 2 more threads\n",
      "2021-08-24 12:20:22,263 : INFO : worker thread finished; awaiting finish of 1 more threads\n",
      "2021-08-24 12:20:22,279 : INFO : worker thread finished; awaiting finish of 0 more threads\n",
      "2021-08-24 12:20:22,279 : INFO : EPOCH - 71 : training on 260894 raw words (178693 effective words) took 1.8s, 100862 effective words/s\n",
      "2021-08-24 12:20:23,290 : INFO : EPOCH 72 - PROGRESS: at 53.27% examples, 95769 words/s, in_qsize 5, out_qsize 0\n",
      "2021-08-24 12:20:24,080 : INFO : worker thread finished; awaiting finish of 2 more threads\n",
      "2021-08-24 12:20:24,096 : INFO : worker thread finished; awaiting finish of 1 more threads\n",
      "2021-08-24 12:20:24,158 : INFO : worker thread finished; awaiting finish of 0 more threads\n",
      "2021-08-24 12:20:24,160 : INFO : EPOCH - 72 : training on 260894 raw words (178528 effective words) took 1.9s, 95048 effective words/s\n",
      "2021-08-24 12:20:25,198 : INFO : EPOCH 73 - PROGRESS: at 50.41% examples, 86970 words/s, in_qsize 5, out_qsize 0\n",
      "2021-08-24 12:20:25,986 : INFO : worker thread finished; awaiting finish of 2 more threads\n",
      "2021-08-24 12:20:26,030 : INFO : worker thread finished; awaiting finish of 1 more threads\n",
      "2021-08-24 12:20:26,050 : INFO : worker thread finished; awaiting finish of 0 more threads\n",
      "2021-08-24 12:20:26,051 : INFO : EPOCH - 73 : training on 260894 raw words (178509 effective words) took 1.9s, 94557 effective words/s\n",
      "2021-08-24 12:20:27,148 : INFO : EPOCH 74 - PROGRESS: at 53.27% examples, 88452 words/s, in_qsize 6, out_qsize 0\n",
      "2021-08-24 12:20:27,851 : INFO : worker thread finished; awaiting finish of 2 more threads\n",
      "2021-08-24 12:20:27,875 : INFO : worker thread finished; awaiting finish of 1 more threads\n",
      "2021-08-24 12:20:27,920 : INFO : worker thread finished; awaiting finish of 0 more threads\n",
      "2021-08-24 12:20:27,920 : INFO : EPOCH - 74 : training on 260894 raw words (178845 effective words) took 1.9s, 95802 effective words/s\n",
      "2021-08-24 12:20:29,027 : INFO : EPOCH 75 - PROGRESS: at 50.41% examples, 81344 words/s, in_qsize 5, out_qsize 0\n",
      "2021-08-24 12:20:29,772 : INFO : worker thread finished; awaiting finish of 2 more threads\n",
      "2021-08-24 12:20:29,810 : INFO : worker thread finished; awaiting finish of 1 more threads\n",
      "2021-08-24 12:20:29,844 : INFO : worker thread finished; awaiting finish of 0 more threads\n",
      "2021-08-24 12:20:29,845 : INFO : EPOCH - 75 : training on 260894 raw words (178472 effective words) took 1.9s, 92822 effective words/s\n",
      "2021-08-24 12:20:30,863 : INFO : EPOCH 76 - PROGRESS: at 53.27% examples, 95225 words/s, in_qsize 5, out_qsize 0\n",
      "2021-08-24 12:20:31,599 : INFO : worker thread finished; awaiting finish of 2 more threads\n",
      "2021-08-24 12:20:31,603 : INFO : worker thread finished; awaiting finish of 1 more threads\n",
      "2021-08-24 12:20:31,620 : INFO : worker thread finished; awaiting finish of 0 more threads\n",
      "2021-08-24 12:20:31,620 : INFO : EPOCH - 76 : training on 260894 raw words (178609 effective words) took 1.8s, 100720 effective words/s\n",
      "2021-08-24 12:20:32,632 : INFO : EPOCH 77 - PROGRESS: at 50.41% examples, 89072 words/s, in_qsize 5, out_qsize 0\n",
      "2021-08-24 12:20:33,421 : INFO : worker thread finished; awaiting finish of 2 more threads\n",
      "2021-08-24 12:20:33,444 : INFO : worker thread finished; awaiting finish of 1 more threads\n",
      "2021-08-24 12:20:33,454 : INFO : worker thread finished; awaiting finish of 0 more threads\n",
      "2021-08-24 12:20:33,455 : INFO : EPOCH - 77 : training on 260894 raw words (178535 effective words) took 1.8s, 97404 effective words/s\n",
      "2021-08-24 12:20:34,518 : INFO : EPOCH 78 - PROGRESS: at 50.41% examples, 84956 words/s, in_qsize 5, out_qsize 0\n",
      "2021-08-24 12:20:35,339 : INFO : worker thread finished; awaiting finish of 2 more threads\n",
      "2021-08-24 12:20:35,375 : INFO : worker thread finished; awaiting finish of 1 more threads\n",
      "2021-08-24 12:20:35,388 : INFO : worker thread finished; awaiting finish of 0 more threads\n",
      "2021-08-24 12:20:35,389 : INFO : EPOCH - 78 : training on 260894 raw words (178585 effective words) took 1.9s, 92578 effective words/s\n",
      "2021-08-24 12:20:36,501 : INFO : EPOCH 79 - PROGRESS: at 55.71% examples, 87178 words/s, in_qsize 5, out_qsize 0\n",
      "2021-08-24 12:20:37,181 : INFO : worker thread finished; awaiting finish of 2 more threads\n",
      "2021-08-24 12:20:37,212 : INFO : worker thread finished; awaiting finish of 1 more threads\n",
      "2021-08-24 12:20:37,231 : INFO : worker thread finished; awaiting finish of 0 more threads\n",
      "2021-08-24 12:20:37,232 : INFO : EPOCH - 79 : training on 260894 raw words (178746 effective words) took 1.8s, 97071 effective words/s\n",
      "2021-08-24 12:20:38,253 : INFO : EPOCH 80 - PROGRESS: at 47.96% examples, 83025 words/s, in_qsize 5, out_qsize 0\n",
      "2021-08-24 12:20:39,062 : INFO : worker thread finished; awaiting finish of 2 more threads\n",
      "2021-08-24 12:20:39,086 : INFO : worker thread finished; awaiting finish of 1 more threads\n",
      "2021-08-24 12:20:39,095 : INFO : worker thread finished; awaiting finish of 0 more threads\n",
      "2021-08-24 12:20:39,097 : INFO : EPOCH - 80 : training on 260894 raw words (178657 effective words) took 1.9s, 95905 effective words/s\n",
      "2021-08-24 12:20:40,124 : INFO : EPOCH 81 - PROGRESS: at 58.57% examples, 100828 words/s, in_qsize 5, out_qsize 0\n",
      "2021-08-24 12:20:40,782 : INFO : worker thread finished; awaiting finish of 2 more threads\n",
      "2021-08-24 12:20:40,810 : INFO : worker thread finished; awaiting finish of 1 more threads\n",
      "2021-08-24 12:20:40,822 : INFO : worker thread finished; awaiting finish of 0 more threads\n",
      "2021-08-24 12:20:40,823 : INFO : EPOCH - 81 : training on 260894 raw words (178422 effective words) took 1.7s, 103604 effective words/s\n",
      "2021-08-24 12:20:41,891 : INFO : EPOCH 82 - PROGRESS: at 53.88% examples, 85153 words/s, in_qsize 6, out_qsize 0\n",
      "2021-08-24 12:20:42,592 : INFO : worker thread finished; awaiting finish of 2 more threads\n",
      "2021-08-24 12:20:42,672 : INFO : worker thread finished; awaiting finish of 1 more threads\n"
     ]
    },
    {
     "name": "stderr",
     "output_type": "stream",
     "text": [
      "2021-08-24 12:20:42,697 : INFO : worker thread finished; awaiting finish of 0 more threads\n",
      "2021-08-24 12:20:42,698 : INFO : EPOCH - 82 : training on 260894 raw words (178743 effective words) took 1.9s, 95569 effective words/s\n",
      "2021-08-24 12:20:43,749 : INFO : EPOCH 83 - PROGRESS: at 53.27% examples, 92101 words/s, in_qsize 5, out_qsize 0\n",
      "2021-08-24 12:20:44,491 : INFO : worker thread finished; awaiting finish of 2 more threads\n",
      "2021-08-24 12:20:44,506 : INFO : worker thread finished; awaiting finish of 1 more threads\n",
      "2021-08-24 12:20:44,546 : INFO : worker thread finished; awaiting finish of 0 more threads\n",
      "2021-08-24 12:20:44,547 : INFO : EPOCH - 83 : training on 260894 raw words (178629 effective words) took 1.8s, 96732 effective words/s\n",
      "2021-08-24 12:20:45,618 : INFO : EPOCH 84 - PROGRESS: at 53.27% examples, 90475 words/s, in_qsize 5, out_qsize 0\n",
      "2021-08-24 12:20:46,304 : INFO : worker thread finished; awaiting finish of 2 more threads\n",
      "2021-08-24 12:20:46,318 : INFO : worker thread finished; awaiting finish of 1 more threads\n",
      "2021-08-24 12:20:46,320 : INFO : worker thread finished; awaiting finish of 0 more threads\n",
      "2021-08-24 12:20:46,321 : INFO : EPOCH - 84 : training on 260894 raw words (178700 effective words) took 1.8s, 100841 effective words/s\n",
      "2021-08-24 12:20:47,520 : INFO : EPOCH 85 - PROGRESS: at 58.57% examples, 86534 words/s, in_qsize 6, out_qsize 0\n",
      "2021-08-24 12:20:48,332 : INFO : worker thread finished; awaiting finish of 2 more threads\n",
      "2021-08-24 12:20:48,335 : INFO : worker thread finished; awaiting finish of 1 more threads\n",
      "2021-08-24 12:20:48,351 : INFO : worker thread finished; awaiting finish of 0 more threads\n",
      "2021-08-24 12:20:48,351 : INFO : EPOCH - 85 : training on 260894 raw words (178735 effective words) took 2.0s, 88280 effective words/s\n",
      "2021-08-24 12:20:49,446 : INFO : EPOCH 86 - PROGRESS: at 48.57% examples, 76804 words/s, in_qsize 6, out_qsize 0\n",
      "2021-08-24 12:20:50,331 : INFO : worker thread finished; awaiting finish of 2 more threads\n",
      "2021-08-24 12:20:50,335 : INFO : worker thread finished; awaiting finish of 1 more threads\n",
      "2021-08-24 12:20:50,387 : INFO : worker thread finished; awaiting finish of 0 more threads\n",
      "2021-08-24 12:20:50,388 : INFO : EPOCH - 86 : training on 260894 raw words (178655 effective words) took 2.0s, 87816 effective words/s\n",
      "2021-08-24 12:20:51,391 : INFO : EPOCH 87 - PROGRESS: at 53.27% examples, 96394 words/s, in_qsize 5, out_qsize 0\n",
      "2021-08-24 12:20:52,232 : INFO : worker thread finished; awaiting finish of 2 more threads\n",
      "2021-08-24 12:20:52,251 : INFO : worker thread finished; awaiting finish of 1 more threads\n",
      "2021-08-24 12:20:52,282 : INFO : worker thread finished; awaiting finish of 0 more threads\n",
      "2021-08-24 12:20:52,283 : INFO : EPOCH - 87 : training on 260894 raw words (178668 effective words) took 1.9s, 94370 effective words/s\n",
      "2021-08-24 12:20:53,286 : INFO : EPOCH 88 - PROGRESS: at 48.57% examples, 83734 words/s, in_qsize 5, out_qsize 0\n",
      "2021-08-24 12:20:54,241 : INFO : worker thread finished; awaiting finish of 2 more threads\n",
      "2021-08-24 12:20:54,360 : INFO : EPOCH 88 - PROGRESS: at 97.35% examples, 83339 words/s, in_qsize 1, out_qsize 1\n",
      "2021-08-24 12:20:54,361 : INFO : worker thread finished; awaiting finish of 1 more threads\n",
      "2021-08-24 12:20:54,393 : INFO : worker thread finished; awaiting finish of 0 more threads\n",
      "2021-08-24 12:20:54,394 : INFO : EPOCH - 88 : training on 260894 raw words (178570 effective words) took 2.1s, 84671 effective words/s\n",
      "2021-08-24 12:20:55,475 : INFO : EPOCH 89 - PROGRESS: at 51.43% examples, 83929 words/s, in_qsize 5, out_qsize 0\n",
      "2021-08-24 12:20:56,344 : INFO : worker thread finished; awaiting finish of 2 more threads\n",
      "2021-08-24 12:20:56,386 : INFO : worker thread finished; awaiting finish of 1 more threads\n",
      "2021-08-24 12:20:56,434 : INFO : worker thread finished; awaiting finish of 0 more threads\n",
      "2021-08-24 12:20:56,435 : INFO : EPOCH - 89 : training on 260894 raw words (178679 effective words) took 2.0s, 87723 effective words/s\n",
      "2021-08-24 12:20:57,563 : INFO : EPOCH 90 - PROGRESS: at 46.94% examples, 74994 words/s, in_qsize 6, out_qsize 0\n",
      "2021-08-24 12:20:58,714 : INFO : EPOCH 90 - PROGRESS: at 93.06% examples, 71609 words/s, in_qsize 3, out_qsize 0\n",
      "2021-08-24 12:20:58,750 : INFO : worker thread finished; awaiting finish of 2 more threads\n",
      "2021-08-24 12:20:58,788 : INFO : worker thread finished; awaiting finish of 1 more threads\n",
      "2021-08-24 12:20:58,837 : INFO : worker thread finished; awaiting finish of 0 more threads\n",
      "2021-08-24 12:20:58,837 : INFO : EPOCH - 90 : training on 260894 raw words (178636 effective words) took 2.4s, 74526 effective words/s\n",
      "2021-08-24 12:20:59,885 : INFO : EPOCH 91 - PROGRESS: at 51.43% examples, 86442 words/s, in_qsize 5, out_qsize 0\n",
      "2021-08-24 12:21:00,634 : INFO : worker thread finished; awaiting finish of 2 more threads\n",
      "2021-08-24 12:21:00,640 : INFO : worker thread finished; awaiting finish of 1 more threads\n",
      "2021-08-24 12:21:00,697 : INFO : worker thread finished; awaiting finish of 0 more threads\n",
      "2021-08-24 12:21:00,698 : INFO : EPOCH - 91 : training on 260894 raw words (178611 effective words) took 1.9s, 96087 effective words/s\n",
      "2021-08-24 12:21:01,709 : INFO : EPOCH 92 - PROGRESS: at 47.96% examples, 83661 words/s, in_qsize 5, out_qsize 0\n",
      "2021-08-24 12:21:02,765 : INFO : EPOCH 92 - PROGRESS: at 93.06% examples, 78786 words/s, in_qsize 3, out_qsize 0\n",
      "2021-08-24 12:21:02,777 : INFO : worker thread finished; awaiting finish of 2 more threads\n",
      "2021-08-24 12:21:02,837 : INFO : worker thread finished; awaiting finish of 1 more threads\n",
      "2021-08-24 12:21:02,863 : INFO : worker thread finished; awaiting finish of 0 more threads\n",
      "2021-08-24 12:21:02,863 : INFO : EPOCH - 92 : training on 260894 raw words (178471 effective words) took 2.2s, 82514 effective words/s\n",
      "2021-08-24 12:21:03,948 : INFO : EPOCH 93 - PROGRESS: at 48.57% examples, 77565 words/s, in_qsize 5, out_qsize 0\n",
      "2021-08-24 12:21:04,896 : INFO : worker thread finished; awaiting finish of 2 more threads\n",
      "2021-08-24 12:21:05,007 : INFO : EPOCH 93 - PROGRESS: at 98.57% examples, 81781 words/s, in_qsize 1, out_qsize 1\n",
      "2021-08-24 12:21:05,016 : INFO : worker thread finished; awaiting finish of 1 more threads\n",
      "2021-08-24 12:21:05,041 : INFO : worker thread finished; awaiting finish of 0 more threads\n",
      "2021-08-24 12:21:05,044 : INFO : EPOCH - 93 : training on 260894 raw words (178848 effective words) took 2.2s, 82088 effective words/s\n",
      "2021-08-24 12:21:06,086 : INFO : EPOCH 94 - PROGRESS: at 48.57% examples, 80687 words/s, in_qsize 6, out_qsize 0\n",
      "2021-08-24 12:21:06,842 : INFO : worker thread finished; awaiting finish of 2 more threads\n",
      "2021-08-24 12:21:06,868 : INFO : worker thread finished; awaiting finish of 1 more threads\n",
      "2021-08-24 12:21:06,889 : INFO : worker thread finished; awaiting finish of 0 more threads\n",
      "2021-08-24 12:21:06,890 : INFO : EPOCH - 94 : training on 260894 raw words (178631 effective words) took 1.8s, 96897 effective words/s\n",
      "2021-08-24 12:21:08,039 : INFO : EPOCH 95 - PROGRESS: at 62.45% examples, 95953 words/s, in_qsize 6, out_qsize 0\n",
      "2021-08-24 12:21:08,509 : INFO : worker thread finished; awaiting finish of 2 more threads\n",
      "2021-08-24 12:21:08,544 : INFO : worker thread finished; awaiting finish of 1 more threads\n",
      "2021-08-24 12:21:08,589 : INFO : worker thread finished; awaiting finish of 0 more threads\n",
      "2021-08-24 12:21:08,590 : INFO : EPOCH - 95 : training on 260894 raw words (178528 effective words) took 1.7s, 105201 effective words/s\n",
      "2021-08-24 12:21:09,596 : INFO : EPOCH 96 - PROGRESS: at 50.41% examples, 89723 words/s, in_qsize 6, out_qsize 0\n",
      "2021-08-24 12:21:10,515 : INFO : worker thread finished; awaiting finish of 2 more threads\n",
      "2021-08-24 12:21:10,610 : INFO : EPOCH 96 - PROGRESS: at 98.57% examples, 86741 words/s, in_qsize 1, out_qsize 1\n",
      "2021-08-24 12:21:10,613 : INFO : worker thread finished; awaiting finish of 1 more threads\n",
      "2021-08-24 12:21:10,617 : INFO : worker thread finished; awaiting finish of 0 more threads\n",
      "2021-08-24 12:21:10,619 : INFO : EPOCH - 96 : training on 260894 raw words (178644 effective words) took 2.0s, 88179 effective words/s\n",
      "2021-08-24 12:21:11,740 : INFO : EPOCH 97 - PROGRESS: at 51.43% examples, 80983 words/s, in_qsize 5, out_qsize 0\n"
     ]
    },
    {
     "name": "stderr",
     "output_type": "stream",
     "text": [
      "2021-08-24 12:21:12,482 : INFO : worker thread finished; awaiting finish of 2 more threads\n",
      "2021-08-24 12:21:12,532 : INFO : worker thread finished; awaiting finish of 1 more threads\n",
      "2021-08-24 12:21:12,549 : INFO : worker thread finished; awaiting finish of 0 more threads\n",
      "2021-08-24 12:21:12,550 : INFO : EPOCH - 97 : training on 260894 raw words (178635 effective words) took 1.9s, 92699 effective words/s\n",
      "2021-08-24 12:21:13,711 : INFO : EPOCH 98 - PROGRESS: at 46.94% examples, 72501 words/s, in_qsize 5, out_qsize 0\n",
      "2021-08-24 12:21:14,543 : INFO : worker thread finished; awaiting finish of 2 more threads\n",
      "2021-08-24 12:21:14,566 : INFO : worker thread finished; awaiting finish of 1 more threads\n",
      "2021-08-24 12:21:14,574 : INFO : worker thread finished; awaiting finish of 0 more threads\n",
      "2021-08-24 12:21:14,575 : INFO : EPOCH - 98 : training on 260894 raw words (178673 effective words) took 2.0s, 88318 effective words/s\n",
      "2021-08-24 12:21:15,579 : INFO : EPOCH 99 - PROGRESS: at 58.57% examples, 102959 words/s, in_qsize 5, out_qsize 0\n",
      "2021-08-24 12:21:16,180 : INFO : worker thread finished; awaiting finish of 2 more threads\n",
      "2021-08-24 12:21:16,217 : INFO : worker thread finished; awaiting finish of 1 more threads\n",
      "2021-08-24 12:21:16,241 : INFO : worker thread finished; awaiting finish of 0 more threads\n",
      "2021-08-24 12:21:16,242 : INFO : EPOCH - 99 : training on 260894 raw words (178829 effective words) took 1.7s, 107410 effective words/s\n",
      "2021-08-24 12:21:17,298 : INFO : EPOCH 100 - PROGRESS: at 62.45% examples, 104477 words/s, in_qsize 6, out_qsize 0\n",
      "2021-08-24 12:21:17,823 : INFO : worker thread finished; awaiting finish of 2 more threads\n",
      "2021-08-24 12:21:17,875 : INFO : worker thread finished; awaiting finish of 1 more threads\n",
      "2021-08-24 12:21:17,892 : INFO : worker thread finished; awaiting finish of 0 more threads\n",
      "2021-08-24 12:21:17,893 : INFO : EPOCH - 100 : training on 260894 raw words (178721 effective words) took 1.6s, 108342 effective words/s\n",
      "2021-08-24 12:21:18,919 : INFO : EPOCH 101 - PROGRESS: at 53.27% examples, 94762 words/s, in_qsize 5, out_qsize 0\n",
      "2021-08-24 12:21:19,587 : INFO : worker thread finished; awaiting finish of 2 more threads\n",
      "2021-08-24 12:21:19,702 : INFO : worker thread finished; awaiting finish of 1 more threads\n",
      "2021-08-24 12:21:19,706 : INFO : worker thread finished; awaiting finish of 0 more threads\n",
      "2021-08-24 12:21:19,707 : INFO : EPOCH - 101 : training on 260894 raw words (178629 effective words) took 1.8s, 98755 effective words/s\n",
      "2021-08-24 12:21:20,796 : INFO : EPOCH 102 - PROGRESS: at 45.10% examples, 71712 words/s, in_qsize 5, out_qsize 0\n",
      "2021-08-24 12:21:21,798 : INFO : EPOCH 102 - PROGRESS: at 86.12% examples, 74776 words/s, in_qsize 4, out_qsize 0\n",
      "2021-08-24 12:21:21,872 : INFO : worker thread finished; awaiting finish of 2 more threads\n",
      "2021-08-24 12:21:21,946 : INFO : worker thread finished; awaiting finish of 1 more threads\n",
      "2021-08-24 12:21:21,958 : INFO : worker thread finished; awaiting finish of 0 more threads\n",
      "2021-08-24 12:21:21,959 : INFO : EPOCH - 102 : training on 260894 raw words (178764 effective words) took 2.2s, 79466 effective words/s\n",
      "2021-08-24 12:21:23,005 : INFO : EPOCH 103 - PROGRESS: at 39.39% examples, 62816 words/s, in_qsize 5, out_qsize 0\n",
      "2021-08-24 12:21:24,098 : INFO : EPOCH 103 - PROGRESS: at 80.00% examples, 66997 words/s, in_qsize 5, out_qsize 0\n",
      "2021-08-24 12:21:24,424 : INFO : worker thread finished; awaiting finish of 2 more threads\n",
      "2021-08-24 12:21:24,456 : INFO : worker thread finished; awaiting finish of 1 more threads\n",
      "2021-08-24 12:21:24,512 : INFO : worker thread finished; awaiting finish of 0 more threads\n",
      "2021-08-24 12:21:24,513 : INFO : EPOCH - 103 : training on 260894 raw words (178725 effective words) took 2.6s, 70073 effective words/s\n",
      "2021-08-24 12:21:25,568 : INFO : EPOCH 104 - PROGRESS: at 28.78% examples, 44560 words/s, in_qsize 5, out_qsize 0\n",
      "2021-08-24 12:21:26,569 : INFO : EPOCH 104 - PROGRESS: at 77.14% examples, 66986 words/s, in_qsize 6, out_qsize 0\n",
      "2021-08-24 12:21:26,871 : INFO : worker thread finished; awaiting finish of 2 more threads\n",
      "2021-08-24 12:21:26,877 : INFO : worker thread finished; awaiting finish of 1 more threads\n",
      "2021-08-24 12:21:26,931 : INFO : worker thread finished; awaiting finish of 0 more threads\n",
      "2021-08-24 12:21:26,932 : INFO : EPOCH - 104 : training on 260894 raw words (178620 effective words) took 2.4s, 74492 effective words/s\n",
      "2021-08-24 12:21:28,054 : INFO : EPOCH 105 - PROGRESS: at 62.24% examples, 97916 words/s, in_qsize 6, out_qsize 0\n",
      "2021-08-24 12:21:28,577 : INFO : worker thread finished; awaiting finish of 2 more threads\n",
      "2021-08-24 12:21:28,664 : INFO : worker thread finished; awaiting finish of 1 more threads\n",
      "2021-08-24 12:21:28,674 : INFO : worker thread finished; awaiting finish of 0 more threads\n",
      "2021-08-24 12:21:28,675 : INFO : EPOCH - 105 : training on 260894 raw words (178567 effective words) took 1.7s, 102552 effective words/s\n",
      "2021-08-24 12:21:29,697 : INFO : EPOCH 106 - PROGRESS: at 48.57% examples, 82581 words/s, in_qsize 6, out_qsize 0\n",
      "2021-08-24 12:21:30,425 : INFO : worker thread finished; awaiting finish of 2 more threads\n",
      "2021-08-24 12:21:30,484 : INFO : worker thread finished; awaiting finish of 1 more threads\n",
      "2021-08-24 12:21:30,492 : INFO : worker thread finished; awaiting finish of 0 more threads\n",
      "2021-08-24 12:21:30,493 : INFO : EPOCH - 106 : training on 260894 raw words (178729 effective words) took 1.8s, 98669 effective words/s\n",
      "2021-08-24 12:21:31,530 : INFO : EPOCH 107 - PROGRESS: at 53.27% examples, 93724 words/s, in_qsize 5, out_qsize 0\n",
      "2021-08-24 12:21:32,150 : INFO : worker thread finished; awaiting finish of 2 more threads\n",
      "2021-08-24 12:21:32,169 : INFO : worker thread finished; awaiting finish of 1 more threads\n",
      "2021-08-24 12:21:32,204 : INFO : worker thread finished; awaiting finish of 0 more threads\n",
      "2021-08-24 12:21:32,204 : INFO : EPOCH - 107 : training on 260894 raw words (178736 effective words) took 1.7s, 104720 effective words/s\n",
      "2021-08-24 12:21:33,257 : INFO : EPOCH 108 - PROGRESS: at 53.27% examples, 91950 words/s, in_qsize 5, out_qsize 0\n",
      "2021-08-24 12:21:33,859 : INFO : worker thread finished; awaiting finish of 2 more threads\n",
      "2021-08-24 12:21:33,912 : INFO : worker thread finished; awaiting finish of 1 more threads\n",
      "2021-08-24 12:21:33,920 : INFO : worker thread finished; awaiting finish of 0 more threads\n",
      "2021-08-24 12:21:33,920 : INFO : EPOCH - 108 : training on 260894 raw words (178657 effective words) took 1.7s, 104270 effective words/s\n",
      "2021-08-24 12:21:34,978 : INFO : EPOCH 109 - PROGRESS: at 58.57% examples, 97980 words/s, in_qsize 6, out_qsize 0\n",
      "2021-08-24 12:21:35,564 : INFO : worker thread finished; awaiting finish of 2 more threads\n",
      "2021-08-24 12:21:35,590 : INFO : worker thread finished; awaiting finish of 1 more threads\n",
      "2021-08-24 12:21:35,603 : INFO : worker thread finished; awaiting finish of 0 more threads\n",
      "2021-08-24 12:21:35,604 : INFO : EPOCH - 109 : training on 260894 raw words (178686 effective words) took 1.7s, 106297 effective words/s\n",
      "2021-08-24 12:21:36,617 : INFO : EPOCH 110 - PROGRESS: at 58.57% examples, 102322 words/s, in_qsize 5, out_qsize 0\n",
      "2021-08-24 12:21:37,314 : INFO : worker thread finished; awaiting finish of 2 more threads\n",
      "2021-08-24 12:21:37,369 : INFO : worker thread finished; awaiting finish of 1 more threads\n",
      "2021-08-24 12:21:37,376 : INFO : worker thread finished; awaiting finish of 0 more threads\n",
      "2021-08-24 12:21:37,378 : INFO : EPOCH - 110 : training on 260894 raw words (178821 effective words) took 1.8s, 100934 effective words/s\n",
      "2021-08-24 12:21:38,469 : INFO : EPOCH 111 - PROGRESS: at 55.71% examples, 89127 words/s, in_qsize 5, out_qsize 0\n",
      "2021-08-24 12:21:39,101 : INFO : worker thread finished; awaiting finish of 2 more threads\n",
      "2021-08-24 12:21:39,156 : INFO : worker thread finished; awaiting finish of 1 more threads\n",
      "2021-08-24 12:21:39,179 : INFO : worker thread finished; awaiting finish of 0 more threads\n",
      "2021-08-24 12:21:39,180 : INFO : EPOCH - 111 : training on 260894 raw words (178802 effective words) took 1.8s, 99560 effective words/s\n",
      "2021-08-24 12:21:40,216 : INFO : EPOCH 112 - PROGRESS: at 53.27% examples, 93383 words/s, in_qsize 5, out_qsize 0\n",
      "2021-08-24 12:21:40,937 : INFO : worker thread finished; awaiting finish of 2 more threads\n"
     ]
    },
    {
     "name": "stderr",
     "output_type": "stream",
     "text": [
      "2021-08-24 12:21:40,939 : INFO : worker thread finished; awaiting finish of 1 more threads\n",
      "2021-08-24 12:21:40,971 : INFO : worker thread finished; awaiting finish of 0 more threads\n",
      "2021-08-24 12:21:40,972 : INFO : EPOCH - 112 : training on 260894 raw words (178460 effective words) took 1.8s, 99698 effective words/s\n",
      "2021-08-24 12:21:42,028 : INFO : EPOCH 113 - PROGRESS: at 62.45% examples, 104565 words/s, in_qsize 6, out_qsize 0\n",
      "2021-08-24 12:21:42,582 : INFO : worker thread finished; awaiting finish of 2 more threads\n",
      "2021-08-24 12:21:42,598 : INFO : worker thread finished; awaiting finish of 1 more threads\n",
      "2021-08-24 12:21:42,617 : INFO : worker thread finished; awaiting finish of 0 more threads\n",
      "2021-08-24 12:21:42,618 : INFO : EPOCH - 113 : training on 260894 raw words (178608 effective words) took 1.6s, 108846 effective words/s\n",
      "2021-08-24 12:21:43,674 : INFO : EPOCH 114 - PROGRESS: at 57.14% examples, 97988 words/s, in_qsize 6, out_qsize 0\n",
      "2021-08-24 12:21:44,282 : INFO : worker thread finished; awaiting finish of 2 more threads\n",
      "2021-08-24 12:21:44,290 : INFO : worker thread finished; awaiting finish of 1 more threads\n",
      "2021-08-24 12:21:44,297 : INFO : worker thread finished; awaiting finish of 0 more threads\n",
      "2021-08-24 12:21:44,298 : INFO : EPOCH - 114 : training on 260894 raw words (178658 effective words) took 1.7s, 106447 effective words/s\n",
      "2021-08-24 12:21:45,368 : INFO : EPOCH 115 - PROGRESS: at 58.57% examples, 96784 words/s, in_qsize 5, out_qsize 0\n",
      "2021-08-24 12:21:45,934 : INFO : worker thread finished; awaiting finish of 2 more threads\n",
      "2021-08-24 12:21:45,964 : INFO : worker thread finished; awaiting finish of 1 more threads\n",
      "2021-08-24 12:21:45,985 : INFO : worker thread finished; awaiting finish of 0 more threads\n",
      "2021-08-24 12:21:45,985 : INFO : EPOCH - 115 : training on 260894 raw words (178622 effective words) took 1.7s, 106037 effective words/s\n",
      "2021-08-24 12:21:47,023 : INFO : EPOCH 116 - PROGRESS: at 53.27% examples, 93404 words/s, in_qsize 5, out_qsize 0\n",
      "2021-08-24 12:21:47,700 : INFO : worker thread finished; awaiting finish of 2 more threads\n",
      "2021-08-24 12:21:47,702 : INFO : worker thread finished; awaiting finish of 1 more threads\n",
      "2021-08-24 12:21:47,723 : INFO : worker thread finished; awaiting finish of 0 more threads\n",
      "2021-08-24 12:21:47,724 : INFO : EPOCH - 116 : training on 260894 raw words (178708 effective words) took 1.7s, 102905 effective words/s\n",
      "2021-08-24 12:21:48,821 : INFO : EPOCH 117 - PROGRESS: at 56.94% examples, 94263 words/s, in_qsize 6, out_qsize 0\n",
      "2021-08-24 12:21:49,662 : INFO : worker thread finished; awaiting finish of 2 more threads\n",
      "2021-08-24 12:21:49,777 : INFO : worker thread finished; awaiting finish of 1 more threads\n",
      "2021-08-24 12:21:49,787 : INFO : worker thread finished; awaiting finish of 0 more threads\n",
      "2021-08-24 12:21:49,788 : INFO : EPOCH - 117 : training on 260894 raw words (178662 effective words) took 2.1s, 86702 effective words/s\n",
      "2021-08-24 12:21:50,810 : INFO : EPOCH 118 - PROGRESS: at 54.29% examples, 94896 words/s, in_qsize 5, out_qsize 0\n",
      "2021-08-24 12:21:51,421 : INFO : worker thread finished; awaiting finish of 2 more threads\n",
      "2021-08-24 12:21:51,444 : INFO : worker thread finished; awaiting finish of 1 more threads\n",
      "2021-08-24 12:21:51,468 : INFO : worker thread finished; awaiting finish of 0 more threads\n",
      "2021-08-24 12:21:51,469 : INFO : EPOCH - 118 : training on 260894 raw words (178733 effective words) took 1.7s, 106468 effective words/s\n",
      "2021-08-24 12:21:52,573 : INFO : EPOCH 119 - PROGRESS: at 56.94% examples, 93496 words/s, in_qsize 6, out_qsize 0\n",
      "2021-08-24 12:21:53,115 : INFO : worker thread finished; awaiting finish of 2 more threads\n",
      "2021-08-24 12:21:53,165 : INFO : worker thread finished; awaiting finish of 1 more threads\n",
      "2021-08-24 12:21:53,168 : INFO : worker thread finished; awaiting finish of 0 more threads\n",
      "2021-08-24 12:21:53,169 : INFO : EPOCH - 119 : training on 260894 raw words (178677 effective words) took 1.7s, 105228 effective words/s\n",
      "2021-08-24 12:21:54,197 : INFO : EPOCH 120 - PROGRESS: at 62.45% examples, 107229 words/s, in_qsize 5, out_qsize 0\n",
      "2021-08-24 12:21:54,768 : INFO : worker thread finished; awaiting finish of 2 more threads\n",
      "2021-08-24 12:21:54,800 : INFO : worker thread finished; awaiting finish of 1 more threads\n",
      "2021-08-24 12:21:54,832 : INFO : worker thread finished; awaiting finish of 0 more threads\n",
      "2021-08-24 12:21:54,832 : INFO : EPOCH - 120 : training on 260894 raw words (178542 effective words) took 1.7s, 107508 effective words/s\n",
      "2021-08-24 12:21:55,844 : INFO : EPOCH 121 - PROGRESS: at 53.27% examples, 95775 words/s, in_qsize 5, out_qsize 0\n",
      "2021-08-24 12:21:56,565 : INFO : worker thread finished; awaiting finish of 2 more threads\n",
      "2021-08-24 12:21:56,613 : INFO : worker thread finished; awaiting finish of 1 more threads\n",
      "2021-08-24 12:21:56,622 : INFO : worker thread finished; awaiting finish of 0 more threads\n",
      "2021-08-24 12:21:56,623 : INFO : EPOCH - 121 : training on 260894 raw words (178517 effective words) took 1.8s, 99884 effective words/s\n",
      "2021-08-24 12:21:57,639 : INFO : EPOCH 122 - PROGRESS: at 53.27% examples, 95322 words/s, in_qsize 5, out_qsize 0\n",
      "2021-08-24 12:21:58,333 : INFO : worker thread finished; awaiting finish of 2 more threads\n",
      "2021-08-24 12:21:58,345 : INFO : worker thread finished; awaiting finish of 1 more threads\n",
      "2021-08-24 12:21:58,368 : INFO : worker thread finished; awaiting finish of 0 more threads\n",
      "2021-08-24 12:21:58,369 : INFO : EPOCH - 122 : training on 260894 raw words (178584 effective words) took 1.7s, 102371 effective words/s\n",
      "2021-08-24 12:21:59,400 : INFO : EPOCH 123 - PROGRESS: at 54.29% examples, 94038 words/s, in_qsize 6, out_qsize 0\n",
      "2021-08-24 12:21:59,988 : INFO : worker thread finished; awaiting finish of 2 more threads\n",
      "2021-08-24 12:22:00,048 : INFO : worker thread finished; awaiting finish of 1 more threads\n",
      "2021-08-24 12:22:00,070 : INFO : worker thread finished; awaiting finish of 0 more threads\n",
      "2021-08-24 12:22:00,071 : INFO : EPOCH - 123 : training on 260894 raw words (178423 effective words) took 1.7s, 104994 effective words/s\n",
      "2021-08-24 12:22:01,105 : INFO : EPOCH 124 - PROGRESS: at 58.57% examples, 100028 words/s, in_qsize 6, out_qsize 0\n",
      "2021-08-24 12:22:01,726 : INFO : worker thread finished; awaiting finish of 2 more threads\n",
      "2021-08-24 12:22:01,728 : INFO : worker thread finished; awaiting finish of 1 more threads\n",
      "2021-08-24 12:22:01,747 : INFO : worker thread finished; awaiting finish of 0 more threads\n",
      "2021-08-24 12:22:01,748 : INFO : EPOCH - 124 : training on 260894 raw words (178659 effective words) took 1.7s, 106673 effective words/s\n",
      "2021-08-24 12:22:02,864 : INFO : EPOCH 125 - PROGRESS: at 62.24% examples, 98589 words/s, in_qsize 6, out_qsize 0\n",
      "2021-08-24 12:22:03,393 : INFO : worker thread finished; awaiting finish of 2 more threads\n",
      "2021-08-24 12:22:03,445 : INFO : worker thread finished; awaiting finish of 1 more threads\n",
      "2021-08-24 12:22:03,474 : INFO : worker thread finished; awaiting finish of 0 more threads\n",
      "2021-08-24 12:22:03,475 : INFO : EPOCH - 125 : training on 260894 raw words (178752 effective words) took 1.7s, 103633 effective words/s\n",
      "2021-08-24 12:22:04,497 : INFO : EPOCH 126 - PROGRESS: at 53.27% examples, 94547 words/s, in_qsize 5, out_qsize 0\n",
      "2021-08-24 12:22:05,421 : INFO : worker thread finished; awaiting finish of 2 more threads\n",
      "2021-08-24 12:22:05,497 : INFO : EPOCH 126 - PROGRESS: at 97.14% examples, 85147 words/s, in_qsize 1, out_qsize 1\n",
      "2021-08-24 12:22:05,499 : INFO : worker thread finished; awaiting finish of 1 more threads\n",
      "2021-08-24 12:22:05,508 : INFO : worker thread finished; awaiting finish of 0 more threads\n",
      "2021-08-24 12:22:05,510 : INFO : EPOCH - 126 : training on 260894 raw words (178513 effective words) took 2.0s, 87789 effective words/s\n",
      "2021-08-24 12:22:06,664 : INFO : EPOCH 127 - PROGRESS: at 58.57% examples, 90025 words/s, in_qsize 6, out_qsize 0\n",
      "2021-08-24 12:22:07,496 : INFO : worker thread finished; awaiting finish of 2 more threads\n",
      "2021-08-24 12:22:07,532 : INFO : worker thread finished; awaiting finish of 1 more threads\n",
      "2021-08-24 12:22:07,547 : INFO : worker thread finished; awaiting finish of 0 more threads\n",
      "2021-08-24 12:22:07,549 : INFO : EPOCH - 127 : training on 260894 raw words (178729 effective words) took 2.0s, 87954 effective words/s\n"
     ]
    },
    {
     "name": "stderr",
     "output_type": "stream",
     "text": [
      "2021-08-24 12:22:08,630 : INFO : EPOCH 128 - PROGRESS: at 45.10% examples, 72907 words/s, in_qsize 6, out_qsize 0\n",
      "2021-08-24 12:22:09,721 : INFO : EPOCH 128 - PROGRESS: at 80.00% examples, 66135 words/s, in_qsize 5, out_qsize 0\n",
      "2021-08-24 12:22:09,954 : INFO : worker thread finished; awaiting finish of 2 more threads\n",
      "2021-08-24 12:22:09,973 : INFO : worker thread finished; awaiting finish of 1 more threads\n",
      "2021-08-24 12:22:10,025 : INFO : worker thread finished; awaiting finish of 0 more threads\n",
      "2021-08-24 12:22:10,026 : INFO : EPOCH - 128 : training on 260894 raw words (178807 effective words) took 2.5s, 72454 effective words/s\n",
      "2021-08-24 12:22:11,052 : INFO : EPOCH 129 - PROGRESS: at 50.41% examples, 87850 words/s, in_qsize 5, out_qsize 0\n",
      "2021-08-24 12:22:11,775 : INFO : worker thread finished; awaiting finish of 2 more threads\n",
      "2021-08-24 12:22:11,834 : INFO : worker thread finished; awaiting finish of 1 more threads\n",
      "2021-08-24 12:22:11,838 : INFO : worker thread finished; awaiting finish of 0 more threads\n",
      "2021-08-24 12:22:11,839 : INFO : EPOCH - 129 : training on 260894 raw words (178600 effective words) took 1.8s, 98600 effective words/s\n",
      "2021-08-24 12:22:12,960 : INFO : EPOCH 130 - PROGRESS: at 57.14% examples, 92736 words/s, in_qsize 5, out_qsize 0\n",
      "2021-08-24 12:22:13,560 : INFO : worker thread finished; awaiting finish of 2 more threads\n",
      "2021-08-24 12:22:13,585 : INFO : worker thread finished; awaiting finish of 1 more threads\n",
      "2021-08-24 12:22:13,611 : INFO : worker thread finished; awaiting finish of 0 more threads\n",
      "2021-08-24 12:22:13,612 : INFO : EPOCH - 130 : training on 260894 raw words (178644 effective words) took 1.8s, 101029 effective words/s\n",
      "2021-08-24 12:22:14,710 : INFO : EPOCH 131 - PROGRESS: at 62.45% examples, 100434 words/s, in_qsize 6, out_qsize 0\n",
      "2021-08-24 12:22:15,172 : INFO : worker thread finished; awaiting finish of 2 more threads\n",
      "2021-08-24 12:22:15,257 : INFO : worker thread finished; awaiting finish of 1 more threads\n",
      "2021-08-24 12:22:15,277 : INFO : worker thread finished; awaiting finish of 0 more threads\n",
      "2021-08-24 12:22:15,277 : INFO : EPOCH - 131 : training on 260894 raw words (178837 effective words) took 1.7s, 107517 effective words/s\n",
      "2021-08-24 12:22:16,331 : INFO : EPOCH 132 - PROGRESS: at 62.45% examples, 104439 words/s, in_qsize 6, out_qsize 0\n",
      "2021-08-24 12:22:16,832 : INFO : worker thread finished; awaiting finish of 2 more threads\n",
      "2021-08-24 12:22:16,883 : INFO : worker thread finished; awaiting finish of 1 more threads\n",
      "2021-08-24 12:22:16,885 : INFO : worker thread finished; awaiting finish of 0 more threads\n",
      "2021-08-24 12:22:16,885 : INFO : EPOCH - 132 : training on 260894 raw words (178431 effective words) took 1.6s, 111100 effective words/s\n",
      "2021-08-24 12:22:17,896 : INFO : EPOCH 133 - PROGRESS: at 58.57% examples, 102611 words/s, in_qsize 6, out_qsize 0\n",
      "2021-08-24 12:22:18,523 : INFO : worker thread finished; awaiting finish of 2 more threads\n",
      "2021-08-24 12:22:18,545 : INFO : worker thread finished; awaiting finish of 1 more threads\n",
      "2021-08-24 12:22:18,576 : INFO : worker thread finished; awaiting finish of 0 more threads\n",
      "2021-08-24 12:22:18,577 : INFO : EPOCH - 133 : training on 260894 raw words (178865 effective words) took 1.7s, 105885 effective words/s\n",
      "2021-08-24 12:22:19,683 : INFO : EPOCH 134 - PROGRESS: at 58.57% examples, 93588 words/s, in_qsize 5, out_qsize 0\n",
      "2021-08-24 12:22:20,245 : INFO : worker thread finished; awaiting finish of 2 more threads\n",
      "2021-08-24 12:22:20,266 : INFO : worker thread finished; awaiting finish of 1 more threads\n",
      "2021-08-24 12:22:20,272 : INFO : worker thread finished; awaiting finish of 0 more threads\n",
      "2021-08-24 12:22:20,272 : INFO : EPOCH - 134 : training on 260894 raw words (178753 effective words) took 1.7s, 105594 effective words/s\n",
      "2021-08-24 12:22:21,281 : INFO : EPOCH 135 - PROGRESS: at 58.57% examples, 102761 words/s, in_qsize 6, out_qsize 0\n",
      "2021-08-24 12:22:21,850 : INFO : worker thread finished; awaiting finish of 2 more threads\n",
      "2021-08-24 12:22:21,896 : INFO : worker thread finished; awaiting finish of 1 more threads\n",
      "2021-08-24 12:22:21,911 : INFO : worker thread finished; awaiting finish of 0 more threads\n",
      "2021-08-24 12:22:21,912 : INFO : EPOCH - 135 : training on 260894 raw words (178682 effective words) took 1.6s, 109173 effective words/s\n",
      "2021-08-24 12:22:22,927 : INFO : EPOCH 136 - PROGRESS: at 58.57% examples, 101987 words/s, in_qsize 6, out_qsize 0\n",
      "2021-08-24 12:22:23,554 : INFO : worker thread finished; awaiting finish of 2 more threads\n",
      "2021-08-24 12:22:23,579 : INFO : worker thread finished; awaiting finish of 1 more threads\n",
      "2021-08-24 12:22:23,591 : INFO : worker thread finished; awaiting finish of 0 more threads\n",
      "2021-08-24 12:22:23,592 : INFO : EPOCH - 136 : training on 260894 raw words (178652 effective words) took 1.7s, 106438 effective words/s\n",
      "2021-08-24 12:22:24,621 : INFO : EPOCH 137 - PROGRESS: at 53.27% examples, 94205 words/s, in_qsize 5, out_qsize 0\n",
      "2021-08-24 12:22:25,225 : INFO : worker thread finished; awaiting finish of 2 more threads\n",
      "2021-08-24 12:22:25,263 : INFO : worker thread finished; awaiting finish of 1 more threads\n",
      "2021-08-24 12:22:25,265 : INFO : worker thread finished; awaiting finish of 0 more threads\n",
      "2021-08-24 12:22:25,267 : INFO : EPOCH - 137 : training on 260894 raw words (178666 effective words) took 1.7s, 106873 effective words/s\n",
      "2021-08-24 12:22:26,300 : INFO : EPOCH 138 - PROGRESS: at 53.27% examples, 94014 words/s, in_qsize 5, out_qsize 0\n",
      "2021-08-24 12:22:26,889 : INFO : worker thread finished; awaiting finish of 2 more threads\n",
      "2021-08-24 12:22:26,941 : INFO : worker thread finished; awaiting finish of 1 more threads\n",
      "2021-08-24 12:22:26,956 : INFO : worker thread finished; awaiting finish of 0 more threads\n",
      "2021-08-24 12:22:26,956 : INFO : EPOCH - 138 : training on 260894 raw words (178712 effective words) took 1.7s, 105966 effective words/s\n",
      "2021-08-24 12:22:27,985 : INFO : EPOCH 139 - PROGRESS: at 50.41% examples, 87716 words/s, in_qsize 5, out_qsize 0\n",
      "2021-08-24 12:22:29,152 : INFO : EPOCH 139 - PROGRESS: at 89.80% examples, 71151 words/s, in_qsize 4, out_qsize 0\n",
      "2021-08-24 12:22:29,304 : INFO : worker thread finished; awaiting finish of 2 more threads\n",
      "2021-08-24 12:22:29,343 : INFO : worker thread finished; awaiting finish of 1 more threads\n",
      "2021-08-24 12:22:29,401 : INFO : worker thread finished; awaiting finish of 0 more threads\n",
      "2021-08-24 12:22:29,402 : INFO : EPOCH - 139 : training on 260894 raw words (178728 effective words) took 2.4s, 73138 effective words/s\n",
      "2021-08-24 12:22:30,424 : INFO : EPOCH 140 - PROGRESS: at 55.71% examples, 95051 words/s, in_qsize 5, out_qsize 0\n",
      "2021-08-24 12:22:31,084 : INFO : worker thread finished; awaiting finish of 2 more threads\n",
      "2021-08-24 12:22:31,118 : INFO : worker thread finished; awaiting finish of 1 more threads\n",
      "2021-08-24 12:22:31,132 : INFO : worker thread finished; awaiting finish of 0 more threads\n",
      "2021-08-24 12:22:31,133 : INFO : EPOCH - 140 : training on 260894 raw words (178710 effective words) took 1.7s, 103628 effective words/s\n",
      "2021-08-24 12:22:32,196 : INFO : EPOCH 141 - PROGRESS: at 57.14% examples, 97659 words/s, in_qsize 6, out_qsize 0\n",
      "2021-08-24 12:22:32,743 : INFO : worker thread finished; awaiting finish of 2 more threads\n",
      "2021-08-24 12:22:32,807 : INFO : worker thread finished; awaiting finish of 1 more threads\n",
      "2021-08-24 12:22:32,814 : INFO : worker thread finished; awaiting finish of 0 more threads\n",
      "2021-08-24 12:22:32,814 : INFO : EPOCH - 141 : training on 260894 raw words (178844 effective words) took 1.7s, 106557 effective words/s\n",
      "2021-08-24 12:22:33,825 : INFO : EPOCH 142 - PROGRESS: at 55.71% examples, 95814 words/s, in_qsize 5, out_qsize 0\n",
      "2021-08-24 12:22:34,538 : INFO : worker thread finished; awaiting finish of 2 more threads\n",
      "2021-08-24 12:22:34,568 : INFO : worker thread finished; awaiting finish of 1 more threads\n",
      "2021-08-24 12:22:34,571 : INFO : worker thread finished; awaiting finish of 0 more threads\n",
      "2021-08-24 12:22:34,572 : INFO : EPOCH - 142 : training on 260894 raw words (178584 effective words) took 1.8s, 101728 effective words/s\n",
      "2021-08-24 12:22:35,591 : INFO : EPOCH 143 - PROGRESS: at 50.41% examples, 88766 words/s, in_qsize 5, out_qsize 0\n"
     ]
    },
    {
     "name": "stderr",
     "output_type": "stream",
     "text": [
      "2021-08-24 12:22:36,283 : INFO : worker thread finished; awaiting finish of 2 more threads\n",
      "2021-08-24 12:22:36,311 : INFO : worker thread finished; awaiting finish of 1 more threads\n",
      "2021-08-24 12:22:36,335 : INFO : worker thread finished; awaiting finish of 0 more threads\n",
      "2021-08-24 12:22:36,336 : INFO : EPOCH - 143 : training on 260894 raw words (178778 effective words) took 1.8s, 101595 effective words/s\n",
      "2021-08-24 12:22:37,473 : INFO : EPOCH 144 - PROGRESS: at 62.45% examples, 96827 words/s, in_qsize 6, out_qsize 0\n",
      "2021-08-24 12:22:37,990 : INFO : worker thread finished; awaiting finish of 2 more threads\n",
      "2021-08-24 12:22:38,036 : INFO : worker thread finished; awaiting finish of 1 more threads\n",
      "2021-08-24 12:22:38,052 : INFO : worker thread finished; awaiting finish of 0 more threads\n",
      "2021-08-24 12:22:38,053 : INFO : EPOCH - 144 : training on 260894 raw words (178672 effective words) took 1.7s, 104151 effective words/s\n",
      "2021-08-24 12:22:39,106 : INFO : EPOCH 145 - PROGRESS: at 58.57% examples, 98423 words/s, in_qsize 6, out_qsize 0\n",
      "2021-08-24 12:22:39,690 : INFO : worker thread finished; awaiting finish of 2 more threads\n",
      "2021-08-24 12:22:39,715 : INFO : worker thread finished; awaiting finish of 1 more threads\n",
      "2021-08-24 12:22:39,734 : INFO : worker thread finished; awaiting finish of 0 more threads\n",
      "2021-08-24 12:22:39,735 : INFO : EPOCH - 145 : training on 260894 raw words (178753 effective words) took 1.7s, 106398 effective words/s\n",
      "2021-08-24 12:22:40,742 : INFO : EPOCH 146 - PROGRESS: at 53.27% examples, 96268 words/s, in_qsize 5, out_qsize 0\n",
      "2021-08-24 12:22:41,362 : INFO : worker thread finished; awaiting finish of 2 more threads\n",
      "2021-08-24 12:22:41,411 : INFO : worker thread finished; awaiting finish of 1 more threads\n",
      "2021-08-24 12:22:41,427 : INFO : worker thread finished; awaiting finish of 0 more threads\n",
      "2021-08-24 12:22:41,428 : INFO : EPOCH - 146 : training on 260894 raw words (178759 effective words) took 1.7s, 105742 effective words/s\n",
      "2021-08-24 12:22:42,447 : INFO : EPOCH 147 - PROGRESS: at 62.45% examples, 108049 words/s, in_qsize 6, out_qsize 0\n",
      "2021-08-24 12:22:43,054 : INFO : worker thread finished; awaiting finish of 2 more threads\n",
      "2021-08-24 12:22:43,056 : INFO : worker thread finished; awaiting finish of 1 more threads\n",
      "2021-08-24 12:22:43,067 : INFO : worker thread finished; awaiting finish of 0 more threads\n",
      "2021-08-24 12:22:43,068 : INFO : EPOCH - 147 : training on 260894 raw words (178570 effective words) took 1.6s, 109046 effective words/s\n",
      "2021-08-24 12:22:44,101 : INFO : EPOCH 148 - PROGRESS: at 58.57% examples, 100116 words/s, in_qsize 6, out_qsize 0\n",
      "2021-08-24 12:22:44,680 : INFO : worker thread finished; awaiting finish of 2 more threads\n",
      "2021-08-24 12:22:44,702 : INFO : worker thread finished; awaiting finish of 1 more threads\n",
      "2021-08-24 12:22:44,709 : INFO : worker thread finished; awaiting finish of 0 more threads\n",
      "2021-08-24 12:22:44,710 : INFO : EPOCH - 148 : training on 260894 raw words (178552 effective words) took 1.6s, 108859 effective words/s\n",
      "2021-08-24 12:22:45,727 : INFO : EPOCH 149 - PROGRESS: at 53.27% examples, 95264 words/s, in_qsize 5, out_qsize 0\n",
      "2021-08-24 12:22:46,370 : INFO : worker thread finished; awaiting finish of 2 more threads\n",
      "2021-08-24 12:22:46,410 : INFO : worker thread finished; awaiting finish of 1 more threads\n",
      "2021-08-24 12:22:46,434 : INFO : worker thread finished; awaiting finish of 0 more threads\n",
      "2021-08-24 12:22:46,434 : INFO : EPOCH - 149 : training on 260894 raw words (178658 effective words) took 1.7s, 103699 effective words/s\n",
      "2021-08-24 12:22:47,458 : INFO : EPOCH 150 - PROGRESS: at 53.27% examples, 94639 words/s, in_qsize 5, out_qsize 0\n",
      "2021-08-24 12:22:48,133 : INFO : worker thread finished; awaiting finish of 2 more threads\n",
      "2021-08-24 12:22:48,155 : INFO : worker thread finished; awaiting finish of 1 more threads\n",
      "2021-08-24 12:22:48,159 : INFO : worker thread finished; awaiting finish of 0 more threads\n",
      "2021-08-24 12:22:48,159 : INFO : EPOCH - 150 : training on 260894 raw words (178646 effective words) took 1.7s, 103700 effective words/s\n",
      "2021-08-24 12:22:49,205 : INFO : EPOCH 151 - PROGRESS: at 41.84% examples, 68601 words/s, in_qsize 5, out_qsize 0\n",
      "2021-08-24 12:22:50,024 : INFO : worker thread finished; awaiting finish of 2 more threads\n",
      "2021-08-24 12:22:50,082 : INFO : worker thread finished; awaiting finish of 1 more threads\n",
      "2021-08-24 12:22:50,099 : INFO : worker thread finished; awaiting finish of 0 more threads\n",
      "2021-08-24 12:22:50,100 : INFO : EPOCH - 151 : training on 260894 raw words (178448 effective words) took 1.9s, 92089 effective words/s\n",
      "2021-08-24 12:22:51,192 : INFO : EPOCH 152 - PROGRESS: at 56.94% examples, 94674 words/s, in_qsize 5, out_qsize 0\n",
      "2021-08-24 12:22:51,733 : INFO : worker thread finished; awaiting finish of 2 more threads\n",
      "2021-08-24 12:22:51,739 : INFO : worker thread finished; awaiting finish of 1 more threads\n",
      "2021-08-24 12:22:51,767 : INFO : worker thread finished; awaiting finish of 0 more threads\n",
      "2021-08-24 12:22:51,768 : INFO : EPOCH - 152 : training on 260894 raw words (178802 effective words) took 1.7s, 107292 effective words/s\n",
      "2021-08-24 12:22:52,781 : INFO : EPOCH 153 - PROGRESS: at 57.14% examples, 102429 words/s, in_qsize 5, out_qsize 0\n",
      "2021-08-24 12:22:53,404 : INFO : worker thread finished; awaiting finish of 2 more threads\n",
      "2021-08-24 12:22:53,409 : INFO : worker thread finished; awaiting finish of 1 more threads\n",
      "2021-08-24 12:22:53,414 : INFO : worker thread finished; awaiting finish of 0 more threads\n",
      "2021-08-24 12:22:53,417 : INFO : EPOCH - 153 : training on 260894 raw words (178815 effective words) took 1.6s, 108573 effective words/s\n",
      "2021-08-24 12:22:54,579 : INFO : EPOCH 154 - PROGRESS: at 58.57% examples, 89431 words/s, in_qsize 6, out_qsize 0\n",
      "2021-08-24 12:22:55,217 : INFO : worker thread finished; awaiting finish of 2 more threads\n",
      "2021-08-24 12:22:55,230 : INFO : worker thread finished; awaiting finish of 1 more threads\n",
      "2021-08-24 12:22:55,254 : INFO : worker thread finished; awaiting finish of 0 more threads\n",
      "2021-08-24 12:22:55,255 : INFO : EPOCH - 154 : training on 260894 raw words (178583 effective words) took 1.8s, 97574 effective words/s\n",
      "2021-08-24 12:22:56,346 : INFO : EPOCH 155 - PROGRESS: at 53.27% examples, 88664 words/s, in_qsize 5, out_qsize 0\n",
      "2021-08-24 12:22:57,191 : INFO : worker thread finished; awaiting finish of 2 more threads\n",
      "2021-08-24 12:22:57,246 : INFO : worker thread finished; awaiting finish of 1 more threads\n",
      "2021-08-24 12:22:57,249 : INFO : worker thread finished; awaiting finish of 0 more threads\n",
      "2021-08-24 12:22:57,250 : INFO : EPOCH - 155 : training on 260894 raw words (178618 effective words) took 2.0s, 89633 effective words/s\n",
      "2021-08-24 12:22:58,301 : INFO : EPOCH 156 - PROGRESS: at 58.57% examples, 98601 words/s, in_qsize 5, out_qsize 0\n",
      "2021-08-24 12:22:58,919 : INFO : worker thread finished; awaiting finish of 2 more threads\n",
      "2021-08-24 12:22:58,930 : INFO : worker thread finished; awaiting finish of 1 more threads\n",
      "2021-08-24 12:22:58,937 : INFO : worker thread finished; awaiting finish of 0 more threads\n",
      "2021-08-24 12:22:58,938 : INFO : EPOCH - 156 : training on 260894 raw words (178802 effective words) took 1.7s, 106120 effective words/s\n",
      "2021-08-24 12:22:59,965 : INFO : EPOCH 157 - PROGRESS: at 57.14% examples, 100770 words/s, in_qsize 6, out_qsize 0\n",
      "2021-08-24 12:23:00,536 : INFO : worker thread finished; awaiting finish of 2 more threads\n",
      "2021-08-24 12:23:00,579 : INFO : worker thread finished; awaiting finish of 1 more threads\n",
      "2021-08-24 12:23:00,599 : INFO : worker thread finished; awaiting finish of 0 more threads\n",
      "2021-08-24 12:23:00,600 : INFO : EPOCH - 157 : training on 260894 raw words (178630 effective words) took 1.7s, 107584 effective words/s\n",
      "2021-08-24 12:23:01,613 : INFO : EPOCH 158 - PROGRESS: at 53.27% examples, 95632 words/s, in_qsize 5, out_qsize 0\n",
      "2021-08-24 12:23:02,220 : INFO : worker thread finished; awaiting finish of 2 more threads\n",
      "2021-08-24 12:23:02,233 : INFO : worker thread finished; awaiting finish of 1 more threads\n",
      "2021-08-24 12:23:02,250 : INFO : worker thread finished; awaiting finish of 0 more threads\n",
      "2021-08-24 12:23:02,251 : INFO : EPOCH - 158 : training on 260894 raw words (178616 effective words) took 1.6s, 108363 effective words/s\n"
     ]
    },
    {
     "name": "stderr",
     "output_type": "stream",
     "text": [
      "2021-08-24 12:23:03,346 : INFO : EPOCH 159 - PROGRESS: at 62.45% examples, 100730 words/s, in_qsize 5, out_qsize 0\n",
      "2021-08-24 12:23:03,842 : INFO : worker thread finished; awaiting finish of 2 more threads\n",
      "2021-08-24 12:23:03,870 : INFO : worker thread finished; awaiting finish of 1 more threads\n",
      "2021-08-24 12:23:03,902 : INFO : worker thread finished; awaiting finish of 0 more threads\n",
      "2021-08-24 12:23:03,903 : INFO : EPOCH - 159 : training on 260894 raw words (178928 effective words) took 1.7s, 108438 effective words/s\n",
      "2021-08-24 12:23:04,920 : INFO : EPOCH 160 - PROGRESS: at 53.27% examples, 95374 words/s, in_qsize 5, out_qsize 0\n",
      "2021-08-24 12:23:05,530 : INFO : worker thread finished; awaiting finish of 2 more threads\n",
      "2021-08-24 12:23:05,537 : INFO : worker thread finished; awaiting finish of 1 more threads\n",
      "2021-08-24 12:23:05,555 : INFO : worker thread finished; awaiting finish of 0 more threads\n",
      "2021-08-24 12:23:05,556 : INFO : EPOCH - 160 : training on 260894 raw words (178528 effective words) took 1.6s, 108231 effective words/s\n",
      "2021-08-24 12:23:06,580 : INFO : EPOCH 161 - PROGRESS: at 58.57% examples, 101056 words/s, in_qsize 6, out_qsize 0\n",
      "2021-08-24 12:23:07,281 : INFO : worker thread finished; awaiting finish of 2 more threads\n",
      "2021-08-24 12:23:07,300 : INFO : worker thread finished; awaiting finish of 1 more threads\n",
      "2021-08-24 12:23:07,346 : INFO : worker thread finished; awaiting finish of 0 more threads\n",
      "2021-08-24 12:23:07,346 : INFO : EPOCH - 161 : training on 260894 raw words (178641 effective words) took 1.8s, 99908 effective words/s\n",
      "2021-08-24 12:23:08,524 : INFO : EPOCH 162 - PROGRESS: at 37.96% examples, 55205 words/s, in_qsize 5, out_qsize 0\n",
      "2021-08-24 12:23:09,548 : INFO : EPOCH 162 - PROGRESS: at 88.78% examples, 71107 words/s, in_qsize 4, out_qsize 0\n",
      "2021-08-24 12:23:09,634 : INFO : worker thread finished; awaiting finish of 2 more threads\n",
      "2021-08-24 12:23:09,692 : INFO : worker thread finished; awaiting finish of 1 more threads\n",
      "2021-08-24 12:23:09,696 : INFO : worker thread finished; awaiting finish of 0 more threads\n",
      "2021-08-24 12:23:09,697 : INFO : EPOCH - 162 : training on 260894 raw words (178628 effective words) took 2.3s, 76153 effective words/s\n",
      "2021-08-24 12:23:10,758 : INFO : EPOCH 163 - PROGRESS: at 58.57% examples, 97529 words/s, in_qsize 5, out_qsize 0\n",
      "2021-08-24 12:23:11,303 : INFO : worker thread finished; awaiting finish of 2 more threads\n",
      "2021-08-24 12:23:11,358 : INFO : worker thread finished; awaiting finish of 1 more threads\n",
      "2021-08-24 12:23:11,367 : INFO : worker thread finished; awaiting finish of 0 more threads\n",
      "2021-08-24 12:23:11,368 : INFO : EPOCH - 163 : training on 260894 raw words (178614 effective words) took 1.7s, 107040 effective words/s\n",
      "2021-08-24 12:23:12,430 : INFO : EPOCH 164 - PROGRESS: at 62.45% examples, 103698 words/s, in_qsize 5, out_qsize 0\n",
      "2021-08-24 12:23:12,984 : INFO : worker thread finished; awaiting finish of 2 more threads\n",
      "2021-08-24 12:23:13,025 : INFO : worker thread finished; awaiting finish of 1 more threads\n",
      "2021-08-24 12:23:13,027 : INFO : worker thread finished; awaiting finish of 0 more threads\n",
      "2021-08-24 12:23:13,028 : INFO : EPOCH - 164 : training on 260894 raw words (178521 effective words) took 1.7s, 107659 effective words/s\n",
      "2021-08-24 12:23:14,059 : INFO : EPOCH 165 - PROGRESS: at 54.29% examples, 93902 words/s, in_qsize 5, out_qsize 0\n",
      "2021-08-24 12:23:14,814 : INFO : worker thread finished; awaiting finish of 2 more threads\n",
      "2021-08-24 12:23:14,916 : INFO : worker thread finished; awaiting finish of 1 more threads\n",
      "2021-08-24 12:23:14,928 : INFO : worker thread finished; awaiting finish of 0 more threads\n",
      "2021-08-24 12:23:14,930 : INFO : EPOCH - 165 : training on 260894 raw words (178516 effective words) took 1.9s, 93960 effective words/s\n",
      "2021-08-24 12:23:15,979 : INFO : EPOCH 166 - PROGRESS: at 50.41% examples, 86245 words/s, in_qsize 5, out_qsize 0\n",
      "2021-08-24 12:23:16,699 : INFO : worker thread finished; awaiting finish of 2 more threads\n",
      "2021-08-24 12:23:16,756 : INFO : worker thread finished; awaiting finish of 1 more threads\n",
      "2021-08-24 12:23:16,772 : INFO : worker thread finished; awaiting finish of 0 more threads\n",
      "2021-08-24 12:23:16,773 : INFO : EPOCH - 166 : training on 260894 raw words (178626 effective words) took 1.8s, 97203 effective words/s\n",
      "2021-08-24 12:23:17,802 : INFO : EPOCH 167 - PROGRESS: at 58.57% examples, 101144 words/s, in_qsize 6, out_qsize 0\n",
      "2021-08-24 12:23:18,529 : INFO : worker thread finished; awaiting finish of 2 more threads\n",
      "2021-08-24 12:23:18,559 : INFO : worker thread finished; awaiting finish of 1 more threads\n",
      "2021-08-24 12:23:18,567 : INFO : worker thread finished; awaiting finish of 0 more threads\n",
      "2021-08-24 12:23:18,568 : INFO : EPOCH - 167 : training on 260894 raw words (178780 effective words) took 1.8s, 100021 effective words/s\n",
      "2021-08-24 12:23:19,653 : INFO : EPOCH 168 - PROGRESS: at 58.57% examples, 95306 words/s, in_qsize 5, out_qsize 0\n",
      "2021-08-24 12:23:20,223 : INFO : worker thread finished; awaiting finish of 2 more threads\n",
      "2021-08-24 12:23:20,248 : INFO : worker thread finished; awaiting finish of 1 more threads\n",
      "2021-08-24 12:23:20,256 : INFO : worker thread finished; awaiting finish of 0 more threads\n",
      "2021-08-24 12:23:20,257 : INFO : EPOCH - 168 : training on 260894 raw words (178592 effective words) took 1.7s, 105849 effective words/s\n",
      "2021-08-24 12:23:21,367 : INFO : EPOCH 169 - PROGRESS: at 56.94% examples, 93008 words/s, in_qsize 5, out_qsize 0\n",
      "2021-08-24 12:23:21,962 : INFO : worker thread finished; awaiting finish of 2 more threads\n",
      "2021-08-24 12:23:21,972 : INFO : worker thread finished; awaiting finish of 1 more threads\n",
      "2021-08-24 12:23:21,994 : INFO : worker thread finished; awaiting finish of 0 more threads\n",
      "2021-08-24 12:23:21,995 : INFO : EPOCH - 169 : training on 260894 raw words (178596 effective words) took 1.7s, 102880 effective words/s\n",
      "2021-08-24 12:23:23,014 : INFO : EPOCH 170 - PROGRESS: at 62.45% examples, 108144 words/s, in_qsize 6, out_qsize 0\n",
      "2021-08-24 12:23:23,591 : INFO : worker thread finished; awaiting finish of 2 more threads\n",
      "2021-08-24 12:23:23,593 : INFO : worker thread finished; awaiting finish of 1 more threads\n",
      "2021-08-24 12:23:23,600 : INFO : worker thread finished; awaiting finish of 0 more threads\n",
      "2021-08-24 12:23:23,601 : INFO : EPOCH - 170 : training on 260894 raw words (178579 effective words) took 1.6s, 111322 effective words/s\n",
      "2021-08-24 12:23:24,632 : INFO : EPOCH 171 - PROGRESS: at 58.57% examples, 100304 words/s, in_qsize 5, out_qsize 0\n",
      "2021-08-24 12:23:25,278 : INFO : worker thread finished; awaiting finish of 2 more threads\n",
      "2021-08-24 12:23:25,298 : INFO : worker thread finished; awaiting finish of 1 more threads\n",
      "2021-08-24 12:23:25,318 : INFO : worker thread finished; awaiting finish of 0 more threads\n",
      "2021-08-24 12:23:25,319 : INFO : EPOCH - 171 : training on 260894 raw words (178623 effective words) took 1.7s, 104118 effective words/s\n",
      "2021-08-24 12:23:26,345 : INFO : EPOCH 172 - PROGRESS: at 58.57% examples, 100842 words/s, in_qsize 5, out_qsize 0\n",
      "2021-08-24 12:23:27,046 : INFO : worker thread finished; awaiting finish of 2 more threads\n",
      "2021-08-24 12:23:27,066 : INFO : worker thread finished; awaiting finish of 1 more threads\n",
      "2021-08-24 12:23:27,107 : INFO : worker thread finished; awaiting finish of 0 more threads\n",
      "2021-08-24 12:23:27,108 : INFO : EPOCH - 172 : training on 260894 raw words (178526 effective words) took 1.8s, 99921 effective words/s\n",
      "2021-08-24 12:23:28,177 : INFO : EPOCH 173 - PROGRESS: at 57.14% examples, 96802 words/s, in_qsize 6, out_qsize 0\n",
      "2021-08-24 12:23:28,776 : INFO : worker thread finished; awaiting finish of 2 more threads\n",
      "2021-08-24 12:23:28,784 : INFO : worker thread finished; awaiting finish of 1 more threads\n",
      "2021-08-24 12:23:28,792 : INFO : worker thread finished; awaiting finish of 0 more threads\n",
      "2021-08-24 12:23:28,793 : INFO : EPOCH - 173 : training on 260894 raw words (178479 effective words) took 1.7s, 106064 effective words/s\n",
      "2021-08-24 12:23:29,797 : INFO : EPOCH 174 - PROGRESS: at 58.57% examples, 103001 words/s, in_qsize 6, out_qsize 0\n",
      "2021-08-24 12:23:30,379 : INFO : worker thread finished; awaiting finish of 2 more threads\n",
      "2021-08-24 12:23:30,420 : INFO : worker thread finished; awaiting finish of 1 more threads\n"
     ]
    },
    {
     "name": "stderr",
     "output_type": "stream",
     "text": [
      "2021-08-24 12:23:30,450 : INFO : worker thread finished; awaiting finish of 0 more threads\n",
      "2021-08-24 12:23:30,451 : INFO : EPOCH - 174 : training on 260894 raw words (178790 effective words) took 1.7s, 107950 effective words/s\n",
      "2021-08-24 12:23:31,506 : INFO : EPOCH 175 - PROGRESS: at 58.57% examples, 98158 words/s, in_qsize 5, out_qsize 0\n",
      "2021-08-24 12:23:32,049 : INFO : worker thread finished; awaiting finish of 2 more threads\n",
      "2021-08-24 12:23:32,086 : INFO : worker thread finished; awaiting finish of 1 more threads\n",
      "2021-08-24 12:23:32,093 : INFO : worker thread finished; awaiting finish of 0 more threads\n",
      "2021-08-24 12:23:32,093 : INFO : EPOCH - 175 : training on 260894 raw words (178834 effective words) took 1.6s, 109016 effective words/s\n",
      "2021-08-24 12:23:33,175 : INFO : EPOCH 176 - PROGRESS: at 58.57% examples, 95694 words/s, in_qsize 6, out_qsize 0\n",
      "2021-08-24 12:23:33,839 : INFO : worker thread finished; awaiting finish of 2 more threads\n",
      "2021-08-24 12:23:33,883 : INFO : worker thread finished; awaiting finish of 1 more threads\n",
      "2021-08-24 12:23:33,914 : INFO : worker thread finished; awaiting finish of 0 more threads\n",
      "2021-08-24 12:23:33,915 : INFO : EPOCH - 176 : training on 260894 raw words (178497 effective words) took 1.8s, 98174 effective words/s\n",
      "2021-08-24 12:23:34,976 : INFO : EPOCH 177 - PROGRESS: at 62.45% examples, 103956 words/s, in_qsize 6, out_qsize 0\n",
      "2021-08-24 12:23:35,475 : INFO : worker thread finished; awaiting finish of 2 more threads\n",
      "2021-08-24 12:23:35,487 : INFO : worker thread finished; awaiting finish of 1 more threads\n",
      "2021-08-24 12:23:35,516 : INFO : worker thread finished; awaiting finish of 0 more threads\n",
      "2021-08-24 12:23:35,517 : INFO : EPOCH - 177 : training on 260894 raw words (178802 effective words) took 1.6s, 111738 effective words/s\n",
      "2021-08-24 12:23:36,578 : INFO : EPOCH 178 - PROGRESS: at 62.45% examples, 104016 words/s, in_qsize 5, out_qsize 0\n",
      "2021-08-24 12:23:37,026 : INFO : worker thread finished; awaiting finish of 2 more threads\n",
      "2021-08-24 12:23:37,085 : INFO : worker thread finished; awaiting finish of 1 more threads\n",
      "2021-08-24 12:23:37,100 : INFO : worker thread finished; awaiting finish of 0 more threads\n",
      "2021-08-24 12:23:37,101 : INFO : EPOCH - 178 : training on 260894 raw words (178503 effective words) took 1.6s, 112866 effective words/s\n",
      "2021-08-24 12:23:38,123 : INFO : EPOCH 179 - PROGRESS: at 50.41% examples, 88277 words/s, in_qsize 6, out_qsize 0\n",
      "2021-08-24 12:23:38,866 : INFO : worker thread finished; awaiting finish of 2 more threads\n",
      "2021-08-24 12:23:38,921 : INFO : worker thread finished; awaiting finish of 1 more threads\n",
      "2021-08-24 12:23:38,935 : INFO : worker thread finished; awaiting finish of 0 more threads\n",
      "2021-08-24 12:23:38,936 : INFO : EPOCH - 179 : training on 260894 raw words (178706 effective words) took 1.8s, 97493 effective words/s\n",
      "2021-08-24 12:23:39,971 : INFO : EPOCH 180 - PROGRESS: at 62.24% examples, 106123 words/s, in_qsize 5, out_qsize 0\n",
      "2021-08-24 12:23:40,523 : INFO : worker thread finished; awaiting finish of 2 more threads\n",
      "2021-08-24 12:23:40,549 : INFO : worker thread finished; awaiting finish of 1 more threads\n",
      "2021-08-24 12:23:40,565 : INFO : worker thread finished; awaiting finish of 0 more threads\n",
      "2021-08-24 12:23:40,566 : INFO : EPOCH - 180 : training on 260894 raw words (178427 effective words) took 1.6s, 109646 effective words/s\n",
      "2021-08-24 12:23:41,643 : INFO : EPOCH 181 - PROGRESS: at 62.24% examples, 102116 words/s, in_qsize 6, out_qsize 0\n",
      "2021-08-24 12:23:42,147 : INFO : worker thread finished; awaiting finish of 2 more threads\n",
      "2021-08-24 12:23:42,212 : INFO : worker thread finished; awaiting finish of 1 more threads\n",
      "2021-08-24 12:23:42,219 : INFO : worker thread finished; awaiting finish of 0 more threads\n",
      "2021-08-24 12:23:42,220 : INFO : EPOCH - 181 : training on 260894 raw words (178596 effective words) took 1.7s, 108054 effective words/s\n",
      "2021-08-24 12:23:43,296 : INFO : EPOCH 182 - PROGRESS: at 62.45% examples, 102658 words/s, in_qsize 6, out_qsize 0\n",
      "2021-08-24 12:23:43,789 : INFO : worker thread finished; awaiting finish of 2 more threads\n",
      "2021-08-24 12:23:43,818 : INFO : worker thread finished; awaiting finish of 1 more threads\n",
      "2021-08-24 12:23:43,854 : INFO : worker thread finished; awaiting finish of 0 more threads\n",
      "2021-08-24 12:23:43,855 : INFO : EPOCH - 182 : training on 260894 raw words (178737 effective words) took 1.6s, 109486 effective words/s\n",
      "2021-08-24 12:23:44,865 : INFO : EPOCH 183 - PROGRESS: at 58.57% examples, 102531 words/s, in_qsize 6, out_qsize 0\n",
      "2021-08-24 12:23:45,478 : INFO : worker thread finished; awaiting finish of 2 more threads\n",
      "2021-08-24 12:23:45,494 : INFO : worker thread finished; awaiting finish of 1 more threads\n",
      "2021-08-24 12:23:45,524 : INFO : worker thread finished; awaiting finish of 0 more threads\n",
      "2021-08-24 12:23:45,526 : INFO : EPOCH - 183 : training on 260894 raw words (178786 effective words) took 1.7s, 107136 effective words/s\n",
      "2021-08-24 12:23:46,542 : INFO : EPOCH 184 - PROGRESS: at 58.57% examples, 102292 words/s, in_qsize 6, out_qsize 0\n",
      "2021-08-24 12:23:47,181 : INFO : worker thread finished; awaiting finish of 2 more threads\n",
      "2021-08-24 12:23:47,237 : INFO : worker thread finished; awaiting finish of 1 more threads\n",
      "2021-08-24 12:23:47,240 : INFO : worker thread finished; awaiting finish of 0 more threads\n",
      "2021-08-24 12:23:47,241 : INFO : EPOCH - 184 : training on 260894 raw words (178522 effective words) took 1.7s, 104458 effective words/s\n",
      "2021-08-24 12:23:48,258 : INFO : EPOCH 185 - PROGRESS: at 48.57% examples, 83482 words/s, in_qsize 5, out_qsize 0\n",
      "2021-08-24 12:23:49,081 : INFO : worker thread finished; awaiting finish of 2 more threads\n",
      "2021-08-24 12:23:49,131 : INFO : worker thread finished; awaiting finish of 1 more threads\n",
      "2021-08-24 12:23:49,136 : INFO : worker thread finished; awaiting finish of 0 more threads\n",
      "2021-08-24 12:23:49,136 : INFO : EPOCH - 185 : training on 260894 raw words (178622 effective words) took 1.9s, 94820 effective words/s\n",
      "2021-08-24 12:23:50,143 : INFO : EPOCH 186 - PROGRESS: at 58.57% examples, 102800 words/s, in_qsize 5, out_qsize 0\n",
      "2021-08-24 12:23:50,774 : INFO : worker thread finished; awaiting finish of 2 more threads\n",
      "2021-08-24 12:23:50,795 : INFO : worker thread finished; awaiting finish of 1 more threads\n",
      "2021-08-24 12:23:50,819 : INFO : worker thread finished; awaiting finish of 0 more threads\n",
      "2021-08-24 12:23:50,821 : INFO : EPOCH - 186 : training on 260894 raw words (178606 effective words) took 1.7s, 106191 effective words/s\n",
      "2021-08-24 12:23:51,841 : INFO : EPOCH 187 - PROGRESS: at 50.41% examples, 88878 words/s, in_qsize 5, out_qsize 0\n",
      "2021-08-24 12:23:52,539 : INFO : worker thread finished; awaiting finish of 2 more threads\n",
      "2021-08-24 12:23:52,552 : INFO : worker thread finished; awaiting finish of 1 more threads\n",
      "2021-08-24 12:23:52,583 : INFO : worker thread finished; awaiting finish of 0 more threads\n",
      "2021-08-24 12:23:52,584 : INFO : EPOCH - 187 : training on 260894 raw words (178727 effective words) took 1.8s, 101693 effective words/s\n",
      "2021-08-24 12:23:53,639 : INFO : EPOCH 188 - PROGRESS: at 53.27% examples, 91768 words/s, in_qsize 5, out_qsize 0\n",
      "2021-08-24 12:23:54,315 : INFO : worker thread finished; awaiting finish of 2 more threads\n",
      "2021-08-24 12:23:54,342 : INFO : worker thread finished; awaiting finish of 1 more threads\n",
      "2021-08-24 12:23:54,365 : INFO : worker thread finished; awaiting finish of 0 more threads\n",
      "2021-08-24 12:23:54,366 : INFO : EPOCH - 188 : training on 260894 raw words (178430 effective words) took 1.8s, 100273 effective words/s\n",
      "2021-08-24 12:23:55,487 : INFO : EPOCH 189 - PROGRESS: at 46.94% examples, 75177 words/s, in_qsize 5, out_qsize 0\n",
      "2021-08-24 12:23:56,281 : INFO : worker thread finished; awaiting finish of 2 more threads\n",
      "2021-08-24 12:23:56,283 : INFO : worker thread finished; awaiting finish of 1 more threads\n",
      "2021-08-24 12:23:56,305 : INFO : worker thread finished; awaiting finish of 0 more threads\n",
      "2021-08-24 12:23:56,306 : INFO : EPOCH - 189 : training on 260894 raw words (178446 effective words) took 1.9s, 92059 effective words/s\n",
      "2021-08-24 12:23:57,348 : INFO : EPOCH 190 - PROGRESS: at 54.29% examples, 92966 words/s, in_qsize 5, out_qsize 0\n"
     ]
    },
    {
     "name": "stderr",
     "output_type": "stream",
     "text": [
      "2021-08-24 12:23:57,920 : INFO : worker thread finished; awaiting finish of 2 more threads\n",
      "2021-08-24 12:23:57,957 : INFO : worker thread finished; awaiting finish of 1 more threads\n",
      "2021-08-24 12:23:57,981 : INFO : worker thread finished; awaiting finish of 0 more threads\n",
      "2021-08-24 12:23:57,982 : INFO : EPOCH - 190 : training on 260894 raw words (178619 effective words) took 1.7s, 106741 effective words/s\n",
      "2021-08-24 12:23:59,058 : INFO : EPOCH 191 - PROGRESS: at 50.41% examples, 83821 words/s, in_qsize 5, out_qsize 0\n",
      "2021-08-24 12:23:59,802 : INFO : worker thread finished; awaiting finish of 2 more threads\n",
      "2021-08-24 12:23:59,808 : INFO : worker thread finished; awaiting finish of 1 more threads\n",
      "2021-08-24 12:23:59,825 : INFO : worker thread finished; awaiting finish of 0 more threads\n",
      "2021-08-24 12:23:59,826 : INFO : EPOCH - 191 : training on 260894 raw words (178677 effective words) took 1.8s, 96980 effective words/s\n",
      "2021-08-24 12:24:00,841 : INFO : EPOCH 192 - PROGRESS: at 57.14% examples, 102208 words/s, in_qsize 5, out_qsize 0\n",
      "2021-08-24 12:24:01,469 : INFO : worker thread finished; awaiting finish of 2 more threads\n",
      "2021-08-24 12:24:01,485 : INFO : worker thread finished; awaiting finish of 1 more threads\n",
      "2021-08-24 12:24:01,487 : INFO : worker thread finished; awaiting finish of 0 more threads\n",
      "2021-08-24 12:24:01,488 : INFO : EPOCH - 192 : training on 260894 raw words (178739 effective words) took 1.7s, 107704 effective words/s\n",
      "2021-08-24 12:24:02,495 : INFO : EPOCH 193 - PROGRESS: at 57.14% examples, 102990 words/s, in_qsize 5, out_qsize 0\n",
      "2021-08-24 12:24:03,102 : INFO : worker thread finished; awaiting finish of 2 more threads\n",
      "2021-08-24 12:24:03,121 : INFO : worker thread finished; awaiting finish of 1 more threads\n",
      "2021-08-24 12:24:03,122 : INFO : worker thread finished; awaiting finish of 0 more threads\n",
      "2021-08-24 12:24:03,123 : INFO : EPOCH - 193 : training on 260894 raw words (178815 effective words) took 1.6s, 109513 effective words/s\n",
      "2021-08-24 12:24:04,160 : INFO : EPOCH 194 - PROGRESS: at 58.57% examples, 99729 words/s, in_qsize 5, out_qsize 0\n",
      "2021-08-24 12:24:04,709 : INFO : worker thread finished; awaiting finish of 2 more threads\n",
      "2021-08-24 12:24:04,741 : INFO : worker thread finished; awaiting finish of 1 more threads\n",
      "2021-08-24 12:24:04,754 : INFO : worker thread finished; awaiting finish of 0 more threads\n",
      "2021-08-24 12:24:04,755 : INFO : EPOCH - 194 : training on 260894 raw words (178514 effective words) took 1.6s, 109554 effective words/s\n",
      "2021-08-24 12:24:05,766 : INFO : EPOCH 195 - PROGRESS: at 58.57% examples, 102255 words/s, in_qsize 6, out_qsize 0\n",
      "2021-08-24 12:24:06,404 : INFO : worker thread finished; awaiting finish of 2 more threads\n",
      "2021-08-24 12:24:06,407 : INFO : worker thread finished; awaiting finish of 1 more threads\n",
      "2021-08-24 12:24:06,409 : INFO : worker thread finished; awaiting finish of 0 more threads\n",
      "2021-08-24 12:24:06,410 : INFO : EPOCH - 195 : training on 260894 raw words (178588 effective words) took 1.7s, 107980 effective words/s\n",
      "2021-08-24 12:24:07,429 : INFO : EPOCH 196 - PROGRESS: at 53.27% examples, 95122 words/s, in_qsize 5, out_qsize 0\n",
      "2021-08-24 12:24:08,030 : INFO : worker thread finished; awaiting finish of 2 more threads\n",
      "2021-08-24 12:24:08,036 : INFO : worker thread finished; awaiting finish of 1 more threads\n",
      "2021-08-24 12:24:08,064 : INFO : worker thread finished; awaiting finish of 0 more threads\n",
      "2021-08-24 12:24:08,064 : INFO : EPOCH - 196 : training on 260894 raw words (178837 effective words) took 1.7s, 108267 effective words/s\n",
      "2021-08-24 12:24:09,095 : INFO : EPOCH 197 - PROGRESS: at 58.57% examples, 100347 words/s, in_qsize 5, out_qsize 0\n",
      "2021-08-24 12:24:09,674 : INFO : worker thread finished; awaiting finish of 2 more threads\n",
      "2021-08-24 12:24:09,683 : INFO : worker thread finished; awaiting finish of 1 more threads\n",
      "2021-08-24 12:24:09,684 : INFO : worker thread finished; awaiting finish of 0 more threads\n",
      "2021-08-24 12:24:09,685 : INFO : EPOCH - 197 : training on 260894 raw words (178655 effective words) took 1.6s, 110375 effective words/s\n",
      "2021-08-24 12:24:10,691 : INFO : EPOCH 198 - PROGRESS: at 62.45% examples, 109582 words/s, in_qsize 6, out_qsize 0\n",
      "2021-08-24 12:24:11,291 : INFO : worker thread finished; awaiting finish of 2 more threads\n",
      "2021-08-24 12:24:11,295 : INFO : worker thread finished; awaiting finish of 1 more threads\n",
      "2021-08-24 12:24:11,304 : INFO : worker thread finished; awaiting finish of 0 more threads\n",
      "2021-08-24 12:24:11,305 : INFO : EPOCH - 198 : training on 260894 raw words (178711 effective words) took 1.6s, 110504 effective words/s\n",
      "2021-08-24 12:24:12,384 : INFO : EPOCH 199 - PROGRESS: at 62.45% examples, 102197 words/s, in_qsize 6, out_qsize 0\n",
      "2021-08-24 12:24:12,930 : INFO : worker thread finished; awaiting finish of 2 more threads\n",
      "2021-08-24 12:24:12,946 : INFO : worker thread finished; awaiting finish of 1 more threads\n",
      "2021-08-24 12:24:12,963 : INFO : worker thread finished; awaiting finish of 0 more threads\n",
      "2021-08-24 12:24:12,964 : INFO : EPOCH - 199 : training on 260894 raw words (178721 effective words) took 1.7s, 107895 effective words/s\n",
      "2021-08-24 12:24:14,003 : INFO : EPOCH 200 - PROGRESS: at 53.27% examples, 93345 words/s, in_qsize 5, out_qsize 0\n",
      "2021-08-24 12:24:14,568 : INFO : worker thread finished; awaiting finish of 2 more threads\n",
      "2021-08-24 12:24:14,619 : INFO : worker thread finished; awaiting finish of 1 more threads\n",
      "2021-08-24 12:24:14,642 : INFO : worker thread finished; awaiting finish of 0 more threads\n",
      "2021-08-24 12:24:14,643 : INFO : EPOCH - 200 : training on 260894 raw words (178774 effective words) took 1.7s, 106691 effective words/s\n",
      "2021-08-24 12:24:14,644 : INFO : Doc2Vec lifecycle event {'msg': 'training on 52178800 raw words (35731100 effective words) took 402.9s, 88683 effective words/s', 'datetime': '2021-08-24T12:24:14.644135', 'gensim': '4.0.1', 'python': '3.8.10 (default, Jun  4 2021, 15:09:15) \\n[GCC 7.5.0]', 'platform': 'Linux-5.13.8-100.fc33.x86_64-x86_64-with-glibc2.17', 'event': 'train'}\n"
     ]
    },
    {
     "name": "stdout",
     "output_type": "stream",
     "text": [
      "CPU times: user 17min 27s, sys: 4.95 s, total: 17min 32s\n",
      "Wall time: 6min 42s\n"
     ]
    }
   ],
   "source": [
    "%%time\n",
    "model.train(corpus_full, total_examples=model.corpus_count, epochs=model.epochs)"
   ]
  },
  {
   "cell_type": "code",
   "execution_count": 98,
   "id": "42b29631",
   "metadata": {},
   "outputs": [
    {
     "name": "stderr",
     "output_type": "stream",
     "text": [
      "2021-08-24 12:24:41,945 : INFO : Doc2Vec lifecycle event {'fname_or_handle': './doc2vec.model', 'separately': 'None', 'sep_limit': 10485760, 'ignore': frozenset(), 'datetime': '2021-08-24T12:24:41.945643', 'gensim': '4.0.1', 'python': '3.8.10 (default, Jun  4 2021, 15:09:15) \\n[GCC 7.5.0]', 'platform': 'Linux-5.13.8-100.fc33.x86_64-x86_64-with-glibc2.17', 'event': 'saving'}\n",
      "2021-08-24 12:24:41,952 : INFO : not storing attribute cum_table\n",
      "2021-08-24 12:24:42,004 : INFO : saved ./doc2vec.model\n"
     ]
    }
   ],
   "source": [
    "model.save(\"./doc2vec.model\")"
   ]
  },
  {
   "cell_type": "code",
   "execution_count": 99,
   "id": "c99cc15f",
   "metadata": {},
   "outputs": [
    {
     "name": "stderr",
     "output_type": "stream",
     "text": [
      "2021-08-24 12:24:44,345 : INFO : KeyedVectors lifecycle event {'fname_or_handle': './doc2vec.wv', 'separately': 'None', 'sep_limit': 10485760, 'ignore': frozenset(), 'datetime': '2021-08-24T12:24:44.345753', 'gensim': '4.0.1', 'python': '3.8.10 (default, Jun  4 2021, 15:09:15) \\n[GCC 7.5.0]', 'platform': 'Linux-5.13.8-100.fc33.x86_64-x86_64-with-glibc2.17', 'event': 'saving'}\n",
      "2021-08-24 12:24:44,366 : INFO : saved ./doc2vec.wv\n"
     ]
    }
   ],
   "source": [
    "wv = model.wv\n",
    "wv.save('./doc2vec.wv')"
   ]
  },
  {
   "cell_type": "code",
   "execution_count": 100,
   "id": "7576f98b",
   "metadata": {},
   "outputs": [],
   "source": [
    "def corpus_to_dicts(corpus):\n",
    "    for doc in corpus:\n",
    "        yield {\n",
    "            'words': doc.words,\n",
    "            'tags': doc.tags\n",
    "        }"
   ]
  },
  {
   "cell_type": "code",
   "execution_count": 101,
   "id": "62c674b8",
   "metadata": {},
   "outputs": [],
   "source": [
    "import simplejson\n",
    "\n",
    "\n",
    "def json_save(data, filename):\n",
    "    with open(filename, 'w', encoding='utf-8') as f:\n",
    "        simplejson.dump(data, f, separators=(',', ':'), iterable_as_array=True)"
   ]
  },
  {
   "cell_type": "code",
   "execution_count": null,
   "id": "33822b66",
   "metadata": {},
   "outputs": [],
   "source": [
    "# json_save(corpus_to_dicts(corpus_train), './doc2vec.corpus.train.json')"
   ]
  },
  {
   "cell_type": "code",
   "execution_count": 102,
   "id": "4675d035",
   "metadata": {},
   "outputs": [],
   "source": [
    "json_save(corpus_to_dicts(corpus_full), './doc2vec.corpus.full.json')"
   ]
  },
  {
   "cell_type": "code",
   "execution_count": 103,
   "id": "aaa82abe",
   "metadata": {},
   "outputs": [],
   "source": [
    "json_save(tag_id_mapping, './doc2vec.tag_id_mapping.json')"
   ]
  },
  {
   "cell_type": "code",
   "execution_count": null,
   "id": "fe52aeef",
   "metadata": {},
   "outputs": [],
   "source": [
    "# Process test corpus"
   ]
  },
  {
   "cell_type": "code",
   "execution_count": null,
   "id": "d7baf91b",
   "metadata": {},
   "outputs": [],
   "source": [
    "# df_test = pd.read_csv('./test.csv')\n",
    "# df_test.shape"
   ]
  },
  {
   "cell_type": "code",
   "execution_count": null,
   "id": "ad7d4068",
   "metadata": {},
   "outputs": [],
   "source": [
    "# corpus_text_test = df_test.text.tolist()"
   ]
  },
  {
   "cell_type": "code",
   "execution_count": null,
   "id": "e453a2ab",
   "metadata": {},
   "outputs": [],
   "source": [
    "# print(corpus_text_test[-1])"
   ]
  },
  {
   "cell_type": "code",
   "execution_count": null,
   "id": "44c732ac",
   "metadata": {},
   "outputs": [],
   "source": [
    "# def friendly_tag_corpus_test(row):\n",
    "#     return row.categories.split('\\n')"
   ]
  },
  {
   "cell_type": "code",
   "execution_count": null,
   "id": "2c1e6540",
   "metadata": {},
   "outputs": [],
   "source": [
    "# corpus_tags_friendly_test = df_test[[\"categories\"]].apply(friendly_tag_corpus_test, axis=1).to_list()"
   ]
  },
  {
   "cell_type": "code",
   "execution_count": null,
   "id": "253517c6",
   "metadata": {},
   "outputs": [],
   "source": [
    "# corpus_tags_friendly_test[-1]"
   ]
  },
  {
   "cell_type": "code",
   "execution_count": null,
   "id": "5919c977",
   "metadata": {},
   "outputs": [],
   "source": [
    "# len(corpus_tags_friendly_test), len(corpus_text_test)"
   ]
  },
  {
   "cell_type": "code",
   "execution_count": null,
   "id": "4bb51127",
   "metadata": {},
   "outputs": [],
   "source": [
    "# # weed out tags that were not seen in training\n",
    "# corpus_tags_test = [[tag_id_mapping.get(tag) for tag in tags] for tags in corpus_tags_friendly_test]"
   ]
  },
  {
   "cell_type": "code",
   "execution_count": null,
   "id": "7817da6a",
   "metadata": {},
   "outputs": [],
   "source": [
    "# corpus_tags_friendly_test[89], corpus_tags_test[89]"
   ]
  },
  {
   "cell_type": "code",
   "execution_count": null,
   "id": "84f43f76",
   "metadata": {},
   "outputs": [],
   "source": [
    "# %%time\n",
    "# corpus_words_test = corpus2tokens(corpus_text_test)"
   ]
  },
  {
   "cell_type": "code",
   "execution_count": null,
   "id": "74dc60a4",
   "metadata": {},
   "outputs": [],
   "source": [
    "# corpus_words_test[-1]"
   ]
  },
  {
   "cell_type": "code",
   "execution_count": null,
   "id": "ca4c422c",
   "metadata": {},
   "outputs": [],
   "source": [
    "# corpus_tags_test[5]"
   ]
  },
  {
   "cell_type": "code",
   "execution_count": null,
   "id": "6e4b1f7b",
   "metadata": {},
   "outputs": [],
   "source": [
    "# [id_tag_mapping[tag] for tag in corpus_tags_test[5] if tag]"
   ]
  },
  {
   "cell_type": "code",
   "execution_count": null,
   "id": "14f23c19",
   "metadata": {},
   "outputs": [],
   "source": [
    "# corpus_test = gen_tagged_docs(corpus_words_test, corpus_tags_test)"
   ]
  },
  {
   "cell_type": "code",
   "execution_count": null,
   "id": "34670147",
   "metadata": {},
   "outputs": [],
   "source": [
    "# json_save(corpus_to_dicts(corpus_test), './doc2vec.corpus.test.json')"
   ]
  }
 ],
 "metadata": {
  "kernelspec": {
   "display_name": "Python 3 (ipykernel)",
   "language": "python",
   "name": "python3"
  },
  "language_info": {
   "codemirror_mode": {
    "name": "ipython",
    "version": 3
   },
   "file_extension": ".py",
   "mimetype": "text/x-python",
   "name": "python",
   "nbconvert_exporter": "python",
   "pygments_lexer": "ipython3",
   "version": "3.8.10"
  }
 },
 "nbformat": 4,
 "nbformat_minor": 5
}
