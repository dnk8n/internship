{
 "cells": [
  {
   "cell_type": "code",
   "execution_count": 1,
   "id": "50c9d99d",
   "metadata": {},
   "outputs": [],
   "source": [
    "import logging\n",
    "logging.basicConfig(format='%(asctime)s : %(levelname)s : %(message)s', level=logging.INFO)"
   ]
  },
  {
   "cell_type": "code",
   "execution_count": 2,
   "id": "ac77a397",
   "metadata": {},
   "outputs": [
    {
     "name": "stderr",
     "output_type": "stream",
     "text": [
      "2021-08-24 11:23:54,491 : INFO : NumExpr defaulting to 4 threads.\n"
     ]
    }
   ],
   "source": [
    "import pandas as pd\n",
    "import numpy as np"
   ]
  },
  {
   "cell_type": "code",
   "execution_count": 3,
   "id": "c4e1e3c3",
   "metadata": {},
   "outputs": [
    {
     "data": {
      "text/plain": [
       "(490, 6)"
      ]
     },
     "execution_count": 3,
     "metadata": {},
     "output_type": "execute_result"
    }
   ],
   "source": [
    "df = pd.read_csv('../data/BBairline200722.csv')\n",
    "df.shape"
   ]
  },
  {
   "cell_type": "code",
   "execution_count": 6,
   "id": "1f0155b9",
   "metadata": {},
   "outputs": [
    {
     "data": {
      "text/html": [
       "<div>\n",
       "<style scoped>\n",
       "    .dataframe tbody tr th:only-of-type {\n",
       "        vertical-align: middle;\n",
       "    }\n",
       "\n",
       "    .dataframe tbody tr th {\n",
       "        vertical-align: top;\n",
       "    }\n",
       "\n",
       "    .dataframe thead th {\n",
       "        text-align: right;\n",
       "    }\n",
       "</style>\n",
       "<table border=\"1\" class=\"dataframe\">\n",
       "  <thead>\n",
       "    <tr style=\"text-align: right;\">\n",
       "      <th></th>\n",
       "      <th>0</th>\n",
       "      <th>1</th>\n",
       "      <th>2</th>\n",
       "      <th>3</th>\n",
       "      <th>4</th>\n",
       "      <th>5</th>\n",
       "    </tr>\n",
       "  </thead>\n",
       "  <tbody>\n",
       "    <tr>\n",
       "      <th>452</th>\n",
       "      <td>https://www.bloomberg.com/news/articles/2021-0...</td>\n",
       "      <td>2021-06-22T17:55:44.734Z</td>\n",
       "      <td>U.K. Poised to Ease Travel Curbs as Airlines S...</td>\n",
       "      <td>['Tim Ross', 'Siddharth Vikram Philip']</td>\n",
       "      <td>prognosis</td>\n",
       "      <td>Boris Johnson’s government is preparing to all...</td>\n",
       "    </tr>\n",
       "    <tr>\n",
       "      <th>84</th>\n",
       "      <td>https://www.bloomberg.com/news/articles/2021-0...</td>\n",
       "      <td>2021-05-14T05:05:06.097Z</td>\n",
       "      <td>Singapore Moves Back Toward Lockdown as Virus ...</td>\n",
       "      <td>['Kyunghee Park']</td>\n",
       "      <td>prognosis</td>\n",
       "      <td>Singapore is returning to the lockdown-like co...</td>\n",
       "    </tr>\n",
       "    <tr>\n",
       "      <th>434</th>\n",
       "      <td>https://www.bloomberg.com/news/articles/2021-0...</td>\n",
       "      <td>2021-06-04T08:49:29.959Z</td>\n",
       "      <td>Airfares Hit $1,000 as U.K. Tourists Rush to L...</td>\n",
       "      <td>['Siddharth Vikram Philip', 'Charlotte Ryan']</td>\n",
       "      <td>Business</td>\n",
       "      <td>U.K. tourists scrambled to return from Portuga...</td>\n",
       "    </tr>\n",
       "  </tbody>\n",
       "</table>\n",
       "</div>"
      ],
      "text/plain": [
       "                                                     0  \\\n",
       "452  https://www.bloomberg.com/news/articles/2021-0...   \n",
       "84   https://www.bloomberg.com/news/articles/2021-0...   \n",
       "434  https://www.bloomberg.com/news/articles/2021-0...   \n",
       "\n",
       "                            1  \\\n",
       "452  2021-06-22T17:55:44.734Z   \n",
       "84   2021-05-14T05:05:06.097Z   \n",
       "434  2021-06-04T08:49:29.959Z   \n",
       "\n",
       "                                                     2  \\\n",
       "452  U.K. Poised to Ease Travel Curbs as Airlines S...   \n",
       "84   Singapore Moves Back Toward Lockdown as Virus ...   \n",
       "434  Airfares Hit $1,000 as U.K. Tourists Rush to L...   \n",
       "\n",
       "                                                 3          4  \\\n",
       "452        ['Tim Ross', 'Siddharth Vikram Philip']  prognosis   \n",
       "84                               ['Kyunghee Park']  prognosis   \n",
       "434  ['Siddharth Vikram Philip', 'Charlotte Ryan']   Business   \n",
       "\n",
       "                                                     5  \n",
       "452  Boris Johnson’s government is preparing to all...  \n",
       "84   Singapore is returning to the lockdown-like co...  \n",
       "434  U.K. tourists scrambled to return from Portuga...  "
      ]
     },
     "execution_count": 6,
     "metadata": {},
     "output_type": "execute_result"
    }
   ],
   "source": [
    "df.sample(3, random_state=42)"
   ]
  },
  {
   "cell_type": "code",
   "execution_count": 9,
   "id": "e7d8824c",
   "metadata": {},
   "outputs": [],
   "source": [
    "df = df.rename(\n",
    "    columns={\n",
    "        '0': 'url',\n",
    "        '1': 'date',\n",
    "        '2': 'title',\n",
    "        '3': 'authors',\n",
    "        '4': 'category',\n",
    "        '5': 'text'\n",
    "    }\n",
    ")"
   ]
  },
  {
   "cell_type": "code",
   "execution_count": 12,
   "id": "b3f03743",
   "metadata": {},
   "outputs": [
    {
     "data": {
      "text/plain": [
       "(490, 6)"
      ]
     },
     "execution_count": 12,
     "metadata": {},
     "output_type": "execute_result"
    }
   ],
   "source": [
    "df.sample(3, random_state=42)"
   ]
  },
  {
   "cell_type": "code",
   "execution_count": 13,
   "id": "9fbea4cc",
   "metadata": {},
   "outputs": [
    {
     "data": {
      "text/plain": [
       "(490, 6)"
      ]
     },
     "execution_count": 13,
     "metadata": {},
     "output_type": "execute_result"
    }
   ],
   "source": [
    "df = df.dropna(subset=[\"text\"])"
   ]
  },
  {
   "cell_type": "code",
   "execution_count": 14,
   "id": "f0d4efcd",
   "metadata": {},
   "outputs": [],
   "source": [
    "from sklearn.model_selection import train_test_split\n",
    "\n",
    "df_train, df_test = train_test_split(df, test_size=0.2, random_state=42)"
   ]
  },
  {
   "cell_type": "code",
   "execution_count": 15,
   "id": "9cf58857",
   "metadata": {},
   "outputs": [
    {
     "data": {
      "text/plain": [
       "((490, 6), (392, 6), (98, 6))"
      ]
     },
     "execution_count": 15,
     "metadata": {},
     "output_type": "execute_result"
    }
   ],
   "source": [
    "df.shape, df_train.shape, df_test.shape"
   ]
  },
  {
   "cell_type": "code",
   "execution_count": 16,
   "id": "ca305b0f",
   "metadata": {},
   "outputs": [],
   "source": [
    "df.to_csv('./full.csv')"
   ]
  },
  {
   "cell_type": "code",
   "execution_count": 17,
   "id": "37282548",
   "metadata": {},
   "outputs": [],
   "source": [
    "df_train.to_csv('./train.csv')"
   ]
  },
  {
   "cell_type": "code",
   "execution_count": 18,
   "id": "405a4bc3",
   "metadata": {},
   "outputs": [],
   "source": [
    "df_test.to_csv('./test.csv')"
   ]
  },
  {
   "cell_type": "code",
   "execution_count": null,
   "id": "720a594c",
   "metadata": {},
   "outputs": [],
   "source": []
  }
 ],
 "metadata": {
  "kernelspec": {
   "display_name": "Python 3",
   "language": "python",
   "name": "python3"
  },
  "language_info": {
   "codemirror_mode": {
    "name": "ipython",
    "version": 3
   },
   "file_extension": ".py",
   "mimetype": "text/x-python",
   "name": "python",
   "nbconvert_exporter": "python",
   "pygments_lexer": "ipython3",
   "version": "3.8.10"
  }
 },
 "nbformat": 4,
 "nbformat_minor": 5
}
