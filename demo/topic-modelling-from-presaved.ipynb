{
 "cells": [
  {
   "cell_type": "code",
   "execution_count": null,
   "id": "675c25ed",
   "metadata": {},
   "outputs": [],
   "source": [
    "from gensim.corpora import Dictionary\n",
    "\n",
    "dictionary = Dictionary.load('./tokened_corpus.dict')"
   ]
  },
  {
   "cell_type": "code",
   "execution_count": null,
   "id": "902869aa",
   "metadata": {},
   "outputs": [],
   "source": [
    "import spacy\n",
    "\n",
    "nlp = spacy.load(\"en_core_web_sm\")"
   ]
  },
  {
   "cell_type": "code",
   "execution_count": null,
   "id": "fee0e984",
   "metadata": {},
   "outputs": [],
   "source": [
    "def custom_text_tokenizer(text):\n",
    "    tokens = []\n",
    "    for token in nlp(text):\n",
    "        if (\n",
    "            token.is_alpha\n",
    "            and not (\n",
    "                token.is_stop\n",
    "                or token.is_punct\n",
    "                or len(token.text) <= 1\n",
    "            )\n",
    "        ):\n",
    "            tokens.append(token.lemma_.lower())\n",
    "    return tokens"
   ]
  },
  {
   "cell_type": "code",
   "execution_count": null,
   "id": "afbff000",
   "metadata": {},
   "outputs": [],
   "source": [
    "from gensim import models\n",
    "\n",
    "lsi = models.LsiModel.load('./lsi.model')"
   ]
  },
  {
   "cell_type": "code",
   "execution_count": null,
   "id": "aaaf4cdc",
   "metadata": {},
   "outputs": [],
   "source": [
    "from gensim import similarities\n",
    "\n",
    "lsi_similarity_index = similarities.MatrixSimilarity.load('./lsi_similarity.index')"
   ]
  },
  {
   "cell_type": "code",
   "execution_count": null,
   "id": "1537f2e7",
   "metadata": {},
   "outputs": [],
   "source": [
    "import json\n",
    "\n",
    "\n",
    "def json_save(data, filename):\n",
    "    with open(filename, 'w', encoding='utf-8') as f:\n",
    "        json.dump(data, f, ensure_ascii=False, indent=4)\n",
    "\n",
    "\n",
    "def json_load(filename):\n",
    "    with open(filename) as f:\n",
    "        return json.load(f)\n",
    "\n",
    "    \n",
    "text_corpus = json_load('./text_corpus.json')"
   ]
  },
  {
   "cell_type": "code",
   "execution_count": null,
   "id": "f1e21e10",
   "metadata": {},
   "outputs": [],
   "source": [
    "def print_top3_most_similar(example_doc):\n",
    "    vec_bow = dictionary.doc2bow(custom_text_tokenizer(example_doc))\n",
    "    vec_lsi = lsi[vec_bow]\n",
    "    sims = sorted(enumerate(lsi_similarity_index[vec_lsi]), key=lambda item: -item[1])\n",
    "    for doc_position, doc_score in sims[:3]:\n",
    "        print(doc_score, text_corpus[doc_position])"
   ]
  },
  {
   "cell_type": "code",
   "execution_count": null,
   "id": "b399c0da",
   "metadata": {},
   "outputs": [],
   "source": [
    "print_top3_most_similar(\"Jeff Bezos\")"
   ]
  },
  {
   "cell_type": "code",
   "execution_count": null,
   "id": "c958b82e",
   "metadata": {},
   "outputs": [],
   "source": []
  }
 ],
 "metadata": {
  "kernelspec": {
   "display_name": "Python 3",
   "language": "python",
   "name": "python3"
  },
  "language_info": {
   "codemirror_mode": {
    "name": "ipython",
    "version": 3
   },
   "file_extension": ".py",
   "mimetype": "text/x-python",
   "name": "python",
   "nbconvert_exporter": "python",
   "pygments_lexer": "ipython3",
   "version": "3.8.10"
  }
 },
 "nbformat": 4,
 "nbformat_minor": 5
}
