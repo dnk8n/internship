{
 "cells": [
  {
   "cell_type": "code",
   "execution_count": null,
   "id": "a827f2e4",
   "metadata": {},
   "outputs": [],
   "source": [
    "from gensim.corpora import Dictionary\n",
    "\n",
    "dictionary = Dictionary.load('./tokened_corpus.dict')"
   ]
  },
  {
   "cell_type": "code",
   "execution_count": null,
   "id": "2996aa28",
   "metadata": {},
   "outputs": [],
   "source": [
    "import spacy\n",
    "\n",
    "nlp = spacy.load(\"en_core_web_sm\")"
   ]
  },
  {
   "cell_type": "code",
   "execution_count": null,
   "id": "7296e596",
   "metadata": {},
   "outputs": [],
   "source": [
    "def custom_text_tokenizer(text):\n",
    "    tokens = []\n",
    "    for token in nlp(text):\n",
    "        # print(\"token.text: \", token.text)\n",
    "        # print(\"token.is_alpha: \", token.is_alpha)\n",
    "        # print(\"token.is_stop: \", token.is_stop)\n",
    "        # print(\"token.is_punct\", token.is_punct)\n",
    "        if (\n",
    "            token.is_alpha\n",
    "            and not (\n",
    "                token.is_stop\n",
    "                or token.is_punct\n",
    "                or len(token.text) <= 1\n",
    "            )\n",
    "        ):\n",
    "            # print(\"token.lemma_.lower(): \", token.lemma_.lower())\n",
    "            tokens.append(token.lemma_.lower())\n",
    "    return tokens"
   ]
  },
  {
   "cell_type": "code",
   "execution_count": null,
   "id": "ddbcbecf",
   "metadata": {},
   "outputs": [],
   "source": [
    "from gensim.corpora.mmcorpus import MmCorpus\n",
    "from gensim.test.utils import datapath\n",
    "\n",
    "vectorized_corpus = MmCorpus('./vectorized_corpus.mm')"
   ]
  },
  {
   "cell_type": "code",
   "execution_count": null,
   "id": "03a65499",
   "metadata": {},
   "outputs": [],
   "source": [
    "from gensim import models\n",
    "\n",
    "lsi = models.LsiModel(vectorized_corpus, id2word=dictionary, num_topics=50)"
   ]
  },
  {
   "cell_type": "code",
   "execution_count": null,
   "id": "536b03da",
   "metadata": {},
   "outputs": [],
   "source": [
    "from gensim import similarities\n",
    "\n",
    "lsi_similarity_index = similarities.MatrixSimilarity.load('./lsi_similarity.index')"
   ]
  },
  {
   "cell_type": "code",
   "execution_count": null,
   "id": "812c33c8",
   "metadata": {},
   "outputs": [],
   "source": [
    "import json\n",
    "\n",
    "\n",
    "def json_save(data, filename):\n",
    "    with open(filename, 'w', encoding='utf-8') as f:\n",
    "        json.dump(data, f, ensure_ascii=False, indent=4)\n",
    "\n",
    "\n",
    "def json_load(filename):\n",
    "    with open(filename) as f:\n",
    "        return json.load(f)\n",
    "\n",
    "    \n",
    "text_corpus = json_load('./text_corpus.json')"
   ]
  },
  {
   "cell_type": "code",
   "execution_count": null,
   "id": "2f845ea4",
   "metadata": {},
   "outputs": [],
   "source": [
    "def print_top3_most_similar(example_doc):\n",
    "    vec_bow = dictionary.doc2bow(custom_text_tokenizer(example_doc))\n",
    "    vec_lsi = lsi[vec_bow]\n",
    "    sims = sorted(enumerate(lsi_similarity_index[vec_lsi]), key=lambda item: -item[1])\n",
    "    for doc_position, doc_score in sims[:3]:\n",
    "        print(doc_score, text_corpus[doc_position])"
   ]
  },
  {
   "cell_type": "code",
   "execution_count": null,
   "id": "4a8220d7",
   "metadata": {},
   "outputs": [],
   "source": [
    "# Example doc to compare against lsi similarity index\n",
    "example_doc_1 = \"Amazon Web Services\"\n",
    "print_top3_most_similar(example_doc_1)"
   ]
  }
 ],
 "metadata": {
  "kernelspec": {
   "display_name": "Python 3",
   "language": "python",
   "name": "python3"
  },
  "language_info": {
   "codemirror_mode": {
    "name": "ipython",
    "version": 3
   },
   "file_extension": ".py",
   "mimetype": "text/x-python",
   "name": "python",
   "nbconvert_exporter": "python",
   "pygments_lexer": "ipython3",
   "version": "3.8.10"
  }
 },
 "nbformat": 4,
 "nbformat_minor": 5
}
