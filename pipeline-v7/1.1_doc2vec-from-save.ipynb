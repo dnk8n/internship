{
 "cells": [
  {
   "cell_type": "code",
   "execution_count": null,
   "id": "2ba18297",
   "metadata": {},
   "outputs": [],
   "source": [
    "import numpy as np\n",
    "from gensim import matutils\n",
    "\n",
    "def similarity_cosine(vec1, vec2):\n",
    "    cosine_similarity = np.dot(matutils.unitvec(vec1), matutils.unitvec(vec2))\n",
    "    return cosine_similarity"
   ]
  },
  {
   "cell_type": "code",
   "execution_count": null,
   "id": "c7386013",
   "metadata": {},
   "outputs": [],
   "source": [
    "import simplejson\n",
    "\n",
    "def json_load(filename):\n",
    "    with open(filename, 'r', encoding='utf-8') as f:\n",
    "        return simplejson.load(f)"
   ]
  },
  {
   "cell_type": "code",
   "execution_count": null,
   "id": "84b4fa97",
   "metadata": {},
   "outputs": [],
   "source": [
    "from gensim.models.doc2vec import TaggedDocument\n",
    "\n",
    "def gen_tagged_docs(corpus):\n",
    "    return [TaggedDocument(doc[\"tokens\"], doc[\"tags\"]) for doc in corpus]"
   ]
  },
  {
   "cell_type": "code",
   "execution_count": null,
   "id": "88a896ec",
   "metadata": {},
   "outputs": [],
   "source": [
    "def display_similar_article_and_categories(corpus, doc_id=0, topn=10, by_article_tokens=True, by_article_tag=False):\n",
    "    doc = corpus[doc_id].words\n",
    "    print(' '.join(doc)[:200])\n",
    "\n",
    "    if by_article_tokens:\n",
    "        # Using words\n",
    "        print(\"************\")    \n",
    "        print(\"Get simlarity based on tokens:\")\n",
    "        print()    \n",
    "        inferred_vector = model.infer_vector(doc)\n",
    "        sims = model.dv.most_similar([inferred_vector], topn=topn)\n",
    "        for idx, factor in sims:\n",
    "            print(factor, id_tag_map[idx])  \n",
    "\n",
    "    if by_article_tag:\n",
    "        # Using doc vector\n",
    "        print(\"************\")    \n",
    "        print(\"Get simlarity based on article tag:\")\n",
    "        print()    \n",
    "        inferred_vector = model.dv[corpus[doc_id].tags[0]]\n",
    "        sims = model.dv.most_similar([inferred_vector], topn=topn)\n",
    "        for idx, factor in sims:\n",
    "            print(factor, id_tag_map[idx])\n",
    "    \n",
    "    print(\"************\")\n",
    "    print(\"Actual known tags:\")\n",
    "    print()\n",
    "    print([id_tag_map.get(tag) for tag in corpus[doc_id].tags if tag])"
   ]
  },
  {
   "cell_type": "code",
   "execution_count": null,
   "id": "c390c0f9",
   "metadata": {},
   "outputs": [],
   "source": [
    "import random\n",
    "import collections\n",
    "import matplotlib.pyplot as plt\n",
    "\n",
    "\n",
    "def rank_by_inferredvector(corpus, sent_ids):\n",
    "    ranks = []\n",
    "    for sent_id in sent_ids:\n",
    "        inferred_vector = model.infer_vector(corpus[sent_id].words)\n",
    "        sims = model.dv.most_similar([inferred_vector], topn=len(id_tag_map))\n",
    "        most_similar_tag_indices = [\n",
    "            [docid for docid, _ in sims].index(tag)\n",
    "            for tag in corpus[sent_id].tags if tag\n",
    "        ]\n",
    "        if most_similar_tag_indices:\n",
    "            rank = min(most_similar_tag_indices)\n",
    "            print(f'{sent_id}: Ranked {rank} ({id_tag_map[sims[rank][0]]}) out of {len(sims)}')\n",
    "            ranks.append(rank)\n",
    "    return ranks\n",
    "\n",
    "            \n",
    "def rank_by_random(corpus, sent_ids):\n",
    "    return [random.randint(0, len(id_tag_map)) for _ in sent_ids]\n",
    "\n",
    "\n",
    "def plot_matches(corpus, rank_func=rank_by_inferredvector, take_sample=True, sample_size=50, sample_seed=42, topn_perc=0.1):\n",
    "    if take_sample:\n",
    "        random.seed(sample_seed)\n",
    "        sent_ids = random.sample(range(0, len(corpus)), sample_size)\n",
    "    else:\n",
    "        sent_ids = list(range(len(corpus)))\n",
    "    ranks = rank_func(corpus, sent_ids)\n",
    "    counter = collections.Counter(ranks)\n",
    "    group_0 = []\n",
    "    group_1 = []\n",
    "    group_2 = []\n",
    "    for k, v in counter.items():\n",
    "        if k == 0:\n",
    "            group_0.append(v)\n",
    "        elif k < len(id_tag_map) / (100 / topn_perc):\n",
    "            group_1.append(v)\n",
    "        else:\n",
    "            group_2.append(v)\n",
    "        sum_0 = sum(group_0)\n",
    "        sum_1_acceptable = sum(group_1)\n",
    "        sum_all_else = sum(group_2)\n",
    "    plt.bar([0,1,2], [sum_0, sum_1_acceptable, sum_all_else])\n",
    "    print([sum_0, sum_1_acceptable, sum_all_else])\n",
    "    print('Test example correctly matched (%): ', 100 * sum_0 / sum([sum_0, sum_1_acceptable, sum_all_else]))\n",
    "    print(f'Test example matched in top {topn_perc}% (%): ', 100 * sum_1_acceptable / sum([sum_0, sum_1_acceptable, sum_all_else]))\n",
    "    print('Test example badly matched (%): ', 100 * sum_all_else / sum([sum_0, sum_1_acceptable, sum_all_else]))\n",
    "    \n",
    "\n",
    "def determine_matches_strict(corpus, sent_ids):\n",
    "    sum_matches = 0\n",
    "    sum_nomatches = 0\n",
    "    for sent_id in sent_ids:\n",
    "        inferred_vector = model.infer_vector(corpus[sent_id].words)\n",
    "        sims = model.dv.most_similar([inferred_vector], topn=len(id_tag_map))\n",
    "        actual_tags = set(t for t, _ in sims[:len(corpus[sent_id].tags)])\n",
    "        expected_tags = set(corpus[sent_id].tags)\n",
    "        if actual_tags == expected_tags:\n",
    "            sum_matches += 1\n",
    "        else:\n",
    "            print('actual_tags:', [id_tag_map[t] for t in actual_tags])\n",
    "            print('expected_tags:', [id_tag_map[t] for t in expected_tags])\n",
    "            sum_nomatches += 1\n",
    "    return sum_matches, sum_nomatches\n",
    "    \n",
    "    \n",
    "def plot_matches_strict(corpus, take_sample=True, sample_size=50, sample_seed=42):\n",
    "    if take_sample:\n",
    "        random.seed(sample_seed)\n",
    "        sent_ids = random.sample(range(0, len(corpus)), sample_size)\n",
    "    else:\n",
    "        sent_ids = list(range(len(corpus)))\n",
    "    sum_match, sum_nomatch = determine_matches_strict(corpus, sent_ids)\n",
    "    plt.bar([0,1], [sum_match, sum_nomatch])\n",
    "    print([sum_match, sum_nomatch])\n",
    "    print('Test example correctly matched (%): ', 100 * sum_match / sum([sum_match, sum_nomatch]))\n",
    "    print('Test example badly matched (%): ', 100 * sum_nomatch / sum([sum_match, sum_nomatch]))"
   ]
  },
  {
   "cell_type": "code",
   "execution_count": null,
   "id": "97991b04",
   "metadata": {},
   "outputs": [],
   "source": [
    "from gensim.models.doc2vec import Doc2Vec\n",
    "model = Doc2Vec.load('./doc2vec.model')"
   ]
  },
  {
   "cell_type": "code",
   "execution_count": null,
   "id": "b45c96f9",
   "metadata": {},
   "outputs": [],
   "source": [
    "from gensim.models import KeyedVectors\n",
    "wv = KeyedVectors.load('./doc2vec.wv')"
   ]
  },
  {
   "cell_type": "code",
   "execution_count": null,
   "id": "928d890b",
   "metadata": {},
   "outputs": [],
   "source": [
    "# corpus_train_raw = json_load('./doc2vec.corpus.train.json')\n",
    "# corpus_test_raw = json_load('./doc2vec.corpus.test.json')"
   ]
  },
  {
   "cell_type": "code",
   "execution_count": null,
   "id": "1bb00edd",
   "metadata": {},
   "outputs": [],
   "source": [
    "corpus_full = json_load('./doc2vec.corpus.full.json')"
   ]
  },
  {
   "cell_type": "code",
   "execution_count": null,
   "id": "e818ce19",
   "metadata": {},
   "outputs": [],
   "source": [
    "corpus_full[0]['tags']"
   ]
  },
  {
   "cell_type": "code",
   "execution_count": null,
   "id": "baa0a80f",
   "metadata": {},
   "outputs": [],
   "source": [
    "# # dev\n",
    "# corpus_train_raw = corpus_train_raw[:50]\n",
    "# corpus_test_raw = corpus_test_raw[:50]"
   ]
  },
  {
   "cell_type": "code",
   "execution_count": null,
   "id": "00e5d615",
   "metadata": {},
   "outputs": [],
   "source": [
    "# corpus_train = gen_tagged_docs(corpus_train_raw)"
   ]
  },
  {
   "cell_type": "code",
   "execution_count": null,
   "id": "b5f51cb3",
   "metadata": {},
   "outputs": [],
   "source": [
    "tagged_corpus_full = gen_tagged_docs(corpus_full)"
   ]
  },
  {
   "cell_type": "code",
   "execution_count": null,
   "id": "3c9ebbb9",
   "metadata": {},
   "outputs": [],
   "source": [
    "id_tag_map = json_load('./doc2vec.id_tag_map.json')"
   ]
  },
  {
   "cell_type": "code",
   "execution_count": null,
   "id": "8537f2df",
   "metadata": {},
   "outputs": [],
   "source": [
    "def convert_key(key):\n",
    "    if isinstance(key, int):\n",
    "        return key\n",
    "    elif isinstance(key, list):\n",
    "        return tuple(key)\n",
    "\n",
    "tag_id_map = {convert_key(i): idx for idx, i in enumerate(id_tag_map)}"
   ]
  },
  {
   "cell_type": "code",
   "execution_count": null,
   "id": "a922e9ff",
   "metadata": {},
   "outputs": [],
   "source": [
    "%matplotlib inline\n",
    "plot_matches_strict(tagged_corpus_full)"
   ]
  },
  {
   "cell_type": "code",
   "execution_count": null,
   "id": "6cff3c3a",
   "metadata": {},
   "outputs": [],
   "source": [
    "%matplotlib inline\n",
    "plot_matches(tagged_corpus_full)"
   ]
  },
  {
   "cell_type": "code",
   "execution_count": null,
   "id": "312e82d8",
   "metadata": {},
   "outputs": [],
   "source": [
    "# display_similar_article_and_categories(corpus_train, doc_id=425, by_article_tag=True)"
   ]
  },
  {
   "cell_type": "code",
   "execution_count": null,
   "id": "ce4afa5e",
   "metadata": {},
   "outputs": [],
   "source": [
    "tagged_corpus_full[61]"
   ]
  },
  {
   "cell_type": "code",
   "execution_count": null,
   "id": "d30409be",
   "metadata": {},
   "outputs": [],
   "source": [
    "display_similar_article_and_categories(tagged_corpus_full, doc_id=327, by_article_tag=True)"
   ]
  },
  {
   "cell_type": "code",
   "execution_count": null,
   "id": "dc0957c4",
   "metadata": {},
   "outputs": [],
   "source": [
    "display_similar_article_and_categories(tagged_corpus_full, doc_id=480, by_article_tag=True)"
   ]
  },
  {
   "cell_type": "code",
   "execution_count": null,
   "id": "c3e78c08",
   "metadata": {},
   "outputs": [],
   "source": [
    "# Analyse (unseen) test set"
   ]
  },
  {
   "cell_type": "code",
   "execution_count": null,
   "id": "5047dd36",
   "metadata": {},
   "outputs": [],
   "source": [
    "# corpus_test = gen_tagged_docs(corpus_test_raw)"
   ]
  },
  {
   "cell_type": "code",
   "execution_count": null,
   "id": "ca29f093",
   "metadata": {},
   "outputs": [],
   "source": [
    "# %matplotlib inline\n",
    "# plot_matches(corpus_test, take_sample=False)"
   ]
  },
  {
   "cell_type": "code",
   "execution_count": null,
   "id": "6a893bc5",
   "metadata": {},
   "outputs": [],
   "source": [
    "# display_similar_article_and_categories(corpus_test, doc_id=13317)"
   ]
  },
  {
   "cell_type": "code",
   "execution_count": null,
   "id": "34b982c0",
   "metadata": {},
   "outputs": [],
   "source": [
    "# import pandas as pd\n",
    "# df_test = pd.read_csv('./test.csv')"
   ]
  },
  {
   "cell_type": "code",
   "execution_count": null,
   "id": "7726cce1",
   "metadata": {},
   "outputs": [],
   "source": [
    "# df_test.iloc[5914]"
   ]
  },
  {
   "cell_type": "code",
   "execution_count": null,
   "id": "d8227cc8",
   "metadata": {},
   "outputs": [],
   "source": [
    "# %matplotlib inline\n",
    "# plot_matches(corpus_test, sample_size=1000)"
   ]
  },
  {
   "cell_type": "code",
   "execution_count": null,
   "id": "ee387659",
   "metadata": {},
   "outputs": [],
   "source": [
    "# %matplotlib inline\n",
    "# plot_matches(corpus_test, sample_size=1000, topn_perc=0.01)"
   ]
  },
  {
   "cell_type": "code",
   "execution_count": null,
   "id": "15cc1c67",
   "metadata": {},
   "outputs": [],
   "source": [
    "doc_category_full = json_load('./lda.doc_category_full.json')\n",
    "set_of_cats = list(set(doc_category_full))\n",
    "doc_category_id_full = [set_of_cats.index(cat) for cat in doc_category_full]\n",
    "doc_category_id_full"
   ]
  },
  {
   "cell_type": "code",
   "execution_count": null,
   "id": "b73e52d8",
   "metadata": {},
   "outputs": [],
   "source": [
    "doc_category_full"
   ]
  },
  {
   "cell_type": "code",
   "execution_count": null,
   "id": "3ebc8b9d",
   "metadata": {},
   "outputs": [],
   "source": [
    "doc_top_topics_full = json_load('./lda.doc_top_topics_full.json')"
   ]
  },
  {
   "cell_type": "code",
   "execution_count": null,
   "id": "cdfb3d7d",
   "metadata": {},
   "outputs": [],
   "source": [
    "%matplotlib notebook\n",
    "\n",
    "import numpy as np\n",
    "import matplotlib.pyplot as plt\n",
    "from mpl_toolkits.mplot3d import Axes3D\n",
    "from sklearn.decomposition import PCA\n",
    "from sklearn.preprocessing import StandardScaler\n",
    "\n",
    "doc_vecs = [\n",
    "    model.dv[v] for k,v in tag_id_map.items() # if 'title:' in k\n",
    "]\n",
    "X = np.stack(doc_vecs, axis=0, out=None)\n",
    "\n",
    "sc = StandardScaler()\n",
    "\n",
    "scaler = StandardScaler()\n",
    "scaler.fit(X) \n",
    "X_scaled = scaler.transform(X)\n",
    "\n",
    "pca = PCA(n_components=3)\n",
    "pca.fit(X_scaled) \n",
    "X_pca = pca.transform(X_scaled) \n",
    "\n",
    "Xax = X_pca[:,0]\n",
    "Yax = X_pca[:,1]\n",
    "Zax = X_pca[:,2]\n",
    "\n",
    "# plot\n",
    "fig = plt.figure()\n",
    "ax = fig.add_subplot(111, projection='3d')\n",
    "ax.scatter(Xax, Yax, Zax, c=doc_top_topics_full, s=20)\n",
    "ax.view_init(30, 185)\n",
    "plt.show()"
   ]
  },
  {
   "cell_type": "code",
   "execution_count": null,
   "id": "b9e13073",
   "metadata": {},
   "outputs": [],
   "source": [
    "%matplotlib notebook\n",
    "\n",
    "import numpy as np\n",
    "import matplotlib.pyplot as plt\n",
    "from mpl_toolkits.mplot3d import Axes3D\n",
    "from sklearn.decomposition import PCA\n",
    "from sklearn.preprocessing import StandardScaler\n",
    "\n",
    "doc_vecs = [\n",
    "    model.dv[v] for k,v in tag_id_map.items() # if 'title:' in k\n",
    "]\n",
    "X = np.stack(doc_vecs, axis=0, out=None)\n",
    "\n",
    "sc = StandardScaler()\n",
    "\n",
    "scaler = StandardScaler()\n",
    "scaler.fit(X) \n",
    "X_scaled = scaler.transform(X)\n",
    "\n",
    "pca = PCA(n_components=2)\n",
    "pca.fit(X_scaled) \n",
    "X_pca = pca.transform(X_scaled) \n",
    "\n",
    "Xax = X_pca[:,0]\n",
    "Yax = X_pca[:,1]\n",
    "\n",
    "# plot\n",
    "fig = plt.figure()\n",
    "ax = fig.add_subplot(111)\n",
    "ax.scatter(Xax, Yax, c=doc_top_topics_full, s=20)\n",
    "plt.show()"
   ]
  },
  {
   "cell_type": "code",
   "execution_count": null,
   "id": "d9b3ba68",
   "metadata": {},
   "outputs": [],
   "source": []
  },
  {
   "cell_type": "code",
   "execution_count": null,
   "id": "8602c488",
   "metadata": {},
   "outputs": [],
   "source": [
    "sims = []\n",
    "import itertools\n",
    "for a, b in itertools.combinations(list(range(490)), 2):\n",
    "    sims.append((a, b, similarity_cosine(model.dv[a], model.dv[b]),))"
   ]
  },
  {
   "cell_type": "code",
   "execution_count": null,
   "id": "ccbd507b",
   "metadata": {},
   "outputs": [],
   "source": [
    "a, b, sim = zip(*sims)"
   ]
  },
  {
   "cell_type": "code",
   "execution_count": null,
   "id": "40c6526e",
   "metadata": {},
   "outputs": [],
   "source": [
    "sims"
   ]
  },
  {
   "cell_type": "code",
   "execution_count": null,
   "id": "ec990c0a",
   "metadata": {},
   "outputs": [],
   "source": [
    "display_similar_article_and_categories(tagged_corpus_full, doc_id=219, by_article_tag=True)"
   ]
  },
  {
   "cell_type": "code",
   "execution_count": null,
   "id": "2deada4c",
   "metadata": {},
   "outputs": [],
   "source": [
    "display_similar_article_and_categories(tagged_corpus_full, doc_id=11, by_article_tag=True)"
   ]
  },
  {
   "cell_type": "code",
   "execution_count": null,
   "id": "6685d98f",
   "metadata": {},
   "outputs": [],
   "source": [
    "sim"
   ]
  },
  {
   "cell_type": "code",
   "execution_count": null,
   "id": "51a64fbd",
   "metadata": {},
   "outputs": [],
   "source": [
    "for i in sims:\n",
    "    if i[2] > 0.6:\n",
    "        print(i)"
   ]
  },
  {
   "cell_type": "code",
   "execution_count": null,
   "id": "a7ed29ee",
   "metadata": {},
   "outputs": [],
   "source": [
    "corpus_full[103]"
   ]
  },
  {
   "cell_type": "code",
   "execution_count": null,
   "id": "dd5f2118",
   "metadata": {},
   "outputs": [],
   "source": [
    "corpus_full[301]"
   ]
  },
  {
   "cell_type": "code",
   "execution_count": null,
   "id": "9a6d8fd2",
   "metadata": {},
   "outputs": [],
   "source": [
    "display_similar_article_and_categories(tagged_corpus_full, doc_id=319, by_article_tag=True)"
   ]
  },
  {
   "cell_type": "code",
   "execution_count": null,
   "id": "b6cba745",
   "metadata": {},
   "outputs": [],
   "source": [
    "corpus_full[29]"
   ]
  },
  {
   "cell_type": "code",
   "execution_count": null,
   "id": "69b65f18",
   "metadata": {},
   "outputs": [],
   "source": [
    "corpus_full[319]"
   ]
  },
  {
   "cell_type": "code",
   "execution_count": null,
   "id": "d3191c6b",
   "metadata": {},
   "outputs": [],
   "source": []
  },
  {
   "cell_type": "code",
   "execution_count": null,
   "id": "e596b7e9",
   "metadata": {},
   "outputs": [],
   "source": []
  }
 ],
 "metadata": {
  "kernelspec": {
   "display_name": "Python 3 (ipykernel)",
   "language": "python",
   "name": "python3"
  },
  "language_info": {
   "codemirror_mode": {
    "name": "ipython",
    "version": 3
   },
   "file_extension": ".py",
   "mimetype": "text/x-python",
   "name": "python",
   "nbconvert_exporter": "python",
   "pygments_lexer": "ipython3",
   "version": "3.8.10"
  }
 },
 "nbformat": 4,
 "nbformat_minor": 5
}
