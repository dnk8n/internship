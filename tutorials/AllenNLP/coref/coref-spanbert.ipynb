{
 "cells": [
  {
   "cell_type": "code",
   "execution_count": null,
   "id": "b480cee6",
   "metadata": {},
   "outputs": [],
   "source": [
    "from allennlp.predictors.predictor import Predictor\n",
    "\n",
    "model_url = \"https://storage.googleapis.com/allennlp-public-models/coref-spanbert-large-2021.03.10.tar.gz\"\n",
    "coref_predictor = Predictor.from_path(model_url)  # load the model"
   ]
  },
  {
   "cell_type": "code",
   "execution_count": null,
   "id": "6ee4e81e",
   "metadata": {},
   "outputs": [],
   "source": [
    "# text = \"Eva and Martha didn't want their friend Jenny to feel lonely so they invited her to the party.\"\n",
    "# prediction = coref_predictor.predict(document=text)  # get prediction"
   ]
  },
  {
   "cell_type": "code",
   "execution_count": null,
   "id": "1fb9c779",
   "metadata": {},
   "outputs": [],
   "source": [
    "# print(prediction['clusters'])  # list of clusters (the indices of spaCy tokens)\n",
    "# # [\n",
    "# #     [\n",
    "# #         [0, 2],\n",
    "# #         [6, 6],\n",
    "# #         [13, 13]\n",
    "# #     ],\n",
    "# #     [\n",
    "# #         [6, 8],\n",
    "# #         [15, 15]\n",
    "# #     ]\n",
    "# # ]"
   ]
  },
  {
   "cell_type": "code",
   "execution_count": null,
   "id": "4c0b7d25",
   "metadata": {},
   "outputs": [],
   "source": [
    "# print(predictor.coref_resolved(text))  # resolved text"
   ]
  },
  {
   "cell_type": "code",
   "execution_count": null,
   "id": "20263103",
   "metadata": {},
   "outputs": [],
   "source": [
    "# write a coreffed csv\n",
    "from csv import DictReader, DictWriter\n",
    "import tqdm\n",
    "\n",
    "CSV_READ = '../../../data/BBairline200722.csv'\n",
    "CSV_WRITE = '../../../data/BBairline200722_coreffed.csv'\n",
    "\n",
    "def count_csv_rows():\n",
    "    with open(CSV_READ, 'r') as read_obj:\n",
    "        return len(list(DictReader(read_obj)))\n",
    "\n",
    "def gen_coreffed_text():\n",
    "    with open(CSV_READ, 'r') as read_obj:\n",
    "        csv_dict_reader = DictReader(read_obj)\n",
    "        for row in csv_dict_reader:\n",
    "            row['text'] = coref_predictor.coref_resolved(row['text'])\n",
    "            yield row\n",
    "\n",
    "def coreffed_text_to_csv():\n",
    "    with open(CSV_WRITE, 'w') as write_obj:\n",
    "        writer = DictWriter(write_obj, fieldnames=[\"url\", \"datetime\", \"title\", \"authors\", \"category\", \"text\"])        \n",
    "        writer.writeheader()\n",
    "        for row in tqdm.notebook.tqdm(gen_coreffed_text(), total=count_csv_rows()):\n",
    "            writer.writerow(row)\n",
    "        "
   ]
  },
  {
   "cell_type": "code",
   "execution_count": null,
   "id": "ef1b6dcb",
   "metadata": {},
   "outputs": [],
   "source": [
    "coreffed_text_to_csv()"
   ]
  },
  {
   "cell_type": "code",
   "execution_count": null,
   "id": "685cbf3e",
   "metadata": {},
   "outputs": [],
   "source": []
  }
 ],
 "metadata": {
  "kernelspec": {
   "display_name": "Python 3 (ipykernel)",
   "language": "python",
   "name": "python3"
  },
  "language_info": {
   "codemirror_mode": {
    "name": "ipython",
    "version": 3
   },
   "file_extension": ".py",
   "mimetype": "text/x-python",
   "name": "python",
   "nbconvert_exporter": "python",
   "pygments_lexer": "ipython3",
   "version": "3.8.10"
  }
 },
 "nbformat": 4,
 "nbformat_minor": 5
}
