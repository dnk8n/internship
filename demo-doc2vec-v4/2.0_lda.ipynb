{
 "cells": [
  {
   "cell_type": "code",
   "execution_count": null,
   "id": "27e99f83",
   "metadata": {},
   "outputs": [],
   "source": [
    "import logging\n",
    "logging.basicConfig(format='%(asctime)s : %(levelname)s : %(message)s', level=logging.INFO)"
   ]
  },
  {
   "cell_type": "code",
   "execution_count": null,
   "id": "24c62773",
   "metadata": {},
   "outputs": [],
   "source": [
    "import pandas as pd"
   ]
  },
  {
   "cell_type": "code",
   "execution_count": null,
   "id": "1e98e168",
   "metadata": {},
   "outputs": [],
   "source": [
    "import simplejson\n",
    "\n",
    "\n",
    "def json_save(data, filename):\n",
    "    with open(filename, 'w', encoding='utf-8') as f:\n",
    "        simplejson.dump(data, f, separators=(',', ':'), iterable_as_array=True)"
   ]
  },
  {
   "cell_type": "code",
   "execution_count": null,
   "id": "393b893e",
   "metadata": {},
   "outputs": [],
   "source": [
    "df_train = pd.read_csv('./train.csv')\n",
    "df_test = pd.read_csv('./test.csv')"
   ]
  },
  {
   "cell_type": "code",
   "execution_count": null,
   "id": "9327dfdb",
   "metadata": {},
   "outputs": [],
   "source": [
    "# # dev\n",
    "# df_train = df_train.sample(50, random_state=42)\n",
    "# df_test = df_test.sample(50, random_state=42)"
   ]
  },
  {
   "cell_type": "code",
   "execution_count": null,
   "id": "f1b9373d",
   "metadata": {},
   "outputs": [],
   "source": [
    "df_train.shape, df_test.shape"
   ]
  },
  {
   "cell_type": "code",
   "execution_count": null,
   "id": "bbe6009d",
   "metadata": {},
   "outputs": [],
   "source": [
    "from tqdm.notebook import tqdm_notebook"
   ]
  },
  {
   "cell_type": "code",
   "execution_count": null,
   "id": "4e611ed8",
   "metadata": {},
   "outputs": [],
   "source": [
    "from gensim.utils import simple_preprocess\n",
    "from gensim.parsing.preprocessing import STOPWORDS\n",
    "\n",
    "def corpus2tokens(raw_corpus):\n",
    "    return [\n",
    "        [\n",
    "            wd\n",
    "            for wd in simple_preprocess(doc)\n",
    "            if not wd in STOPWORDS\n",
    "        ]\n",
    "        for doc in tqdm_notebook(raw_corpus)\n",
    "    ]"
   ]
  },
  {
   "cell_type": "code",
   "execution_count": null,
   "id": "d0d20f1a",
   "metadata": {},
   "outputs": [],
   "source": [
    "%%time\n",
    "corpus_words_train = corpus2tokens(df_train.text.to_list())"
   ]
  },
  {
   "cell_type": "code",
   "execution_count": null,
   "id": "e8f0e003",
   "metadata": {},
   "outputs": [],
   "source": [
    "json_save(corpus_words_train, './lda.corpus.train.json')"
   ]
  },
  {
   "cell_type": "code",
   "execution_count": null,
   "id": "d57260d7",
   "metadata": {
    "scrolled": true
   },
   "outputs": [],
   "source": [
    "%%time\n",
    "from gensim import corpora\n",
    "\n",
    "dictionary = corpora.Dictionary(corpus_words_train)\n",
    "dictionary.filter_extremes()\n",
    "dictionary.save_as_text('./lda.dictionary.txt')"
   ]
  },
  {
   "cell_type": "code",
   "execution_count": null,
   "id": "fa81ff9e",
   "metadata": {},
   "outputs": [],
   "source": [
    "%%time\n",
    "corpus_train = [dictionary.doc2bow(text) for text in corpus_words_train]\n",
    "corpora.MmCorpus.serialize('./lda.corpus.txt', corpus_train)"
   ]
  },
  {
   "cell_type": "code",
   "execution_count": null,
   "id": "c0c48516",
   "metadata": {},
   "outputs": [],
   "source": [
    "from gensim import models"
   ]
  },
  {
   "cell_type": "code",
   "execution_count": null,
   "id": "52dc7b79",
   "metadata": {},
   "outputs": [],
   "source": [
    "%%time\n",
    "from gensim import models\n",
    "\n",
    "lda = models.ldamulticore.LdaMulticore(\n",
    "    corpus_train,\n",
    "    id2word=dictionary, \n",
    "    num_topics=20,\n",
    "    chunksize=4000,\n",
    "    passes=20,\n",
    "    workers=63\n",
    ")\n",
    "lda.save(\"./lda.model\")"
   ]
  },
  {
   "cell_type": "code",
   "execution_count": null,
   "id": "162801bd",
   "metadata": {},
   "outputs": [],
   "source": [
    "%%time\n",
    "text_test = corpus2tokens(df_test.text.to_list())"
   ]
  },
  {
   "cell_type": "code",
   "execution_count": null,
   "id": "184b943f",
   "metadata": {},
   "outputs": [],
   "source": [
    "json_save(text_test, './lda.corpus.test.json')"
   ]
  },
  {
   "cell_type": "code",
   "execution_count": null,
   "id": "335d22ec",
   "metadata": {},
   "outputs": [],
   "source": []
  }
 ],
 "metadata": {
  "kernelspec": {
   "display_name": "Python 3",
   "language": "python",
   "name": "python3"
  },
  "language_info": {
   "codemirror_mode": {
    "name": "ipython",
    "version": 3
   },
   "file_extension": ".py",
   "mimetype": "text/x-python",
   "name": "python",
   "nbconvert_exporter": "python",
   "pygments_lexer": "ipython3",
   "version": "3.8.10"
  }
 },
 "nbformat": 4,
 "nbformat_minor": 5
}
