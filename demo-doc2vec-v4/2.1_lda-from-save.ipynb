{
 "cells": [
  {
   "cell_type": "code",
   "execution_count": null,
   "id": "27e99f83",
   "metadata": {},
   "outputs": [],
   "source": [
    "import logging\n",
    "logging.basicConfig(format='%(asctime)s : %(levelname)s : %(message)s', level=logging.INFO)"
   ]
  },
  {
   "cell_type": "code",
   "execution_count": null,
   "id": "5faf0caa",
   "metadata": {},
   "outputs": [],
   "source": [
    "from gensim import corpora, models\n",
    "import pyLDAvis.gensim_models"
   ]
  },
  {
   "cell_type": "code",
   "execution_count": null,
   "id": "de7a7489",
   "metadata": {},
   "outputs": [],
   "source": [
    "import simplejson\n",
    "\n",
    "def json_load(filename):\n",
    "    with open(filename, 'r', encoding='utf-8') as f:\n",
    "        return simplejson.load(f)"
   ]
  },
  {
   "cell_type": "code",
   "execution_count": null,
   "id": "d57260d7",
   "metadata": {},
   "outputs": [],
   "source": [
    "dictionary = corpora.Dictionary.load_from_text('./lda.dictionary.txt')"
   ]
  },
  {
   "cell_type": "code",
   "execution_count": null,
   "id": "fa81ff9e",
   "metadata": {},
   "outputs": [],
   "source": [
    "corpus = corpora.MmCorpus('./lda.corpus.txt')"
   ]
  },
  {
   "cell_type": "code",
   "execution_count": null,
   "id": "52dc7b79",
   "metadata": {},
   "outputs": [],
   "source": [
    "lda = models.ldamulticore.LdaMulticore.load('./lda.model')"
   ]
  },
  {
   "cell_type": "code",
   "execution_count": null,
   "id": "8b4c6402",
   "metadata": {},
   "outputs": [],
   "source": [
    "lda.show_topics()"
   ]
  },
  {
   "cell_type": "code",
   "execution_count": null,
   "id": "588d9f29",
   "metadata": {},
   "outputs": [],
   "source": [
    "lda_vis = pyLDAvis.gensim_models.prepare(lda, corpus, dictionary)\n",
    "pyLDAvis.display(lda_vis)"
   ]
  },
  {
   "cell_type": "code",
   "execution_count": null,
   "id": "67b45bb5",
   "metadata": {},
   "outputs": [],
   "source": [
    "# dictionary_test = corpora.Dictionary.load_from_text('./lda.text.test.txt')"
   ]
  },
  {
   "cell_type": "code",
   "execution_count": null,
   "id": "2803fa27",
   "metadata": {},
   "outputs": [],
   "source": [
    "# corpus_test = corpora.MmCorpus('./lda.corpus.test.txt')"
   ]
  },
  {
   "cell_type": "code",
   "execution_count": null,
   "id": "c778f12c",
   "metadata": {},
   "outputs": [],
   "source": [
    "corpus_words_test = json_load('./lda.corpus.test.json')"
   ]
  },
  {
   "cell_type": "code",
   "execution_count": null,
   "id": "4623d51b",
   "metadata": {},
   "outputs": [],
   "source": [
    "example = corpus_words_test[0]\n",
    "example"
   ]
  },
  {
   "cell_type": "code",
   "execution_count": null,
   "id": "22ff14ee",
   "metadata": {},
   "outputs": [],
   "source": [
    "import pandas as pd\n",
    "\n",
    "df_test = pd.read_csv('./test.csv')"
   ]
  },
  {
   "cell_type": "code",
   "execution_count": null,
   "id": "37aee7f2",
   "metadata": {},
   "outputs": [],
   "source": [
    "df_test.iloc[0].url"
   ]
  },
  {
   "cell_type": "code",
   "execution_count": null,
   "id": "7c2e11ac",
   "metadata": {
    "scrolled": true
   },
   "outputs": [],
   "source": [
    "corpus_test = [dictionary.doc2bow(t) for t in corpus_words_test]\n",
    "\n",
    "test_doc = corpus_test[0]\n",
    "\n",
    "vector = lda[test_doc]"
   ]
  },
  {
   "cell_type": "code",
   "execution_count": null,
   "id": "20f65dd1",
   "metadata": {},
   "outputs": [],
   "source": [
    "test_doc"
   ]
  },
  {
   "cell_type": "code",
   "execution_count": null,
   "id": "2a387c8f",
   "metadata": {},
   "outputs": [],
   "source": [
    "' '.join(corpus_words_test[0])"
   ]
  },
  {
   "cell_type": "code",
   "execution_count": null,
   "id": "fcfc109f",
   "metadata": {},
   "outputs": [],
   "source": [
    "' '.join([dictionary[i[0]] for i in test_doc])"
   ]
  },
  {
   "cell_type": "code",
   "execution_count": null,
   "id": "0ed8287e",
   "metadata": {},
   "outputs": [],
   "source": [
    "vector"
   ]
  },
  {
   "cell_type": "code",
   "execution_count": null,
   "id": "5188bea1",
   "metadata": {},
   "outputs": [],
   "source": [
    "lda.print_topic(13)"
   ]
  },
  {
   "cell_type": "code",
   "execution_count": null,
   "id": "75663db4",
   "metadata": {},
   "outputs": [],
   "source": [
    "# TopicTags to each article ([1, 2, 3, 4...])\n",
    "# Show articles of a specific topic tag\n",
    "# TODO: Colour by topic\n",
    "\n",
    "# TODO: Visualise articles in clusters - similarity on articles themselves"
   ]
  }
 ],
 "metadata": {
  "kernelspec": {
   "display_name": "Python 3",
   "language": "python",
   "name": "python3"
  },
  "language_info": {
   "codemirror_mode": {
    "name": "ipython",
    "version": 3
   },
   "file_extension": ".py",
   "mimetype": "text/x-python",
   "name": "python",
   "nbconvert_exporter": "python",
   "pygments_lexer": "ipython3",
   "version": "3.8.10"
  }
 },
 "nbformat": 4,
 "nbformat_minor": 5
}
