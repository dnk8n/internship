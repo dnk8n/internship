{
 "cells": [
  {
   "cell_type": "code",
   "execution_count": null,
   "id": "50c9d99d",
   "metadata": {},
   "outputs": [],
   "source": [
    "import logging\n",
    "logging.basicConfig(format='%(asctime)s : %(levelname)s : %(message)s', level=logging.INFO)"
   ]
  },
  {
   "cell_type": "code",
   "execution_count": null,
   "id": "ac77a397",
   "metadata": {},
   "outputs": [],
   "source": [
    "import pandas as pd\n",
    "import numpy as np"
   ]
  },
  {
   "cell_type": "code",
   "execution_count": null,
   "id": "c4e1e3c3",
   "metadata": {},
   "outputs": [],
   "source": [
    "df = pd.read_csv('../data/BBairline200722_coreffed.csv')\n",
    "df.shape"
   ]
  },
  {
   "cell_type": "code",
   "execution_count": null,
   "id": "1f0155b9",
   "metadata": {},
   "outputs": [],
   "source": [
    "df.sample(3, random_state=42)"
   ]
  },
  {
   "cell_type": "code",
   "execution_count": null,
   "id": "e7d8824c",
   "metadata": {},
   "outputs": [],
   "source": [
    "# df = df.rename(\n",
    "#     columns={\n",
    "#         '0': 'url',\n",
    "#         '1': 'date',\n",
    "#         '2': 'title',\n",
    "#         '3': 'authors',\n",
    "#         '4': 'category',\n",
    "#         '5': 'text'\n",
    "#     }\n",
    "# )\n",
    "# df.sample(3, random_state=42)"
   ]
  },
  {
   "cell_type": "code",
   "execution_count": null,
   "id": "f0d4efcd",
   "metadata": {},
   "outputs": [],
   "source": [
    "from sklearn.model_selection import train_test_split\n",
    "\n",
    "df_train, df_test = train_test_split(df, test_size=0.2, random_state=42)"
   ]
  },
  {
   "cell_type": "code",
   "execution_count": null,
   "id": "9cf58857",
   "metadata": {},
   "outputs": [],
   "source": [
    "df.shape, df_train.shape, df_test.shape"
   ]
  },
  {
   "cell_type": "code",
   "execution_count": null,
   "id": "ca305b0f",
   "metadata": {},
   "outputs": [],
   "source": [
    "df.to_csv('./full.csv')"
   ]
  },
  {
   "cell_type": "code",
   "execution_count": null,
   "id": "37282548",
   "metadata": {},
   "outputs": [],
   "source": [
    "df_train.to_csv('./train.csv')"
   ]
  },
  {
   "cell_type": "code",
   "execution_count": null,
   "id": "405a4bc3",
   "metadata": {},
   "outputs": [],
   "source": [
    "df_test.to_csv('./test.csv')"
   ]
  }
 ],
 "metadata": {
  "kernelspec": {
   "display_name": "Python 3 (ipykernel)",
   "language": "python",
   "name": "python3"
  },
  "language_info": {
   "codemirror_mode": {
    "name": "ipython",
    "version": 3
   },
   "file_extension": ".py",
   "mimetype": "text/x-python",
   "name": "python",
   "nbconvert_exporter": "python",
   "pygments_lexer": "ipython3",
   "version": "3.8.10"
  }
 },
 "nbformat": 4,
 "nbformat_minor": 5
}
