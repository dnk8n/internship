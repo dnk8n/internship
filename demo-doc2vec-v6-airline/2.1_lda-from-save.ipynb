{
 "cells": [
  {
   "cell_type": "code",
   "execution_count": null,
   "id": "27e99f83",
   "metadata": {},
   "outputs": [],
   "source": [
    "import logging\n",
    "logging.basicConfig(format='%(asctime)s : %(levelname)s : %(message)s', level=logging.INFO)"
   ]
  },
  {
   "cell_type": "code",
   "execution_count": null,
   "id": "5faf0caa",
   "metadata": {},
   "outputs": [],
   "source": [
    "from gensim import corpora, models\n",
    "import pyLDAvis.gensim_models"
   ]
  },
  {
   "cell_type": "code",
   "execution_count": null,
   "id": "de7a7489",
   "metadata": {},
   "outputs": [],
   "source": [
    "import simplejson\n",
    "\n",
    "def json_load(filename):\n",
    "    with open(filename, 'r', encoding='utf-8') as f:\n",
    "        return simplejson.load(f)"
   ]
  },
  {
   "cell_type": "code",
   "execution_count": null,
   "id": "d57260d7",
   "metadata": {},
   "outputs": [],
   "source": [
    "dictionary = corpora.Dictionary.load_from_text('./lda.dictionary.txt')"
   ]
  },
  {
   "cell_type": "code",
   "execution_count": null,
   "id": "fa81ff9e",
   "metadata": {},
   "outputs": [],
   "source": [
    "corpus = corpora.MmCorpus('./lda.corpus.txt')"
   ]
  },
  {
   "cell_type": "code",
   "execution_count": null,
   "id": "52dc7b79",
   "metadata": {},
   "outputs": [],
   "source": [
    "lda = models.ldamulticore.LdaMulticore.load('./lda.model')"
   ]
  },
  {
   "cell_type": "code",
   "execution_count": null,
   "id": "8b4c6402",
   "metadata": {},
   "outputs": [],
   "source": [
    "lda.show_topics()"
   ]
  },
  {
   "cell_type": "code",
   "execution_count": null,
   "id": "588d9f29",
   "metadata": {},
   "outputs": [],
   "source": [
    "lda_vis = pyLDAvis.gensim_models.prepare(lda, corpus, dictionary, start_index=0, sort_topics=False)\n",
    "pyLDAvis.display(lda_vis)"
   ]
  },
  {
   "cell_type": "code",
   "execution_count": null,
   "id": "67b45bb5",
   "metadata": {},
   "outputs": [],
   "source": [
    "# dictionary_test = corpora.Dictionary.load_from_text('./lda.text.test.txt')"
   ]
  },
  {
   "cell_type": "code",
   "execution_count": null,
   "id": "2803fa27",
   "metadata": {},
   "outputs": [],
   "source": [
    "# corpus_test = corpora.MmCorpus('./lda.corpus.test.txt')"
   ]
  },
  {
   "cell_type": "code",
   "execution_count": null,
   "id": "c778f12c",
   "metadata": {},
   "outputs": [],
   "source": [
    "# corpus_words_test = json_load('./lda.corpus.test.json')"
   ]
  },
  {
   "cell_type": "code",
   "execution_count": null,
   "id": "22ff14ee",
   "metadata": {},
   "outputs": [],
   "source": [
    "# import pandas as pd\n",
    "\n",
    "# df_test = pd.read_csv('./test.csv')"
   ]
  },
  {
   "cell_type": "code",
   "execution_count": null,
   "id": "37aee7f2",
   "metadata": {
    "scrolled": true
   },
   "outputs": [],
   "source": [
    "# df_test.iloc[1].url"
   ]
  },
  {
   "cell_type": "code",
   "execution_count": null,
   "id": "75663db4",
   "metadata": {},
   "outputs": [],
   "source": [
    "# TopicTags to each article ([1, 2, 3, 4...])\n",
    "# Show articles of a specific topic tag\n",
    "# TODO: Colour by topic\n",
    "\n",
    "# TODO: Visualise articles in clusters - similarity on articles themselves"
   ]
  },
  {
   "cell_type": "code",
   "execution_count": null,
   "id": "b09de631",
   "metadata": {},
   "outputs": [],
   "source": [
    "def docs2topics(corpus_words):\n",
    "    return [lda[dictionary.doc2bow(doc)] for doc in corpus_words]"
   ]
  },
  {
   "cell_type": "code",
   "execution_count": null,
   "id": "31654b26",
   "metadata": {},
   "outputs": [],
   "source": [
    "# #     for topic, sim in topics:\n",
    "# #         print(lda.print_topic(topic))\n",
    "# doc_topics_test = docs2topics(corpus_words_test)"
   ]
  },
  {
   "cell_type": "code",
   "execution_count": null,
   "id": "389de71f",
   "metadata": {},
   "outputs": [],
   "source": [
    "#     for topic, sim in topics:\n",
    "#         print(lda.print_topic(topic))\n",
    "corpus_words_full = json_load('./lda.corpus.full.json')\n",
    "doc_topics_full = docs2topics(corpus_words_full)"
   ]
  },
  {
   "cell_type": "code",
   "execution_count": null,
   "id": "b096673d",
   "metadata": {},
   "outputs": [],
   "source": [
    "def articles_by_topic(df, doc_topics, topic_num, sim_thresh=0.5, attrs=[\"title\", \"url\"]):\n",
    "    for doc_id, topics in enumerate(doc_topics):\n",
    "        for topic, sim in topics:\n",
    "            if topic == topic_num:\n",
    "                if sim > sim_thresh:\n",
    "                    doc = df.iloc[doc_id]\n",
    "                    print(f'{doc_id} {\" \".join([doc[attr] for attr in attrs])} {sim}')"
   ]
  },
  {
   "cell_type": "code",
   "execution_count": null,
   "id": "022ca5d5",
   "metadata": {},
   "outputs": [],
   "source": [
    "# articles_by_topic(df_test, doc_topics_test, 3)"
   ]
  },
  {
   "cell_type": "code",
   "execution_count": null,
   "id": "24541ad0",
   "metadata": {},
   "outputs": [],
   "source": [
    "import pandas as pd\n",
    "df_full = pd.read_csv('./full.csv')"
   ]
  },
  {
   "cell_type": "code",
   "execution_count": null,
   "id": "490df38a",
   "metadata": {
    "scrolled": true
   },
   "outputs": [],
   "source": [
    "articles_by_topic(df_full, doc_topics_full, 2)"
   ]
  },
  {
   "cell_type": "code",
   "execution_count": null,
   "id": "9cc0bc6d",
   "metadata": {},
   "outputs": [],
   "source": [
    "# df_production = pd.read_csv('../data/BBairline200722.csv')"
   ]
  },
  {
   "cell_type": "code",
   "execution_count": null,
   "id": "8993918a",
   "metadata": {
    "scrolled": true
   },
   "outputs": [],
   "source": [
    "# corpus_words_production = json_load('./lda.corpus.production.json')"
   ]
  },
  {
   "cell_type": "code",
   "execution_count": null,
   "id": "21445a3a",
   "metadata": {},
   "outputs": [],
   "source": [
    "# doc_topics_production = docs2topics(corpus_words_production)"
   ]
  },
  {
   "cell_type": "code",
   "execution_count": null,
   "id": "5bb9dad8",
   "metadata": {},
   "outputs": [],
   "source": [
    "# articles_by_topic(df_production, doc_topics_production, 5, sim_thresh=0, attrs=[\"0\", \"2\"])"
   ]
  },
  {
   "cell_type": "code",
   "execution_count": null,
   "id": "46a7f1e4",
   "metadata": {},
   "outputs": [],
   "source": [
    "corpus_words_full[0]"
   ]
  },
  {
   "cell_type": "code",
   "execution_count": null,
   "id": "b21792ea",
   "metadata": {},
   "outputs": [],
   "source": [
    "import matplotlib.pyplot as plt\n",
    "from wordcloud import WordCloud"
   ]
  },
  {
   "cell_type": "code",
   "execution_count": null,
   "id": "b3acc112",
   "metadata": {},
   "outputs": [],
   "source": [
    "word_list = [word for doc in corpus_words_full for word in doc]"
   ]
  },
  {
   "cell_type": "code",
   "execution_count": null,
   "id": "c1fa2531",
   "metadata": {},
   "outputs": [],
   "source": [
    "from collections import Counter\n",
    "word_count_dict=Counter(word_list)"
   ]
  },
  {
   "cell_type": "code",
   "execution_count": null,
   "id": "4b0854a6",
   "metadata": {},
   "outputs": [],
   "source": [
    "wordcloud = WordCloud(width = 1000, height = 500).generate_from_frequencies(word_count_dict)\n",
    "\n",
    "plt.figure(figsize=(15,8))\n",
    "plt.imshow(wordcloud)\n",
    "plt.axis(\"off\")\n",
    "#plt.show()\n",
    "plt.savefig('yourfile.png', bbox_inches='tight')\n",
    "plt.close()"
   ]
  },
  {
   "cell_type": "code",
   "execution_count": null,
   "id": "4096cb34",
   "metadata": {},
   "outputs": [],
   "source": []
  }
 ],
 "metadata": {
  "kernelspec": {
   "display_name": "Python 3 (ipykernel)",
   "language": "python",
   "name": "python3"
  },
  "language_info": {
   "codemirror_mode": {
    "name": "ipython",
    "version": 3
   },
   "file_extension": ".py",
   "mimetype": "text/x-python",
   "name": "python",
   "nbconvert_exporter": "python",
   "pygments_lexer": "ipython3",
   "version": "3.8.10"
  }
 },
 "nbformat": 4,
 "nbformat_minor": 5
}
